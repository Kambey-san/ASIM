{
  "nbformat": 4,
  "nbformat_minor": 0,
  "metadata": {
    "colab": {
      "provenance": [],
      "authorship_tag": "ABX9TyPIH2uq71GG2ZZmxzr9Cf+z",
      "include_colab_link": true
    },
    "kernelspec": {
      "name": "ir",
      "display_name": "R"
    },
    "language_info": {
      "name": "R"
    }
  },
  "cells": [
    {
      "cell_type": "markdown",
      "metadata": {
        "id": "view-in-github",
        "colab_type": "text"
      },
      "source": [
        "<a href=\"https://colab.research.google.com/github/Kambey-san/ASIM/blob/HW_lesson_04/KAA_ASIM_HW_04.ipynb\" target=\"_parent\"><img src=\"https://colab.research.google.com/assets/colab-badge.svg\" alt=\"Open In Colab\"/></a>"
      ]
    },
    {
      "cell_type": "markdown",
      "source": [
        "# Прикладная статистика в медицине\n",
        "##Урок 4. Тесты для 3 и более групп сравнения, post-hoc тестирование/ДЗ\n",
        "Поработаем с таблицами, для которых на предыдущем занятии вы изучали описательные статистики.\n",
        "-Сформулируйте несколько гипотез для трех групп, которые можно проверить на имеющихся данных. Укажите, зависимые или независимые выборки, ЗП, НП.\n",
        "-Выберите подходящий тест и проверьте ваши предположения.\n",
        "Задание выполняется на языке R и предоставляется в формате Google Colab."
      ],
      "metadata": {
        "id": "5iUlKUQzqMs9"
      }
    },
    {
      "cell_type": "code",
      "execution_count": 1,
      "metadata": {
        "colab": {
          "base_uri": "https://localhost:8080/"
        },
        "id": "KxxMzIajqF5C",
        "outputId": "4f2d76bf-0275-45e1-b508-457fbec1fac3"
      },
      "outputs": [
        {
          "output_type": "stream",
          "name": "stdout",
          "text": [
            "Mounted at /content/drive\n"
          ]
        }
      ],
      "source": [
        "from google.colab import drive\n",
        "drive.mount('/content/drive')"
      ]
    },
    {
      "cell_type": "code",
      "source": [
        "install.packages(\"tidyverse\")\n",
        "install.packages(\"readxl\")\n",
        "install.packages(\"writexl\")\n",
        "install.packages(\"ggplot2\")\n",
        "install.packages(\"gplots\")\n",
        "install.packages(\"skimr\")\n",
        "install.packages(\"psych\")\n",
        "install.packages(\"gridExtra\")\n",
        "install.packages(\"moments\")\n",
        "install.packages(\"fitdistrplus\")\n",
        "install.packages(\"data.table\")\n",
        "install.packages(\"car\")\n",
        "install.packages(\"rstatix\")\n",
        "install.packages(\"emmeans\")\n",
        "install.packages(\"ez\")\n",
        "install.packages(\"MASS\")\n",
        "install.packages(\"tidyr\")"
      ],
      "metadata": {
        "colab": {
          "base_uri": "https://localhost:8080/"
        },
        "id": "WBeDNYkaqpCY",
        "outputId": "6b4d3a90-6d32-48d4-d195-283134e30e10"
      },
      "execution_count": 1,
      "outputs": [
        {
          "output_type": "stream",
          "name": "stderr",
          "text": [
            "Installing package into ‘/usr/local/lib/R/site-library’\n",
            "(as ‘lib’ is unspecified)\n",
            "\n",
            "Installing package into ‘/usr/local/lib/R/site-library’\n",
            "(as ‘lib’ is unspecified)\n",
            "\n",
            "Installing package into ‘/usr/local/lib/R/site-library’\n",
            "(as ‘lib’ is unspecified)\n",
            "\n",
            "Installing package into ‘/usr/local/lib/R/site-library’\n",
            "(as ‘lib’ is unspecified)\n",
            "\n",
            "Installing package into ‘/usr/local/lib/R/site-library’\n",
            "(as ‘lib’ is unspecified)\n",
            "\n",
            "also installing the dependencies ‘bitops’, ‘gtools’, ‘caTools’\n",
            "\n",
            "\n",
            "Installing package into ‘/usr/local/lib/R/site-library’\n",
            "(as ‘lib’ is unspecified)\n",
            "\n",
            "Installing package into ‘/usr/local/lib/R/site-library’\n",
            "(as ‘lib’ is unspecified)\n",
            "\n",
            "also installing the dependency ‘mnormt’\n",
            "\n",
            "\n",
            "Installing package into ‘/usr/local/lib/R/site-library’\n",
            "(as ‘lib’ is unspecified)\n",
            "\n",
            "Installing package into ‘/usr/local/lib/R/site-library’\n",
            "(as ‘lib’ is unspecified)\n",
            "\n",
            "Installing package into ‘/usr/local/lib/R/site-library’\n",
            "(as ‘lib’ is unspecified)\n",
            "\n",
            "Installing package into ‘/usr/local/lib/R/site-library’\n",
            "(as ‘lib’ is unspecified)\n",
            "\n",
            "Installing package into ‘/usr/local/lib/R/site-library’\n",
            "(as ‘lib’ is unspecified)\n",
            "\n",
            "also installing the dependencies ‘numDeriv’, ‘SparseM’, ‘MatrixModels’, ‘minqa’, ‘nloptr’, ‘Rcpp’, ‘RcppEigen’, ‘carData’, ‘abind’, ‘pbkrtest’, ‘quantreg’, ‘lme4’\n",
            "\n",
            "\n",
            "Installing package into ‘/usr/local/lib/R/site-library’\n",
            "(as ‘lib’ is unspecified)\n",
            "\n",
            "also installing the dependency ‘corrplot’\n",
            "\n",
            "\n",
            "Installing package into ‘/usr/local/lib/R/site-library’\n",
            "(as ‘lib’ is unspecified)\n",
            "\n",
            "also installing the dependencies ‘estimability’, ‘mvtnorm’\n",
            "\n",
            "\n",
            "Installing package into ‘/usr/local/lib/R/site-library’\n",
            "(as ‘lib’ is unspecified)\n",
            "\n",
            "also installing the dependencies ‘plyr’, ‘reshape2’\n",
            "\n",
            "\n",
            "Installing package into ‘/usr/local/lib/R/site-library’\n",
            "(as ‘lib’ is unspecified)\n",
            "\n",
            "Installing package into ‘/usr/local/lib/R/site-library’\n",
            "(as ‘lib’ is unspecified)\n",
            "\n"
          ]
        }
      ]
    },
    {
      "cell_type": "code",
      "source": [
        "library(tidyverse)\n",
        "library(dplyr)\n",
        "require(readxl)\n",
        "library(writexl)\n",
        "library(skimr)\n",
        "library(psych)\n",
        "library(ggplot2)\n",
        "library(gplots)\n",
        "library(gridExtra)\n",
        "library(moments)\n",
        "library(car)\n",
        "library(fitdistrplus)\n",
        "library(rstatix)\n",
        "library(emmeans)\n",
        "library(ez)\n",
        "library(MASS)\n",
        "library(tidyr)"
      ],
      "metadata": {
        "colab": {
          "base_uri": "https://localhost:8080/"
        },
        "id": "eRWdUCh4yhua",
        "outputId": "0317b461-b434-45e7-e767-5ac47e883c82"
      },
      "execution_count": 2,
      "outputs": [
        {
          "output_type": "stream",
          "name": "stderr",
          "text": [
            "── \u001b[1mAttaching core tidyverse packages\u001b[22m ──────────────────────── tidyverse 2.0.0 ──\n",
            "\u001b[32m✔\u001b[39m \u001b[34mdplyr    \u001b[39m 1.1.4     \u001b[32m✔\u001b[39m \u001b[34mreadr    \u001b[39m 2.1.5\n",
            "\u001b[32m✔\u001b[39m \u001b[34mforcats  \u001b[39m 1.0.0     \u001b[32m✔\u001b[39m \u001b[34mstringr  \u001b[39m 1.5.1\n",
            "\u001b[32m✔\u001b[39m \u001b[34mggplot2  \u001b[39m 3.5.1     \u001b[32m✔\u001b[39m \u001b[34mtibble   \u001b[39m 3.2.1\n",
            "\u001b[32m✔\u001b[39m \u001b[34mlubridate\u001b[39m 1.9.3     \u001b[32m✔\u001b[39m \u001b[34mtidyr    \u001b[39m 1.3.1\n",
            "\u001b[32m✔\u001b[39m \u001b[34mpurrr    \u001b[39m 1.0.2     \n",
            "── \u001b[1mConflicts\u001b[22m ────────────────────────────────────────── tidyverse_conflicts() ──\n",
            "\u001b[31m✖\u001b[39m \u001b[34mpurrr\u001b[39m::\u001b[32m%||%()\u001b[39m   masks \u001b[34mbase\u001b[39m::%||%()\n",
            "\u001b[31m✖\u001b[39m \u001b[34mdplyr\u001b[39m::\u001b[32mfilter()\u001b[39m masks \u001b[34mstats\u001b[39m::filter()\n",
            "\u001b[31m✖\u001b[39m \u001b[34mdplyr\u001b[39m::\u001b[32mlag()\u001b[39m    masks \u001b[34mstats\u001b[39m::lag()\n",
            "\u001b[36mℹ\u001b[39m Use the conflicted package (\u001b[3m\u001b[34m<http://conflicted.r-lib.org/>\u001b[39m\u001b[23m) to force all conflicts to become errors\n",
            "Loading required package: readxl\n",
            "\n",
            "\n",
            "Attaching package: ‘psych’\n",
            "\n",
            "\n",
            "The following objects are masked from ‘package:ggplot2’:\n",
            "\n",
            "    %+%, alpha\n",
            "\n",
            "\n",
            "\n",
            "Attaching package: ‘gplots’\n",
            "\n",
            "\n",
            "The following object is masked from ‘package:stats’:\n",
            "\n",
            "    lowess\n",
            "\n",
            "\n",
            "\n",
            "Attaching package: ‘gridExtra’\n",
            "\n",
            "\n",
            "The following object is masked from ‘package:dplyr’:\n",
            "\n",
            "    combine\n",
            "\n",
            "\n",
            "Loading required package: carData\n",
            "\n",
            "\n",
            "Attaching package: ‘car’\n",
            "\n",
            "\n",
            "The following object is masked from ‘package:psych’:\n",
            "\n",
            "    logit\n",
            "\n",
            "\n",
            "The following object is masked from ‘package:dplyr’:\n",
            "\n",
            "    recode\n",
            "\n",
            "\n",
            "The following object is masked from ‘package:purrr’:\n",
            "\n",
            "    some\n",
            "\n",
            "\n",
            "Loading required package: MASS\n",
            "\n",
            "\n",
            "Attaching package: ‘MASS’\n",
            "\n",
            "\n",
            "The following object is masked from ‘package:dplyr’:\n",
            "\n",
            "    select\n",
            "\n",
            "\n",
            "Loading required package: survival\n",
            "\n",
            "\n",
            "Attaching package: ‘rstatix’\n",
            "\n",
            "\n",
            "The following object is masked from ‘package:MASS’:\n",
            "\n",
            "    select\n",
            "\n",
            "\n",
            "The following object is masked from ‘package:stats’:\n",
            "\n",
            "    filter\n",
            "\n",
            "\n",
            "Welcome to emmeans.\n",
            "Caution: You lose important information if you filter this package's results.\n",
            "See '? untidy'\n",
            "\n"
          ]
        }
      ]
    },
    {
      "cell_type": "code",
      "source": [
        "data <- read_xlsx(\"/content/drive/MyDrive/Data_since_in_Healthcare/ASIM/HW_02/data.xlsx\", sheet = 1) %>%\n",
        "  rename_with(make.names)\n",
        "data"
      ],
      "metadata": {
        "colab": {
          "base_uri": "https://localhost:8080/",
          "height": 1000
        },
        "id": "clq9jPpxzLSC",
        "outputId": "3af4f97d-902f-4ea7-933f-cfa6cc6845e8"
      },
      "execution_count": 3,
      "outputs": [
        {
          "output_type": "stream",
          "name": "stderr",
          "text": [
            "\u001b[1m\u001b[22mNew names:\n",
            "\u001b[36m•\u001b[39m `Choi...25` -> `Choi...21`\n",
            "\u001b[36m•\u001b[39m `Tgi...26` -> `Tgi...22`\n",
            "\u001b[36m•\u001b[39m `HDLi...27` -> `HDLi...23`\n",
            "\u001b[36m•\u001b[39m `LDLi...28` -> `LDLi...24`\n",
            "\u001b[36m•\u001b[39m `Choi...29` -> `Choi...25`\n",
            "\u001b[36m•\u001b[39m `Tgi...30` -> `Tgi...26`\n",
            "\u001b[36m•\u001b[39m `HDLi...31` -> `HDLi...27`\n",
            "\u001b[36m•\u001b[39m `LDLi...32` -> `LDLi...28`\n"
          ]
        },
        {
          "output_type": "display_data",
          "data": {
            "text/html": [
              "<table class=\"dataframe\">\n",
              "<caption>A tibble: 38 × 114</caption>\n",
              "<thead>\n",
              "\t<tr><th scope=col>Vial.number</th><th scope=col>Group</th><th scope=col>Age</th><th scope=col>Plasma.volume</th><th scope=col>Ht</th><th scope=col>Wt</th><th scope=col>BMI</th><th scope=col>Sys</th><th scope=col>Dia</th><th scope=col>PR</th><th scope=col>⋯</th><th scope=col>G1.LDLi</th><th scope=col>G2.LDLi</th><th scope=col>G3.LDLi</th><th scope=col>S0.LDLi</th><th scope=col>S1.LDLi</th><th scope=col>S2.LDLi</th><th scope=col>S3.LDLi</th><th scope=col>B.LDLi</th><th scope=col>F.LDLi</th><th scope=col>HM.LDLi</th></tr>\n",
              "\t<tr><th scope=col>&lt;chr&gt;</th><th scope=col>&lt;chr&gt;</th><th scope=col>&lt;dbl&gt;</th><th scope=col>&lt;dbl&gt;</th><th scope=col>&lt;dbl&gt;</th><th scope=col>&lt;dbl&gt;</th><th scope=col>&lt;dbl&gt;</th><th scope=col>&lt;dbl&gt;</th><th scope=col>&lt;dbl&gt;</th><th scope=col>&lt;dbl&gt;</th><th scope=col>⋯</th><th scope=col>&lt;dbl&gt;</th><th scope=col>&lt;dbl&gt;</th><th scope=col>&lt;dbl&gt;</th><th scope=col>&lt;dbl&gt;</th><th scope=col>&lt;dbl&gt;</th><th scope=col>&lt;dbl&gt;</th><th scope=col>&lt;dbl&gt;</th><th scope=col>&lt;dbl&gt;</th><th scope=col>&lt;dbl&gt;</th><th scope=col>&lt;dbl&gt;</th></tr>\n",
              "</thead>\n",
              "<tbody>\n",
              "\t<tr><td>1 </td><td>0</td><td>63</td><td> 6.5</td><td>163</td><td> 84.0</td><td>31.61579</td><td>125</td><td> 76</td><td>67</td><td>⋯</td><td>4.090</td><td>68.910</td><td>3.570</td><td>3.980</td><td>28.180</td><td>42.460</td><td>1.950</td><td>0.020</td><td>1.67</td><td>13.02</td></tr>\n",
              "\t<tr><td>2 </td><td>0</td><td>47</td><td> 5.5</td><td>179</td><td>111.0</td><td>34.64311</td><td>125</td><td> 82</td><td>65</td><td>⋯</td><td>   NA</td><td>    NA</td><td>   NA</td><td>   NA</td><td>    NA</td><td>    NA</td><td>   NA</td><td>   NA</td><td>  NA</td><td>   NA</td></tr>\n",
              "\t<tr><td>3 </td><td>1</td><td>57</td><td> 7.0</td><td>164</td><td> 80.0</td><td>29.74420</td><td>132</td><td> 80</td><td>92</td><td>⋯</td><td>5.160</td><td>68.220</td><td>3.110</td><td>4.640</td><td>30.430</td><td>39.860</td><td>1.560</td><td>0.020</td><td>1.69</td><td>14.16</td></tr>\n",
              "\t<tr><td>4 </td><td>1</td><td>72</td><td> 5.0</td><td>160</td><td> 58.8</td><td>22.96875</td><td>130</td><td> 90</td><td>68</td><td>⋯</td><td>3.950</td><td>68.030</td><td>4.500</td><td>3.780</td><td>29.370</td><td>41.130</td><td>2.200</td><td>0.020</td><td>1.89</td><td>13.89</td></tr>\n",
              "\t<tr><td>5 </td><td>1</td><td>57</td><td> 5.0</td><td>180</td><td> 71.0</td><td>21.91358</td><td>135</td><td> 75</td><td>70</td><td>⋯</td><td>4.630</td><td>66.910</td><td>4.030</td><td>4.440</td><td>28.540</td><td>40.640</td><td>1.950</td><td>0.020</td><td>2.03</td><td>14.25</td></tr>\n",
              "\t<tr><td>6 </td><td>1</td><td>79</td><td> 6.2</td><td>160</td><td> 64.0</td><td>25.00000</td><td>110</td><td> 75</td><td>66</td><td>⋯</td><td>4.050</td><td>64.010</td><td>5.270</td><td>3.720</td><td>26.710</td><td>40.390</td><td>2.510</td><td>0.020</td><td>2.70</td><td>16.06</td></tr>\n",
              "\t<tr><td>7 </td><td>1</td><td>61</td><td> 6.5</td><td>164</td><td> 67.0</td><td>24.91077</td><td>124</td><td> 82</td><td>84</td><td>⋯</td><td>4.100</td><td>65.990</td><td>4.700</td><td>4.030</td><td>28.440</td><td>39.990</td><td>2.330</td><td>0.020</td><td>1.61</td><td>13.82</td></tr>\n",
              "\t<tr><td>8 </td><td>1</td><td>70</td><td> 5.5</td><td>162</td><td> 61.0</td><td>23.24341</td><td>135</td><td> 78</td><td>72</td><td>⋯</td><td>5.270</td><td>67.260</td><td>3.240</td><td>4.690</td><td>32.270</td><td>37.290</td><td>1.520</td><td>0.030</td><td>1.61</td><td>14.59</td></tr>\n",
              "\t<tr><td>9 </td><td>0</td><td>50</td><td> 6.0</td><td>150</td><td> 79.0</td><td>35.11111</td><td>142</td><td> 95</td><td>88</td><td>⋯</td><td>3.970</td><td>67.590</td><td>4.220</td><td>4.420</td><td>27.990</td><td>41.190</td><td>2.180</td><td>0.050</td><td>1.55</td><td>13.26</td></tr>\n",
              "\t<tr><td>10</td><td>1</td><td>53</td><td> 5.5</td><td>172</td><td> 88.2</td><td>29.81341</td><td>120</td><td> 80</td><td>60</td><td>⋯</td><td>4.480</td><td>68.880</td><td>4.040</td><td>3.860</td><td>28.110</td><td>43.200</td><td>2.230</td><td>0.020</td><td>2.30</td><td>13.11</td></tr>\n",
              "\t<tr><td>11</td><td>1</td><td>83</td><td> 6.0</td><td>168</td><td> 59.0</td><td>20.90420</td><td>134</td><td> 60</td><td>89</td><td>⋯</td><td>4.620</td><td>66.510</td><td>4.250</td><td>4.780</td><td>28.500</td><td>40.140</td><td>1.960</td><td>0.030</td><td>1.72</td><td>14.21</td></tr>\n",
              "\t<tr><td>12</td><td>1</td><td>59</td><td> 5.5</td><td>157</td><td> 70.0</td><td>28.39872</td><td>120</td><td> 85</td><td>90</td><td>⋯</td><td>3.470</td><td>66.740</td><td>5.030</td><td>3.450</td><td>26.590</td><td>42.620</td><td>2.580</td><td>0.020</td><td>2.02</td><td>13.52</td></tr>\n",
              "\t<tr><td>13</td><td>1</td><td>79</td><td> 7.0</td><td>161</td><td> 73.0</td><td>28.16249</td><td>120</td><td> 81</td><td>73</td><td>⋯</td><td>4.780</td><td>67.400</td><td>3.720</td><td>4.760</td><td>29.470</td><td>39.760</td><td>1.910</td><td>0.060</td><td>1.93</td><td>14.28</td></tr>\n",
              "\t<tr><td>14</td><td>1</td><td>61</td><td> 7.0</td><td>172</td><td> 82.0</td><td>27.71769</td><td>137</td><td> 94</td><td>85</td><td>⋯</td><td>4.550</td><td>67.880</td><td>4.640</td><td>4.060</td><td>28.160</td><td>42.470</td><td>2.380</td><td>0.030</td><td>1.93</td><td>13.42</td></tr>\n",
              "\t<tr><td>15</td><td>1</td><td>79</td><td> 8.0</td><td>167</td><td> 63.0</td><td>22.58955</td><td>188</td><td> 84</td><td>74</td><td>⋯</td><td>4.700</td><td>67.590</td><td>3.430</td><td>5.280</td><td>33.520</td><td>35.450</td><td>1.470</td><td>0.020</td><td>1.24</td><td>14.35</td></tr>\n",
              "\t<tr><td>16</td><td>1</td><td>75</td><td>10.0</td><td>165</td><td> 57.0</td><td>20.93664</td><td>120</td><td> 72</td><td>66</td><td>⋯</td><td>5.200</td><td>66.370</td><td>4.220</td><td>4.470</td><td>29.360</td><td>39.770</td><td>2.190</td><td>0.030</td><td>2.99</td><td>14.47</td></tr>\n",
              "\t<tr><td>17</td><td>1</td><td>58</td><td>10.0</td><td>162</td><td>102.0</td><td>38.86603</td><td>132</td><td> 81</td><td>68</td><td>⋯</td><td>4.010</td><td>67.880</td><td>4.340</td><td>4.340</td><td>29.100</td><td>40.840</td><td>1.950</td><td>0.030</td><td>1.99</td><td>13.02</td></tr>\n",
              "\t<tr><td>18</td><td>1</td><td>65</td><td>11.0</td><td>171</td><td>102.6</td><td>35.08772</td><td>136</td><td> 92</td><td>80</td><td>⋯</td><td>3.935</td><td>66.575</td><td>4.445</td><td>4.435</td><td>28.225</td><td>39.670</td><td>2.625</td><td>0.035</td><td>2.11</td><td>14.64</td></tr>\n",
              "\t<tr><td>19</td><td>0</td><td>64</td><td>10.5</td><td>167</td><td> 62.0</td><td>22.23099</td><td>112</td><td> 75</td><td>66</td><td>⋯</td><td>3.860</td><td>68.260</td><td>4.280</td><td>3.680</td><td>28.570</td><td>42.040</td><td>2.110</td><td>0.020</td><td>2.34</td><td>13.59</td></tr>\n",
              "\t<tr><td>20</td><td>0</td><td>66</td><td>10.0</td><td>165</td><td> 73.0</td><td>26.81359</td><td>135</td><td> 57</td><td>72</td><td>⋯</td><td>4.710</td><td>65.305</td><td>4.735</td><td>4.335</td><td>29.245</td><td>38.985</td><td>2.185</td><td>0.030</td><td>2.19</td><td>15.15</td></tr>\n",
              "\t<tr><td>21</td><td>1</td><td>70</td><td>11.0</td><td>170</td><td>101.2</td><td>35.01730</td><td>135</td><td> 85</td><td>74</td><td>⋯</td><td>4.040</td><td>67.120</td><td>4.740</td><td>4.560</td><td>28.570</td><td>40.240</td><td>2.530</td><td>0.040</td><td>2.38</td><td>13.10</td></tr>\n",
              "\t<tr><td>22</td><td>0</td><td>65</td><td>10.0</td><td>158</td><td> 69.0</td><td>27.63980</td><td>129</td><td> 77</td><td>66</td><td>⋯</td><td>4.930</td><td>66.620</td><td>4.270</td><td>4.590</td><td>29.240</td><td>39.910</td><td>2.080</td><td>0.030</td><td>1.69</td><td>14.11</td></tr>\n",
              "\t<tr><td>23</td><td>1</td><td>62</td><td>11.5</td><td>169</td><td> 66.0</td><td>23.10843</td><td>150</td><td>105</td><td>78</td><td>⋯</td><td>   NA</td><td>    NA</td><td>   NA</td><td>   NA</td><td>    NA</td><td>    NA</td><td>   NA</td><td>   NA</td><td>  NA</td><td>   NA</td></tr>\n",
              "\t<tr><td>24</td><td>0</td><td>76</td><td>13.0</td><td>165</td><td> 56.5</td><td>20.75298</td><td>130</td><td> 70</td><td>70</td><td>⋯</td><td>4.390</td><td>67.560</td><td>3.590</td><td>4.550</td><td>28.810</td><td>40.410</td><td>1.770</td><td>0.040</td><td>1.38</td><td>14.83</td></tr>\n",
              "\t<tr><td>25</td><td>1</td><td>68</td><td>13.0</td><td>170</td><td> 88.0</td><td>30.44983</td><td>150</td><td> 90</td><td>70</td><td>⋯</td><td>   NA</td><td>    NA</td><td>   NA</td><td>   NA</td><td>    NA</td><td>    NA</td><td>   NA</td><td>   NA</td><td>  NA</td><td>   NA</td></tr>\n",
              "\t<tr><td>26</td><td>0</td><td>55</td><td>11.5</td><td>162</td><td> 57.0</td><td>21.71925</td><td>103</td><td> 66</td><td>74</td><td>⋯</td><td>5.280</td><td>67.780</td><td>4.210</td><td>4.710</td><td>29.210</td><td>41.010</td><td>2.340</td><td>0.020</td><td>2.03</td><td>13.33</td></tr>\n",
              "\t<tr><td>27</td><td>0</td><td>79</td><td>12.0</td><td>172</td><td> 60.0</td><td>20.28123</td><td>100</td><td> 60</td><td>65</td><td>⋯</td><td>   NA</td><td>    NA</td><td>   NA</td><td>   NA</td><td>    NA</td><td>    NA</td><td>   NA</td><td>   NA</td><td>  NA</td><td>   NA</td></tr>\n",
              "\t<tr><td>28</td><td>0</td><td>69</td><td>13.0</td><td>160</td><td> 60.0</td><td>23.43750</td><td>133</td><td> 76</td><td>79</td><td>⋯</td><td>4.620</td><td>67.430</td><td>4.360</td><td>4.160</td><td>29.580</td><td>40.480</td><td>2.190</td><td>0.020</td><td>2.27</td><td>13.54</td></tr>\n",
              "\t<tr><td>29</td><td>1</td><td>75</td><td>11.0</td><td>162</td><td> 75.0</td><td>28.57796</td><td>118</td><td> 75</td><td>75</td><td>⋯</td><td>   NA</td><td>    NA</td><td>   NA</td><td>   NA</td><td>    NA</td><td>    NA</td><td>   NA</td><td>   NA</td><td>  NA</td><td>   NA</td></tr>\n",
              "\t<tr><td>30</td><td>1</td><td>68</td><td>13.0</td><td>165</td><td> 77.8</td><td>28.57668</td><td>134</td><td> 76</td><td>81</td><td>⋯</td><td>4.290</td><td>66.840</td><td>4.380</td><td>3.910</td><td>28.190</td><td>41.210</td><td>2.200</td><td>0.020</td><td>2.36</td><td>14.45</td></tr>\n",
              "\t<tr><td>31</td><td>0</td><td>64</td><td>11.5</td><td>176</td><td> 68.8</td><td>22.21074</td><td>128</td><td> 78</td><td>73</td><td>⋯</td><td>5.220</td><td>66.870</td><td>3.580</td><td>4.280</td><td>29.690</td><td>40.060</td><td>1.640</td><td>0.020</td><td>1.55</td><td>14.70</td></tr>\n",
              "\t<tr><td>32</td><td>0</td><td>62</td><td>13.0</td><td>161</td><td> 90.0</td><td>34.72088</td><td>140</td><td>100</td><td>74</td><td>⋯</td><td>   NA</td><td>    NA</td><td>   NA</td><td>   NA</td><td>    NA</td><td>    NA</td><td>   NA</td><td>   NA</td><td>  NA</td><td>   NA</td></tr>\n",
              "\t<tr><td>33</td><td>1</td><td>67</td><td>13.0</td><td>165</td><td> 78.0</td><td>28.65014</td><td>165</td><td> 82</td><td>76</td><td>⋯</td><td>3.890</td><td>67.440</td><td>4.290</td><td>4.210</td><td>28.160</td><td>41.210</td><td>2.040</td><td>0.030</td><td>2.26</td><td>15.06</td></tr>\n",
              "\t<tr><td>34</td><td>1</td><td>64</td><td>12.0</td><td>161</td><td> 89.0</td><td>34.33510</td><td>140</td><td> 86</td><td>54</td><td>⋯</td><td>3.270</td><td>65.600</td><td>5.290</td><td>3.380</td><td>24.700</td><td>43.560</td><td>2.520</td><td>0.060</td><td>2.73</td><td>13.89</td></tr>\n",
              "\t<tr><td>35</td><td>0</td><td>54</td><td>11.5</td><td>167</td><td> 67.0</td><td>24.02381</td><td>146</td><td> 96</td><td>68</td><td>⋯</td><td>   NA</td><td>    NA</td><td>   NA</td><td>   NA</td><td>    NA</td><td>    NA</td><td>   NA</td><td>   NA</td><td>  NA</td><td>   NA</td></tr>\n",
              "\t<tr><td>36</td><td>1</td><td>67</td><td>12.0</td><td>159</td><td> 72.0</td><td>28.47989</td><td>126</td><td> 68</td><td>84</td><td>⋯</td><td>4.000</td><td>67.710</td><td>5.350</td><td>4.200</td><td>29.860</td><td>40.350</td><td>2.650</td><td>0.020</td><td>1.55</td><td>13.37</td></tr>\n",
              "\t<tr><td>37</td><td>1</td><td>69</td><td>11.5</td><td>154</td><td> 87.6</td><td>36.93709</td><td>147</td><td> 89</td><td>68</td><td>⋯</td><td>   NA</td><td>    NA</td><td>   NA</td><td>   NA</td><td>    NA</td><td>    NA</td><td>   NA</td><td>   NA</td><td>  NA</td><td>   NA</td></tr>\n",
              "\t<tr><td>38</td><td>0</td><td>60</td><td>12.0</td><td>165</td><td> 74.0</td><td>27.18090</td><td>120</td><td> 70</td><td>75</td><td>⋯</td><td>   NA</td><td>    NA</td><td>   NA</td><td>   NA</td><td>    NA</td><td>    NA</td><td>   NA</td><td>   NA</td><td>  NA</td><td>   NA</td></tr>\n",
              "</tbody>\n",
              "</table>\n"
            ],
            "text/markdown": "\nA tibble: 38 × 114\n\n| Vial.number &lt;chr&gt; | Group &lt;chr&gt; | Age &lt;dbl&gt; | Plasma.volume &lt;dbl&gt; | Ht &lt;dbl&gt; | Wt &lt;dbl&gt; | BMI &lt;dbl&gt; | Sys &lt;dbl&gt; | Dia &lt;dbl&gt; | PR &lt;dbl&gt; | ⋯ ⋯ | G1.LDLi &lt;dbl&gt; | G2.LDLi &lt;dbl&gt; | G3.LDLi &lt;dbl&gt; | S0.LDLi &lt;dbl&gt; | S1.LDLi &lt;dbl&gt; | S2.LDLi &lt;dbl&gt; | S3.LDLi &lt;dbl&gt; | B.LDLi &lt;dbl&gt; | F.LDLi &lt;dbl&gt; | HM.LDLi &lt;dbl&gt; |\n|---|---|---|---|---|---|---|---|---|---|---|---|---|---|---|---|---|---|---|---|---|\n| 1  | 0 | 63 |  6.5 | 163 |  84.0 | 31.61579 | 125 |  76 | 67 | ⋯ | 4.090 | 68.910 | 3.570 | 3.980 | 28.180 | 42.460 | 1.950 | 0.020 | 1.67 | 13.02 |\n| 2  | 0 | 47 |  5.5 | 179 | 111.0 | 34.64311 | 125 |  82 | 65 | ⋯ |    NA |     NA |    NA |    NA |     NA |     NA |    NA |    NA |   NA |    NA |\n| 3  | 1 | 57 |  7.0 | 164 |  80.0 | 29.74420 | 132 |  80 | 92 | ⋯ | 5.160 | 68.220 | 3.110 | 4.640 | 30.430 | 39.860 | 1.560 | 0.020 | 1.69 | 14.16 |\n| 4  | 1 | 72 |  5.0 | 160 |  58.8 | 22.96875 | 130 |  90 | 68 | ⋯ | 3.950 | 68.030 | 4.500 | 3.780 | 29.370 | 41.130 | 2.200 | 0.020 | 1.89 | 13.89 |\n| 5  | 1 | 57 |  5.0 | 180 |  71.0 | 21.91358 | 135 |  75 | 70 | ⋯ | 4.630 | 66.910 | 4.030 | 4.440 | 28.540 | 40.640 | 1.950 | 0.020 | 2.03 | 14.25 |\n| 6  | 1 | 79 |  6.2 | 160 |  64.0 | 25.00000 | 110 |  75 | 66 | ⋯ | 4.050 | 64.010 | 5.270 | 3.720 | 26.710 | 40.390 | 2.510 | 0.020 | 2.70 | 16.06 |\n| 7  | 1 | 61 |  6.5 | 164 |  67.0 | 24.91077 | 124 |  82 | 84 | ⋯ | 4.100 | 65.990 | 4.700 | 4.030 | 28.440 | 39.990 | 2.330 | 0.020 | 1.61 | 13.82 |\n| 8  | 1 | 70 |  5.5 | 162 |  61.0 | 23.24341 | 135 |  78 | 72 | ⋯ | 5.270 | 67.260 | 3.240 | 4.690 | 32.270 | 37.290 | 1.520 | 0.030 | 1.61 | 14.59 |\n| 9  | 0 | 50 |  6.0 | 150 |  79.0 | 35.11111 | 142 |  95 | 88 | ⋯ | 3.970 | 67.590 | 4.220 | 4.420 | 27.990 | 41.190 | 2.180 | 0.050 | 1.55 | 13.26 |\n| 10 | 1 | 53 |  5.5 | 172 |  88.2 | 29.81341 | 120 |  80 | 60 | ⋯ | 4.480 | 68.880 | 4.040 | 3.860 | 28.110 | 43.200 | 2.230 | 0.020 | 2.30 | 13.11 |\n| 11 | 1 | 83 |  6.0 | 168 |  59.0 | 20.90420 | 134 |  60 | 89 | ⋯ | 4.620 | 66.510 | 4.250 | 4.780 | 28.500 | 40.140 | 1.960 | 0.030 | 1.72 | 14.21 |\n| 12 | 1 | 59 |  5.5 | 157 |  70.0 | 28.39872 | 120 |  85 | 90 | ⋯ | 3.470 | 66.740 | 5.030 | 3.450 | 26.590 | 42.620 | 2.580 | 0.020 | 2.02 | 13.52 |\n| 13 | 1 | 79 |  7.0 | 161 |  73.0 | 28.16249 | 120 |  81 | 73 | ⋯ | 4.780 | 67.400 | 3.720 | 4.760 | 29.470 | 39.760 | 1.910 | 0.060 | 1.93 | 14.28 |\n| 14 | 1 | 61 |  7.0 | 172 |  82.0 | 27.71769 | 137 |  94 | 85 | ⋯ | 4.550 | 67.880 | 4.640 | 4.060 | 28.160 | 42.470 | 2.380 | 0.030 | 1.93 | 13.42 |\n| 15 | 1 | 79 |  8.0 | 167 |  63.0 | 22.58955 | 188 |  84 | 74 | ⋯ | 4.700 | 67.590 | 3.430 | 5.280 | 33.520 | 35.450 | 1.470 | 0.020 | 1.24 | 14.35 |\n| 16 | 1 | 75 | 10.0 | 165 |  57.0 | 20.93664 | 120 |  72 | 66 | ⋯ | 5.200 | 66.370 | 4.220 | 4.470 | 29.360 | 39.770 | 2.190 | 0.030 | 2.99 | 14.47 |\n| 17 | 1 | 58 | 10.0 | 162 | 102.0 | 38.86603 | 132 |  81 | 68 | ⋯ | 4.010 | 67.880 | 4.340 | 4.340 | 29.100 | 40.840 | 1.950 | 0.030 | 1.99 | 13.02 |\n| 18 | 1 | 65 | 11.0 | 171 | 102.6 | 35.08772 | 136 |  92 | 80 | ⋯ | 3.935 | 66.575 | 4.445 | 4.435 | 28.225 | 39.670 | 2.625 | 0.035 | 2.11 | 14.64 |\n| 19 | 0 | 64 | 10.5 | 167 |  62.0 | 22.23099 | 112 |  75 | 66 | ⋯ | 3.860 | 68.260 | 4.280 | 3.680 | 28.570 | 42.040 | 2.110 | 0.020 | 2.34 | 13.59 |\n| 20 | 0 | 66 | 10.0 | 165 |  73.0 | 26.81359 | 135 |  57 | 72 | ⋯ | 4.710 | 65.305 | 4.735 | 4.335 | 29.245 | 38.985 | 2.185 | 0.030 | 2.19 | 15.15 |\n| 21 | 1 | 70 | 11.0 | 170 | 101.2 | 35.01730 | 135 |  85 | 74 | ⋯ | 4.040 | 67.120 | 4.740 | 4.560 | 28.570 | 40.240 | 2.530 | 0.040 | 2.38 | 13.10 |\n| 22 | 0 | 65 | 10.0 | 158 |  69.0 | 27.63980 | 129 |  77 | 66 | ⋯ | 4.930 | 66.620 | 4.270 | 4.590 | 29.240 | 39.910 | 2.080 | 0.030 | 1.69 | 14.11 |\n| 23 | 1 | 62 | 11.5 | 169 |  66.0 | 23.10843 | 150 | 105 | 78 | ⋯ |    NA |     NA |    NA |    NA |     NA |     NA |    NA |    NA |   NA |    NA |\n| 24 | 0 | 76 | 13.0 | 165 |  56.5 | 20.75298 | 130 |  70 | 70 | ⋯ | 4.390 | 67.560 | 3.590 | 4.550 | 28.810 | 40.410 | 1.770 | 0.040 | 1.38 | 14.83 |\n| 25 | 1 | 68 | 13.0 | 170 |  88.0 | 30.44983 | 150 |  90 | 70 | ⋯ |    NA |     NA |    NA |    NA |     NA |     NA |    NA |    NA |   NA |    NA |\n| 26 | 0 | 55 | 11.5 | 162 |  57.0 | 21.71925 | 103 |  66 | 74 | ⋯ | 5.280 | 67.780 | 4.210 | 4.710 | 29.210 | 41.010 | 2.340 | 0.020 | 2.03 | 13.33 |\n| 27 | 0 | 79 | 12.0 | 172 |  60.0 | 20.28123 | 100 |  60 | 65 | ⋯ |    NA |     NA |    NA |    NA |     NA |     NA |    NA |    NA |   NA |    NA |\n| 28 | 0 | 69 | 13.0 | 160 |  60.0 | 23.43750 | 133 |  76 | 79 | ⋯ | 4.620 | 67.430 | 4.360 | 4.160 | 29.580 | 40.480 | 2.190 | 0.020 | 2.27 | 13.54 |\n| 29 | 1 | 75 | 11.0 | 162 |  75.0 | 28.57796 | 118 |  75 | 75 | ⋯ |    NA |     NA |    NA |    NA |     NA |     NA |    NA |    NA |   NA |    NA |\n| 30 | 1 | 68 | 13.0 | 165 |  77.8 | 28.57668 | 134 |  76 | 81 | ⋯ | 4.290 | 66.840 | 4.380 | 3.910 | 28.190 | 41.210 | 2.200 | 0.020 | 2.36 | 14.45 |\n| 31 | 0 | 64 | 11.5 | 176 |  68.8 | 22.21074 | 128 |  78 | 73 | ⋯ | 5.220 | 66.870 | 3.580 | 4.280 | 29.690 | 40.060 | 1.640 | 0.020 | 1.55 | 14.70 |\n| 32 | 0 | 62 | 13.0 | 161 |  90.0 | 34.72088 | 140 | 100 | 74 | ⋯ |    NA |     NA |    NA |    NA |     NA |     NA |    NA |    NA |   NA |    NA |\n| 33 | 1 | 67 | 13.0 | 165 |  78.0 | 28.65014 | 165 |  82 | 76 | ⋯ | 3.890 | 67.440 | 4.290 | 4.210 | 28.160 | 41.210 | 2.040 | 0.030 | 2.26 | 15.06 |\n| 34 | 1 | 64 | 12.0 | 161 |  89.0 | 34.33510 | 140 |  86 | 54 | ⋯ | 3.270 | 65.600 | 5.290 | 3.380 | 24.700 | 43.560 | 2.520 | 0.060 | 2.73 | 13.89 |\n| 35 | 0 | 54 | 11.5 | 167 |  67.0 | 24.02381 | 146 |  96 | 68 | ⋯ |    NA |     NA |    NA |    NA |     NA |     NA |    NA |    NA |   NA |    NA |\n| 36 | 1 | 67 | 12.0 | 159 |  72.0 | 28.47989 | 126 |  68 | 84 | ⋯ | 4.000 | 67.710 | 5.350 | 4.200 | 29.860 | 40.350 | 2.650 | 0.020 | 1.55 | 13.37 |\n| 37 | 1 | 69 | 11.5 | 154 |  87.6 | 36.93709 | 147 |  89 | 68 | ⋯ |    NA |     NA |    NA |    NA |     NA |     NA |    NA |    NA |   NA |    NA |\n| 38 | 0 | 60 | 12.0 | 165 |  74.0 | 27.18090 | 120 |  70 | 75 | ⋯ |    NA |     NA |    NA |    NA |     NA |     NA |    NA |    NA |   NA |    NA |\n\n",
            "text/latex": "A tibble: 38 × 114\n\\begin{tabular}{lllllllllllllllllllll}\n Vial.number & Group & Age & Plasma.volume & Ht & Wt & BMI & Sys & Dia & PR & ⋯ & G1.LDLi & G2.LDLi & G3.LDLi & S0.LDLi & S1.LDLi & S2.LDLi & S3.LDLi & B.LDLi & F.LDLi & HM.LDLi\\\\\n <chr> & <chr> & <dbl> & <dbl> & <dbl> & <dbl> & <dbl> & <dbl> & <dbl> & <dbl> & ⋯ & <dbl> & <dbl> & <dbl> & <dbl> & <dbl> & <dbl> & <dbl> & <dbl> & <dbl> & <dbl>\\\\\n\\hline\n\t 1  & 0 & 63 &  6.5 & 163 &  84.0 & 31.61579 & 125 &  76 & 67 & ⋯ & 4.090 & 68.910 & 3.570 & 3.980 & 28.180 & 42.460 & 1.950 & 0.020 & 1.67 & 13.02\\\\\n\t 2  & 0 & 47 &  5.5 & 179 & 111.0 & 34.64311 & 125 &  82 & 65 & ⋯ &    NA &     NA &    NA &    NA &     NA &     NA &    NA &    NA &   NA &    NA\\\\\n\t 3  & 1 & 57 &  7.0 & 164 &  80.0 & 29.74420 & 132 &  80 & 92 & ⋯ & 5.160 & 68.220 & 3.110 & 4.640 & 30.430 & 39.860 & 1.560 & 0.020 & 1.69 & 14.16\\\\\n\t 4  & 1 & 72 &  5.0 & 160 &  58.8 & 22.96875 & 130 &  90 & 68 & ⋯ & 3.950 & 68.030 & 4.500 & 3.780 & 29.370 & 41.130 & 2.200 & 0.020 & 1.89 & 13.89\\\\\n\t 5  & 1 & 57 &  5.0 & 180 &  71.0 & 21.91358 & 135 &  75 & 70 & ⋯ & 4.630 & 66.910 & 4.030 & 4.440 & 28.540 & 40.640 & 1.950 & 0.020 & 2.03 & 14.25\\\\\n\t 6  & 1 & 79 &  6.2 & 160 &  64.0 & 25.00000 & 110 &  75 & 66 & ⋯ & 4.050 & 64.010 & 5.270 & 3.720 & 26.710 & 40.390 & 2.510 & 0.020 & 2.70 & 16.06\\\\\n\t 7  & 1 & 61 &  6.5 & 164 &  67.0 & 24.91077 & 124 &  82 & 84 & ⋯ & 4.100 & 65.990 & 4.700 & 4.030 & 28.440 & 39.990 & 2.330 & 0.020 & 1.61 & 13.82\\\\\n\t 8  & 1 & 70 &  5.5 & 162 &  61.0 & 23.24341 & 135 &  78 & 72 & ⋯ & 5.270 & 67.260 & 3.240 & 4.690 & 32.270 & 37.290 & 1.520 & 0.030 & 1.61 & 14.59\\\\\n\t 9  & 0 & 50 &  6.0 & 150 &  79.0 & 35.11111 & 142 &  95 & 88 & ⋯ & 3.970 & 67.590 & 4.220 & 4.420 & 27.990 & 41.190 & 2.180 & 0.050 & 1.55 & 13.26\\\\\n\t 10 & 1 & 53 &  5.5 & 172 &  88.2 & 29.81341 & 120 &  80 & 60 & ⋯ & 4.480 & 68.880 & 4.040 & 3.860 & 28.110 & 43.200 & 2.230 & 0.020 & 2.30 & 13.11\\\\\n\t 11 & 1 & 83 &  6.0 & 168 &  59.0 & 20.90420 & 134 &  60 & 89 & ⋯ & 4.620 & 66.510 & 4.250 & 4.780 & 28.500 & 40.140 & 1.960 & 0.030 & 1.72 & 14.21\\\\\n\t 12 & 1 & 59 &  5.5 & 157 &  70.0 & 28.39872 & 120 &  85 & 90 & ⋯ & 3.470 & 66.740 & 5.030 & 3.450 & 26.590 & 42.620 & 2.580 & 0.020 & 2.02 & 13.52\\\\\n\t 13 & 1 & 79 &  7.0 & 161 &  73.0 & 28.16249 & 120 &  81 & 73 & ⋯ & 4.780 & 67.400 & 3.720 & 4.760 & 29.470 & 39.760 & 1.910 & 0.060 & 1.93 & 14.28\\\\\n\t 14 & 1 & 61 &  7.0 & 172 &  82.0 & 27.71769 & 137 &  94 & 85 & ⋯ & 4.550 & 67.880 & 4.640 & 4.060 & 28.160 & 42.470 & 2.380 & 0.030 & 1.93 & 13.42\\\\\n\t 15 & 1 & 79 &  8.0 & 167 &  63.0 & 22.58955 & 188 &  84 & 74 & ⋯ & 4.700 & 67.590 & 3.430 & 5.280 & 33.520 & 35.450 & 1.470 & 0.020 & 1.24 & 14.35\\\\\n\t 16 & 1 & 75 & 10.0 & 165 &  57.0 & 20.93664 & 120 &  72 & 66 & ⋯ & 5.200 & 66.370 & 4.220 & 4.470 & 29.360 & 39.770 & 2.190 & 0.030 & 2.99 & 14.47\\\\\n\t 17 & 1 & 58 & 10.0 & 162 & 102.0 & 38.86603 & 132 &  81 & 68 & ⋯ & 4.010 & 67.880 & 4.340 & 4.340 & 29.100 & 40.840 & 1.950 & 0.030 & 1.99 & 13.02\\\\\n\t 18 & 1 & 65 & 11.0 & 171 & 102.6 & 35.08772 & 136 &  92 & 80 & ⋯ & 3.935 & 66.575 & 4.445 & 4.435 & 28.225 & 39.670 & 2.625 & 0.035 & 2.11 & 14.64\\\\\n\t 19 & 0 & 64 & 10.5 & 167 &  62.0 & 22.23099 & 112 &  75 & 66 & ⋯ & 3.860 & 68.260 & 4.280 & 3.680 & 28.570 & 42.040 & 2.110 & 0.020 & 2.34 & 13.59\\\\\n\t 20 & 0 & 66 & 10.0 & 165 &  73.0 & 26.81359 & 135 &  57 & 72 & ⋯ & 4.710 & 65.305 & 4.735 & 4.335 & 29.245 & 38.985 & 2.185 & 0.030 & 2.19 & 15.15\\\\\n\t 21 & 1 & 70 & 11.0 & 170 & 101.2 & 35.01730 & 135 &  85 & 74 & ⋯ & 4.040 & 67.120 & 4.740 & 4.560 & 28.570 & 40.240 & 2.530 & 0.040 & 2.38 & 13.10\\\\\n\t 22 & 0 & 65 & 10.0 & 158 &  69.0 & 27.63980 & 129 &  77 & 66 & ⋯ & 4.930 & 66.620 & 4.270 & 4.590 & 29.240 & 39.910 & 2.080 & 0.030 & 1.69 & 14.11\\\\\n\t 23 & 1 & 62 & 11.5 & 169 &  66.0 & 23.10843 & 150 & 105 & 78 & ⋯ &    NA &     NA &    NA &    NA &     NA &     NA &    NA &    NA &   NA &    NA\\\\\n\t 24 & 0 & 76 & 13.0 & 165 &  56.5 & 20.75298 & 130 &  70 & 70 & ⋯ & 4.390 & 67.560 & 3.590 & 4.550 & 28.810 & 40.410 & 1.770 & 0.040 & 1.38 & 14.83\\\\\n\t 25 & 1 & 68 & 13.0 & 170 &  88.0 & 30.44983 & 150 &  90 & 70 & ⋯ &    NA &     NA &    NA &    NA &     NA &     NA &    NA &    NA &   NA &    NA\\\\\n\t 26 & 0 & 55 & 11.5 & 162 &  57.0 & 21.71925 & 103 &  66 & 74 & ⋯ & 5.280 & 67.780 & 4.210 & 4.710 & 29.210 & 41.010 & 2.340 & 0.020 & 2.03 & 13.33\\\\\n\t 27 & 0 & 79 & 12.0 & 172 &  60.0 & 20.28123 & 100 &  60 & 65 & ⋯ &    NA &     NA &    NA &    NA &     NA &     NA &    NA &    NA &   NA &    NA\\\\\n\t 28 & 0 & 69 & 13.0 & 160 &  60.0 & 23.43750 & 133 &  76 & 79 & ⋯ & 4.620 & 67.430 & 4.360 & 4.160 & 29.580 & 40.480 & 2.190 & 0.020 & 2.27 & 13.54\\\\\n\t 29 & 1 & 75 & 11.0 & 162 &  75.0 & 28.57796 & 118 &  75 & 75 & ⋯ &    NA &     NA &    NA &    NA &     NA &     NA &    NA &    NA &   NA &    NA\\\\\n\t 30 & 1 & 68 & 13.0 & 165 &  77.8 & 28.57668 & 134 &  76 & 81 & ⋯ & 4.290 & 66.840 & 4.380 & 3.910 & 28.190 & 41.210 & 2.200 & 0.020 & 2.36 & 14.45\\\\\n\t 31 & 0 & 64 & 11.5 & 176 &  68.8 & 22.21074 & 128 &  78 & 73 & ⋯ & 5.220 & 66.870 & 3.580 & 4.280 & 29.690 & 40.060 & 1.640 & 0.020 & 1.55 & 14.70\\\\\n\t 32 & 0 & 62 & 13.0 & 161 &  90.0 & 34.72088 & 140 & 100 & 74 & ⋯ &    NA &     NA &    NA &    NA &     NA &     NA &    NA &    NA &   NA &    NA\\\\\n\t 33 & 1 & 67 & 13.0 & 165 &  78.0 & 28.65014 & 165 &  82 & 76 & ⋯ & 3.890 & 67.440 & 4.290 & 4.210 & 28.160 & 41.210 & 2.040 & 0.030 & 2.26 & 15.06\\\\\n\t 34 & 1 & 64 & 12.0 & 161 &  89.0 & 34.33510 & 140 &  86 & 54 & ⋯ & 3.270 & 65.600 & 5.290 & 3.380 & 24.700 & 43.560 & 2.520 & 0.060 & 2.73 & 13.89\\\\\n\t 35 & 0 & 54 & 11.5 & 167 &  67.0 & 24.02381 & 146 &  96 & 68 & ⋯ &    NA &     NA &    NA &    NA &     NA &     NA &    NA &    NA &   NA &    NA\\\\\n\t 36 & 1 & 67 & 12.0 & 159 &  72.0 & 28.47989 & 126 &  68 & 84 & ⋯ & 4.000 & 67.710 & 5.350 & 4.200 & 29.860 & 40.350 & 2.650 & 0.020 & 1.55 & 13.37\\\\\n\t 37 & 1 & 69 & 11.5 & 154 &  87.6 & 36.93709 & 147 &  89 & 68 & ⋯ &    NA &     NA &    NA &    NA &     NA &     NA &    NA &    NA &   NA &    NA\\\\\n\t 38 & 0 & 60 & 12.0 & 165 &  74.0 & 27.18090 & 120 &  70 & 75 & ⋯ &    NA &     NA &    NA &    NA &     NA &     NA &    NA &    NA &   NA &    NA\\\\\n\\end{tabular}\n",
            "text/plain": [
              "   Vial.number Group Age Plasma.volume Ht  Wt    BMI      Sys Dia PR ⋯ G1.LDLi\n",
              "1  1           0     63   6.5          163  84.0 31.61579 125  76 67 ⋯ 4.090  \n",
              "2  2           0     47   5.5          179 111.0 34.64311 125  82 65 ⋯    NA  \n",
              "3  3           1     57   7.0          164  80.0 29.74420 132  80 92 ⋯ 5.160  \n",
              "4  4           1     72   5.0          160  58.8 22.96875 130  90 68 ⋯ 3.950  \n",
              "5  5           1     57   5.0          180  71.0 21.91358 135  75 70 ⋯ 4.630  \n",
              "6  6           1     79   6.2          160  64.0 25.00000 110  75 66 ⋯ 4.050  \n",
              "7  7           1     61   6.5          164  67.0 24.91077 124  82 84 ⋯ 4.100  \n",
              "8  8           1     70   5.5          162  61.0 23.24341 135  78 72 ⋯ 5.270  \n",
              "9  9           0     50   6.0          150  79.0 35.11111 142  95 88 ⋯ 3.970  \n",
              "10 10          1     53   5.5          172  88.2 29.81341 120  80 60 ⋯ 4.480  \n",
              "11 11          1     83   6.0          168  59.0 20.90420 134  60 89 ⋯ 4.620  \n",
              "12 12          1     59   5.5          157  70.0 28.39872 120  85 90 ⋯ 3.470  \n",
              "13 13          1     79   7.0          161  73.0 28.16249 120  81 73 ⋯ 4.780  \n",
              "14 14          1     61   7.0          172  82.0 27.71769 137  94 85 ⋯ 4.550  \n",
              "15 15          1     79   8.0          167  63.0 22.58955 188  84 74 ⋯ 4.700  \n",
              "16 16          1     75  10.0          165  57.0 20.93664 120  72 66 ⋯ 5.200  \n",
              "17 17          1     58  10.0          162 102.0 38.86603 132  81 68 ⋯ 4.010  \n",
              "18 18          1     65  11.0          171 102.6 35.08772 136  92 80 ⋯ 3.935  \n",
              "19 19          0     64  10.5          167  62.0 22.23099 112  75 66 ⋯ 3.860  \n",
              "20 20          0     66  10.0          165  73.0 26.81359 135  57 72 ⋯ 4.710  \n",
              "21 21          1     70  11.0          170 101.2 35.01730 135  85 74 ⋯ 4.040  \n",
              "22 22          0     65  10.0          158  69.0 27.63980 129  77 66 ⋯ 4.930  \n",
              "23 23          1     62  11.5          169  66.0 23.10843 150 105 78 ⋯    NA  \n",
              "24 24          0     76  13.0          165  56.5 20.75298 130  70 70 ⋯ 4.390  \n",
              "25 25          1     68  13.0          170  88.0 30.44983 150  90 70 ⋯    NA  \n",
              "26 26          0     55  11.5          162  57.0 21.71925 103  66 74 ⋯ 5.280  \n",
              "27 27          0     79  12.0          172  60.0 20.28123 100  60 65 ⋯    NA  \n",
              "28 28          0     69  13.0          160  60.0 23.43750 133  76 79 ⋯ 4.620  \n",
              "29 29          1     75  11.0          162  75.0 28.57796 118  75 75 ⋯    NA  \n",
              "30 30          1     68  13.0          165  77.8 28.57668 134  76 81 ⋯ 4.290  \n",
              "31 31          0     64  11.5          176  68.8 22.21074 128  78 73 ⋯ 5.220  \n",
              "32 32          0     62  13.0          161  90.0 34.72088 140 100 74 ⋯    NA  \n",
              "33 33          1     67  13.0          165  78.0 28.65014 165  82 76 ⋯ 3.890  \n",
              "34 34          1     64  12.0          161  89.0 34.33510 140  86 54 ⋯ 3.270  \n",
              "35 35          0     54  11.5          167  67.0 24.02381 146  96 68 ⋯    NA  \n",
              "36 36          1     67  12.0          159  72.0 28.47989 126  68 84 ⋯ 4.000  \n",
              "37 37          1     69  11.5          154  87.6 36.93709 147  89 68 ⋯    NA  \n",
              "38 38          0     60  12.0          165  74.0 27.18090 120  70 75 ⋯    NA  \n",
              "   G2.LDLi G3.LDLi S0.LDLi S1.LDLi S2.LDLi S3.LDLi B.LDLi F.LDLi HM.LDLi\n",
              "1  68.910  3.570   3.980   28.180  42.460  1.950   0.020  1.67   13.02  \n",
              "2      NA     NA      NA       NA      NA     NA      NA    NA      NA  \n",
              "3  68.220  3.110   4.640   30.430  39.860  1.560   0.020  1.69   14.16  \n",
              "4  68.030  4.500   3.780   29.370  41.130  2.200   0.020  1.89   13.89  \n",
              "5  66.910  4.030   4.440   28.540  40.640  1.950   0.020  2.03   14.25  \n",
              "6  64.010  5.270   3.720   26.710  40.390  2.510   0.020  2.70   16.06  \n",
              "7  65.990  4.700   4.030   28.440  39.990  2.330   0.020  1.61   13.82  \n",
              "8  67.260  3.240   4.690   32.270  37.290  1.520   0.030  1.61   14.59  \n",
              "9  67.590  4.220   4.420   27.990  41.190  2.180   0.050  1.55   13.26  \n",
              "10 68.880  4.040   3.860   28.110  43.200  2.230   0.020  2.30   13.11  \n",
              "11 66.510  4.250   4.780   28.500  40.140  1.960   0.030  1.72   14.21  \n",
              "12 66.740  5.030   3.450   26.590  42.620  2.580   0.020  2.02   13.52  \n",
              "13 67.400  3.720   4.760   29.470  39.760  1.910   0.060  1.93   14.28  \n",
              "14 67.880  4.640   4.060   28.160  42.470  2.380   0.030  1.93   13.42  \n",
              "15 67.590  3.430   5.280   33.520  35.450  1.470   0.020  1.24   14.35  \n",
              "16 66.370  4.220   4.470   29.360  39.770  2.190   0.030  2.99   14.47  \n",
              "17 67.880  4.340   4.340   29.100  40.840  1.950   0.030  1.99   13.02  \n",
              "18 66.575  4.445   4.435   28.225  39.670  2.625   0.035  2.11   14.64  \n",
              "19 68.260  4.280   3.680   28.570  42.040  2.110   0.020  2.34   13.59  \n",
              "20 65.305  4.735   4.335   29.245  38.985  2.185   0.030  2.19   15.15  \n",
              "21 67.120  4.740   4.560   28.570  40.240  2.530   0.040  2.38   13.10  \n",
              "22 66.620  4.270   4.590   29.240  39.910  2.080   0.030  1.69   14.11  \n",
              "23     NA     NA      NA       NA      NA     NA      NA    NA      NA  \n",
              "24 67.560  3.590   4.550   28.810  40.410  1.770   0.040  1.38   14.83  \n",
              "25     NA     NA      NA       NA      NA     NA      NA    NA      NA  \n",
              "26 67.780  4.210   4.710   29.210  41.010  2.340   0.020  2.03   13.33  \n",
              "27     NA     NA      NA       NA      NA     NA      NA    NA      NA  \n",
              "28 67.430  4.360   4.160   29.580  40.480  2.190   0.020  2.27   13.54  \n",
              "29     NA     NA      NA       NA      NA     NA      NA    NA      NA  \n",
              "30 66.840  4.380   3.910   28.190  41.210  2.200   0.020  2.36   14.45  \n",
              "31 66.870  3.580   4.280   29.690  40.060  1.640   0.020  1.55   14.70  \n",
              "32     NA     NA      NA       NA      NA     NA      NA    NA      NA  \n",
              "33 67.440  4.290   4.210   28.160  41.210  2.040   0.030  2.26   15.06  \n",
              "34 65.600  5.290   3.380   24.700  43.560  2.520   0.060  2.73   13.89  \n",
              "35     NA     NA      NA       NA      NA     NA      NA    NA      NA  \n",
              "36 67.710  5.350   4.200   29.860  40.350  2.650   0.020  1.55   13.37  \n",
              "37     NA     NA      NA       NA      NA     NA      NA    NA      NA  \n",
              "38     NA     NA      NA       NA      NA     NA      NA    NA      NA  "
            ]
          },
          "metadata": {}
        }
      ]
    },
    {
      "cell_type": "code",
      "source": [
        "names(data)"
      ],
      "metadata": {
        "colab": {
          "base_uri": "https://localhost:8080/",
          "height": 121
        },
        "id": "q2bvungZz_U6",
        "outputId": "ba5ca459-13b8-4b55-c1ab-29e023ed8f10"
      },
      "execution_count": 4,
      "outputs": [
        {
          "output_type": "display_data",
          "data": {
            "text/html": [
              "<style>\n",
              ".list-inline {list-style: none; margin:0; padding: 0}\n",
              ".list-inline>li {display: inline-block}\n",
              ".list-inline>li:not(:last-child)::after {content: \"\\00b7\"; padding: 0 .5ex}\n",
              "</style>\n",
              "<ol class=list-inline><li>'Vial.number'</li><li>'Group'</li><li>'Age'</li><li>'Plasma.volume'</li><li>'Ht'</li><li>'Wt'</li><li>'BMI'</li><li>'Sys'</li><li>'Dia'</li><li>'PR'</li><li>'Sm'</li><li>'Dm'</li><li>'HT'</li><li>'LVH'</li><li>'IHD'</li><li>'MI'</li><li>'Str'</li><li>'A_C'</li><li>'A_H'</li><li>'A_D'</li><li>'Choi...21'</li><li>'Tgi...22'</li><li>'HDLi...23'</li><li>'LDLi...24'</li><li>'Choi...25'</li><li>'Tgi...26'</li><li>'HDLi...27'</li><li>'LDLi...28'</li><li>'AI'</li><li>'r.lat.min'</li><li>'r.ant.min'</li><li>'r.pos.min'</li><li>'l.lat.min'</li><li>'l.ant.min'</li><li>'l.pos.min'</li><li>'r.lat.max'</li><li>'r.ant.max'</li><li>'r.pos.max'</li><li>'l.lat.max'</li><li>'l.ant.max'</li><li>'l.pos.max'</li><li>'carotid.IMT.mean'</li><li>'Plaque'</li><li>'Statins'</li><li>'GPHDL1'</li><li>'GPHDL2'</li><li>'GPHDL3'</li><li>'GPHDL4'</li><li>'GPHDL5'</li><li>'GPHDL6'</li><li>'GPHDL7'</li><li>'GPHDL8'</li><li>'GPHDL9'</li><li>'GPHDL10'</li><li>'GPHDL11'</li><li>'GPHDL12'</li><li>'GPHDL13'</li><li>'GPHDL14'</li><li>'GPHDL15'</li><li>'GPHDL16'</li><li>'GPHDL17'</li><li>'GPHDL18'</li><li>'GPHDL19'</li><li>'GPHDL20'</li><li>'GPHDL21'</li><li>'GPHDL22'</li><li>'sum_auc.HDLi'</li><li>'LB.HDLi'</li><li>'HB.HDLi'</li><li>'G1.HDLi'</li><li>'G2.HDLi'</li><li>'G3.HDLi'</li><li>'S0.HDLi'</li><li>'S1.HDLi'</li><li>'S2.HDLi'</li><li>'S3.HDLi'</li><li>'B.HDLi'</li><li>'F.HDLi'</li><li>'HM.HDLi'</li><li>'GPLDL1'</li><li>'GPLDL2'</li><li>'GPLDL3'</li><li>'GPLDL4'</li><li>'GPLDL5'</li><li>'GPLDL6'</li><li>'GPLDL7'</li><li>'GPLDL8'</li><li>'GPLDL9'</li><li>'GPLDL10'</li><li>'GPLDL11'</li><li>'GPLDL12'</li><li>'GPLDL13'</li><li>'GPLDL14'</li><li>'GPLDL15'</li><li>'GPLDL16'</li><li>'GPLDL17'</li><li>'GPLDL18'</li><li>'GPLDL19'</li><li>'GPLDL20'</li><li>'GPLDL21'</li><li>'GPLDL22'</li><li>'sum_auc.LDLi'</li><li>'LB.LDLi'</li><li>'HB.LDLi'</li><li>'G1.LDLi'</li><li>'G2.LDLi'</li><li>'G3.LDLi'</li><li>'S0.LDLi'</li><li>'S1.LDLi'</li><li>'S2.LDLi'</li><li>'S3.LDLi'</li><li>'B.LDLi'</li><li>'F.LDLi'</li><li>'HM.LDLi'</li></ol>\n"
            ],
            "text/markdown": "1. 'Vial.number'\n2. 'Group'\n3. 'Age'\n4. 'Plasma.volume'\n5. 'Ht'\n6. 'Wt'\n7. 'BMI'\n8. 'Sys'\n9. 'Dia'\n10. 'PR'\n11. 'Sm'\n12. 'Dm'\n13. 'HT'\n14. 'LVH'\n15. 'IHD'\n16. 'MI'\n17. 'Str'\n18. 'A_C'\n19. 'A_H'\n20. 'A_D'\n21. 'Choi...21'\n22. 'Tgi...22'\n23. 'HDLi...23'\n24. 'LDLi...24'\n25. 'Choi...25'\n26. 'Tgi...26'\n27. 'HDLi...27'\n28. 'LDLi...28'\n29. 'AI'\n30. 'r.lat.min'\n31. 'r.ant.min'\n32. 'r.pos.min'\n33. 'l.lat.min'\n34. 'l.ant.min'\n35. 'l.pos.min'\n36. 'r.lat.max'\n37. 'r.ant.max'\n38. 'r.pos.max'\n39. 'l.lat.max'\n40. 'l.ant.max'\n41. 'l.pos.max'\n42. 'carotid.IMT.mean'\n43. 'Plaque'\n44. 'Statins'\n45. 'GPHDL1'\n46. 'GPHDL2'\n47. 'GPHDL3'\n48. 'GPHDL4'\n49. 'GPHDL5'\n50. 'GPHDL6'\n51. 'GPHDL7'\n52. 'GPHDL8'\n53. 'GPHDL9'\n54. 'GPHDL10'\n55. 'GPHDL11'\n56. 'GPHDL12'\n57. 'GPHDL13'\n58. 'GPHDL14'\n59. 'GPHDL15'\n60. 'GPHDL16'\n61. 'GPHDL17'\n62. 'GPHDL18'\n63. 'GPHDL19'\n64. 'GPHDL20'\n65. 'GPHDL21'\n66. 'GPHDL22'\n67. 'sum_auc.HDLi'\n68. 'LB.HDLi'\n69. 'HB.HDLi'\n70. 'G1.HDLi'\n71. 'G2.HDLi'\n72. 'G3.HDLi'\n73. 'S0.HDLi'\n74. 'S1.HDLi'\n75. 'S2.HDLi'\n76. 'S3.HDLi'\n77. 'B.HDLi'\n78. 'F.HDLi'\n79. 'HM.HDLi'\n80. 'GPLDL1'\n81. 'GPLDL2'\n82. 'GPLDL3'\n83. 'GPLDL4'\n84. 'GPLDL5'\n85. 'GPLDL6'\n86. 'GPLDL7'\n87. 'GPLDL8'\n88. 'GPLDL9'\n89. 'GPLDL10'\n90. 'GPLDL11'\n91. 'GPLDL12'\n92. 'GPLDL13'\n93. 'GPLDL14'\n94. 'GPLDL15'\n95. 'GPLDL16'\n96. 'GPLDL17'\n97. 'GPLDL18'\n98. 'GPLDL19'\n99. 'GPLDL20'\n100. 'GPLDL21'\n101. 'GPLDL22'\n102. 'sum_auc.LDLi'\n103. 'LB.LDLi'\n104. 'HB.LDLi'\n105. 'G1.LDLi'\n106. 'G2.LDLi'\n107. 'G3.LDLi'\n108. 'S0.LDLi'\n109. 'S1.LDLi'\n110. 'S2.LDLi'\n111. 'S3.LDLi'\n112. 'B.LDLi'\n113. 'F.LDLi'\n114. 'HM.LDLi'\n\n\n",
            "text/latex": "\\begin{enumerate*}\n\\item 'Vial.number'\n\\item 'Group'\n\\item 'Age'\n\\item 'Plasma.volume'\n\\item 'Ht'\n\\item 'Wt'\n\\item 'BMI'\n\\item 'Sys'\n\\item 'Dia'\n\\item 'PR'\n\\item 'Sm'\n\\item 'Dm'\n\\item 'HT'\n\\item 'LVH'\n\\item 'IHD'\n\\item 'MI'\n\\item 'Str'\n\\item 'A\\_C'\n\\item 'A\\_H'\n\\item 'A\\_D'\n\\item 'Choi...21'\n\\item 'Tgi...22'\n\\item 'HDLi...23'\n\\item 'LDLi...24'\n\\item 'Choi...25'\n\\item 'Tgi...26'\n\\item 'HDLi...27'\n\\item 'LDLi...28'\n\\item 'AI'\n\\item 'r.lat.min'\n\\item 'r.ant.min'\n\\item 'r.pos.min'\n\\item 'l.lat.min'\n\\item 'l.ant.min'\n\\item 'l.pos.min'\n\\item 'r.lat.max'\n\\item 'r.ant.max'\n\\item 'r.pos.max'\n\\item 'l.lat.max'\n\\item 'l.ant.max'\n\\item 'l.pos.max'\n\\item 'carotid.IMT.mean'\n\\item 'Plaque'\n\\item 'Statins'\n\\item 'GPHDL1'\n\\item 'GPHDL2'\n\\item 'GPHDL3'\n\\item 'GPHDL4'\n\\item 'GPHDL5'\n\\item 'GPHDL6'\n\\item 'GPHDL7'\n\\item 'GPHDL8'\n\\item 'GPHDL9'\n\\item 'GPHDL10'\n\\item 'GPHDL11'\n\\item 'GPHDL12'\n\\item 'GPHDL13'\n\\item 'GPHDL14'\n\\item 'GPHDL15'\n\\item 'GPHDL16'\n\\item 'GPHDL17'\n\\item 'GPHDL18'\n\\item 'GPHDL19'\n\\item 'GPHDL20'\n\\item 'GPHDL21'\n\\item 'GPHDL22'\n\\item 'sum\\_auc.HDLi'\n\\item 'LB.HDLi'\n\\item 'HB.HDLi'\n\\item 'G1.HDLi'\n\\item 'G2.HDLi'\n\\item 'G3.HDLi'\n\\item 'S0.HDLi'\n\\item 'S1.HDLi'\n\\item 'S2.HDLi'\n\\item 'S3.HDLi'\n\\item 'B.HDLi'\n\\item 'F.HDLi'\n\\item 'HM.HDLi'\n\\item 'GPLDL1'\n\\item 'GPLDL2'\n\\item 'GPLDL3'\n\\item 'GPLDL4'\n\\item 'GPLDL5'\n\\item 'GPLDL6'\n\\item 'GPLDL7'\n\\item 'GPLDL8'\n\\item 'GPLDL9'\n\\item 'GPLDL10'\n\\item 'GPLDL11'\n\\item 'GPLDL12'\n\\item 'GPLDL13'\n\\item 'GPLDL14'\n\\item 'GPLDL15'\n\\item 'GPLDL16'\n\\item 'GPLDL17'\n\\item 'GPLDL18'\n\\item 'GPLDL19'\n\\item 'GPLDL20'\n\\item 'GPLDL21'\n\\item 'GPLDL22'\n\\item 'sum\\_auc.LDLi'\n\\item 'LB.LDLi'\n\\item 'HB.LDLi'\n\\item 'G1.LDLi'\n\\item 'G2.LDLi'\n\\item 'G3.LDLi'\n\\item 'S0.LDLi'\n\\item 'S1.LDLi'\n\\item 'S2.LDLi'\n\\item 'S3.LDLi'\n\\item 'B.LDLi'\n\\item 'F.LDLi'\n\\item 'HM.LDLi'\n\\end{enumerate*}\n",
            "text/plain": [
              "  [1] \"Vial.number\"      \"Group\"            \"Age\"             \n",
              "  [4] \"Plasma.volume\"    \"Ht\"               \"Wt\"              \n",
              "  [7] \"BMI\"              \"Sys\"              \"Dia\"             \n",
              " [10] \"PR\"               \"Sm\"               \"Dm\"              \n",
              " [13] \"HT\"               \"LVH\"              \"IHD\"             \n",
              " [16] \"MI\"               \"Str\"              \"A_C\"             \n",
              " [19] \"A_H\"              \"A_D\"              \"Choi...21\"       \n",
              " [22] \"Tgi...22\"         \"HDLi...23\"        \"LDLi...24\"       \n",
              " [25] \"Choi...25\"        \"Tgi...26\"         \"HDLi...27\"       \n",
              " [28] \"LDLi...28\"        \"AI\"               \"r.lat.min\"       \n",
              " [31] \"r.ant.min\"        \"r.pos.min\"        \"l.lat.min\"       \n",
              " [34] \"l.ant.min\"        \"l.pos.min\"        \"r.lat.max\"       \n",
              " [37] \"r.ant.max\"        \"r.pos.max\"        \"l.lat.max\"       \n",
              " [40] \"l.ant.max\"        \"l.pos.max\"        \"carotid.IMT.mean\"\n",
              " [43] \"Plaque\"           \"Statins\"          \"GPHDL1\"          \n",
              " [46] \"GPHDL2\"           \"GPHDL3\"           \"GPHDL4\"          \n",
              " [49] \"GPHDL5\"           \"GPHDL6\"           \"GPHDL7\"          \n",
              " [52] \"GPHDL8\"           \"GPHDL9\"           \"GPHDL10\"         \n",
              " [55] \"GPHDL11\"          \"GPHDL12\"          \"GPHDL13\"         \n",
              " [58] \"GPHDL14\"          \"GPHDL15\"          \"GPHDL16\"         \n",
              " [61] \"GPHDL17\"          \"GPHDL18\"          \"GPHDL19\"         \n",
              " [64] \"GPHDL20\"          \"GPHDL21\"          \"GPHDL22\"         \n",
              " [67] \"sum_auc.HDLi\"     \"LB.HDLi\"          \"HB.HDLi\"         \n",
              " [70] \"G1.HDLi\"          \"G2.HDLi\"          \"G3.HDLi\"         \n",
              " [73] \"S0.HDLi\"          \"S1.HDLi\"          \"S2.HDLi\"         \n",
              " [76] \"S3.HDLi\"          \"B.HDLi\"           \"F.HDLi\"          \n",
              " [79] \"HM.HDLi\"          \"GPLDL1\"           \"GPLDL2\"          \n",
              " [82] \"GPLDL3\"           \"GPLDL4\"           \"GPLDL5\"          \n",
              " [85] \"GPLDL6\"           \"GPLDL7\"           \"GPLDL8\"          \n",
              " [88] \"GPLDL9\"           \"GPLDL10\"          \"GPLDL11\"         \n",
              " [91] \"GPLDL12\"          \"GPLDL13\"          \"GPLDL14\"         \n",
              " [94] \"GPLDL15\"          \"GPLDL16\"          \"GPLDL17\"         \n",
              " [97] \"GPLDL18\"          \"GPLDL19\"          \"GPLDL20\"         \n",
              "[100] \"GPLDL21\"          \"GPLDL22\"          \"sum_auc.LDLi\"    \n",
              "[103] \"LB.LDLi\"          \"HB.LDLi\"          \"G1.LDLi\"         \n",
              "[106] \"G2.LDLi\"          \"G3.LDLi\"          \"S0.LDLi\"         \n",
              "[109] \"S1.LDLi\"          \"S2.LDLi\"          \"S3.LDLi\"         \n",
              "[112] \"B.LDLi\"           \"F.LDLi\"           \"HM.LDLi\"         "
            ]
          },
          "metadata": {}
        }
      ]
    },
    {
      "cell_type": "code",
      "source": [
        "# Создадим список колонок, которые мы переведем в Factor\n",
        "factor_cols <- c(\"Vial.number\", \"Group\", \"Sm\", \"Dm\", \"HT\", \"LVH\", \"IHD\", \"MI\", \"Str\", \"A_C\", \"A_H\", \"A_D\", \"Plaque\", \"Statins\")"
      ],
      "metadata": {
        "id": "d1UDIMTS0BGu"
      },
      "execution_count": 5,
      "outputs": []
    },
    {
      "cell_type": "code",
      "source": [
        "# Напишем функцию, которая переведет колонки в Factor и Numeric\n",
        "\n",
        "convert_columns <- function(data, columns) {\n",
        "  data <- mutate(data, across(all_of(columns), as.factor),\n",
        "                        across(!all_of(columns), as.numeric))\n",
        "  return(data)\n",
        "}"
      ],
      "metadata": {
        "id": "wqAeODLh0IAx"
      },
      "execution_count": 6,
      "outputs": []
    },
    {
      "cell_type": "code",
      "source": [
        "# Применим функцию к нашей объединённой таблице\n",
        "data <- convert_columns(data, factor_cols)\n",
        "data"
      ],
      "metadata": {
        "colab": {
          "base_uri": "https://localhost:8080/",
          "height": 1000
        },
        "id": "EWFRFqVX0JdH",
        "outputId": "16d8df6a-f45d-4880-a256-2c20409f30ef"
      },
      "execution_count": 7,
      "outputs": [
        {
          "output_type": "display_data",
          "data": {
            "text/html": [
              "<table class=\"dataframe\">\n",
              "<caption>A tibble: 38 × 114</caption>\n",
              "<thead>\n",
              "\t<tr><th scope=col>Vial.number</th><th scope=col>Group</th><th scope=col>Age</th><th scope=col>Plasma.volume</th><th scope=col>Ht</th><th scope=col>Wt</th><th scope=col>BMI</th><th scope=col>Sys</th><th scope=col>Dia</th><th scope=col>PR</th><th scope=col>⋯</th><th scope=col>G1.LDLi</th><th scope=col>G2.LDLi</th><th scope=col>G3.LDLi</th><th scope=col>S0.LDLi</th><th scope=col>S1.LDLi</th><th scope=col>S2.LDLi</th><th scope=col>S3.LDLi</th><th scope=col>B.LDLi</th><th scope=col>F.LDLi</th><th scope=col>HM.LDLi</th></tr>\n",
              "\t<tr><th scope=col>&lt;fct&gt;</th><th scope=col>&lt;fct&gt;</th><th scope=col>&lt;dbl&gt;</th><th scope=col>&lt;dbl&gt;</th><th scope=col>&lt;dbl&gt;</th><th scope=col>&lt;dbl&gt;</th><th scope=col>&lt;dbl&gt;</th><th scope=col>&lt;dbl&gt;</th><th scope=col>&lt;dbl&gt;</th><th scope=col>&lt;dbl&gt;</th><th scope=col>⋯</th><th scope=col>&lt;dbl&gt;</th><th scope=col>&lt;dbl&gt;</th><th scope=col>&lt;dbl&gt;</th><th scope=col>&lt;dbl&gt;</th><th scope=col>&lt;dbl&gt;</th><th scope=col>&lt;dbl&gt;</th><th scope=col>&lt;dbl&gt;</th><th scope=col>&lt;dbl&gt;</th><th scope=col>&lt;dbl&gt;</th><th scope=col>&lt;dbl&gt;</th></tr>\n",
              "</thead>\n",
              "<tbody>\n",
              "\t<tr><td>1 </td><td>0</td><td>63</td><td> 6.5</td><td>163</td><td> 84.0</td><td>31.61579</td><td>125</td><td> 76</td><td>67</td><td>⋯</td><td>4.090</td><td>68.910</td><td>3.570</td><td>3.980</td><td>28.180</td><td>42.460</td><td>1.950</td><td>0.020</td><td>1.67</td><td>13.02</td></tr>\n",
              "\t<tr><td>2 </td><td>0</td><td>47</td><td> 5.5</td><td>179</td><td>111.0</td><td>34.64311</td><td>125</td><td> 82</td><td>65</td><td>⋯</td><td>   NA</td><td>    NA</td><td>   NA</td><td>   NA</td><td>    NA</td><td>    NA</td><td>   NA</td><td>   NA</td><td>  NA</td><td>   NA</td></tr>\n",
              "\t<tr><td>3 </td><td>1</td><td>57</td><td> 7.0</td><td>164</td><td> 80.0</td><td>29.74420</td><td>132</td><td> 80</td><td>92</td><td>⋯</td><td>5.160</td><td>68.220</td><td>3.110</td><td>4.640</td><td>30.430</td><td>39.860</td><td>1.560</td><td>0.020</td><td>1.69</td><td>14.16</td></tr>\n",
              "\t<tr><td>4 </td><td>1</td><td>72</td><td> 5.0</td><td>160</td><td> 58.8</td><td>22.96875</td><td>130</td><td> 90</td><td>68</td><td>⋯</td><td>3.950</td><td>68.030</td><td>4.500</td><td>3.780</td><td>29.370</td><td>41.130</td><td>2.200</td><td>0.020</td><td>1.89</td><td>13.89</td></tr>\n",
              "\t<tr><td>5 </td><td>1</td><td>57</td><td> 5.0</td><td>180</td><td> 71.0</td><td>21.91358</td><td>135</td><td> 75</td><td>70</td><td>⋯</td><td>4.630</td><td>66.910</td><td>4.030</td><td>4.440</td><td>28.540</td><td>40.640</td><td>1.950</td><td>0.020</td><td>2.03</td><td>14.25</td></tr>\n",
              "\t<tr><td>6 </td><td>1</td><td>79</td><td> 6.2</td><td>160</td><td> 64.0</td><td>25.00000</td><td>110</td><td> 75</td><td>66</td><td>⋯</td><td>4.050</td><td>64.010</td><td>5.270</td><td>3.720</td><td>26.710</td><td>40.390</td><td>2.510</td><td>0.020</td><td>2.70</td><td>16.06</td></tr>\n",
              "\t<tr><td>7 </td><td>1</td><td>61</td><td> 6.5</td><td>164</td><td> 67.0</td><td>24.91077</td><td>124</td><td> 82</td><td>84</td><td>⋯</td><td>4.100</td><td>65.990</td><td>4.700</td><td>4.030</td><td>28.440</td><td>39.990</td><td>2.330</td><td>0.020</td><td>1.61</td><td>13.82</td></tr>\n",
              "\t<tr><td>8 </td><td>1</td><td>70</td><td> 5.5</td><td>162</td><td> 61.0</td><td>23.24341</td><td>135</td><td> 78</td><td>72</td><td>⋯</td><td>5.270</td><td>67.260</td><td>3.240</td><td>4.690</td><td>32.270</td><td>37.290</td><td>1.520</td><td>0.030</td><td>1.61</td><td>14.59</td></tr>\n",
              "\t<tr><td>9 </td><td>0</td><td>50</td><td> 6.0</td><td>150</td><td> 79.0</td><td>35.11111</td><td>142</td><td> 95</td><td>88</td><td>⋯</td><td>3.970</td><td>67.590</td><td>4.220</td><td>4.420</td><td>27.990</td><td>41.190</td><td>2.180</td><td>0.050</td><td>1.55</td><td>13.26</td></tr>\n",
              "\t<tr><td>10</td><td>1</td><td>53</td><td> 5.5</td><td>172</td><td> 88.2</td><td>29.81341</td><td>120</td><td> 80</td><td>60</td><td>⋯</td><td>4.480</td><td>68.880</td><td>4.040</td><td>3.860</td><td>28.110</td><td>43.200</td><td>2.230</td><td>0.020</td><td>2.30</td><td>13.11</td></tr>\n",
              "\t<tr><td>11</td><td>1</td><td>83</td><td> 6.0</td><td>168</td><td> 59.0</td><td>20.90420</td><td>134</td><td> 60</td><td>89</td><td>⋯</td><td>4.620</td><td>66.510</td><td>4.250</td><td>4.780</td><td>28.500</td><td>40.140</td><td>1.960</td><td>0.030</td><td>1.72</td><td>14.21</td></tr>\n",
              "\t<tr><td>12</td><td>1</td><td>59</td><td> 5.5</td><td>157</td><td> 70.0</td><td>28.39872</td><td>120</td><td> 85</td><td>90</td><td>⋯</td><td>3.470</td><td>66.740</td><td>5.030</td><td>3.450</td><td>26.590</td><td>42.620</td><td>2.580</td><td>0.020</td><td>2.02</td><td>13.52</td></tr>\n",
              "\t<tr><td>13</td><td>1</td><td>79</td><td> 7.0</td><td>161</td><td> 73.0</td><td>28.16249</td><td>120</td><td> 81</td><td>73</td><td>⋯</td><td>4.780</td><td>67.400</td><td>3.720</td><td>4.760</td><td>29.470</td><td>39.760</td><td>1.910</td><td>0.060</td><td>1.93</td><td>14.28</td></tr>\n",
              "\t<tr><td>14</td><td>1</td><td>61</td><td> 7.0</td><td>172</td><td> 82.0</td><td>27.71769</td><td>137</td><td> 94</td><td>85</td><td>⋯</td><td>4.550</td><td>67.880</td><td>4.640</td><td>4.060</td><td>28.160</td><td>42.470</td><td>2.380</td><td>0.030</td><td>1.93</td><td>13.42</td></tr>\n",
              "\t<tr><td>15</td><td>1</td><td>79</td><td> 8.0</td><td>167</td><td> 63.0</td><td>22.58955</td><td>188</td><td> 84</td><td>74</td><td>⋯</td><td>4.700</td><td>67.590</td><td>3.430</td><td>5.280</td><td>33.520</td><td>35.450</td><td>1.470</td><td>0.020</td><td>1.24</td><td>14.35</td></tr>\n",
              "\t<tr><td>16</td><td>1</td><td>75</td><td>10.0</td><td>165</td><td> 57.0</td><td>20.93664</td><td>120</td><td> 72</td><td>66</td><td>⋯</td><td>5.200</td><td>66.370</td><td>4.220</td><td>4.470</td><td>29.360</td><td>39.770</td><td>2.190</td><td>0.030</td><td>2.99</td><td>14.47</td></tr>\n",
              "\t<tr><td>17</td><td>1</td><td>58</td><td>10.0</td><td>162</td><td>102.0</td><td>38.86603</td><td>132</td><td> 81</td><td>68</td><td>⋯</td><td>4.010</td><td>67.880</td><td>4.340</td><td>4.340</td><td>29.100</td><td>40.840</td><td>1.950</td><td>0.030</td><td>1.99</td><td>13.02</td></tr>\n",
              "\t<tr><td>18</td><td>1</td><td>65</td><td>11.0</td><td>171</td><td>102.6</td><td>35.08772</td><td>136</td><td> 92</td><td>80</td><td>⋯</td><td>3.935</td><td>66.575</td><td>4.445</td><td>4.435</td><td>28.225</td><td>39.670</td><td>2.625</td><td>0.035</td><td>2.11</td><td>14.64</td></tr>\n",
              "\t<tr><td>19</td><td>0</td><td>64</td><td>10.5</td><td>167</td><td> 62.0</td><td>22.23099</td><td>112</td><td> 75</td><td>66</td><td>⋯</td><td>3.860</td><td>68.260</td><td>4.280</td><td>3.680</td><td>28.570</td><td>42.040</td><td>2.110</td><td>0.020</td><td>2.34</td><td>13.59</td></tr>\n",
              "\t<tr><td>20</td><td>0</td><td>66</td><td>10.0</td><td>165</td><td> 73.0</td><td>26.81359</td><td>135</td><td> 57</td><td>72</td><td>⋯</td><td>4.710</td><td>65.305</td><td>4.735</td><td>4.335</td><td>29.245</td><td>38.985</td><td>2.185</td><td>0.030</td><td>2.19</td><td>15.15</td></tr>\n",
              "\t<tr><td>21</td><td>1</td><td>70</td><td>11.0</td><td>170</td><td>101.2</td><td>35.01730</td><td>135</td><td> 85</td><td>74</td><td>⋯</td><td>4.040</td><td>67.120</td><td>4.740</td><td>4.560</td><td>28.570</td><td>40.240</td><td>2.530</td><td>0.040</td><td>2.38</td><td>13.10</td></tr>\n",
              "\t<tr><td>22</td><td>0</td><td>65</td><td>10.0</td><td>158</td><td> 69.0</td><td>27.63980</td><td>129</td><td> 77</td><td>66</td><td>⋯</td><td>4.930</td><td>66.620</td><td>4.270</td><td>4.590</td><td>29.240</td><td>39.910</td><td>2.080</td><td>0.030</td><td>1.69</td><td>14.11</td></tr>\n",
              "\t<tr><td>23</td><td>1</td><td>62</td><td>11.5</td><td>169</td><td> 66.0</td><td>23.10843</td><td>150</td><td>105</td><td>78</td><td>⋯</td><td>   NA</td><td>    NA</td><td>   NA</td><td>   NA</td><td>    NA</td><td>    NA</td><td>   NA</td><td>   NA</td><td>  NA</td><td>   NA</td></tr>\n",
              "\t<tr><td>24</td><td>0</td><td>76</td><td>13.0</td><td>165</td><td> 56.5</td><td>20.75298</td><td>130</td><td> 70</td><td>70</td><td>⋯</td><td>4.390</td><td>67.560</td><td>3.590</td><td>4.550</td><td>28.810</td><td>40.410</td><td>1.770</td><td>0.040</td><td>1.38</td><td>14.83</td></tr>\n",
              "\t<tr><td>25</td><td>1</td><td>68</td><td>13.0</td><td>170</td><td> 88.0</td><td>30.44983</td><td>150</td><td> 90</td><td>70</td><td>⋯</td><td>   NA</td><td>    NA</td><td>   NA</td><td>   NA</td><td>    NA</td><td>    NA</td><td>   NA</td><td>   NA</td><td>  NA</td><td>   NA</td></tr>\n",
              "\t<tr><td>26</td><td>0</td><td>55</td><td>11.5</td><td>162</td><td> 57.0</td><td>21.71925</td><td>103</td><td> 66</td><td>74</td><td>⋯</td><td>5.280</td><td>67.780</td><td>4.210</td><td>4.710</td><td>29.210</td><td>41.010</td><td>2.340</td><td>0.020</td><td>2.03</td><td>13.33</td></tr>\n",
              "\t<tr><td>27</td><td>0</td><td>79</td><td>12.0</td><td>172</td><td> 60.0</td><td>20.28123</td><td>100</td><td> 60</td><td>65</td><td>⋯</td><td>   NA</td><td>    NA</td><td>   NA</td><td>   NA</td><td>    NA</td><td>    NA</td><td>   NA</td><td>   NA</td><td>  NA</td><td>   NA</td></tr>\n",
              "\t<tr><td>28</td><td>0</td><td>69</td><td>13.0</td><td>160</td><td> 60.0</td><td>23.43750</td><td>133</td><td> 76</td><td>79</td><td>⋯</td><td>4.620</td><td>67.430</td><td>4.360</td><td>4.160</td><td>29.580</td><td>40.480</td><td>2.190</td><td>0.020</td><td>2.27</td><td>13.54</td></tr>\n",
              "\t<tr><td>29</td><td>1</td><td>75</td><td>11.0</td><td>162</td><td> 75.0</td><td>28.57796</td><td>118</td><td> 75</td><td>75</td><td>⋯</td><td>   NA</td><td>    NA</td><td>   NA</td><td>   NA</td><td>    NA</td><td>    NA</td><td>   NA</td><td>   NA</td><td>  NA</td><td>   NA</td></tr>\n",
              "\t<tr><td>30</td><td>1</td><td>68</td><td>13.0</td><td>165</td><td> 77.8</td><td>28.57668</td><td>134</td><td> 76</td><td>81</td><td>⋯</td><td>4.290</td><td>66.840</td><td>4.380</td><td>3.910</td><td>28.190</td><td>41.210</td><td>2.200</td><td>0.020</td><td>2.36</td><td>14.45</td></tr>\n",
              "\t<tr><td>31</td><td>0</td><td>64</td><td>11.5</td><td>176</td><td> 68.8</td><td>22.21074</td><td>128</td><td> 78</td><td>73</td><td>⋯</td><td>5.220</td><td>66.870</td><td>3.580</td><td>4.280</td><td>29.690</td><td>40.060</td><td>1.640</td><td>0.020</td><td>1.55</td><td>14.70</td></tr>\n",
              "\t<tr><td>32</td><td>0</td><td>62</td><td>13.0</td><td>161</td><td> 90.0</td><td>34.72088</td><td>140</td><td>100</td><td>74</td><td>⋯</td><td>   NA</td><td>    NA</td><td>   NA</td><td>   NA</td><td>    NA</td><td>    NA</td><td>   NA</td><td>   NA</td><td>  NA</td><td>   NA</td></tr>\n",
              "\t<tr><td>33</td><td>1</td><td>67</td><td>13.0</td><td>165</td><td> 78.0</td><td>28.65014</td><td>165</td><td> 82</td><td>76</td><td>⋯</td><td>3.890</td><td>67.440</td><td>4.290</td><td>4.210</td><td>28.160</td><td>41.210</td><td>2.040</td><td>0.030</td><td>2.26</td><td>15.06</td></tr>\n",
              "\t<tr><td>34</td><td>1</td><td>64</td><td>12.0</td><td>161</td><td> 89.0</td><td>34.33510</td><td>140</td><td> 86</td><td>54</td><td>⋯</td><td>3.270</td><td>65.600</td><td>5.290</td><td>3.380</td><td>24.700</td><td>43.560</td><td>2.520</td><td>0.060</td><td>2.73</td><td>13.89</td></tr>\n",
              "\t<tr><td>35</td><td>0</td><td>54</td><td>11.5</td><td>167</td><td> 67.0</td><td>24.02381</td><td>146</td><td> 96</td><td>68</td><td>⋯</td><td>   NA</td><td>    NA</td><td>   NA</td><td>   NA</td><td>    NA</td><td>    NA</td><td>   NA</td><td>   NA</td><td>  NA</td><td>   NA</td></tr>\n",
              "\t<tr><td>36</td><td>1</td><td>67</td><td>12.0</td><td>159</td><td> 72.0</td><td>28.47989</td><td>126</td><td> 68</td><td>84</td><td>⋯</td><td>4.000</td><td>67.710</td><td>5.350</td><td>4.200</td><td>29.860</td><td>40.350</td><td>2.650</td><td>0.020</td><td>1.55</td><td>13.37</td></tr>\n",
              "\t<tr><td>37</td><td>1</td><td>69</td><td>11.5</td><td>154</td><td> 87.6</td><td>36.93709</td><td>147</td><td> 89</td><td>68</td><td>⋯</td><td>   NA</td><td>    NA</td><td>   NA</td><td>   NA</td><td>    NA</td><td>    NA</td><td>   NA</td><td>   NA</td><td>  NA</td><td>   NA</td></tr>\n",
              "\t<tr><td>38</td><td>0</td><td>60</td><td>12.0</td><td>165</td><td> 74.0</td><td>27.18090</td><td>120</td><td> 70</td><td>75</td><td>⋯</td><td>   NA</td><td>    NA</td><td>   NA</td><td>   NA</td><td>    NA</td><td>    NA</td><td>   NA</td><td>   NA</td><td>  NA</td><td>   NA</td></tr>\n",
              "</tbody>\n",
              "</table>\n"
            ],
            "text/markdown": "\nA tibble: 38 × 114\n\n| Vial.number &lt;fct&gt; | Group &lt;fct&gt; | Age &lt;dbl&gt; | Plasma.volume &lt;dbl&gt; | Ht &lt;dbl&gt; | Wt &lt;dbl&gt; | BMI &lt;dbl&gt; | Sys &lt;dbl&gt; | Dia &lt;dbl&gt; | PR &lt;dbl&gt; | ⋯ ⋯ | G1.LDLi &lt;dbl&gt; | G2.LDLi &lt;dbl&gt; | G3.LDLi &lt;dbl&gt; | S0.LDLi &lt;dbl&gt; | S1.LDLi &lt;dbl&gt; | S2.LDLi &lt;dbl&gt; | S3.LDLi &lt;dbl&gt; | B.LDLi &lt;dbl&gt; | F.LDLi &lt;dbl&gt; | HM.LDLi &lt;dbl&gt; |\n|---|---|---|---|---|---|---|---|---|---|---|---|---|---|---|---|---|---|---|---|---|\n| 1  | 0 | 63 |  6.5 | 163 |  84.0 | 31.61579 | 125 |  76 | 67 | ⋯ | 4.090 | 68.910 | 3.570 | 3.980 | 28.180 | 42.460 | 1.950 | 0.020 | 1.67 | 13.02 |\n| 2  | 0 | 47 |  5.5 | 179 | 111.0 | 34.64311 | 125 |  82 | 65 | ⋯ |    NA |     NA |    NA |    NA |     NA |     NA |    NA |    NA |   NA |    NA |\n| 3  | 1 | 57 |  7.0 | 164 |  80.0 | 29.74420 | 132 |  80 | 92 | ⋯ | 5.160 | 68.220 | 3.110 | 4.640 | 30.430 | 39.860 | 1.560 | 0.020 | 1.69 | 14.16 |\n| 4  | 1 | 72 |  5.0 | 160 |  58.8 | 22.96875 | 130 |  90 | 68 | ⋯ | 3.950 | 68.030 | 4.500 | 3.780 | 29.370 | 41.130 | 2.200 | 0.020 | 1.89 | 13.89 |\n| 5  | 1 | 57 |  5.0 | 180 |  71.0 | 21.91358 | 135 |  75 | 70 | ⋯ | 4.630 | 66.910 | 4.030 | 4.440 | 28.540 | 40.640 | 1.950 | 0.020 | 2.03 | 14.25 |\n| 6  | 1 | 79 |  6.2 | 160 |  64.0 | 25.00000 | 110 |  75 | 66 | ⋯ | 4.050 | 64.010 | 5.270 | 3.720 | 26.710 | 40.390 | 2.510 | 0.020 | 2.70 | 16.06 |\n| 7  | 1 | 61 |  6.5 | 164 |  67.0 | 24.91077 | 124 |  82 | 84 | ⋯ | 4.100 | 65.990 | 4.700 | 4.030 | 28.440 | 39.990 | 2.330 | 0.020 | 1.61 | 13.82 |\n| 8  | 1 | 70 |  5.5 | 162 |  61.0 | 23.24341 | 135 |  78 | 72 | ⋯ | 5.270 | 67.260 | 3.240 | 4.690 | 32.270 | 37.290 | 1.520 | 0.030 | 1.61 | 14.59 |\n| 9  | 0 | 50 |  6.0 | 150 |  79.0 | 35.11111 | 142 |  95 | 88 | ⋯ | 3.970 | 67.590 | 4.220 | 4.420 | 27.990 | 41.190 | 2.180 | 0.050 | 1.55 | 13.26 |\n| 10 | 1 | 53 |  5.5 | 172 |  88.2 | 29.81341 | 120 |  80 | 60 | ⋯ | 4.480 | 68.880 | 4.040 | 3.860 | 28.110 | 43.200 | 2.230 | 0.020 | 2.30 | 13.11 |\n| 11 | 1 | 83 |  6.0 | 168 |  59.0 | 20.90420 | 134 |  60 | 89 | ⋯ | 4.620 | 66.510 | 4.250 | 4.780 | 28.500 | 40.140 | 1.960 | 0.030 | 1.72 | 14.21 |\n| 12 | 1 | 59 |  5.5 | 157 |  70.0 | 28.39872 | 120 |  85 | 90 | ⋯ | 3.470 | 66.740 | 5.030 | 3.450 | 26.590 | 42.620 | 2.580 | 0.020 | 2.02 | 13.52 |\n| 13 | 1 | 79 |  7.0 | 161 |  73.0 | 28.16249 | 120 |  81 | 73 | ⋯ | 4.780 | 67.400 | 3.720 | 4.760 | 29.470 | 39.760 | 1.910 | 0.060 | 1.93 | 14.28 |\n| 14 | 1 | 61 |  7.0 | 172 |  82.0 | 27.71769 | 137 |  94 | 85 | ⋯ | 4.550 | 67.880 | 4.640 | 4.060 | 28.160 | 42.470 | 2.380 | 0.030 | 1.93 | 13.42 |\n| 15 | 1 | 79 |  8.0 | 167 |  63.0 | 22.58955 | 188 |  84 | 74 | ⋯ | 4.700 | 67.590 | 3.430 | 5.280 | 33.520 | 35.450 | 1.470 | 0.020 | 1.24 | 14.35 |\n| 16 | 1 | 75 | 10.0 | 165 |  57.0 | 20.93664 | 120 |  72 | 66 | ⋯ | 5.200 | 66.370 | 4.220 | 4.470 | 29.360 | 39.770 | 2.190 | 0.030 | 2.99 | 14.47 |\n| 17 | 1 | 58 | 10.0 | 162 | 102.0 | 38.86603 | 132 |  81 | 68 | ⋯ | 4.010 | 67.880 | 4.340 | 4.340 | 29.100 | 40.840 | 1.950 | 0.030 | 1.99 | 13.02 |\n| 18 | 1 | 65 | 11.0 | 171 | 102.6 | 35.08772 | 136 |  92 | 80 | ⋯ | 3.935 | 66.575 | 4.445 | 4.435 | 28.225 | 39.670 | 2.625 | 0.035 | 2.11 | 14.64 |\n| 19 | 0 | 64 | 10.5 | 167 |  62.0 | 22.23099 | 112 |  75 | 66 | ⋯ | 3.860 | 68.260 | 4.280 | 3.680 | 28.570 | 42.040 | 2.110 | 0.020 | 2.34 | 13.59 |\n| 20 | 0 | 66 | 10.0 | 165 |  73.0 | 26.81359 | 135 |  57 | 72 | ⋯ | 4.710 | 65.305 | 4.735 | 4.335 | 29.245 | 38.985 | 2.185 | 0.030 | 2.19 | 15.15 |\n| 21 | 1 | 70 | 11.0 | 170 | 101.2 | 35.01730 | 135 |  85 | 74 | ⋯ | 4.040 | 67.120 | 4.740 | 4.560 | 28.570 | 40.240 | 2.530 | 0.040 | 2.38 | 13.10 |\n| 22 | 0 | 65 | 10.0 | 158 |  69.0 | 27.63980 | 129 |  77 | 66 | ⋯ | 4.930 | 66.620 | 4.270 | 4.590 | 29.240 | 39.910 | 2.080 | 0.030 | 1.69 | 14.11 |\n| 23 | 1 | 62 | 11.5 | 169 |  66.0 | 23.10843 | 150 | 105 | 78 | ⋯ |    NA |     NA |    NA |    NA |     NA |     NA |    NA |    NA |   NA |    NA |\n| 24 | 0 | 76 | 13.0 | 165 |  56.5 | 20.75298 | 130 |  70 | 70 | ⋯ | 4.390 | 67.560 | 3.590 | 4.550 | 28.810 | 40.410 | 1.770 | 0.040 | 1.38 | 14.83 |\n| 25 | 1 | 68 | 13.0 | 170 |  88.0 | 30.44983 | 150 |  90 | 70 | ⋯ |    NA |     NA |    NA |    NA |     NA |     NA |    NA |    NA |   NA |    NA |\n| 26 | 0 | 55 | 11.5 | 162 |  57.0 | 21.71925 | 103 |  66 | 74 | ⋯ | 5.280 | 67.780 | 4.210 | 4.710 | 29.210 | 41.010 | 2.340 | 0.020 | 2.03 | 13.33 |\n| 27 | 0 | 79 | 12.0 | 172 |  60.0 | 20.28123 | 100 |  60 | 65 | ⋯ |    NA |     NA |    NA |    NA |     NA |     NA |    NA |    NA |   NA |    NA |\n| 28 | 0 | 69 | 13.0 | 160 |  60.0 | 23.43750 | 133 |  76 | 79 | ⋯ | 4.620 | 67.430 | 4.360 | 4.160 | 29.580 | 40.480 | 2.190 | 0.020 | 2.27 | 13.54 |\n| 29 | 1 | 75 | 11.0 | 162 |  75.0 | 28.57796 | 118 |  75 | 75 | ⋯ |    NA |     NA |    NA |    NA |     NA |     NA |    NA |    NA |   NA |    NA |\n| 30 | 1 | 68 | 13.0 | 165 |  77.8 | 28.57668 | 134 |  76 | 81 | ⋯ | 4.290 | 66.840 | 4.380 | 3.910 | 28.190 | 41.210 | 2.200 | 0.020 | 2.36 | 14.45 |\n| 31 | 0 | 64 | 11.5 | 176 |  68.8 | 22.21074 | 128 |  78 | 73 | ⋯ | 5.220 | 66.870 | 3.580 | 4.280 | 29.690 | 40.060 | 1.640 | 0.020 | 1.55 | 14.70 |\n| 32 | 0 | 62 | 13.0 | 161 |  90.0 | 34.72088 | 140 | 100 | 74 | ⋯ |    NA |     NA |    NA |    NA |     NA |     NA |    NA |    NA |   NA |    NA |\n| 33 | 1 | 67 | 13.0 | 165 |  78.0 | 28.65014 | 165 |  82 | 76 | ⋯ | 3.890 | 67.440 | 4.290 | 4.210 | 28.160 | 41.210 | 2.040 | 0.030 | 2.26 | 15.06 |\n| 34 | 1 | 64 | 12.0 | 161 |  89.0 | 34.33510 | 140 |  86 | 54 | ⋯ | 3.270 | 65.600 | 5.290 | 3.380 | 24.700 | 43.560 | 2.520 | 0.060 | 2.73 | 13.89 |\n| 35 | 0 | 54 | 11.5 | 167 |  67.0 | 24.02381 | 146 |  96 | 68 | ⋯ |    NA |     NA |    NA |    NA |     NA |     NA |    NA |    NA |   NA |    NA |\n| 36 | 1 | 67 | 12.0 | 159 |  72.0 | 28.47989 | 126 |  68 | 84 | ⋯ | 4.000 | 67.710 | 5.350 | 4.200 | 29.860 | 40.350 | 2.650 | 0.020 | 1.55 | 13.37 |\n| 37 | 1 | 69 | 11.5 | 154 |  87.6 | 36.93709 | 147 |  89 | 68 | ⋯ |    NA |     NA |    NA |    NA |     NA |     NA |    NA |    NA |   NA |    NA |\n| 38 | 0 | 60 | 12.0 | 165 |  74.0 | 27.18090 | 120 |  70 | 75 | ⋯ |    NA |     NA |    NA |    NA |     NA |     NA |    NA |    NA |   NA |    NA |\n\n",
            "text/latex": "A tibble: 38 × 114\n\\begin{tabular}{lllllllllllllllllllll}\n Vial.number & Group & Age & Plasma.volume & Ht & Wt & BMI & Sys & Dia & PR & ⋯ & G1.LDLi & G2.LDLi & G3.LDLi & S0.LDLi & S1.LDLi & S2.LDLi & S3.LDLi & B.LDLi & F.LDLi & HM.LDLi\\\\\n <fct> & <fct> & <dbl> & <dbl> & <dbl> & <dbl> & <dbl> & <dbl> & <dbl> & <dbl> & ⋯ & <dbl> & <dbl> & <dbl> & <dbl> & <dbl> & <dbl> & <dbl> & <dbl> & <dbl> & <dbl>\\\\\n\\hline\n\t 1  & 0 & 63 &  6.5 & 163 &  84.0 & 31.61579 & 125 &  76 & 67 & ⋯ & 4.090 & 68.910 & 3.570 & 3.980 & 28.180 & 42.460 & 1.950 & 0.020 & 1.67 & 13.02\\\\\n\t 2  & 0 & 47 &  5.5 & 179 & 111.0 & 34.64311 & 125 &  82 & 65 & ⋯ &    NA &     NA &    NA &    NA &     NA &     NA &    NA &    NA &   NA &    NA\\\\\n\t 3  & 1 & 57 &  7.0 & 164 &  80.0 & 29.74420 & 132 &  80 & 92 & ⋯ & 5.160 & 68.220 & 3.110 & 4.640 & 30.430 & 39.860 & 1.560 & 0.020 & 1.69 & 14.16\\\\\n\t 4  & 1 & 72 &  5.0 & 160 &  58.8 & 22.96875 & 130 &  90 & 68 & ⋯ & 3.950 & 68.030 & 4.500 & 3.780 & 29.370 & 41.130 & 2.200 & 0.020 & 1.89 & 13.89\\\\\n\t 5  & 1 & 57 &  5.0 & 180 &  71.0 & 21.91358 & 135 &  75 & 70 & ⋯ & 4.630 & 66.910 & 4.030 & 4.440 & 28.540 & 40.640 & 1.950 & 0.020 & 2.03 & 14.25\\\\\n\t 6  & 1 & 79 &  6.2 & 160 &  64.0 & 25.00000 & 110 &  75 & 66 & ⋯ & 4.050 & 64.010 & 5.270 & 3.720 & 26.710 & 40.390 & 2.510 & 0.020 & 2.70 & 16.06\\\\\n\t 7  & 1 & 61 &  6.5 & 164 &  67.0 & 24.91077 & 124 &  82 & 84 & ⋯ & 4.100 & 65.990 & 4.700 & 4.030 & 28.440 & 39.990 & 2.330 & 0.020 & 1.61 & 13.82\\\\\n\t 8  & 1 & 70 &  5.5 & 162 &  61.0 & 23.24341 & 135 &  78 & 72 & ⋯ & 5.270 & 67.260 & 3.240 & 4.690 & 32.270 & 37.290 & 1.520 & 0.030 & 1.61 & 14.59\\\\\n\t 9  & 0 & 50 &  6.0 & 150 &  79.0 & 35.11111 & 142 &  95 & 88 & ⋯ & 3.970 & 67.590 & 4.220 & 4.420 & 27.990 & 41.190 & 2.180 & 0.050 & 1.55 & 13.26\\\\\n\t 10 & 1 & 53 &  5.5 & 172 &  88.2 & 29.81341 & 120 &  80 & 60 & ⋯ & 4.480 & 68.880 & 4.040 & 3.860 & 28.110 & 43.200 & 2.230 & 0.020 & 2.30 & 13.11\\\\\n\t 11 & 1 & 83 &  6.0 & 168 &  59.0 & 20.90420 & 134 &  60 & 89 & ⋯ & 4.620 & 66.510 & 4.250 & 4.780 & 28.500 & 40.140 & 1.960 & 0.030 & 1.72 & 14.21\\\\\n\t 12 & 1 & 59 &  5.5 & 157 &  70.0 & 28.39872 & 120 &  85 & 90 & ⋯ & 3.470 & 66.740 & 5.030 & 3.450 & 26.590 & 42.620 & 2.580 & 0.020 & 2.02 & 13.52\\\\\n\t 13 & 1 & 79 &  7.0 & 161 &  73.0 & 28.16249 & 120 &  81 & 73 & ⋯ & 4.780 & 67.400 & 3.720 & 4.760 & 29.470 & 39.760 & 1.910 & 0.060 & 1.93 & 14.28\\\\\n\t 14 & 1 & 61 &  7.0 & 172 &  82.0 & 27.71769 & 137 &  94 & 85 & ⋯ & 4.550 & 67.880 & 4.640 & 4.060 & 28.160 & 42.470 & 2.380 & 0.030 & 1.93 & 13.42\\\\\n\t 15 & 1 & 79 &  8.0 & 167 &  63.0 & 22.58955 & 188 &  84 & 74 & ⋯ & 4.700 & 67.590 & 3.430 & 5.280 & 33.520 & 35.450 & 1.470 & 0.020 & 1.24 & 14.35\\\\\n\t 16 & 1 & 75 & 10.0 & 165 &  57.0 & 20.93664 & 120 &  72 & 66 & ⋯ & 5.200 & 66.370 & 4.220 & 4.470 & 29.360 & 39.770 & 2.190 & 0.030 & 2.99 & 14.47\\\\\n\t 17 & 1 & 58 & 10.0 & 162 & 102.0 & 38.86603 & 132 &  81 & 68 & ⋯ & 4.010 & 67.880 & 4.340 & 4.340 & 29.100 & 40.840 & 1.950 & 0.030 & 1.99 & 13.02\\\\\n\t 18 & 1 & 65 & 11.0 & 171 & 102.6 & 35.08772 & 136 &  92 & 80 & ⋯ & 3.935 & 66.575 & 4.445 & 4.435 & 28.225 & 39.670 & 2.625 & 0.035 & 2.11 & 14.64\\\\\n\t 19 & 0 & 64 & 10.5 & 167 &  62.0 & 22.23099 & 112 &  75 & 66 & ⋯ & 3.860 & 68.260 & 4.280 & 3.680 & 28.570 & 42.040 & 2.110 & 0.020 & 2.34 & 13.59\\\\\n\t 20 & 0 & 66 & 10.0 & 165 &  73.0 & 26.81359 & 135 &  57 & 72 & ⋯ & 4.710 & 65.305 & 4.735 & 4.335 & 29.245 & 38.985 & 2.185 & 0.030 & 2.19 & 15.15\\\\\n\t 21 & 1 & 70 & 11.0 & 170 & 101.2 & 35.01730 & 135 &  85 & 74 & ⋯ & 4.040 & 67.120 & 4.740 & 4.560 & 28.570 & 40.240 & 2.530 & 0.040 & 2.38 & 13.10\\\\\n\t 22 & 0 & 65 & 10.0 & 158 &  69.0 & 27.63980 & 129 &  77 & 66 & ⋯ & 4.930 & 66.620 & 4.270 & 4.590 & 29.240 & 39.910 & 2.080 & 0.030 & 1.69 & 14.11\\\\\n\t 23 & 1 & 62 & 11.5 & 169 &  66.0 & 23.10843 & 150 & 105 & 78 & ⋯ &    NA &     NA &    NA &    NA &     NA &     NA &    NA &    NA &   NA &    NA\\\\\n\t 24 & 0 & 76 & 13.0 & 165 &  56.5 & 20.75298 & 130 &  70 & 70 & ⋯ & 4.390 & 67.560 & 3.590 & 4.550 & 28.810 & 40.410 & 1.770 & 0.040 & 1.38 & 14.83\\\\\n\t 25 & 1 & 68 & 13.0 & 170 &  88.0 & 30.44983 & 150 &  90 & 70 & ⋯ &    NA &     NA &    NA &    NA &     NA &     NA &    NA &    NA &   NA &    NA\\\\\n\t 26 & 0 & 55 & 11.5 & 162 &  57.0 & 21.71925 & 103 &  66 & 74 & ⋯ & 5.280 & 67.780 & 4.210 & 4.710 & 29.210 & 41.010 & 2.340 & 0.020 & 2.03 & 13.33\\\\\n\t 27 & 0 & 79 & 12.0 & 172 &  60.0 & 20.28123 & 100 &  60 & 65 & ⋯ &    NA &     NA &    NA &    NA &     NA &     NA &    NA &    NA &   NA &    NA\\\\\n\t 28 & 0 & 69 & 13.0 & 160 &  60.0 & 23.43750 & 133 &  76 & 79 & ⋯ & 4.620 & 67.430 & 4.360 & 4.160 & 29.580 & 40.480 & 2.190 & 0.020 & 2.27 & 13.54\\\\\n\t 29 & 1 & 75 & 11.0 & 162 &  75.0 & 28.57796 & 118 &  75 & 75 & ⋯ &    NA &     NA &    NA &    NA &     NA &     NA &    NA &    NA &   NA &    NA\\\\\n\t 30 & 1 & 68 & 13.0 & 165 &  77.8 & 28.57668 & 134 &  76 & 81 & ⋯ & 4.290 & 66.840 & 4.380 & 3.910 & 28.190 & 41.210 & 2.200 & 0.020 & 2.36 & 14.45\\\\\n\t 31 & 0 & 64 & 11.5 & 176 &  68.8 & 22.21074 & 128 &  78 & 73 & ⋯ & 5.220 & 66.870 & 3.580 & 4.280 & 29.690 & 40.060 & 1.640 & 0.020 & 1.55 & 14.70\\\\\n\t 32 & 0 & 62 & 13.0 & 161 &  90.0 & 34.72088 & 140 & 100 & 74 & ⋯ &    NA &     NA &    NA &    NA &     NA &     NA &    NA &    NA &   NA &    NA\\\\\n\t 33 & 1 & 67 & 13.0 & 165 &  78.0 & 28.65014 & 165 &  82 & 76 & ⋯ & 3.890 & 67.440 & 4.290 & 4.210 & 28.160 & 41.210 & 2.040 & 0.030 & 2.26 & 15.06\\\\\n\t 34 & 1 & 64 & 12.0 & 161 &  89.0 & 34.33510 & 140 &  86 & 54 & ⋯ & 3.270 & 65.600 & 5.290 & 3.380 & 24.700 & 43.560 & 2.520 & 0.060 & 2.73 & 13.89\\\\\n\t 35 & 0 & 54 & 11.5 & 167 &  67.0 & 24.02381 & 146 &  96 & 68 & ⋯ &    NA &     NA &    NA &    NA &     NA &     NA &    NA &    NA &   NA &    NA\\\\\n\t 36 & 1 & 67 & 12.0 & 159 &  72.0 & 28.47989 & 126 &  68 & 84 & ⋯ & 4.000 & 67.710 & 5.350 & 4.200 & 29.860 & 40.350 & 2.650 & 0.020 & 1.55 & 13.37\\\\\n\t 37 & 1 & 69 & 11.5 & 154 &  87.6 & 36.93709 & 147 &  89 & 68 & ⋯ &    NA &     NA &    NA &    NA &     NA &     NA &    NA &    NA &   NA &    NA\\\\\n\t 38 & 0 & 60 & 12.0 & 165 &  74.0 & 27.18090 & 120 &  70 & 75 & ⋯ &    NA &     NA &    NA &    NA &     NA &     NA &    NA &    NA &   NA &    NA\\\\\n\\end{tabular}\n",
            "text/plain": [
              "   Vial.number Group Age Plasma.volume Ht  Wt    BMI      Sys Dia PR ⋯ G1.LDLi\n",
              "1  1           0     63   6.5          163  84.0 31.61579 125  76 67 ⋯ 4.090  \n",
              "2  2           0     47   5.5          179 111.0 34.64311 125  82 65 ⋯    NA  \n",
              "3  3           1     57   7.0          164  80.0 29.74420 132  80 92 ⋯ 5.160  \n",
              "4  4           1     72   5.0          160  58.8 22.96875 130  90 68 ⋯ 3.950  \n",
              "5  5           1     57   5.0          180  71.0 21.91358 135  75 70 ⋯ 4.630  \n",
              "6  6           1     79   6.2          160  64.0 25.00000 110  75 66 ⋯ 4.050  \n",
              "7  7           1     61   6.5          164  67.0 24.91077 124  82 84 ⋯ 4.100  \n",
              "8  8           1     70   5.5          162  61.0 23.24341 135  78 72 ⋯ 5.270  \n",
              "9  9           0     50   6.0          150  79.0 35.11111 142  95 88 ⋯ 3.970  \n",
              "10 10          1     53   5.5          172  88.2 29.81341 120  80 60 ⋯ 4.480  \n",
              "11 11          1     83   6.0          168  59.0 20.90420 134  60 89 ⋯ 4.620  \n",
              "12 12          1     59   5.5          157  70.0 28.39872 120  85 90 ⋯ 3.470  \n",
              "13 13          1     79   7.0          161  73.0 28.16249 120  81 73 ⋯ 4.780  \n",
              "14 14          1     61   7.0          172  82.0 27.71769 137  94 85 ⋯ 4.550  \n",
              "15 15          1     79   8.0          167  63.0 22.58955 188  84 74 ⋯ 4.700  \n",
              "16 16          1     75  10.0          165  57.0 20.93664 120  72 66 ⋯ 5.200  \n",
              "17 17          1     58  10.0          162 102.0 38.86603 132  81 68 ⋯ 4.010  \n",
              "18 18          1     65  11.0          171 102.6 35.08772 136  92 80 ⋯ 3.935  \n",
              "19 19          0     64  10.5          167  62.0 22.23099 112  75 66 ⋯ 3.860  \n",
              "20 20          0     66  10.0          165  73.0 26.81359 135  57 72 ⋯ 4.710  \n",
              "21 21          1     70  11.0          170 101.2 35.01730 135  85 74 ⋯ 4.040  \n",
              "22 22          0     65  10.0          158  69.0 27.63980 129  77 66 ⋯ 4.930  \n",
              "23 23          1     62  11.5          169  66.0 23.10843 150 105 78 ⋯    NA  \n",
              "24 24          0     76  13.0          165  56.5 20.75298 130  70 70 ⋯ 4.390  \n",
              "25 25          1     68  13.0          170  88.0 30.44983 150  90 70 ⋯    NA  \n",
              "26 26          0     55  11.5          162  57.0 21.71925 103  66 74 ⋯ 5.280  \n",
              "27 27          0     79  12.0          172  60.0 20.28123 100  60 65 ⋯    NA  \n",
              "28 28          0     69  13.0          160  60.0 23.43750 133  76 79 ⋯ 4.620  \n",
              "29 29          1     75  11.0          162  75.0 28.57796 118  75 75 ⋯    NA  \n",
              "30 30          1     68  13.0          165  77.8 28.57668 134  76 81 ⋯ 4.290  \n",
              "31 31          0     64  11.5          176  68.8 22.21074 128  78 73 ⋯ 5.220  \n",
              "32 32          0     62  13.0          161  90.0 34.72088 140 100 74 ⋯    NA  \n",
              "33 33          1     67  13.0          165  78.0 28.65014 165  82 76 ⋯ 3.890  \n",
              "34 34          1     64  12.0          161  89.0 34.33510 140  86 54 ⋯ 3.270  \n",
              "35 35          0     54  11.5          167  67.0 24.02381 146  96 68 ⋯    NA  \n",
              "36 36          1     67  12.0          159  72.0 28.47989 126  68 84 ⋯ 4.000  \n",
              "37 37          1     69  11.5          154  87.6 36.93709 147  89 68 ⋯    NA  \n",
              "38 38          0     60  12.0          165  74.0 27.18090 120  70 75 ⋯    NA  \n",
              "   G2.LDLi G3.LDLi S0.LDLi S1.LDLi S2.LDLi S3.LDLi B.LDLi F.LDLi HM.LDLi\n",
              "1  68.910  3.570   3.980   28.180  42.460  1.950   0.020  1.67   13.02  \n",
              "2      NA     NA      NA       NA      NA     NA      NA    NA      NA  \n",
              "3  68.220  3.110   4.640   30.430  39.860  1.560   0.020  1.69   14.16  \n",
              "4  68.030  4.500   3.780   29.370  41.130  2.200   0.020  1.89   13.89  \n",
              "5  66.910  4.030   4.440   28.540  40.640  1.950   0.020  2.03   14.25  \n",
              "6  64.010  5.270   3.720   26.710  40.390  2.510   0.020  2.70   16.06  \n",
              "7  65.990  4.700   4.030   28.440  39.990  2.330   0.020  1.61   13.82  \n",
              "8  67.260  3.240   4.690   32.270  37.290  1.520   0.030  1.61   14.59  \n",
              "9  67.590  4.220   4.420   27.990  41.190  2.180   0.050  1.55   13.26  \n",
              "10 68.880  4.040   3.860   28.110  43.200  2.230   0.020  2.30   13.11  \n",
              "11 66.510  4.250   4.780   28.500  40.140  1.960   0.030  1.72   14.21  \n",
              "12 66.740  5.030   3.450   26.590  42.620  2.580   0.020  2.02   13.52  \n",
              "13 67.400  3.720   4.760   29.470  39.760  1.910   0.060  1.93   14.28  \n",
              "14 67.880  4.640   4.060   28.160  42.470  2.380   0.030  1.93   13.42  \n",
              "15 67.590  3.430   5.280   33.520  35.450  1.470   0.020  1.24   14.35  \n",
              "16 66.370  4.220   4.470   29.360  39.770  2.190   0.030  2.99   14.47  \n",
              "17 67.880  4.340   4.340   29.100  40.840  1.950   0.030  1.99   13.02  \n",
              "18 66.575  4.445   4.435   28.225  39.670  2.625   0.035  2.11   14.64  \n",
              "19 68.260  4.280   3.680   28.570  42.040  2.110   0.020  2.34   13.59  \n",
              "20 65.305  4.735   4.335   29.245  38.985  2.185   0.030  2.19   15.15  \n",
              "21 67.120  4.740   4.560   28.570  40.240  2.530   0.040  2.38   13.10  \n",
              "22 66.620  4.270   4.590   29.240  39.910  2.080   0.030  1.69   14.11  \n",
              "23     NA     NA      NA       NA      NA     NA      NA    NA      NA  \n",
              "24 67.560  3.590   4.550   28.810  40.410  1.770   0.040  1.38   14.83  \n",
              "25     NA     NA      NA       NA      NA     NA      NA    NA      NA  \n",
              "26 67.780  4.210   4.710   29.210  41.010  2.340   0.020  2.03   13.33  \n",
              "27     NA     NA      NA       NA      NA     NA      NA    NA      NA  \n",
              "28 67.430  4.360   4.160   29.580  40.480  2.190   0.020  2.27   13.54  \n",
              "29     NA     NA      NA       NA      NA     NA      NA    NA      NA  \n",
              "30 66.840  4.380   3.910   28.190  41.210  2.200   0.020  2.36   14.45  \n",
              "31 66.870  3.580   4.280   29.690  40.060  1.640   0.020  1.55   14.70  \n",
              "32     NA     NA      NA       NA      NA     NA      NA    NA      NA  \n",
              "33 67.440  4.290   4.210   28.160  41.210  2.040   0.030  2.26   15.06  \n",
              "34 65.600  5.290   3.380   24.700  43.560  2.520   0.060  2.73   13.89  \n",
              "35     NA     NA      NA       NA      NA     NA      NA    NA      NA  \n",
              "36 67.710  5.350   4.200   29.860  40.350  2.650   0.020  1.55   13.37  \n",
              "37     NA     NA      NA       NA      NA     NA      NA    NA      NA  \n",
              "38     NA     NA      NA       NA      NA     NA      NA    NA      NA  "
            ]
          },
          "metadata": {}
        }
      ]
    },
    {
      "cell_type": "markdown",
      "source": [
        "### 1-way ANOVA\n",
        "В качестве зависимых переменных  возьмем индекс атерогенности, среднее значение комплекса ИМ сонных артерий, индекс массы тела (AI, carotid.IMT.mean, BMI). Фактором сравнения выступит степень бляшки (Plaque).\n",
        "Также"
      ],
      "metadata": {
        "id": "Tjs2vaEM0YRS"
      }
    },
    {
      "cell_type": "code",
      "source": [
        "# Посмотрим распределение каждой из переменных\n",
        "options(repr.plot.width = 17, repr.plot.height = 7)\n",
        "par(mfrow=c(1,4))\n",
        "\n",
        "qqnorm(data$AI, main=\"distribution of AI\")\n",
        "qqline(data$AI)\n",
        "\n",
        "qqnorm(data$carotid.IMT.mean, main=\"distribution of carotid.IMT.mean\")\n",
        "qqline(data$carotid.IMT.mean)\n",
        "\n",
        "# qqnorm(data$Plaque, main=\"distribution of Plaque\")\n",
        "# qqnorm(data$Plaque)\n",
        "\n",
        "qqnorm(data$BMI, main=\"distribution of BMI\")\n",
        "qqline(data$BMI)"
      ],
      "metadata": {
        "colab": {
          "base_uri": "https://localhost:8080/",
          "height": 437
        },
        "id": "Sk_FB--G0QGd",
        "outputId": "6da72be0-9536-4b03-ec50-1364bc5fd27b"
      },
      "execution_count": 8,
      "outputs": [
        {
          "output_type": "display_data",
          "data": {
            "text/plain": [
              "Plot with title “distribution of BMI”"
            ],
            "image/png": "[encoded data removed]"
          },
          "metadata": {
            "image/png": {
              "width": 1020,
              "height": 420
            }
          }
        }
      ]
    },
    {
      "cell_type": "markdown",
      "source": [
        "Распределение AI и carotid.IMT.mean близко к нормальному"
      ],
      "metadata": {
        "id": "lfgtwuUn0hcB"
      }
    },
    {
      "cell_type": "code",
      "source": [
        "options(repr.plot.width = 7, repr.plot.height = 7)"
      ],
      "metadata": {
        "id": "xFbrXCpV0XyA"
      },
      "execution_count": 9,
      "outputs": []
    },
    {
      "cell_type": "code",
      "source": [
        "# Список всех распределений\n",
        "possible_distributions <- c(\"norm\", \"lnorm\", \"exp\", \"gamma\", \"weibull\", \"logis\", \"pois\")"
      ],
      "metadata": {
        "id": "DJfNXYP90l5X"
      },
      "execution_count": 10,
      "outputs": []
    },
    {
      "cell_type": "code",
      "source": [
        "desc <- descdist(data$BMI, discrete = FALSE)\n",
        "\n",
        "best_fit <- NULL\n",
        "best_summary <- NULL\n",
        "\n",
        "for (dist in possible_distributions) {\n",
        "  fit <- tryCatch(fitdist(data$BMI, dist), error = function(e) e)\n",
        "  if (!inherits(fit, \"error\")) {\n",
        "    summary_fit <- summary(fit)\n",
        "    if (is.null(best_fit) || summary_fit$loglik > best_summary$loglik) {\n",
        "      best_fit <- fit\n",
        "      best_summary <- summary_fit\n",
        "    }\n",
        "  }\n",
        "}\n",
        "\n",
        "if (!is.null(best_fit)) {\n",
        "  print(best_summary)\n",
        "} else {\n",
        "  print(\"No suitable distribution found.\")\n",
        "}"
      ],
      "metadata": {
        "colab": {
          "base_uri": "https://localhost:8080/",
          "height": 665
        },
        "id": "yB5e1kfQ0o6w",
        "outputId": "c3fa054f-a72e-49a1-ef18-eb0afed8d04b"
      },
      "execution_count": 11,
      "outputs": [
        {
          "output_type": "stream",
          "name": "stdout",
          "text": [
            "<simpleError in optim(par = vstart, fn = fnobj, fix.arg = fix.arg, obs = data,     gr = gradient, ddistnam = ddistname, hessian = TRUE, method = meth,     lower = lower, upper = upper, ...): initial value in 'vmmin' is not finite>\n",
            "Fitting of the distribution ' lnorm ' by maximum likelihood \n",
            "Parameters : \n",
            "         estimate Std. Error\n",
            "meanlog 3.2987042 0.02994507\n",
            "sdlog   0.1845938 0.02117157\n",
            "Loglikelihood:  -115.0657   AIC:  234.1314   BIC:  237.4066 \n",
            "Correlation matrix:\n",
            "        meanlog sdlog\n",
            "meanlog       1     0\n",
            "sdlog         0     1\n",
            "\n"
          ]
        },
        {
          "output_type": "display_data",
          "data": {
            "text/plain": [
              "Plot with title “Cullen and Frey graph”"
            ],
            "image/png": "[encoded data removed]"
          },
          "metadata": {
            "image/png": {
              "width": 420,
              "height": 420
            }
          }
        }
      ]
    },
    {
      "cell_type": "markdown",
      "source": [
        "Переменная BMI имеет log-нормальное распределение"
      ],
      "metadata": {
        "id": "AEYSs7P40v9i"
      }
    },
    {
      "cell_type": "code",
      "source": [
        "model1 <- aov(BMI ~ factor(Plaque), data)\n",
        "model2 <- aov(AI ~ factor(Plaque), data)\n",
        "model3 <- aov(carotid.IMT.mean ~ factor(Plaque), data)\n",
        "model4 <- aov(AI ~ factor(Statins), data)"
      ],
      "metadata": {
        "id": "TDJ76VF50vVA"
      },
      "execution_count": 12,
      "outputs": []
    },
    {
      "cell_type": "code",
      "source": [
        "summary(model1)\n",
        "summary(model2)\n",
        "summary(model3)\n",
        "summary(model4)"
      ],
      "metadata": {
        "colab": {
          "base_uri": "https://localhost:8080/",
          "height": 312
        },
        "id": "0q1RJbSm00PY",
        "outputId": "f4c6cd22-8b2f-4b3c-be45-f3e6310ecb21"
      },
      "execution_count": 13,
      "outputs": [
        {
          "output_type": "display_data",
          "data": {
            "text/plain": [
              "               Df Sum Sq Mean Sq F value Pr(>F)\n",
              "factor(Plaque)  3   25.4   8.454   0.292  0.831\n",
              "Residuals      34  985.4  28.982               "
            ]
          },
          "metadata": {}
        },
        {
          "output_type": "display_data",
          "data": {
            "text/plain": [
              "               Df Sum Sq Mean Sq F value Pr(>F)\n",
              "factor(Plaque)  3   5.10  1.7001    2.01  0.131\n",
              "Residuals      34  28.76  0.8459               "
            ]
          },
          "metadata": {}
        },
        {
          "output_type": "display_data",
          "data": {
            "text/plain": [
              "               Df Sum Sq Mean Sq F value Pr(>F)  \n",
              "factor(Plaque)  3 0.1546 0.05152   4.192 0.0125 *\n",
              "Residuals      34 0.4179 0.01229                 \n",
              "---\n",
              "Signif. codes:  0 ‘***’ 0.001 ‘**’ 0.01 ‘*’ 0.05 ‘.’ 0.1 ‘ ’ 1"
            ]
          },
          "metadata": {}
        },
        {
          "output_type": "display_data",
          "data": {
            "text/plain": [
              "                Df Sum Sq Mean Sq F value Pr(>F)  \n",
              "factor(Statins)  1  5.167   5.167    6.33 0.0166 *\n",
              "Residuals       35 28.570   0.816                 \n",
              "---\n",
              "Signif. codes:  0 ‘***’ 0.001 ‘**’ 0.01 ‘*’ 0.05 ‘.’ 0.1 ‘ ’ 1\n",
              "1 observation deleted due to missingness"
            ]
          },
          "metadata": {}
        }
      ]
    },
    {
      "cell_type": "markdown",
      "source": [
        "**Дополнительные тесты через другие пакеты**"
      ],
      "metadata": {
        "id": "9xl15W3q04yO"
      }
    },
    {
      "cell_type": "code",
      "source": [
        "ez_model <- ezANOVA(data,\n",
        "                    dv = carotid.IMT.mean,\n",
        "                    wid = Vial.number,\n",
        "                    # between = .(Plaque, BMI),\n",
        "                    between = Statins,\n",
        "                    detailed = TRUE,\n",
        "                    return_aov = TRUE)\n",
        "ez_model$ANOVA"
      ],
      "metadata": {
        "colab": {
          "base_uri": "https://localhost:8080/",
          "height": 234
        },
        "id": "3U-HIPBi076k",
        "outputId": "dad71268-7539-4e13-dde3-ce4f84b76aeb"
      },
      "execution_count": 14,
      "outputs": [
        {
          "output_type": "stream",
          "name": "stderr",
          "text": [
            "Warning message:\n",
            "“You have removed one or more levels from variable \"Statins\". Refactoring for ANOVA.”\n",
            "Warning message:\n",
            "“Data is unbalanced (unequal N per group). Make sure you specified a well-considered value for the type argument to ezANOVA().”\n",
            "Coefficient covariances computed by hccm()\n",
            "\n"
          ]
        },
        {
          "output_type": "display_data",
          "data": {
            "text/html": [
              "<table class=\"dataframe\">\n",
              "<caption>A data.frame: 1 × 9</caption>\n",
              "<thead>\n",
              "\t<tr><th></th><th scope=col>Effect</th><th scope=col>DFn</th><th scope=col>DFd</th><th scope=col>SSn</th><th scope=col>SSd</th><th scope=col>F</th><th scope=col>p</th><th scope=col>p&lt;.05</th><th scope=col>ges</th></tr>\n",
              "\t<tr><th></th><th scope=col>&lt;chr&gt;</th><th scope=col>&lt;dbl&gt;</th><th scope=col>&lt;dbl&gt;</th><th scope=col>&lt;dbl&gt;</th><th scope=col>&lt;dbl&gt;</th><th scope=col>&lt;dbl&gt;</th><th scope=col>&lt;dbl&gt;</th><th scope=col>&lt;chr&gt;</th><th scope=col>&lt;dbl&gt;</th></tr>\n",
              "</thead>\n",
              "<tbody>\n",
              "\t<tr><th scope=row>1</th><td>Statins</td><td>1</td><td>35</td><td>0.006977705</td><td>0.5369367</td><td>0.4548389</td><td>0.5044765</td><td></td><td>0.01282868</td></tr>\n",
              "</tbody>\n",
              "</table>\n"
            ],
            "text/markdown": "\nA data.frame: 1 × 9\n\n| <!--/--> | Effect &lt;chr&gt; | DFn &lt;dbl&gt; | DFd &lt;dbl&gt; | SSn &lt;dbl&gt; | SSd &lt;dbl&gt; | F &lt;dbl&gt; | p &lt;dbl&gt; | p&lt;.05 &lt;chr&gt; | ges &lt;dbl&gt; |\n|---|---|---|---|---|---|---|---|---|---|\n| 1 | Statins | 1 | 35 | 0.006977705 | 0.5369367 | 0.4548389 | 0.5044765 | <!----> | 0.01282868 |\n\n",
            "text/latex": "A data.frame: 1 × 9\n\\begin{tabular}{r|lllllllll}\n  & Effect & DFn & DFd & SSn & SSd & F & p & p<.05 & ges\\\\\n  & <chr> & <dbl> & <dbl> & <dbl> & <dbl> & <dbl> & <dbl> & <chr> & <dbl>\\\\\n\\hline\n\t1 & Statins & 1 & 35 & 0.006977705 & 0.5369367 & 0.4548389 & 0.5044765 &  & 0.01282868\\\\\n\\end{tabular}\n",
            "text/plain": [
              "  Effect  DFn DFd SSn         SSd       F         p         p<.05 ges       \n",
              "1 Statins 1   35  0.006977705 0.5369367 0.4548389 0.5044765       0.01282868"
            ]
          },
          "metadata": {}
        }
      ]
    },
    {
      "cell_type": "markdown",
      "source": [
        "По результатам проведенного анализа видно, что нет значимой связи между Plaque и BMI. Также связь отсутствует между Plaque и AI. Между переменными `carotid.IMT.mean` и `Plaque` присутствует четко выраженная связь.\n",
        "Также видна связь между показателями `Statins` и `AI`"
      ],
      "metadata": {
        "id": "skRt3tMC1FrQ"
      }
    },
    {
      "cell_type": "code",
      "source": [
        "#Тест Тьюки для всех моделей\n",
        "tukey1 <- emmeans(model1, pairwise ~ factor(Plaque), adjust = \"tukey\")\n",
        "tukey2 <- emmeans(model2, pairwise ~ factor(Plaque), adjust = \"tukey\")\n",
        "tukey3 <- emmeans(model3, pairwise ~ factor(Plaque), adjust = \"tukey\")\n",
        "tukey4 <- emmeans(model4, pairwise ~ factor(Statins), adjust = \"tukey\")\n",
        "\n",
        "# Вывод результатов\n",
        "summary(tukey1$contrasts)\n",
        "summary(tukey2$contrasts)\n",
        "summary(tukey3$contrasts)\n",
        "summary(tukey4$contrasts)"
      ],
      "metadata": {
        "colab": {
          "base_uri": "https://localhost:8080/",
          "height": 937
        },
        "id": "t_bwakmp1P_A",
        "outputId": "8f9481bc-293d-4fbf-9f81-f67a7ceae407"
      },
      "execution_count": 15,
      "outputs": [
        {
          "output_type": "display_data",
          "data": {
            "text/html": [
              "<table class=\"dataframe\">\n",
              "<caption>A summary_emm: 6 × 6</caption>\n",
              "<thead>\n",
              "\t<tr><th></th><th scope=col>contrast</th><th scope=col>estimate</th><th scope=col>SE</th><th scope=col>df</th><th scope=col>t.ratio</th><th scope=col>p.value</th></tr>\n",
              "\t<tr><th></th><th scope=col>&lt;chr&gt;</th><th scope=col>&lt;dbl&gt;</th><th scope=col>&lt;dbl&gt;</th><th scope=col>&lt;dbl&gt;</th><th scope=col>&lt;dbl&gt;</th><th scope=col>&lt;dbl&gt;</th></tr>\n",
              "</thead>\n",
              "<tbody>\n",
              "\t<tr><th scope=row>1</th><td>Plaque0 - Plaque1</td><td> 0.09787784</td><td>3.404817</td><td>34</td><td> 0.02874687</td><td>0.9999913</td></tr>\n",
              "\t<tr><th scope=row>2</th><td>Plaque0 - Plaque2</td><td>-1.28679461</td><td>3.371272</td><td>34</td><td>-0.38169414</td><td>0.9807584</td></tr>\n",
              "\t<tr><th scope=row>3</th><td>Plaque0 - Plaque3</td><td>-2.38466214</td><td>4.395600</td><td>34</td><td>-0.54251113</td><td>0.9479244</td></tr>\n",
              "\t<tr><th scope=row>4</th><td>Plaque1 - Plaque2</td><td>-1.38467245</td><td>1.907079</td><td>34</td><td>-0.72606971</td><td>0.8859833</td></tr>\n",
              "\t<tr><th scope=row>5</th><td>Plaque1 - Plaque3</td><td>-2.48253998</td><td>3.404817</td><td>34</td><td>-0.72912572</td><td>0.8847346</td></tr>\n",
              "\t<tr><th scope=row>6</th><td>Plaque2 - Plaque3</td><td>-1.09786753</td><td>3.371272</td><td>34</td><td>-0.32565383</td><td>0.9878581</td></tr>\n",
              "</tbody>\n",
              "</table>\n"
            ],
            "text/markdown": "\nA summary_emm: 6 × 6\n\n| <!--/--> | contrast &lt;chr&gt; | estimate &lt;dbl&gt; | SE &lt;dbl&gt; | df &lt;dbl&gt; | t.ratio &lt;dbl&gt; | p.value &lt;dbl&gt; |\n|---|---|---|---|---|---|---|\n| 1 | Plaque0 - Plaque1 |  0.09787784 | 3.404817 | 34 |  0.02874687 | 0.9999913 |\n| 2 | Plaque0 - Plaque2 | -1.28679461 | 3.371272 | 34 | -0.38169414 | 0.9807584 |\n| 3 | Plaque0 - Plaque3 | -2.38466214 | 4.395600 | 34 | -0.54251113 | 0.9479244 |\n| 4 | Plaque1 - Plaque2 | -1.38467245 | 1.907079 | 34 | -0.72606971 | 0.8859833 |\n| 5 | Plaque1 - Plaque3 | -2.48253998 | 3.404817 | 34 | -0.72912572 | 0.8847346 |\n| 6 | Plaque2 - Plaque3 | -1.09786753 | 3.371272 | 34 | -0.32565383 | 0.9878581 |\n\n",
            "text/latex": "A summary\\_emm: 6 × 6\n\\begin{tabular}{r|llllll}\n  & contrast & estimate & SE & df & t.ratio & p.value\\\\\n  & <chr> & <dbl> & <dbl> & <dbl> & <dbl> & <dbl>\\\\\n\\hline\n\t1 & Plaque0 - Plaque1 &  0.09787784 & 3.404817 & 34 &  0.02874687 & 0.9999913\\\\\n\t2 & Plaque0 - Plaque2 & -1.28679461 & 3.371272 & 34 & -0.38169414 & 0.9807584\\\\\n\t3 & Plaque0 - Plaque3 & -2.38466214 & 4.395600 & 34 & -0.54251113 & 0.9479244\\\\\n\t4 & Plaque1 - Plaque2 & -1.38467245 & 1.907079 & 34 & -0.72606971 & 0.8859833\\\\\n\t5 & Plaque1 - Plaque3 & -2.48253998 & 3.404817 & 34 & -0.72912572 & 0.8847346\\\\\n\t6 & Plaque2 - Plaque3 & -1.09786753 & 3.371272 & 34 & -0.32565383 & 0.9878581\\\\\n\\end{tabular}\n",
            "text/plain": [
              "  contrast          estimate    SE       df t.ratio     p.value  \n",
              "1 Plaque0 - Plaque1  0.09787784 3.404817 34  0.02874687 0.9999913\n",
              "2 Plaque0 - Plaque2 -1.28679461 3.371272 34 -0.38169414 0.9807584\n",
              "3 Plaque0 - Plaque3 -2.38466214 4.395600 34 -0.54251113 0.9479244\n",
              "4 Plaque1 - Plaque2 -1.38467245 1.907079 34 -0.72606971 0.8859833\n",
              "5 Plaque1 - Plaque3 -2.48253998 3.404817 34 -0.72912572 0.8847346\n",
              "6 Plaque2 - Plaque3 -1.09786753 3.371272 34 -0.32565383 0.9878581"
            ]
          },
          "metadata": {}
        },
        {
          "output_type": "display_data",
          "data": {
            "text/html": [
              "<table class=\"dataframe\">\n",
              "<caption>A summary_emm: 6 × 6</caption>\n",
              "<thead>\n",
              "\t<tr><th></th><th scope=col>contrast</th><th scope=col>estimate</th><th scope=col>SE</th><th scope=col>df</th><th scope=col>t.ratio</th><th scope=col>p.value</th></tr>\n",
              "\t<tr><th></th><th scope=col>&lt;chr&gt;</th><th scope=col>&lt;dbl&gt;</th><th scope=col>&lt;dbl&gt;</th><th scope=col>&lt;dbl&gt;</th><th scope=col>&lt;dbl&gt;</th><th scope=col>&lt;dbl&gt;</th></tr>\n",
              "</thead>\n",
              "<tbody>\n",
              "\t<tr><th scope=row>1</th><td>Plaque0 - Plaque1</td><td>-0.42012565</td><td>0.5816745</td><td>34</td><td>-0.72226936</td><td>0.8875266</td></tr>\n",
              "\t<tr><th scope=row>2</th><td>Plaque0 - Plaque2</td><td>-1.05896239</td><td>0.5759436</td><td>34</td><td>-1.83865656</td><td>0.2734103</td></tr>\n",
              "\t<tr><th scope=row>3</th><td>Plaque0 - Plaque3</td><td>-0.38423609</td><td>0.7509385</td><td>34</td><td>-0.51167450</td><td>0.9557442</td></tr>\n",
              "\t<tr><th scope=row>4</th><td>Plaque1 - Plaque2</td><td>-0.63883674</td><td>0.3258029</td><td>34</td><td>-1.96080757</td><td>0.2227373</td></tr>\n",
              "\t<tr><th scope=row>5</th><td>Plaque1 - Plaque3</td><td> 0.03588956</td><td>0.5816745</td><td>34</td><td> 0.06170042</td><td>0.9999139</td></tr>\n",
              "\t<tr><th scope=row>6</th><td>Plaque2 - Plaque3</td><td> 0.67472630</td><td>0.5759436</td><td>34</td><td> 1.17151463</td><td>0.6485524</td></tr>\n",
              "</tbody>\n",
              "</table>\n"
            ],
            "text/markdown": "\nA summary_emm: 6 × 6\n\n| <!--/--> | contrast &lt;chr&gt; | estimate &lt;dbl&gt; | SE &lt;dbl&gt; | df &lt;dbl&gt; | t.ratio &lt;dbl&gt; | p.value &lt;dbl&gt; |\n|---|---|---|---|---|---|---|\n| 1 | Plaque0 - Plaque1 | -0.42012565 | 0.5816745 | 34 | -0.72226936 | 0.8875266 |\n| 2 | Plaque0 - Plaque2 | -1.05896239 | 0.5759436 | 34 | -1.83865656 | 0.2734103 |\n| 3 | Plaque0 - Plaque3 | -0.38423609 | 0.7509385 | 34 | -0.51167450 | 0.9557442 |\n| 4 | Plaque1 - Plaque2 | -0.63883674 | 0.3258029 | 34 | -1.96080757 | 0.2227373 |\n| 5 | Plaque1 - Plaque3 |  0.03588956 | 0.5816745 | 34 |  0.06170042 | 0.9999139 |\n| 6 | Plaque2 - Plaque3 |  0.67472630 | 0.5759436 | 34 |  1.17151463 | 0.6485524 |\n\n",
            "text/latex": "A summary\\_emm: 6 × 6\n\\begin{tabular}{r|llllll}\n  & contrast & estimate & SE & df & t.ratio & p.value\\\\\n  & <chr> & <dbl> & <dbl> & <dbl> & <dbl> & <dbl>\\\\\n\\hline\n\t1 & Plaque0 - Plaque1 & -0.42012565 & 0.5816745 & 34 & -0.72226936 & 0.8875266\\\\\n\t2 & Plaque0 - Plaque2 & -1.05896239 & 0.5759436 & 34 & -1.83865656 & 0.2734103\\\\\n\t3 & Plaque0 - Plaque3 & -0.38423609 & 0.7509385 & 34 & -0.51167450 & 0.9557442\\\\\n\t4 & Plaque1 - Plaque2 & -0.63883674 & 0.3258029 & 34 & -1.96080757 & 0.2227373\\\\\n\t5 & Plaque1 - Plaque3 &  0.03588956 & 0.5816745 & 34 &  0.06170042 & 0.9999139\\\\\n\t6 & Plaque2 - Plaque3 &  0.67472630 & 0.5759436 & 34 &  1.17151463 & 0.6485524\\\\\n\\end{tabular}\n",
            "text/plain": [
              "  contrast          estimate    SE        df t.ratio     p.value  \n",
              "1 Plaque0 - Plaque1 -0.42012565 0.5816745 34 -0.72226936 0.8875266\n",
              "2 Plaque0 - Plaque2 -1.05896239 0.5759436 34 -1.83865656 0.2734103\n",
              "3 Plaque0 - Plaque3 -0.38423609 0.7509385 34 -0.51167450 0.9557442\n",
              "4 Plaque1 - Plaque2 -0.63883674 0.3258029 34 -1.96080757 0.2227373\n",
              "5 Plaque1 - Plaque3  0.03588956 0.5816745 34  0.06170042 0.9999139\n",
              "6 Plaque2 - Plaque3  0.67472630 0.5759436 34  1.17151463 0.6485524"
            ]
          },
          "metadata": {}
        },
        {
          "output_type": "display_data",
          "data": {
            "text/html": [
              "<table class=\"dataframe\">\n",
              "<caption>A summary_emm: 6 × 6</caption>\n",
              "<thead>\n",
              "\t<tr><th></th><th scope=col>contrast</th><th scope=col>estimate</th><th scope=col>SE</th><th scope=col>df</th><th scope=col>t.ratio</th><th scope=col>p.value</th></tr>\n",
              "\t<tr><th></th><th scope=col>&lt;chr&gt;</th><th scope=col>&lt;dbl&gt;</th><th scope=col>&lt;dbl&gt;</th><th scope=col>&lt;dbl&gt;</th><th scope=col>&lt;dbl&gt;</th><th scope=col>&lt;dbl&gt;</th></tr>\n",
              "</thead>\n",
              "<tbody>\n",
              "\t<tr><th scope=row>1</th><td>Plaque0 - Plaque1</td><td>-0.20866667</td><td>0.07011429</td><td>34</td><td>-2.9760934</td><td>0.02617478</td></tr>\n",
              "\t<tr><th scope=row>2</th><td>Plaque0 - Plaque2</td><td>-0.22009804</td><td>0.06942349</td><td>34</td><td>-3.1703684</td><td>0.01618981</td></tr>\n",
              "\t<tr><th scope=row>3</th><td>Plaque0 - Plaque3</td><td>-0.29527778</td><td>0.09051716</td><td>34</td><td>-3.2621195</td><td>0.01282557</td></tr>\n",
              "\t<tr><th scope=row>4</th><td>Plaque1 - Plaque2</td><td>-0.01143137</td><td>0.03927186</td><td>34</td><td>-0.2910831</td><td>0.99125402</td></tr>\n",
              "\t<tr><th scope=row>5</th><td>Plaque1 - Plaque3</td><td>-0.08661111</td><td>0.07011429</td><td>34</td><td>-1.2352848</td><td>0.60926934</td></tr>\n",
              "\t<tr><th scope=row>6</th><td>Plaque2 - Plaque3</td><td>-0.07517974</td><td>0.06942349</td><td>34</td><td>-1.0829150</td><td>0.70214879</td></tr>\n",
              "</tbody>\n",
              "</table>\n"
            ],
            "text/markdown": "\nA summary_emm: 6 × 6\n\n| <!--/--> | contrast &lt;chr&gt; | estimate &lt;dbl&gt; | SE &lt;dbl&gt; | df &lt;dbl&gt; | t.ratio &lt;dbl&gt; | p.value &lt;dbl&gt; |\n|---|---|---|---|---|---|---|\n| 1 | Plaque0 - Plaque1 | -0.20866667 | 0.07011429 | 34 | -2.9760934 | 0.02617478 |\n| 2 | Plaque0 - Plaque2 | -0.22009804 | 0.06942349 | 34 | -3.1703684 | 0.01618981 |\n| 3 | Plaque0 - Plaque3 | -0.29527778 | 0.09051716 | 34 | -3.2621195 | 0.01282557 |\n| 4 | Plaque1 - Plaque2 | -0.01143137 | 0.03927186 | 34 | -0.2910831 | 0.99125402 |\n| 5 | Plaque1 - Plaque3 | -0.08661111 | 0.07011429 | 34 | -1.2352848 | 0.60926934 |\n| 6 | Plaque2 - Plaque3 | -0.07517974 | 0.06942349 | 34 | -1.0829150 | 0.70214879 |\n\n",
            "text/latex": "A summary\\_emm: 6 × 6\n\\begin{tabular}{r|llllll}\n  & contrast & estimate & SE & df & t.ratio & p.value\\\\\n  & <chr> & <dbl> & <dbl> & <dbl> & <dbl> & <dbl>\\\\\n\\hline\n\t1 & Plaque0 - Plaque1 & -0.20866667 & 0.07011429 & 34 & -2.9760934 & 0.02617478\\\\\n\t2 & Plaque0 - Plaque2 & -0.22009804 & 0.06942349 & 34 & -3.1703684 & 0.01618981\\\\\n\t3 & Plaque0 - Plaque3 & -0.29527778 & 0.09051716 & 34 & -3.2621195 & 0.01282557\\\\\n\t4 & Plaque1 - Plaque2 & -0.01143137 & 0.03927186 & 34 & -0.2910831 & 0.99125402\\\\\n\t5 & Plaque1 - Plaque3 & -0.08661111 & 0.07011429 & 34 & -1.2352848 & 0.60926934\\\\\n\t6 & Plaque2 - Plaque3 & -0.07517974 & 0.06942349 & 34 & -1.0829150 & 0.70214879\\\\\n\\end{tabular}\n",
            "text/plain": [
              "  contrast          estimate    SE         df t.ratio    p.value   \n",
              "1 Plaque0 - Plaque1 -0.20866667 0.07011429 34 -2.9760934 0.02617478\n",
              "2 Plaque0 - Plaque2 -0.22009804 0.06942349 34 -3.1703684 0.01618981\n",
              "3 Plaque0 - Plaque3 -0.29527778 0.09051716 34 -3.2621195 0.01282557\n",
              "4 Plaque1 - Plaque2 -0.01143137 0.03927186 34 -0.2910831 0.99125402\n",
              "5 Plaque1 - Plaque3 -0.08661111 0.07011429 34 -1.2352848 0.60926934\n",
              "6 Plaque2 - Plaque3 -0.07517974 0.06942349 34 -1.0829150 0.70214879"
            ]
          },
          "metadata": {}
        },
        {
          "output_type": "display_data",
          "data": {
            "text/html": [
              "<table class=\"dataframe\">\n",
              "<caption>A summary_emm: 1 × 6</caption>\n",
              "<thead>\n",
              "\t<tr><th></th><th scope=col>contrast</th><th scope=col>estimate</th><th scope=col>SE</th><th scope=col>df</th><th scope=col>t.ratio</th><th scope=col>p.value</th></tr>\n",
              "\t<tr><th></th><th scope=col>&lt;chr&gt;</th><th scope=col>&lt;dbl&gt;</th><th scope=col>&lt;dbl&gt;</th><th scope=col>&lt;dbl&gt;</th><th scope=col>&lt;dbl&gt;</th><th scope=col>&lt;dbl&gt;</th></tr>\n",
              "</thead>\n",
              "<tbody>\n",
              "\t<tr><th scope=row>1</th><td>Statins0 - Statins1</td><td>0.7828162</td><td>0.3111325</td><td>35</td><td>2.516022</td><td>0.01660774</td></tr>\n",
              "</tbody>\n",
              "</table>\n"
            ],
            "text/markdown": "\nA summary_emm: 1 × 6\n\n| <!--/--> | contrast &lt;chr&gt; | estimate &lt;dbl&gt; | SE &lt;dbl&gt; | df &lt;dbl&gt; | t.ratio &lt;dbl&gt; | p.value &lt;dbl&gt; |\n|---|---|---|---|---|---|---|\n| 1 | Statins0 - Statins1 | 0.7828162 | 0.3111325 | 35 | 2.516022 | 0.01660774 |\n\n",
            "text/latex": "A summary\\_emm: 1 × 6\n\\begin{tabular}{r|llllll}\n  & contrast & estimate & SE & df & t.ratio & p.value\\\\\n  & <chr> & <dbl> & <dbl> & <dbl> & <dbl> & <dbl>\\\\\n\\hline\n\t1 & Statins0 - Statins1 & 0.7828162 & 0.3111325 & 35 & 2.516022 & 0.01660774\\\\\n\\end{tabular}\n",
            "text/plain": [
              "  contrast            estimate  SE        df t.ratio  p.value   \n",
              "1 Statins0 - Statins1 0.7828162 0.3111325 35 2.516022 0.01660774"
            ]
          },
          "metadata": {}
        }
      ]
    },
    {
      "cell_type": "markdown",
      "source": [
        "**Интерпретация результатов теста Тьюки**  \n",
        "    В первой (BMI) и второй (AI) моделях различия между группами Plaque не являются статистически значимыми. Все значения p-value значительно больше 0,05.  \n",
        "    В третьей модели есть значимые различия между группой Plaque0 и Plaque1 (p = 0.026), Plaque0 и Plaque2 (p = 0.016), Plaque0 и Plaque3 (p = 0.013), однако между группами (Plaque1, Plaque2, Plaque3) различий нет.  \n",
        "    Различие между группами Statins0 и Statins1 также является статистически значимым (p = 0.017)."
      ],
      "metadata": {
        "id": "h2zSwsJ41dvr"
      }
    },
    {
      "cell_type": "code",
      "source": [
        "# Функция для проведения ANOVA и теста Тьюки на множественных данных\n",
        "anova_tukey_analysis <- function(data, columns, factor_column) {\n",
        "  results <- list()\n",
        "\n",
        "  # Удаление строк с пропущенными значениями\n",
        "  f_data <- na.omit(data)\n",
        "\n",
        "  for (column in columns) {\n",
        "    # Создание формулы с помощью paste\n",
        "    formula <- as.formula(paste(column, \"~ factor(\", factor_column, \")\", sep = \"\"))\n",
        "    model <- aov(formula, f_data)\n",
        "    summary_model <- summary(model)\n",
        "\n",
        "    emmeans_formula <- as.formula(paste(\"pairwise ~ factor(\", factor_column, \")\", sep = \"\"))\n",
        "    # emmeans_formula <- emmeans(model, ~ factor(get(factor_column, data)))\n",
        "    # tukey_summary <- summary(pairs(emmeans_model, adjust = \"tukey\"))\n",
        "    # tukey4 <- emmeans(model4, pairwise ~ factor(Statins), adjust = \"tukey\")\n",
        "    tukey <- emmeans(model, emmeans_formula, adjust = \"tukey\")\n",
        "    tukey_summary <- summary(tukey$contrasts)\n",
        "\n",
        "    results[[column]] <- list(\n",
        "      \"ANOVA Summary\" = summary_model,\n",
        "      \"Tukey Test\" = tukey_summary\n",
        "    )\n",
        "  }\n",
        "\n",
        "  return(results)\n",
        "}"
      ],
      "metadata": {
        "id": "ssbm3RVj1e9r"
      },
      "execution_count": 16,
      "outputs": []
    },
    {
      "cell_type": "code",
      "source": [
        "cols <- c(\"GPHDL1\", \"GPHDL2\", \"GPHDL3\", \"LB.LDLi\", \"HB.LDLi\", \"G1.LDLi\", \"G2.LDLi\")\n",
        "factor_col <- \"Plaque\""
      ],
      "metadata": {
        "id": "Nc853Kvf1kio"
      },
      "execution_count": 17,
      "outputs": []
    },
    {
      "cell_type": "code",
      "source": [
        "anova_tukey_analysis(data, cols, factor_col)"
      ],
      "metadata": {
        "colab": {
          "base_uri": "https://localhost:8080/",
          "height": 1000
        },
        "id": "HHnoT2gI1qZd",
        "outputId": "638d3885-a14a-4c41-b1cc-f66c02890f5e"
      },
      "execution_count": 18,
      "outputs": [
        {
          "output_type": "display_data",
          "data": {
            "text/plain": [
              "$GPHDL1\n",
              "$GPHDL1$`ANOVA Summary`\n",
              "               Df  Sum Sq  Mean Sq F value Pr(>F)\n",
              "factor(Plaque)  3 0.01956 0.006520   0.827  0.493\n",
              "Residuals      22 0.17347 0.007885               \n",
              "\n",
              "$GPHDL1$`Tukey Test`\n",
              " contrast          estimate     SE df t.ratio p.value\n",
              " Plaque0 - Plaque1  -0.0524 0.0927 22  -0.565  0.9413\n",
              " Plaque0 - Plaque2   0.0050 0.0924 22   0.054  0.9999\n",
              " Plaque0 - Plaque3  -0.0125 0.1088 22  -0.115  0.9994\n",
              " Plaque1 - Plaque2   0.0574 0.0371 22   1.549  0.4268\n",
              " Plaque1 - Plaque3   0.0399 0.0683 22   0.585  0.9356\n",
              " Plaque2 - Plaque3  -0.0175 0.0678 22  -0.258  0.9938\n",
              "\n",
              "P value adjustment: tukey method for comparing a family of 4 estimates \n",
              "\n",
              "\n",
              "$GPHDL2\n",
              "$GPHDL2$`ANOVA Summary`\n",
              "               Df Sum Sq Mean Sq F value Pr(>F)  \n",
              "factor(Plaque)  3  2.685  0.8949   2.551 0.0817 .\n",
              "Residuals      22  7.718  0.3508                 \n",
              "---\n",
              "Signif. codes:  0 ‘***’ 0.001 ‘**’ 0.01 ‘*’ 0.05 ‘.’ 0.1 ‘ ’ 1\n",
              "\n",
              "$GPHDL2$`Tukey Test`\n",
              " contrast          estimate    SE df t.ratio p.value\n",
              " Plaque0 - Plaque1 -0.00515 0.619 22  -0.008  1.0000\n",
              " Plaque0 - Plaque2 -0.56000 0.616 22  -0.908  0.8006\n",
              " Plaque0 - Plaque3  0.39000 0.725 22   0.538  0.9489\n",
              " Plaque1 - Plaque2 -0.55485 0.247 22  -2.244  0.1425\n",
              " Plaque1 - Plaque3  0.39515 0.455 22   0.868  0.8212\n",
              " Plaque2 - Plaque3  0.95000 0.452 22   2.100  0.1842\n",
              "\n",
              "P value adjustment: tukey method for comparing a family of 4 estimates \n",
              "\n",
              "\n",
              "$GPHDL3\n",
              "$GPHDL3$`ANOVA Summary`\n",
              "               Df  Sum Sq  Mean Sq F value Pr(>F)\n",
              "factor(Plaque)  3 0.00229 0.000765   0.139  0.935\n",
              "Residuals      22 0.12067 0.005485               \n",
              "\n",
              "$GPHDL3$`Tukey Test`\n",
              " contrast          estimate     SE df t.ratio p.value\n",
              " Plaque0 - Plaque1 -0.01273 0.0774 22  -0.165  0.9984\n",
              " Plaque0 - Plaque2  0.00583 0.0771 22   0.076  0.9998\n",
              " Plaque0 - Plaque3  0.01000 0.0907 22   0.110  0.9995\n",
              " Plaque1 - Plaque2  0.01856 0.0309 22   0.600  0.9308\n",
              " Plaque1 - Plaque3  0.02273 0.0569 22   0.399  0.9779\n",
              " Plaque2 - Plaque3  0.00417 0.0566 22   0.074  0.9999\n",
              "\n",
              "P value adjustment: tukey method for comparing a family of 4 estimates \n",
              "\n",
              "\n",
              "$LB.LDLi\n",
              "$LB.LDLi$`ANOVA Summary`\n",
              "               Df Sum Sq Mean Sq F value Pr(>F)\n",
              "factor(Plaque)  3   5.39   1.798   1.118  0.363\n",
              "Residuals      22  35.38   1.608               \n",
              "\n",
              "$LB.LDLi$`Tukey Test`\n",
              " contrast          estimate    SE df t.ratio p.value\n",
              " Plaque0 - Plaque1    1.397 1.325 22   1.055  0.7199\n",
              " Plaque0 - Plaque2    1.837 1.320 22   1.391  0.5176\n",
              " Plaque0 - Plaque3    0.585 1.553 22   0.377  0.9813\n",
              " Plaque1 - Plaque2    0.440 0.529 22   0.831  0.8392\n",
              " Plaque1 - Plaque3   -0.812 0.975 22  -0.833  0.8384\n",
              " Plaque2 - Plaque3   -1.252 0.969 22  -1.292  0.5773\n",
              "\n",
              "P value adjustment: tukey method for comparing a family of 4 estimates \n",
              "\n",
              "\n",
              "$HB.LDLi\n",
              "$HB.LDLi$`ANOVA Summary`\n",
              "               Df Sum Sq Mean Sq F value Pr(>F)\n",
              "factor(Plaque)  3  1.704  0.5679   1.739  0.188\n",
              "Residuals      22  7.184  0.3265               \n",
              "\n",
              "$HB.LDLi$`Tukey Test`\n",
              " contrast          estimate    SE df t.ratio p.value\n",
              " Plaque0 - Plaque1   0.0886 0.597 22   0.149  0.9988\n",
              " Plaque0 - Plaque2  -0.3058 0.595 22  -0.514  0.9548\n",
              " Plaque0 - Plaque3   0.5450 0.700 22   0.779  0.8632\n",
              " Plaque1 - Plaque2  -0.3945 0.239 22  -1.654  0.3708\n",
              " Plaque1 - Plaque3   0.4564 0.439 22   1.039  0.7288\n",
              " Plaque2 - Plaque3   0.8508 0.436 22   1.950  0.2372\n",
              "\n",
              "P value adjustment: tukey method for comparing a family of 4 estimates \n",
              "\n",
              "\n",
              "$G1.LDLi\n",
              "$G1.LDLi$`ANOVA Summary`\n",
              "               Df Sum Sq Mean Sq F value Pr(>F)  \n",
              "factor(Plaque)  3  2.624  0.8746   4.157 0.0178 *\n",
              "Residuals      22  4.628  0.2104                 \n",
              "---\n",
              "Signif. codes:  0 ‘***’ 0.001 ‘**’ 0.01 ‘*’ 0.05 ‘.’ 0.1 ‘ ’ 1\n",
              "\n",
              "$G1.LDLi$`Tukey Test`\n",
              " contrast          estimate    SE df t.ratio p.value\n",
              " Plaque0 - Plaque1    0.864 0.479 22   1.803  0.2987\n",
              " Plaque0 - Plaque2    1.109 0.477 22   2.323  0.1232\n",
              " Plaque0 - Plaque3    0.100 0.562 22   0.178  0.9979\n",
              " Plaque1 - Plaque2    0.246 0.191 22   1.282  0.5832\n",
              " Plaque1 - Plaque3   -0.764 0.353 22  -2.166  0.1641\n",
              " Plaque2 - Plaque3   -1.009 0.350 22  -2.881  0.0401\n",
              "\n",
              "P value adjustment: tukey method for comparing a family of 4 estimates \n",
              "\n",
              "\n",
              "$G2.LDLi\n",
              "$G2.LDLi$`ANOVA Summary`\n",
              "               Df Sum Sq Mean Sq F value Pr(>F)\n",
              "factor(Plaque)  3  0.631  0.2102   0.155  0.925\n",
              "Residuals      22 29.787  1.3539               \n",
              "\n",
              "$G2.LDLi$`Tukey Test`\n",
              " contrast          estimate    SE df t.ratio p.value\n",
              " Plaque0 - Plaque1   0.5332 1.215 22   0.439  0.9711\n",
              " Plaque0 - Plaque2   0.7275 1.211 22   0.601  0.9307\n",
              " Plaque0 - Plaque3   0.4850 1.425 22   0.340  0.9861\n",
              " Plaque1 - Plaque2   0.1943 0.486 22   0.400  0.9778\n",
              " Plaque1 - Plaque3  -0.0482 0.894 22  -0.054  0.9999\n",
              " Plaque2 - Plaque3  -0.2425 0.889 22  -0.273  0.9927\n",
              "\n",
              "P value adjustment: tukey method for comparing a family of 4 estimates \n",
              "\n"
            ]
          },
          "metadata": {}
        }
      ]
    },
    {
      "cell_type": "markdown",
      "source": [
        "Использование такой функции позволяет проводить поточное тестирование ANOVA для большого количества переменных, тем самым повышая производительность анализа.  \n",
        "По исследованным показателям обнаружена слабая связь между фракцией `GPHDL2` и `Plaque` (p-value = 0.0817). Тест Тьюки не показывает зависимость (все p-value больше 0.05).  \n",
        "Более отчетливая связь между `G1.LDLi` и `Plaque` (p = 0.0178). По результатам теста Тьюки видна разница только `Plaque2 - Plaque3` (p = 0.0401)."
      ],
      "metadata": {
        "id": "HzOWQu7g1wiM"
      }
    },
    {
      "cell_type": "markdown",
      "source": [
        "### 2-way ANOVA\n",
        "Проверим взаимосвязь между Индексом атерогенности (AI), размером бляшки (Plaque) и ишемической болезнью сердца (IHD)"
      ],
      "metadata": {
        "id": "pmD_dZp71yoB"
      }
    },
    {
      "cell_type": "code",
      "source": [
        "model <- aov(AI ~ factor(Plaque) * factor(Sm), data)\n",
        "summary(model)"
      ],
      "metadata": {
        "colab": {
          "base_uri": "https://localhost:8080/",
          "height": 139
        },
        "id": "97c7-g0C11VT",
        "outputId": "f8dcef41-f855-49db-9edf-0b98edb9b412"
      },
      "execution_count": 19,
      "outputs": [
        {
          "output_type": "display_data",
          "data": {
            "text/plain": [
              "                          Df Sum Sq Mean Sq F value Pr(>F)  \n",
              "factor(Plaque)             3  5.100  1.7001   2.084 0.1218  \n",
              "factor(Sm)                 1  2.659  2.6592   3.260 0.0804 .\n",
              "factor(Plaque):factor(Sm)  1  0.000  0.0000   0.000 0.9947  \n",
              "Residuals                 32 26.100  0.8156                 \n",
              "---\n",
              "Signif. codes:  0 ‘***’ 0.001 ‘**’ 0.01 ‘*’ 0.05 ‘.’ 0.1 ‘ ’ 1"
            ]
          },
          "metadata": {}
        }
      ]
    },
    {
      "cell_type": "markdown",
      "source": [
        "Тест показал слабую, статистически не значимую, связь между Индексом атерогенности и курением. При этом нет никакой связи между размером бляшки и курением."
      ],
      "metadata": {
        "id": "Gyi6UCEc17M-"
      }
    },
    {
      "cell_type": "markdown",
      "source": [
        "### ANСOVA  \n",
        "Для анализа возьмем среднюю толщину комплекса ИМ (carotid.IMT.mean) с факторами Гипертрофии ЛЖ (LVH) и размером бляшки (Plaque). В качестве ковариаты возьмем Индекс атерогенности (AI)."
      ],
      "metadata": {
        "id": "wzEnJbHu1-0z"
      }
    },
    {
      "cell_type": "code",
      "source": [
        "ancova <- lm(carotid.IMT.mean ~ factor(Plaque) + factor(LVH) + AI, data)\n",
        "summary(ancova)"
      ],
      "metadata": {
        "colab": {
          "base_uri": "https://localhost:8080/",
          "height": 416
        },
        "id": "xFPL-Pf618Mn",
        "outputId": "0c2a2689-894e-4f96-d9ba-7c309d7380bf"
      },
      "execution_count": 20,
      "outputs": [
        {
          "output_type": "display_data",
          "data": {
            "text/plain": [
              "\n",
              "Call:\n",
              "lm(formula = carotid.IMT.mean ~ factor(Plaque) + factor(LVH) + \n",
              "    AI, data = data)\n",
              "\n",
              "Residuals:\n",
              "      Min        1Q    Median        3Q       Max \n",
              "-0.198942 -0.058544 -0.005474  0.056433  0.289008 \n",
              "\n",
              "Coefficients:\n",
              "                 Estimate Std. Error t value Pr(>|t|)    \n",
              "(Intercept)      0.598108   0.077590   7.709 8.68e-09 ***\n",
              "factor(Plaque)1  0.207738   0.073162   2.839  0.00779 ** \n",
              "factor(Plaque)2  0.217786   0.077446   2.812  0.00834 ** \n",
              "factor(Plaque)3  0.294981   0.097529   3.025  0.00488 ** \n",
              "factor(LVH)1    -0.001143   0.042748  -0.027  0.97884    \n",
              "AI               0.002754   0.021540   0.128  0.89905    \n",
              "---\n",
              "Signif. codes:  0 ‘***’ 0.001 ‘**’ 0.01 ‘*’ 0.05 ‘.’ 0.1 ‘ ’ 1\n",
              "\n",
              "Residual standard error: 0.1142 on 32 degrees of freedom\n",
              "Multiple R-squared:  0.2704,\tAdjusted R-squared:  0.1564 \n",
              "F-statistic: 2.372 on 5 and 32 DF,  p-value: 0.06129\n"
            ]
          },
          "metadata": {}
        }
      ]
    },
    {
      "cell_type": "markdown",
      "source": [
        "По результатам анализа видим четкую взаимосвязь между группами по размеру бляшки (p < 0.01), а также высокую значимость переменной даже без влияния каких-либо факторов (p = 0.00000000868). Множественное R$^2$ = 0.2704 показывает, что модель объясняет 27% изменений переменной `carotid.IMT.mean`. Р = 0.06129 для обей модели указывет на то, что модель в целом не является значимой на уровне 0.05.  \n",
        "Так как связь все таки видна, проверим ее с помощью критерия Краскела — Уоллиса"
      ],
      "metadata": {
        "id": "zHtZkMU22HRO"
      }
    },
    {
      "cell_type": "code",
      "source": [
        "result_kruskal <- data %>%\n",
        "  kruskal_test(carotid.IMT.mean ~ factor(Plaque))\n",
        "print(result_kruskal)"
      ],
      "metadata": {
        "colab": {
          "base_uri": "https://localhost:8080/"
        },
        "id": "A5jOZXBc2IIb",
        "outputId": "09a93f9b-7103-4276-af6a-c92353b46769"
      },
      "execution_count": 21,
      "outputs": [
        {
          "output_type": "stream",
          "name": "stdout",
          "text": [
            "\u001b[90m# A tibble: 1 × 6\u001b[39m\n",
            "  .y.                  n statistic    df      p method        \n",
            "\u001b[90m*\u001b[39m \u001b[3m\u001b[90m<chr>\u001b[39m\u001b[23m            \u001b[3m\u001b[90m<int>\u001b[39m\u001b[23m     \u001b[3m\u001b[90m<dbl>\u001b[39m\u001b[23m \u001b[3m\u001b[90m<int>\u001b[39m\u001b[23m  \u001b[3m\u001b[90m<dbl>\u001b[39m\u001b[23m \u001b[3m\u001b[90m<chr>\u001b[39m\u001b[23m         \n",
            "\u001b[90m1\u001b[39m carotid.IMT.mean    38      9.74     3 0.020\u001b[4m9\u001b[24m Kruskal-Wallis\n"
          ]
        }
      ]
    },
    {
      "cell_type": "code",
      "source": [
        "# Подсчет размера эффекта\n",
        "effect_size <- data %>%\n",
        "  kruskal_effsize(carotid.IMT.mean ~ factor(Plaque))\n",
        "print(effect_size)"
      ],
      "metadata": {
        "colab": {
          "base_uri": "https://localhost:8080/"
        },
        "id": "f-DK6rTi2OKp",
        "outputId": "64cbf809-9b2e-4e73-bc54-65bec5a36731"
      },
      "execution_count": 22,
      "outputs": [
        {
          "output_type": "stream",
          "name": "stdout",
          "text": [
            "\u001b[90m# A tibble: 1 × 5\u001b[39m\n",
            "  .y.                  n effsize method  magnitude\n",
            "\u001b[90m*\u001b[39m \u001b[3m\u001b[90m<chr>\u001b[39m\u001b[23m            \u001b[3m\u001b[90m<int>\u001b[39m\u001b[23m   \u001b[3m\u001b[90m<dbl>\u001b[39m\u001b[23m \u001b[3m\u001b[90m<chr>\u001b[39m\u001b[23m   \u001b[3m\u001b[90m<ord>\u001b[39m\u001b[23m    \n",
            "\u001b[90m1\u001b[39m carotid.IMT.mean    38   0.198 eta2[H] large    \n"
          ]
        }
      ]
    },
    {
      "cell_type": "markdown",
      "source": [
        "Результат теста Краскела — Уоллиса (p = 0.0209) указывает на статистически значимую связь `carotid.IMT.mean` и `Plaque`.  \n",
        "Проведем тест Данна, чтобы понять степень значимости каждой из подгрупп `Plaque` для `carotid.IMT.mean`."
      ],
      "metadata": {
        "id": "r8NPOmVc2WE6"
      }
    },
    {
      "cell_type": "code",
      "source": [
        "dunn_result <- data %>%\n",
        "  dunn_test(carotid.IMT.mean ~ Plaque, p.adjust.method = \"BH\")\n",
        "print(dunn_result)"
      ],
      "metadata": {
        "colab": {
          "base_uri": "https://localhost:8080/"
        },
        "id": "tQPmNNrd2XEp",
        "outputId": "ca96a651-95b8-48a7-b011-982e2bcb81dc"
      },
      "execution_count": 23,
      "outputs": [
        {
          "output_type": "stream",
          "name": "stdout",
          "text": [
            "\u001b[90m# A tibble: 6 × 9\u001b[39m\n",
            "  .y.            group1 group2    n1    n2 statistic       p  p.adj p.adj.signif\n",
            "\u001b[90m*\u001b[39m \u001b[3m\u001b[90m<chr>\u001b[39m\u001b[23m          \u001b[3m\u001b[90m<chr>\u001b[39m\u001b[23m  \u001b[3m\u001b[90m<chr>\u001b[39m\u001b[23m  \u001b[3m\u001b[90m<int>\u001b[39m\u001b[23m \u001b[3m\u001b[90m<int>\u001b[39m\u001b[23m     \u001b[3m\u001b[90m<dbl>\u001b[39m\u001b[23m   \u001b[3m\u001b[90m<dbl>\u001b[39m\u001b[23m  \u001b[3m\u001b[90m<dbl>\u001b[39m\u001b[23m \u001b[3m\u001b[90m<chr>\u001b[39m\u001b[23m       \n",
            "\u001b[90m1\u001b[39m carotid.IMT.m… 0      1          3    15     2.48  0.013\u001b[4m1\u001b[24m  0.026\u001b[4m2\u001b[24m *           \n",
            "\u001b[90m2\u001b[39m carotid.IMT.m… 0      2          3    17     2.61  0.008\u001b[4m9\u001b[24m\u001b[4m3\u001b[24m 0.026\u001b[4m2\u001b[24m *           \n",
            "\u001b[90m3\u001b[39m carotid.IMT.m… 0      3          3     3     2.99  0.002\u001b[4m7\u001b[24m\u001b[4m5\u001b[24m 0.016\u001b[4m5\u001b[24m *           \n",
            "\u001b[90m4\u001b[39m carotid.IMT.m… 1      2         15    17     0.194 0.846   0.846  ns          \n",
            "\u001b[90m5\u001b[39m carotid.IMT.m… 1      3         15     3     1.38  0.166   0.237  ns          \n",
            "\u001b[90m6\u001b[39m carotid.IMT.m… 2      3         17     3     1.29  0.197   0.237  ns          \n"
          ]
        }
      ]
    },
    {
      "cell_type": "code",
      "source": [
        "ancova_model <- aov(carotid.IMT.mean ~ Plaque + AI, data)\n",
        "Anova(ancova_model, type = \"III\")"
      ],
      "metadata": {
        "colab": {
          "base_uri": "https://localhost:8080/",
          "height": 224
        },
        "id": "LNuz0A5I2eTw",
        "outputId": "5a1c4805-22c6-406f-b33e-21d987a78d56"
      },
      "execution_count": 24,
      "outputs": [
        {
          "output_type": "display_data",
          "data": {
            "text/html": [
              "<table class=\"dataframe\">\n",
              "<caption>A anova: 4 × 4</caption>\n",
              "<thead>\n",
              "\t<tr><th></th><th scope=col>Sum Sq</th><th scope=col>Df</th><th scope=col>F value</th><th scope=col>Pr(&gt;F)</th></tr>\n",
              "\t<tr><th></th><th scope=col>&lt;dbl&gt;</th><th scope=col>&lt;dbl&gt;</th><th scope=col>&lt;dbl&gt;</th><th scope=col>&lt;dbl&gt;</th></tr>\n",
              "</thead>\n",
              "<tbody>\n",
              "\t<tr><th scope=row>(Intercept)</th><td>0.7807047525</td><td> 1</td><td>61.68531635</td><td>4.708092e-09</td></tr>\n",
              "\t<tr><th scope=row>Plaque</th><td>0.1474691330</td><td> 3</td><td> 3.88396087</td><td>1.753820e-02</td></tr>\n",
              "\t<tr><th scope=row>AI</th><td>0.0002049003</td><td> 1</td><td> 0.01618965</td><td>8.995238e-01</td></tr>\n",
              "\t<tr><th scope=row>Residuals</th><td>0.4176562326</td><td>33</td><td>         NA</td><td>          NA</td></tr>\n",
              "</tbody>\n",
              "</table>\n"
            ],
            "text/markdown": "\nA anova: 4 × 4\n\n| <!--/--> | Sum Sq &lt;dbl&gt; | Df &lt;dbl&gt; | F value &lt;dbl&gt; | Pr(&gt;F) &lt;dbl&gt; |\n|---|---|---|---|---|\n| (Intercept) | 0.7807047525 |  1 | 61.68531635 | 4.708092e-09 |\n| Plaque | 0.1474691330 |  3 |  3.88396087 | 1.753820e-02 |\n| AI | 0.0002049003 |  1 |  0.01618965 | 8.995238e-01 |\n| Residuals | 0.4176562326 | 33 |          NA |           NA |\n\n",
            "text/latex": "A anova: 4 × 4\n\\begin{tabular}{r|llll}\n  & Sum Sq & Df & F value & Pr(>F)\\\\\n  & <dbl> & <dbl> & <dbl> & <dbl>\\\\\n\\hline\n\t(Intercept) & 0.7807047525 &  1 & 61.68531635 & 4.708092e-09\\\\\n\tPlaque & 0.1474691330 &  3 &  3.88396087 & 1.753820e-02\\\\\n\tAI & 0.0002049003 &  1 &  0.01618965 & 8.995238e-01\\\\\n\tResiduals & 0.4176562326 & 33 &          NA &           NA\\\\\n\\end{tabular}\n",
            "text/plain": [
              "            Sum Sq       Df F value     Pr(>F)      \n",
              "(Intercept) 0.7807047525  1 61.68531635 4.708092e-09\n",
              "Plaque      0.1474691330  3  3.88396087 1.753820e-02\n",
              "AI          0.0002049003  1  0.01618965 8.995238e-01\n",
              "Residuals   0.4176562326 33          NA           NA"
            ]
          },
          "metadata": {}
        }
      ]
    },
    {
      "cell_type": "markdown",
      "source": [
        "### MANOVA  \n",
        "Проанализируем данные хроматографии"
      ],
      "metadata": {
        "id": "bsMIy1Xv2dSH"
      }
    },
    {
      "cell_type": "code",
      "source": [
        "df_ch <- data %>%\n",
        "  dplyr::select(GPHDL1, GPHDL2, GPHDL3, GPHDL4, GPHDL5, GPHDL6, GPHDL7, GPHDL8, GPHDL9, GPHDL10, GPHDL11, GPHDL12,\n",
        "  GPHDL13, GPHDL14, GPHDL15, GPHDL16, GPHDL17, GPHDL18, GPHDL19, GPHDL20, GPHDL21, GPHDL22,\n",
        "  sum_auc.HDLi, LB.HDLi, HB.HDLi, G1.HDLi, G2.HDLi, G3.HDLi, S0.HDLi, S1.HDLi, S2.HDLi, S3.HDLi, B.HDLi, F.HDLi, HM.HDLi,\n",
        "  GPLDL1, GPLDL2, GPLDL3, GPLDL4, GPLDL5, GPLDL6, GPLDL7, GPLDL8, GPLDL9, GPLDL10, GPLDL11, GPLDL12,\n",
        "  GPLDL13, GPLDL14, GPLDL15, GPLDL16, GPLDL17, GPLDL18, GPLDL19, GPLDL20, GPLDL21, GPLDL22,\n",
        "  sum_auc.LDLi, LB.LDLi, HB.LDLi, G1.LDLi, G2.LDLi, G3.LDLi, S0.LDLi, S1.LDLi, S2.LDLi, S3.LDLi, B.LDLi, F.LDLi, HM.LDLi,\n",
        "  BMI, AI, carotid.IMT.mean, Plaque)\n",
        "df_ch"
      ],
      "metadata": {
        "colab": {
          "base_uri": "https://localhost:8080/",
          "height": 1000
        },
        "id": "hYBo-hwZ2opr",
        "outputId": "9b484cde-b4b4-48a4-e870-1f354539b227"
      },
      "execution_count": 25,
      "outputs": [
        {
          "output_type": "display_data",
          "data": {
            "text/html": [
              "<table class=\"dataframe\">\n",
              "<caption>A tibble: 38 × 74</caption>\n",
              "<thead>\n",
              "\t<tr><th scope=col>GPHDL1</th><th scope=col>GPHDL2</th><th scope=col>GPHDL3</th><th scope=col>GPHDL4</th><th scope=col>GPHDL5</th><th scope=col>GPHDL6</th><th scope=col>GPHDL7</th><th scope=col>GPHDL8</th><th scope=col>GPHDL9</th><th scope=col>GPHDL10</th><th scope=col>⋯</th><th scope=col>S1.LDLi</th><th scope=col>S2.LDLi</th><th scope=col>S3.LDLi</th><th scope=col>B.LDLi</th><th scope=col>F.LDLi</th><th scope=col>HM.LDLi</th><th scope=col>BMI</th><th scope=col>AI</th><th scope=col>carotid.IMT.mean</th><th scope=col>Plaque</th></tr>\n",
              "\t<tr><th scope=col>&lt;dbl&gt;</th><th scope=col>&lt;dbl&gt;</th><th scope=col>&lt;dbl&gt;</th><th scope=col>&lt;dbl&gt;</th><th scope=col>&lt;dbl&gt;</th><th scope=col>&lt;dbl&gt;</th><th scope=col>&lt;dbl&gt;</th><th scope=col>&lt;dbl&gt;</th><th scope=col>&lt;dbl&gt;</th><th scope=col>&lt;dbl&gt;</th><th scope=col>⋯</th><th scope=col>&lt;dbl&gt;</th><th scope=col>&lt;dbl&gt;</th><th scope=col>&lt;dbl&gt;</th><th scope=col>&lt;dbl&gt;</th><th scope=col>&lt;dbl&gt;</th><th scope=col>&lt;dbl&gt;</th><th scope=col>&lt;dbl&gt;</th><th scope=col>&lt;dbl&gt;</th><th scope=col>&lt;dbl&gt;</th><th scope=col>&lt;fct&gt;</th></tr>\n",
              "</thead>\n",
              "<tbody>\n",
              "\t<tr><td>0.3800000</td><td>1.780000</td><td>0.1400000</td><td>0.05000000</td><td>0.730000</td><td>2.900000</td><td>1.570000</td><td>2.570000</td><td>5.460000</td><td>18.64000</td><td>⋯</td><td>28.180</td><td>42.460</td><td>1.950</td><td>0.020</td><td>1.67</td><td>13.02</td><td>31.61579</td><td>1.6232772</td><td>0.6425000</td><td>1</td></tr>\n",
              "\t<tr><td>       NA</td><td>      NA</td><td>       NA</td><td>        NA</td><td>      NA</td><td>      NA</td><td>      NA</td><td>      NA</td><td>      NA</td><td>      NA</td><td>⋯</td><td>    NA</td><td>    NA</td><td>   NA</td><td>   NA</td><td>  NA</td><td>   NA</td><td>34.64311</td><td>3.6372361</td><td>0.8400000</td><td>1</td></tr>\n",
              "\t<tr><td>0.4300000</td><td>1.300000</td><td>0.2300000</td><td>0.05000000</td><td>0.590000</td><td>2.620000</td><td>1.620000</td><td>3.860000</td><td>4.200000</td><td>18.92000</td><td>⋯</td><td>30.430</td><td>39.860</td><td>1.560</td><td>0.020</td><td>1.69</td><td>14.16</td><td>29.74420</td><td>3.5751295</td><td>0.8500000</td><td>3</td></tr>\n",
              "\t<tr><td>0.4100000</td><td>3.860000</td><td>0.3100000</td><td>0.10000000</td><td>0.960000</td><td>3.190000</td><td>2.420000</td><td>3.750000</td><td>6.280000</td><td>23.81000</td><td>⋯</td><td>29.370</td><td>41.130</td><td>2.200</td><td>0.020</td><td>1.89</td><td>13.89</td><td>22.96875</td><td>3.6223507</td><td>0.8241667</td><td>2</td></tr>\n",
              "\t<tr><td>0.5000000</td><td>1.790000</td><td>0.2300000</td><td>0.06000000</td><td>0.770000</td><td>2.960000</td><td>1.760000</td><td>3.000000</td><td>5.330000</td><td>18.72000</td><td>⋯</td><td>28.540</td><td>40.640</td><td>1.950</td><td>0.020</td><td>2.03</td><td>14.25</td><td>21.91358</td><td>1.2630208</td><td>1.0983333</td><td>1</td></tr>\n",
              "\t<tr><td>0.4000000</td><td>3.690000</td><td>0.1700000</td><td>0.03000000</td><td>0.800000</td><td>3.040000</td><td>1.620000</td><td>3.230000</td><td>6.140000</td><td>21.28000</td><td>⋯</td><td>26.710</td><td>40.390</td><td>2.510</td><td>0.020</td><td>2.70</td><td>16.06</td><td>25.00000</td><td>3.2310178</td><td>0.8475000</td><td>2</td></tr>\n",
              "\t<tr><td>0.3700000</td><td>2.960000</td><td>0.2200000</td><td>0.05000000</td><td>1.000000</td><td>3.000000</td><td>2.110000</td><td>3.060000</td><td>6.910000</td><td>22.21000</td><td>⋯</td><td>28.440</td><td>39.990</td><td>2.330</td><td>0.020</td><td>1.61</td><td>13.82</td><td>24.91077</td><td>3.2078560</td><td>0.6725000</td><td>1</td></tr>\n",
              "\t<tr><td>0.5600000</td><td>2.760000</td><td>0.4600000</td><td>0.08000000</td><td>1.110000</td><td>2.960000</td><td>3.560000</td><td>4.170000</td><td>6.100000</td><td>23.37000</td><td>⋯</td><td>32.270</td><td>37.290</td><td>1.520</td><td>0.030</td><td>1.61</td><td>14.59</td><td>23.24341</td><td>3.1754386</td><td>0.7850000</td><td>1</td></tr>\n",
              "\t<tr><td>0.4100000</td><td>2.140000</td><td>0.2200000</td><td>0.12000000</td><td>0.930000</td><td>2.550000</td><td>2.060000</td><td>2.950000</td><td>6.250000</td><td>19.91000</td><td>⋯</td><td>27.990</td><td>41.190</td><td>2.180</td><td>0.050</td><td>1.55</td><td>13.26</td><td>35.11111</td><td>2.8315946</td><td>0.8491667</td><td>1</td></tr>\n",
              "\t<tr><td>0.4200000</td><td>1.710000</td><td>0.2000000</td><td>0.06000000</td><td>0.640000</td><td>2.840000</td><td>1.590000</td><td>3.480000</td><td>4.660000</td><td>18.15000</td><td>⋯</td><td>28.110</td><td>43.200</td><td>2.230</td><td>0.020</td><td>2.30</td><td>13.11</td><td>29.81341</td><td>2.7872340</td><td>0.7041667</td><td>2</td></tr>\n",
              "\t<tr><td>0.3500000</td><td>2.000000</td><td>0.2100000</td><td>0.06000000</td><td>0.670000</td><td>2.570000</td><td>1.710000</td><td>3.790000</td><td>5.010000</td><td>19.88000</td><td>⋯</td><td>28.500</td><td>40.140</td><td>1.960</td><td>0.030</td><td>1.72</td><td>14.21</td><td>20.90420</td><td>0.5657407</td><td>0.7458333</td><td>2</td></tr>\n",
              "\t<tr><td>0.3000000</td><td>1.940000</td><td>0.1500000</td><td>0.07000000</td><td>0.790000</td><td>2.330000</td><td>1.610000</td><td>2.720000</td><td>6.610000</td><td>19.08000</td><td>⋯</td><td>26.590</td><td>42.620</td><td>2.580</td><td>0.020</td><td>2.02</td><td>13.52</td><td>28.39872</td><td>2.7734977</td><td>0.7758333</td><td>2</td></tr>\n",
              "\t<tr><td>0.5500000</td><td>2.580000</td><td>0.2300000</td><td>0.08000000</td><td>0.830000</td><td>2.980000</td><td>2.050000</td><td>3.420000</td><td>5.640000</td><td>21.98000</td><td>⋯</td><td>29.470</td><td>39.760</td><td>1.910</td><td>0.060</td><td>1.93</td><td>14.28</td><td>28.16249</td><td>4.4594595</td><td>0.9241667</td><td>2</td></tr>\n",
              "\t<tr><td>0.5200000</td><td>3.030000</td><td>0.3100000</td><td>0.09000000</td><td>1.010000</td><td>3.080000</td><td>2.420000</td><td>3.510000</td><td>5.810000</td><td>21.29000</td><td>⋯</td><td>28.160</td><td>42.470</td><td>2.380</td><td>0.030</td><td>1.93</td><td>13.42</td><td>27.71769</td><td>4.0067912</td><td>0.8466667</td><td>2</td></tr>\n",
              "\t<tr><td>0.4400000</td><td>2.990000</td><td>0.3100000</td><td>0.05000000</td><td>0.860000</td><td>2.910000</td><td>2.480000</td><td>3.630000</td><td>5.590000</td><td>24.32000</td><td>⋯</td><td>33.520</td><td>35.450</td><td>1.470</td><td>0.020</td><td>1.24</td><td>14.35</td><td>22.58955</td><td>4.1525424</td><td>0.9766667</td><td>2</td></tr>\n",
              "\t<tr><td>0.4750000</td><td>2.380000</td><td>0.2300000</td><td>0.04500000</td><td>0.715000</td><td>2.865000</td><td>2.110000</td><td>3.820000</td><td>5.470000</td><td>21.36000</td><td>⋯</td><td>29.360</td><td>39.770</td><td>2.190</td><td>0.030</td><td>2.99</td><td>14.47</td><td>20.93664</td><td>1.5882353</td><td>0.8741667</td><td>3</td></tr>\n",
              "\t<tr><td>0.5333333</td><td>2.193333</td><td>0.1866667</td><td>0.08666667</td><td>0.960000</td><td>2.783333</td><td>2.370000</td><td>2.843333</td><td>5.963333</td><td>21.21667</td><td>⋯</td><td>29.100</td><td>40.840</td><td>1.950</td><td>0.030</td><td>1.99</td><td>13.02</td><td>38.86603</td><td>2.2790698</td><td>0.9991667</td><td>1</td></tr>\n",
              "\t<tr><td>       NA</td><td>      NA</td><td>       NA</td><td>        NA</td><td>      NA</td><td>      NA</td><td>      NA</td><td>      NA</td><td>      NA</td><td>      NA</td><td>⋯</td><td>28.225</td><td>39.670</td><td>2.625</td><td>0.035</td><td>2.11</td><td>14.64</td><td>35.08772</td><td>4.1330645</td><td>0.9166667</td><td>2</td></tr>\n",
              "\t<tr><td>0.3500000</td><td>1.350000</td><td>0.1700000</td><td>0.07000000</td><td>0.660000</td><td>2.270000</td><td>1.720000</td><td>3.080000</td><td>5.290000</td><td>19.62000</td><td>⋯</td><td>28.570</td><td>42.040</td><td>2.110</td><td>0.020</td><td>2.34</td><td>13.59</td><td>22.23099</td><td>1.9671533</td><td>0.8258333</td><td>1</td></tr>\n",
              "\t<tr><td>0.7233333</td><td>2.583333</td><td>0.3033333</td><td>0.17000000</td><td>1.183333</td><td>2.753333</td><td>2.066667</td><td>3.786667</td><td>6.123333</td><td>20.50000</td><td>⋯</td><td>29.245</td><td>38.985</td><td>2.185</td><td>0.030</td><td>2.19</td><td>15.15</td><td>26.81359</td><td>1.4141414</td><td>0.6458333</td><td>1</td></tr>\n",
              "\t<tr><td>       NA</td><td>      NA</td><td>       NA</td><td>        NA</td><td>      NA</td><td>      NA</td><td>      NA</td><td>      NA</td><td>      NA</td><td>      NA</td><td>⋯</td><td>28.570</td><td>40.240</td><td>2.530</td><td>0.040</td><td>2.38</td><td>13.10</td><td>35.01730</td><td>2.2638681</td><td>0.8391667</td><td>2</td></tr>\n",
              "\t<tr><td>0.5700000</td><td>2.420000</td><td>0.3000000</td><td>0.08000000</td><td>0.900000</td><td>2.940000</td><td>2.430000</td><td>3.790000</td><td>5.860000</td><td>20.96000</td><td>⋯</td><td>29.240</td><td>39.910</td><td>2.080</td><td>0.030</td><td>1.69</td><td>14.11</td><td>27.63980</td><td>1.8385093</td><td>0.8016667</td><td>1</td></tr>\n",
              "\t<tr><td>       NA</td><td>      NA</td><td>       NA</td><td>        NA</td><td>      NA</td><td>      NA</td><td>      NA</td><td>      NA</td><td>      NA</td><td>      NA</td><td>⋯</td><td>    NA</td><td>    NA</td><td>   NA</td><td>   NA</td><td>  NA</td><td>   NA</td><td>23.10843</td><td>1.2887828</td><td>0.8908333</td><td>2</td></tr>\n",
              "\t<tr><td>0.5100000</td><td>2.370000</td><td>0.2300000</td><td>0.09000000</td><td>0.840000</td><td>3.130000</td><td>2.480000</td><td>3.210000</td><td>5.500000</td><td>22.67000</td><td>⋯</td><td>28.810</td><td>40.410</td><td>1.770</td><td>0.040</td><td>1.38</td><td>14.83</td><td>20.75298</td><td>2.2466216</td><td>1.0008333</td><td>1</td></tr>\n",
              "\t<tr><td>       NA</td><td>      NA</td><td>       NA</td><td>        NA</td><td>      NA</td><td>      NA</td><td>      NA</td><td>      NA</td><td>      NA</td><td>      NA</td><td>⋯</td><td>    NA</td><td>    NA</td><td>   NA</td><td>   NA</td><td>  NA</td><td>   NA</td><td>30.44983</td><td>3.0058939</td><td>0.8083333</td><td>2</td></tr>\n",
              "\t<tr><td>0.4400000</td><td>2.230000</td><td>0.2400000</td><td>0.04000000</td><td>0.810000</td><td>3.170000</td><td>1.860000</td><td>3.820000</td><td>6.160000</td><td>20.53000</td><td>⋯</td><td>29.210</td><td>41.010</td><td>2.340</td><td>0.020</td><td>2.03</td><td>13.33</td><td>21.71925</td><td>1.1276596</td><td>0.5833333</td><td>0</td></tr>\n",
              "\t<tr><td>       NA</td><td>      NA</td><td>       NA</td><td>        NA</td><td>      NA</td><td>      NA</td><td>      NA</td><td>      NA</td><td>      NA</td><td>      NA</td><td>⋯</td><td>    NA</td><td>    NA</td><td>   NA</td><td>   NA</td><td>  NA</td><td>   NA</td><td>20.28123</td><td>1.5922108</td><td>0.9125000</td><td>1</td></tr>\n",
              "\t<tr><td>0.5100000</td><td>2.240000</td><td>0.3200000</td><td>0.06000000</td><td>0.840000</td><td>3.010000</td><td>2.060000</td><td>4.360000</td><td>6.220000</td><td>21.61000</td><td>⋯</td><td>29.580</td><td>40.480</td><td>2.190</td><td>0.020</td><td>2.27</td><td>13.54</td><td>23.43750</td><td>2.2173913</td><td>0.8500000</td><td>1</td></tr>\n",
              "\t<tr><td>       NA</td><td>      NA</td><td>       NA</td><td>        NA</td><td>      NA</td><td>      NA</td><td>      NA</td><td>      NA</td><td>      NA</td><td>      NA</td><td>⋯</td><td>    NA</td><td>    NA</td><td>   NA</td><td>   NA</td><td>  NA</td><td>   NA</td><td>28.57796</td><td>2.9888712</td><td>0.7633333</td><td>2</td></tr>\n",
              "\t<tr><td>0.4500000</td><td>3.070000</td><td>0.2600000</td><td>0.07000000</td><td>1.000000</td><td>2.750000</td><td>2.360000</td><td>4.030000</td><td>6.760000</td><td>21.46000</td><td>⋯</td><td>28.190</td><td>41.210</td><td>2.200</td><td>0.020</td><td>2.36</td><td>14.45</td><td>28.57668</td><td>2.3575949</td><td>0.7116667</td><td>2</td></tr>\n",
              "\t<tr><td>0.4500000</td><td>1.700000</td><td>0.2100000</td><td>0.06000000</td><td>0.640000</td><td>3.120000</td><td>1.590000</td><td>4.000000</td><td>4.860000</td><td>19.73000</td><td>⋯</td><td>29.690</td><td>40.060</td><td>1.640</td><td>0.020</td><td>1.55</td><td>14.70</td><td>22.21074</td><td>2.2222222</td><td>0.6408333</td><td>1</td></tr>\n",
              "\t<tr><td>       NA</td><td>      NA</td><td>       NA</td><td>        NA</td><td>      NA</td><td>      NA</td><td>      NA</td><td>      NA</td><td>      NA</td><td>      NA</td><td>⋯</td><td>    NA</td><td>    NA</td><td>   NA</td><td>   NA</td><td>  NA</td><td>   NA</td><td>34.72088</td><td>2.2400000</td><td>0.6325000</td><td>0</td></tr>\n",
              "\t<tr><td>0.4700000</td><td>2.530000</td><td>0.2200000</td><td>0.05000000</td><td>0.800000</td><td>2.750000</td><td>2.580000</td><td>3.490000</td><td>5.590000</td><td>21.89000</td><td>⋯</td><td>28.160</td><td>41.210</td><td>2.040</td><td>0.030</td><td>2.26</td><td>15.06</td><td>28.65014</td><td>3.5477583</td><td>0.7933333</td><td>2</td></tr>\n",
              "\t<tr><td>0.4800000</td><td>2.840000</td><td>0.1500000</td><td>0.06000000</td><td>0.980000</td><td>2.900000</td><td>2.080000</td><td>2.900000</td><td>7.230000</td><td>20.67000</td><td>⋯</td><td>24.700</td><td>43.560</td><td>2.520</td><td>0.060</td><td>2.73</td><td>13.89</td><td>34.33510</td><td>1.8832117</td><td>0.8825000</td><td>2</td></tr>\n",
              "\t<tr><td>       NA</td><td>      NA</td><td>       NA</td><td>        NA</td><td>      NA</td><td>      NA</td><td>      NA</td><td>      NA</td><td>      NA</td><td>      NA</td><td>⋯</td><td>    NA</td><td>    NA</td><td>   NA</td><td>   NA</td><td>  NA</td><td>   NA</td><td>24.02381</td><td>2.3234421</td><td>0.5941667</td><td>0</td></tr>\n",
              "\t<tr><td>0.4300000</td><td>3.240000</td><td>0.2900000</td><td>0.06000000</td><td>0.980000</td><td>2.840000</td><td>2.750000</td><td>3.770000</td><td>6.390000</td><td>22.75000</td><td>⋯</td><td>29.860</td><td>40.350</td><td>2.650</td><td>0.020</td><td>1.55</td><td>13.37</td><td>28.47989</td><td>3.1842576</td><td>0.7475000</td><td>2</td></tr>\n",
              "\t<tr><td>       NA</td><td>      NA</td><td>       NA</td><td>        NA</td><td>      NA</td><td>      NA</td><td>      NA</td><td>      NA</td><td>      NA</td><td>      NA</td><td>⋯</td><td>    NA</td><td>    NA</td><td>   NA</td><td>   NA</td><td>  NA</td><td>   NA</td><td>36.93709</td><td>1.6804452</td><td>0.9716667</td><td>3</td></tr>\n",
              "\t<tr><td>       NA</td><td>      NA</td><td>       NA</td><td>        NA</td><td>      NA</td><td>      NA</td><td>      NA</td><td>      NA</td><td>      NA</td><td>      NA</td><td>⋯</td><td>    NA</td><td>    NA</td><td>   NA</td><td>   NA</td><td>  NA</td><td>   NA</td><td>27.18090</td><td>3.2416503</td><td>0.6158333</td><td>1</td></tr>\n",
              "</tbody>\n",
              "</table>\n"
            ],
            "text/markdown": "\nA tibble: 38 × 74\n\n| GPHDL1 &lt;dbl&gt; | GPHDL2 &lt;dbl&gt; | GPHDL3 &lt;dbl&gt; | GPHDL4 &lt;dbl&gt; | GPHDL5 &lt;dbl&gt; | GPHDL6 &lt;dbl&gt; | GPHDL7 &lt;dbl&gt; | GPHDL8 &lt;dbl&gt; | GPHDL9 &lt;dbl&gt; | GPHDL10 &lt;dbl&gt; | ⋯ ⋯ | S1.LDLi &lt;dbl&gt; | S2.LDLi &lt;dbl&gt; | S3.LDLi &lt;dbl&gt; | B.LDLi &lt;dbl&gt; | F.LDLi &lt;dbl&gt; | HM.LDLi &lt;dbl&gt; | BMI &lt;dbl&gt; | AI &lt;dbl&gt; | carotid.IMT.mean &lt;dbl&gt; | Plaque &lt;fct&gt; |\n|---|---|---|---|---|---|---|---|---|---|---|---|---|---|---|---|---|---|---|---|---|\n| 0.3800000 | 1.780000 | 0.1400000 | 0.05000000 | 0.730000 | 2.900000 | 1.570000 | 2.570000 | 5.460000 | 18.64000 | ⋯ | 28.180 | 42.460 | 1.950 | 0.020 | 1.67 | 13.02 | 31.61579 | 1.6232772 | 0.6425000 | 1 |\n|        NA |       NA |        NA |         NA |       NA |       NA |       NA |       NA |       NA |       NA | ⋯ |     NA |     NA |    NA |    NA |   NA |    NA | 34.64311 | 3.6372361 | 0.8400000 | 1 |\n| 0.4300000 | 1.300000 | 0.2300000 | 0.05000000 | 0.590000 | 2.620000 | 1.620000 | 3.860000 | 4.200000 | 18.92000 | ⋯ | 30.430 | 39.860 | 1.560 | 0.020 | 1.69 | 14.16 | 29.74420 | 3.5751295 | 0.8500000 | 3 |\n| 0.4100000 | 3.860000 | 0.3100000 | 0.10000000 | 0.960000 | 3.190000 | 2.420000 | 3.750000 | 6.280000 | 23.81000 | ⋯ | 29.370 | 41.130 | 2.200 | 0.020 | 1.89 | 13.89 | 22.96875 | 3.6223507 | 0.8241667 | 2 |\n| 0.5000000 | 1.790000 | 0.2300000 | 0.06000000 | 0.770000 | 2.960000 | 1.760000 | 3.000000 | 5.330000 | 18.72000 | ⋯ | 28.540 | 40.640 | 1.950 | 0.020 | 2.03 | 14.25 | 21.91358 | 1.2630208 | 1.0983333 | 1 |\n| 0.4000000 | 3.690000 | 0.1700000 | 0.03000000 | 0.800000 | 3.040000 | 1.620000 | 3.230000 | 6.140000 | 21.28000 | ⋯ | 26.710 | 40.390 | 2.510 | 0.020 | 2.70 | 16.06 | 25.00000 | 3.2310178 | 0.8475000 | 2 |\n| 0.3700000 | 2.960000 | 0.2200000 | 0.05000000 | 1.000000 | 3.000000 | 2.110000 | 3.060000 | 6.910000 | 22.21000 | ⋯ | 28.440 | 39.990 | 2.330 | 0.020 | 1.61 | 13.82 | 24.91077 | 3.2078560 | 0.6725000 | 1 |\n| 0.5600000 | 2.760000 | 0.4600000 | 0.08000000 | 1.110000 | 2.960000 | 3.560000 | 4.170000 | 6.100000 | 23.37000 | ⋯ | 32.270 | 37.290 | 1.520 | 0.030 | 1.61 | 14.59 | 23.24341 | 3.1754386 | 0.7850000 | 1 |\n| 0.4100000 | 2.140000 | 0.2200000 | 0.12000000 | 0.930000 | 2.550000 | 2.060000 | 2.950000 | 6.250000 | 19.91000 | ⋯ | 27.990 | 41.190 | 2.180 | 0.050 | 1.55 | 13.26 | 35.11111 | 2.8315946 | 0.8491667 | 1 |\n| 0.4200000 | 1.710000 | 0.2000000 | 0.06000000 | 0.640000 | 2.840000 | 1.590000 | 3.480000 | 4.660000 | 18.15000 | ⋯ | 28.110 | 43.200 | 2.230 | 0.020 | 2.30 | 13.11 | 29.81341 | 2.7872340 | 0.7041667 | 2 |\n| 0.3500000 | 2.000000 | 0.2100000 | 0.06000000 | 0.670000 | 2.570000 | 1.710000 | 3.790000 | 5.010000 | 19.88000 | ⋯ | 28.500 | 40.140 | 1.960 | 0.030 | 1.72 | 14.21 | 20.90420 | 0.5657407 | 0.7458333 | 2 |\n| 0.3000000 | 1.940000 | 0.1500000 | 0.07000000 | 0.790000 | 2.330000 | 1.610000 | 2.720000 | 6.610000 | 19.08000 | ⋯ | 26.590 | 42.620 | 2.580 | 0.020 | 2.02 | 13.52 | 28.39872 | 2.7734977 | 0.7758333 | 2 |\n| 0.5500000 | 2.580000 | 0.2300000 | 0.08000000 | 0.830000 | 2.980000 | 2.050000 | 3.420000 | 5.640000 | 21.98000 | ⋯ | 29.470 | 39.760 | 1.910 | 0.060 | 1.93 | 14.28 | 28.16249 | 4.4594595 | 0.9241667 | 2 |\n| 0.5200000 | 3.030000 | 0.3100000 | 0.09000000 | 1.010000 | 3.080000 | 2.420000 | 3.510000 | 5.810000 | 21.29000 | ⋯ | 28.160 | 42.470 | 2.380 | 0.030 | 1.93 | 13.42 | 27.71769 | 4.0067912 | 0.8466667 | 2 |\n| 0.4400000 | 2.990000 | 0.3100000 | 0.05000000 | 0.860000 | 2.910000 | 2.480000 | 3.630000 | 5.590000 | 24.32000 | ⋯ | 33.520 | 35.450 | 1.470 | 0.020 | 1.24 | 14.35 | 22.58955 | 4.1525424 | 0.9766667 | 2 |\n| 0.4750000 | 2.380000 | 0.2300000 | 0.04500000 | 0.715000 | 2.865000 | 2.110000 | 3.820000 | 5.470000 | 21.36000 | ⋯ | 29.360 | 39.770 | 2.190 | 0.030 | 2.99 | 14.47 | 20.93664 | 1.5882353 | 0.8741667 | 3 |\n| 0.5333333 | 2.193333 | 0.1866667 | 0.08666667 | 0.960000 | 2.783333 | 2.370000 | 2.843333 | 5.963333 | 21.21667 | ⋯ | 29.100 | 40.840 | 1.950 | 0.030 | 1.99 | 13.02 | 38.86603 | 2.2790698 | 0.9991667 | 1 |\n|        NA |       NA |        NA |         NA |       NA |       NA |       NA |       NA |       NA |       NA | ⋯ | 28.225 | 39.670 | 2.625 | 0.035 | 2.11 | 14.64 | 35.08772 | 4.1330645 | 0.9166667 | 2 |\n| 0.3500000 | 1.350000 | 0.1700000 | 0.07000000 | 0.660000 | 2.270000 | 1.720000 | 3.080000 | 5.290000 | 19.62000 | ⋯ | 28.570 | 42.040 | 2.110 | 0.020 | 2.34 | 13.59 | 22.23099 | 1.9671533 | 0.8258333 | 1 |\n| 0.7233333 | 2.583333 | 0.3033333 | 0.17000000 | 1.183333 | 2.753333 | 2.066667 | 3.786667 | 6.123333 | 20.50000 | ⋯ | 29.245 | 38.985 | 2.185 | 0.030 | 2.19 | 15.15 | 26.81359 | 1.4141414 | 0.6458333 | 1 |\n|        NA |       NA |        NA |         NA |       NA |       NA |       NA |       NA |       NA |       NA | ⋯ | 28.570 | 40.240 | 2.530 | 0.040 | 2.38 | 13.10 | 35.01730 | 2.2638681 | 0.8391667 | 2 |\n| 0.5700000 | 2.420000 | 0.3000000 | 0.08000000 | 0.900000 | 2.940000 | 2.430000 | 3.790000 | 5.860000 | 20.96000 | ⋯ | 29.240 | 39.910 | 2.080 | 0.030 | 1.69 | 14.11 | 27.63980 | 1.8385093 | 0.8016667 | 1 |\n|        NA |       NA |        NA |         NA |       NA |       NA |       NA |       NA |       NA |       NA | ⋯ |     NA |     NA |    NA |    NA |   NA |    NA | 23.10843 | 1.2887828 | 0.8908333 | 2 |\n| 0.5100000 | 2.370000 | 0.2300000 | 0.09000000 | 0.840000 | 3.130000 | 2.480000 | 3.210000 | 5.500000 | 22.67000 | ⋯ | 28.810 | 40.410 | 1.770 | 0.040 | 1.38 | 14.83 | 20.75298 | 2.2466216 | 1.0008333 | 1 |\n|        NA |       NA |        NA |         NA |       NA |       NA |       NA |       NA |       NA |       NA | ⋯ |     NA |     NA |    NA |    NA |   NA |    NA | 30.44983 | 3.0058939 | 0.8083333 | 2 |\n| 0.4400000 | 2.230000 | 0.2400000 | 0.04000000 | 0.810000 | 3.170000 | 1.860000 | 3.820000 | 6.160000 | 20.53000 | ⋯ | 29.210 | 41.010 | 2.340 | 0.020 | 2.03 | 13.33 | 21.71925 | 1.1276596 | 0.5833333 | 0 |\n|        NA |       NA |        NA |         NA |       NA |       NA |       NA |       NA |       NA |       NA | ⋯ |     NA |     NA |    NA |    NA |   NA |    NA | 20.28123 | 1.5922108 | 0.9125000 | 1 |\n| 0.5100000 | 2.240000 | 0.3200000 | 0.06000000 | 0.840000 | 3.010000 | 2.060000 | 4.360000 | 6.220000 | 21.61000 | ⋯ | 29.580 | 40.480 | 2.190 | 0.020 | 2.27 | 13.54 | 23.43750 | 2.2173913 | 0.8500000 | 1 |\n|        NA |       NA |        NA |         NA |       NA |       NA |       NA |       NA |       NA |       NA | ⋯ |     NA |     NA |    NA |    NA |   NA |    NA | 28.57796 | 2.9888712 | 0.7633333 | 2 |\n| 0.4500000 | 3.070000 | 0.2600000 | 0.07000000 | 1.000000 | 2.750000 | 2.360000 | 4.030000 | 6.760000 | 21.46000 | ⋯ | 28.190 | 41.210 | 2.200 | 0.020 | 2.36 | 14.45 | 28.57668 | 2.3575949 | 0.7116667 | 2 |\n| 0.4500000 | 1.700000 | 0.2100000 | 0.06000000 | 0.640000 | 3.120000 | 1.590000 | 4.000000 | 4.860000 | 19.73000 | ⋯ | 29.690 | 40.060 | 1.640 | 0.020 | 1.55 | 14.70 | 22.21074 | 2.2222222 | 0.6408333 | 1 |\n|        NA |       NA |        NA |         NA |       NA |       NA |       NA |       NA |       NA |       NA | ⋯ |     NA |     NA |    NA |    NA |   NA |    NA | 34.72088 | 2.2400000 | 0.6325000 | 0 |\n| 0.4700000 | 2.530000 | 0.2200000 | 0.05000000 | 0.800000 | 2.750000 | 2.580000 | 3.490000 | 5.590000 | 21.89000 | ⋯ | 28.160 | 41.210 | 2.040 | 0.030 | 2.26 | 15.06 | 28.65014 | 3.5477583 | 0.7933333 | 2 |\n| 0.4800000 | 2.840000 | 0.1500000 | 0.06000000 | 0.980000 | 2.900000 | 2.080000 | 2.900000 | 7.230000 | 20.67000 | ⋯ | 24.700 | 43.560 | 2.520 | 0.060 | 2.73 | 13.89 | 34.33510 | 1.8832117 | 0.8825000 | 2 |\n|        NA |       NA |        NA |         NA |       NA |       NA |       NA |       NA |       NA |       NA | ⋯ |     NA |     NA |    NA |    NA |   NA |    NA | 24.02381 | 2.3234421 | 0.5941667 | 0 |\n| 0.4300000 | 3.240000 | 0.2900000 | 0.06000000 | 0.980000 | 2.840000 | 2.750000 | 3.770000 | 6.390000 | 22.75000 | ⋯ | 29.860 | 40.350 | 2.650 | 0.020 | 1.55 | 13.37 | 28.47989 | 3.1842576 | 0.7475000 | 2 |\n|        NA |       NA |        NA |         NA |       NA |       NA |       NA |       NA |       NA |       NA | ⋯ |     NA |     NA |    NA |    NA |   NA |    NA | 36.93709 | 1.6804452 | 0.9716667 | 3 |\n|        NA |       NA |        NA |         NA |       NA |       NA |       NA |       NA |       NA |       NA | ⋯ |     NA |     NA |    NA |    NA |   NA |    NA | 27.18090 | 3.2416503 | 0.6158333 | 1 |\n\n",
            "text/latex": "A tibble: 38 × 74\n\\begin{tabular}{lllllllllllllllllllll}\n GPHDL1 & GPHDL2 & GPHDL3 & GPHDL4 & GPHDL5 & GPHDL6 & GPHDL7 & GPHDL8 & GPHDL9 & GPHDL10 & ⋯ & S1.LDLi & S2.LDLi & S3.LDLi & B.LDLi & F.LDLi & HM.LDLi & BMI & AI & carotid.IMT.mean & Plaque\\\\\n <dbl> & <dbl> & <dbl> & <dbl> & <dbl> & <dbl> & <dbl> & <dbl> & <dbl> & <dbl> & ⋯ & <dbl> & <dbl> & <dbl> & <dbl> & <dbl> & <dbl> & <dbl> & <dbl> & <dbl> & <fct>\\\\\n\\hline\n\t 0.3800000 & 1.780000 & 0.1400000 & 0.05000000 & 0.730000 & 2.900000 & 1.570000 & 2.570000 & 5.460000 & 18.64000 & ⋯ & 28.180 & 42.460 & 1.950 & 0.020 & 1.67 & 13.02 & 31.61579 & 1.6232772 & 0.6425000 & 1\\\\\n\t        NA &       NA &        NA &         NA &       NA &       NA &       NA &       NA &       NA &       NA & ⋯ &     NA &     NA &    NA &    NA &   NA &    NA & 34.64311 & 3.6372361 & 0.8400000 & 1\\\\\n\t 0.4300000 & 1.300000 & 0.2300000 & 0.05000000 & 0.590000 & 2.620000 & 1.620000 & 3.860000 & 4.200000 & 18.92000 & ⋯ & 30.430 & 39.860 & 1.560 & 0.020 & 1.69 & 14.16 & 29.74420 & 3.5751295 & 0.8500000 & 3\\\\\n\t 0.4100000 & 3.860000 & 0.3100000 & 0.10000000 & 0.960000 & 3.190000 & 2.420000 & 3.750000 & 6.280000 & 23.81000 & ⋯ & 29.370 & 41.130 & 2.200 & 0.020 & 1.89 & 13.89 & 22.96875 & 3.6223507 & 0.8241667 & 2\\\\\n\t 0.5000000 & 1.790000 & 0.2300000 & 0.06000000 & 0.770000 & 2.960000 & 1.760000 & 3.000000 & 5.330000 & 18.72000 & ⋯ & 28.540 & 40.640 & 1.950 & 0.020 & 2.03 & 14.25 & 21.91358 & 1.2630208 & 1.0983333 & 1\\\\\n\t 0.4000000 & 3.690000 & 0.1700000 & 0.03000000 & 0.800000 & 3.040000 & 1.620000 & 3.230000 & 6.140000 & 21.28000 & ⋯ & 26.710 & 40.390 & 2.510 & 0.020 & 2.70 & 16.06 & 25.00000 & 3.2310178 & 0.8475000 & 2\\\\\n\t 0.3700000 & 2.960000 & 0.2200000 & 0.05000000 & 1.000000 & 3.000000 & 2.110000 & 3.060000 & 6.910000 & 22.21000 & ⋯ & 28.440 & 39.990 & 2.330 & 0.020 & 1.61 & 13.82 & 24.91077 & 3.2078560 & 0.6725000 & 1\\\\\n\t 0.5600000 & 2.760000 & 0.4600000 & 0.08000000 & 1.110000 & 2.960000 & 3.560000 & 4.170000 & 6.100000 & 23.37000 & ⋯ & 32.270 & 37.290 & 1.520 & 0.030 & 1.61 & 14.59 & 23.24341 & 3.1754386 & 0.7850000 & 1\\\\\n\t 0.4100000 & 2.140000 & 0.2200000 & 0.12000000 & 0.930000 & 2.550000 & 2.060000 & 2.950000 & 6.250000 & 19.91000 & ⋯ & 27.990 & 41.190 & 2.180 & 0.050 & 1.55 & 13.26 & 35.11111 & 2.8315946 & 0.8491667 & 1\\\\\n\t 0.4200000 & 1.710000 & 0.2000000 & 0.06000000 & 0.640000 & 2.840000 & 1.590000 & 3.480000 & 4.660000 & 18.15000 & ⋯ & 28.110 & 43.200 & 2.230 & 0.020 & 2.30 & 13.11 & 29.81341 & 2.7872340 & 0.7041667 & 2\\\\\n\t 0.3500000 & 2.000000 & 0.2100000 & 0.06000000 & 0.670000 & 2.570000 & 1.710000 & 3.790000 & 5.010000 & 19.88000 & ⋯ & 28.500 & 40.140 & 1.960 & 0.030 & 1.72 & 14.21 & 20.90420 & 0.5657407 & 0.7458333 & 2\\\\\n\t 0.3000000 & 1.940000 & 0.1500000 & 0.07000000 & 0.790000 & 2.330000 & 1.610000 & 2.720000 & 6.610000 & 19.08000 & ⋯ & 26.590 & 42.620 & 2.580 & 0.020 & 2.02 & 13.52 & 28.39872 & 2.7734977 & 0.7758333 & 2\\\\\n\t 0.5500000 & 2.580000 & 0.2300000 & 0.08000000 & 0.830000 & 2.980000 & 2.050000 & 3.420000 & 5.640000 & 21.98000 & ⋯ & 29.470 & 39.760 & 1.910 & 0.060 & 1.93 & 14.28 & 28.16249 & 4.4594595 & 0.9241667 & 2\\\\\n\t 0.5200000 & 3.030000 & 0.3100000 & 0.09000000 & 1.010000 & 3.080000 & 2.420000 & 3.510000 & 5.810000 & 21.29000 & ⋯ & 28.160 & 42.470 & 2.380 & 0.030 & 1.93 & 13.42 & 27.71769 & 4.0067912 & 0.8466667 & 2\\\\\n\t 0.4400000 & 2.990000 & 0.3100000 & 0.05000000 & 0.860000 & 2.910000 & 2.480000 & 3.630000 & 5.590000 & 24.32000 & ⋯ & 33.520 & 35.450 & 1.470 & 0.020 & 1.24 & 14.35 & 22.58955 & 4.1525424 & 0.9766667 & 2\\\\\n\t 0.4750000 & 2.380000 & 0.2300000 & 0.04500000 & 0.715000 & 2.865000 & 2.110000 & 3.820000 & 5.470000 & 21.36000 & ⋯ & 29.360 & 39.770 & 2.190 & 0.030 & 2.99 & 14.47 & 20.93664 & 1.5882353 & 0.8741667 & 3\\\\\n\t 0.5333333 & 2.193333 & 0.1866667 & 0.08666667 & 0.960000 & 2.783333 & 2.370000 & 2.843333 & 5.963333 & 21.21667 & ⋯ & 29.100 & 40.840 & 1.950 & 0.030 & 1.99 & 13.02 & 38.86603 & 2.2790698 & 0.9991667 & 1\\\\\n\t        NA &       NA &        NA &         NA &       NA &       NA &       NA &       NA &       NA &       NA & ⋯ & 28.225 & 39.670 & 2.625 & 0.035 & 2.11 & 14.64 & 35.08772 & 4.1330645 & 0.9166667 & 2\\\\\n\t 0.3500000 & 1.350000 & 0.1700000 & 0.07000000 & 0.660000 & 2.270000 & 1.720000 & 3.080000 & 5.290000 & 19.62000 & ⋯ & 28.570 & 42.040 & 2.110 & 0.020 & 2.34 & 13.59 & 22.23099 & 1.9671533 & 0.8258333 & 1\\\\\n\t 0.7233333 & 2.583333 & 0.3033333 & 0.17000000 & 1.183333 & 2.753333 & 2.066667 & 3.786667 & 6.123333 & 20.50000 & ⋯ & 29.245 & 38.985 & 2.185 & 0.030 & 2.19 & 15.15 & 26.81359 & 1.4141414 & 0.6458333 & 1\\\\\n\t        NA &       NA &        NA &         NA &       NA &       NA &       NA &       NA &       NA &       NA & ⋯ & 28.570 & 40.240 & 2.530 & 0.040 & 2.38 & 13.10 & 35.01730 & 2.2638681 & 0.8391667 & 2\\\\\n\t 0.5700000 & 2.420000 & 0.3000000 & 0.08000000 & 0.900000 & 2.940000 & 2.430000 & 3.790000 & 5.860000 & 20.96000 & ⋯ & 29.240 & 39.910 & 2.080 & 0.030 & 1.69 & 14.11 & 27.63980 & 1.8385093 & 0.8016667 & 1\\\\\n\t        NA &       NA &        NA &         NA &       NA &       NA &       NA &       NA &       NA &       NA & ⋯ &     NA &     NA &    NA &    NA &   NA &    NA & 23.10843 & 1.2887828 & 0.8908333 & 2\\\\\n\t 0.5100000 & 2.370000 & 0.2300000 & 0.09000000 & 0.840000 & 3.130000 & 2.480000 & 3.210000 & 5.500000 & 22.67000 & ⋯ & 28.810 & 40.410 & 1.770 & 0.040 & 1.38 & 14.83 & 20.75298 & 2.2466216 & 1.0008333 & 1\\\\\n\t        NA &       NA &        NA &         NA &       NA &       NA &       NA &       NA &       NA &       NA & ⋯ &     NA &     NA &    NA &    NA &   NA &    NA & 30.44983 & 3.0058939 & 0.8083333 & 2\\\\\n\t 0.4400000 & 2.230000 & 0.2400000 & 0.04000000 & 0.810000 & 3.170000 & 1.860000 & 3.820000 & 6.160000 & 20.53000 & ⋯ & 29.210 & 41.010 & 2.340 & 0.020 & 2.03 & 13.33 & 21.71925 & 1.1276596 & 0.5833333 & 0\\\\\n\t        NA &       NA &        NA &         NA &       NA &       NA &       NA &       NA &       NA &       NA & ⋯ &     NA &     NA &    NA &    NA &   NA &    NA & 20.28123 & 1.5922108 & 0.9125000 & 1\\\\\n\t 0.5100000 & 2.240000 & 0.3200000 & 0.06000000 & 0.840000 & 3.010000 & 2.060000 & 4.360000 & 6.220000 & 21.61000 & ⋯ & 29.580 & 40.480 & 2.190 & 0.020 & 2.27 & 13.54 & 23.43750 & 2.2173913 & 0.8500000 & 1\\\\\n\t        NA &       NA &        NA &         NA &       NA &       NA &       NA &       NA &       NA &       NA & ⋯ &     NA &     NA &    NA &    NA &   NA &    NA & 28.57796 & 2.9888712 & 0.7633333 & 2\\\\\n\t 0.4500000 & 3.070000 & 0.2600000 & 0.07000000 & 1.000000 & 2.750000 & 2.360000 & 4.030000 & 6.760000 & 21.46000 & ⋯ & 28.190 & 41.210 & 2.200 & 0.020 & 2.36 & 14.45 & 28.57668 & 2.3575949 & 0.7116667 & 2\\\\\n\t 0.4500000 & 1.700000 & 0.2100000 & 0.06000000 & 0.640000 & 3.120000 & 1.590000 & 4.000000 & 4.860000 & 19.73000 & ⋯ & 29.690 & 40.060 & 1.640 & 0.020 & 1.55 & 14.70 & 22.21074 & 2.2222222 & 0.6408333 & 1\\\\\n\t        NA &       NA &        NA &         NA &       NA &       NA &       NA &       NA &       NA &       NA & ⋯ &     NA &     NA &    NA &    NA &   NA &    NA & 34.72088 & 2.2400000 & 0.6325000 & 0\\\\\n\t 0.4700000 & 2.530000 & 0.2200000 & 0.05000000 & 0.800000 & 2.750000 & 2.580000 & 3.490000 & 5.590000 & 21.89000 & ⋯ & 28.160 & 41.210 & 2.040 & 0.030 & 2.26 & 15.06 & 28.65014 & 3.5477583 & 0.7933333 & 2\\\\\n\t 0.4800000 & 2.840000 & 0.1500000 & 0.06000000 & 0.980000 & 2.900000 & 2.080000 & 2.900000 & 7.230000 & 20.67000 & ⋯ & 24.700 & 43.560 & 2.520 & 0.060 & 2.73 & 13.89 & 34.33510 & 1.8832117 & 0.8825000 & 2\\\\\n\t        NA &       NA &        NA &         NA &       NA &       NA &       NA &       NA &       NA &       NA & ⋯ &     NA &     NA &    NA &    NA &   NA &    NA & 24.02381 & 2.3234421 & 0.5941667 & 0\\\\\n\t 0.4300000 & 3.240000 & 0.2900000 & 0.06000000 & 0.980000 & 2.840000 & 2.750000 & 3.770000 & 6.390000 & 22.75000 & ⋯ & 29.860 & 40.350 & 2.650 & 0.020 & 1.55 & 13.37 & 28.47989 & 3.1842576 & 0.7475000 & 2\\\\\n\t        NA &       NA &        NA &         NA &       NA &       NA &       NA &       NA &       NA &       NA & ⋯ &     NA &     NA &    NA &    NA &   NA &    NA & 36.93709 & 1.6804452 & 0.9716667 & 3\\\\\n\t        NA &       NA &        NA &         NA &       NA &       NA &       NA &       NA &       NA &       NA & ⋯ &     NA &     NA &    NA &    NA &   NA &    NA & 27.18090 & 3.2416503 & 0.6158333 & 1\\\\\n\\end{tabular}\n",
            "text/plain": [
              "   GPHDL1    GPHDL2   GPHDL3    GPHDL4     GPHDL5   GPHDL6   GPHDL7   GPHDL8  \n",
              "1  0.3800000 1.780000 0.1400000 0.05000000 0.730000 2.900000 1.570000 2.570000\n",
              "2         NA       NA        NA         NA       NA       NA       NA       NA\n",
              "3  0.4300000 1.300000 0.2300000 0.05000000 0.590000 2.620000 1.620000 3.860000\n",
              "4  0.4100000 3.860000 0.3100000 0.10000000 0.960000 3.190000 2.420000 3.750000\n",
              "5  0.5000000 1.790000 0.2300000 0.06000000 0.770000 2.960000 1.760000 3.000000\n",
              "6  0.4000000 3.690000 0.1700000 0.03000000 0.800000 3.040000 1.620000 3.230000\n",
              "7  0.3700000 2.960000 0.2200000 0.05000000 1.000000 3.000000 2.110000 3.060000\n",
              "8  0.5600000 2.760000 0.4600000 0.08000000 1.110000 2.960000 3.560000 4.170000\n",
              "9  0.4100000 2.140000 0.2200000 0.12000000 0.930000 2.550000 2.060000 2.950000\n",
              "10 0.4200000 1.710000 0.2000000 0.06000000 0.640000 2.840000 1.590000 3.480000\n",
              "11 0.3500000 2.000000 0.2100000 0.06000000 0.670000 2.570000 1.710000 3.790000\n",
              "12 0.3000000 1.940000 0.1500000 0.07000000 0.790000 2.330000 1.610000 2.720000\n",
              "13 0.5500000 2.580000 0.2300000 0.08000000 0.830000 2.980000 2.050000 3.420000\n",
              "14 0.5200000 3.030000 0.3100000 0.09000000 1.010000 3.080000 2.420000 3.510000\n",
              "15 0.4400000 2.990000 0.3100000 0.05000000 0.860000 2.910000 2.480000 3.630000\n",
              "16 0.4750000 2.380000 0.2300000 0.04500000 0.715000 2.865000 2.110000 3.820000\n",
              "17 0.5333333 2.193333 0.1866667 0.08666667 0.960000 2.783333 2.370000 2.843333\n",
              "18        NA       NA        NA         NA       NA       NA       NA       NA\n",
              "19 0.3500000 1.350000 0.1700000 0.07000000 0.660000 2.270000 1.720000 3.080000\n",
              "20 0.7233333 2.583333 0.3033333 0.17000000 1.183333 2.753333 2.066667 3.786667\n",
              "21        NA       NA        NA         NA       NA       NA       NA       NA\n",
              "22 0.5700000 2.420000 0.3000000 0.08000000 0.900000 2.940000 2.430000 3.790000\n",
              "23        NA       NA        NA         NA       NA       NA       NA       NA\n",
              "24 0.5100000 2.370000 0.2300000 0.09000000 0.840000 3.130000 2.480000 3.210000\n",
              "25        NA       NA        NA         NA       NA       NA       NA       NA\n",
              "26 0.4400000 2.230000 0.2400000 0.04000000 0.810000 3.170000 1.860000 3.820000\n",
              "27        NA       NA        NA         NA       NA       NA       NA       NA\n",
              "28 0.5100000 2.240000 0.3200000 0.06000000 0.840000 3.010000 2.060000 4.360000\n",
              "29        NA       NA        NA         NA       NA       NA       NA       NA\n",
              "30 0.4500000 3.070000 0.2600000 0.07000000 1.000000 2.750000 2.360000 4.030000\n",
              "31 0.4500000 1.700000 0.2100000 0.06000000 0.640000 3.120000 1.590000 4.000000\n",
              "32        NA       NA        NA         NA       NA       NA       NA       NA\n",
              "33 0.4700000 2.530000 0.2200000 0.05000000 0.800000 2.750000 2.580000 3.490000\n",
              "34 0.4800000 2.840000 0.1500000 0.06000000 0.980000 2.900000 2.080000 2.900000\n",
              "35        NA       NA        NA         NA       NA       NA       NA       NA\n",
              "36 0.4300000 3.240000 0.2900000 0.06000000 0.980000 2.840000 2.750000 3.770000\n",
              "37        NA       NA        NA         NA       NA       NA       NA       NA\n",
              "38        NA       NA        NA         NA       NA       NA       NA       NA\n",
              "   GPHDL9   GPHDL10  ⋯ S1.LDLi S2.LDLi S3.LDLi B.LDLi F.LDLi HM.LDLi BMI     \n",
              "1  5.460000 18.64000 ⋯ 28.180  42.460  1.950   0.020  1.67   13.02   31.61579\n",
              "2        NA       NA ⋯     NA      NA     NA      NA    NA      NA   34.64311\n",
              "3  4.200000 18.92000 ⋯ 30.430  39.860  1.560   0.020  1.69   14.16   29.74420\n",
              "4  6.280000 23.81000 ⋯ 29.370  41.130  2.200   0.020  1.89   13.89   22.96875\n",
              "5  5.330000 18.72000 ⋯ 28.540  40.640  1.950   0.020  2.03   14.25   21.91358\n",
              "6  6.140000 21.28000 ⋯ 26.710  40.390  2.510   0.020  2.70   16.06   25.00000\n",
              "7  6.910000 22.21000 ⋯ 28.440  39.990  2.330   0.020  1.61   13.82   24.91077\n",
              "8  6.100000 23.37000 ⋯ 32.270  37.290  1.520   0.030  1.61   14.59   23.24341\n",
              "9  6.250000 19.91000 ⋯ 27.990  41.190  2.180   0.050  1.55   13.26   35.11111\n",
              "10 4.660000 18.15000 ⋯ 28.110  43.200  2.230   0.020  2.30   13.11   29.81341\n",
              "11 5.010000 19.88000 ⋯ 28.500  40.140  1.960   0.030  1.72   14.21   20.90420\n",
              "12 6.610000 19.08000 ⋯ 26.590  42.620  2.580   0.020  2.02   13.52   28.39872\n",
              "13 5.640000 21.98000 ⋯ 29.470  39.760  1.910   0.060  1.93   14.28   28.16249\n",
              "14 5.810000 21.29000 ⋯ 28.160  42.470  2.380   0.030  1.93   13.42   27.71769\n",
              "15 5.590000 24.32000 ⋯ 33.520  35.450  1.470   0.020  1.24   14.35   22.58955\n",
              "16 5.470000 21.36000 ⋯ 29.360  39.770  2.190   0.030  2.99   14.47   20.93664\n",
              "17 5.963333 21.21667 ⋯ 29.100  40.840  1.950   0.030  1.99   13.02   38.86603\n",
              "18       NA       NA ⋯ 28.225  39.670  2.625   0.035  2.11   14.64   35.08772\n",
              "19 5.290000 19.62000 ⋯ 28.570  42.040  2.110   0.020  2.34   13.59   22.23099\n",
              "20 6.123333 20.50000 ⋯ 29.245  38.985  2.185   0.030  2.19   15.15   26.81359\n",
              "21       NA       NA ⋯ 28.570  40.240  2.530   0.040  2.38   13.10   35.01730\n",
              "22 5.860000 20.96000 ⋯ 29.240  39.910  2.080   0.030  1.69   14.11   27.63980\n",
              "23       NA       NA ⋯     NA      NA     NA      NA    NA      NA   23.10843\n",
              "24 5.500000 22.67000 ⋯ 28.810  40.410  1.770   0.040  1.38   14.83   20.75298\n",
              "25       NA       NA ⋯     NA      NA     NA      NA    NA      NA   30.44983\n",
              "26 6.160000 20.53000 ⋯ 29.210  41.010  2.340   0.020  2.03   13.33   21.71925\n",
              "27       NA       NA ⋯     NA      NA     NA      NA    NA      NA   20.28123\n",
              "28 6.220000 21.61000 ⋯ 29.580  40.480  2.190   0.020  2.27   13.54   23.43750\n",
              "29       NA       NA ⋯     NA      NA     NA      NA    NA      NA   28.57796\n",
              "30 6.760000 21.46000 ⋯ 28.190  41.210  2.200   0.020  2.36   14.45   28.57668\n",
              "31 4.860000 19.73000 ⋯ 29.690  40.060  1.640   0.020  1.55   14.70   22.21074\n",
              "32       NA       NA ⋯     NA      NA     NA      NA    NA      NA   34.72088\n",
              "33 5.590000 21.89000 ⋯ 28.160  41.210  2.040   0.030  2.26   15.06   28.65014\n",
              "34 7.230000 20.67000 ⋯ 24.700  43.560  2.520   0.060  2.73   13.89   34.33510\n",
              "35       NA       NA ⋯     NA      NA     NA      NA    NA      NA   24.02381\n",
              "36 6.390000 22.75000 ⋯ 29.860  40.350  2.650   0.020  1.55   13.37   28.47989\n",
              "37       NA       NA ⋯     NA      NA     NA      NA    NA      NA   36.93709\n",
              "38       NA       NA ⋯     NA      NA     NA      NA    NA      NA   27.18090\n",
              "   AI        carotid.IMT.mean Plaque\n",
              "1  1.6232772 0.6425000        1     \n",
              "2  3.6372361 0.8400000        1     \n",
              "3  3.5751295 0.8500000        3     \n",
              "4  3.6223507 0.8241667        2     \n",
              "5  1.2630208 1.0983333        1     \n",
              "6  3.2310178 0.8475000        2     \n",
              "7  3.2078560 0.6725000        1     \n",
              "8  3.1754386 0.7850000        1     \n",
              "9  2.8315946 0.8491667        1     \n",
              "10 2.7872340 0.7041667        2     \n",
              "11 0.5657407 0.7458333        2     \n",
              "12 2.7734977 0.7758333        2     \n",
              "13 4.4594595 0.9241667        2     \n",
              "14 4.0067912 0.8466667        2     \n",
              "15 4.1525424 0.9766667        2     \n",
              "16 1.5882353 0.8741667        3     \n",
              "17 2.2790698 0.9991667        1     \n",
              "18 4.1330645 0.9166667        2     \n",
              "19 1.9671533 0.8258333        1     \n",
              "20 1.4141414 0.6458333        1     \n",
              "21 2.2638681 0.8391667        2     \n",
              "22 1.8385093 0.8016667        1     \n",
              "23 1.2887828 0.8908333        2     \n",
              "24 2.2466216 1.0008333        1     \n",
              "25 3.0058939 0.8083333        2     \n",
              "26 1.1276596 0.5833333        0     \n",
              "27 1.5922108 0.9125000        1     \n",
              "28 2.2173913 0.8500000        1     \n",
              "29 2.9888712 0.7633333        2     \n",
              "30 2.3575949 0.7116667        2     \n",
              "31 2.2222222 0.6408333        1     \n",
              "32 2.2400000 0.6325000        0     \n",
              "33 3.5477583 0.7933333        2     \n",
              "34 1.8832117 0.8825000        2     \n",
              "35 2.3234421 0.5941667        0     \n",
              "36 3.1842576 0.7475000        2     \n",
              "37 1.6804452 0.9716667        3     \n",
              "38 3.2416503 0.6158333        1     "
            ]
          },
          "metadata": {}
        }
      ]
    },
    {
      "cell_type": "code",
      "source": [
        "# Удаляем пропущенные значения\n",
        "df_ch <- na.omit(df_ch)\n",
        "df_ch"
      ],
      "metadata": {
        "colab": {
          "base_uri": "https://localhost:8080/",
          "height": 965
        },
        "id": "a1SlMh6t2vCp",
        "outputId": "c345a885-3a5f-43eb-d7ac-6baafd9ce6d0"
      },
      "execution_count": 26,
      "outputs": [
        {
          "output_type": "display_data",
          "data": {
            "text/html": [
              "<table class=\"dataframe\">\n",
              "<caption>A tibble: 27 × 74</caption>\n",
              "<thead>\n",
              "\t<tr><th scope=col>GPHDL1</th><th scope=col>GPHDL2</th><th scope=col>GPHDL3</th><th scope=col>GPHDL4</th><th scope=col>GPHDL5</th><th scope=col>GPHDL6</th><th scope=col>GPHDL7</th><th scope=col>GPHDL8</th><th scope=col>GPHDL9</th><th scope=col>GPHDL10</th><th scope=col>⋯</th><th scope=col>S1.LDLi</th><th scope=col>S2.LDLi</th><th scope=col>S3.LDLi</th><th scope=col>B.LDLi</th><th scope=col>F.LDLi</th><th scope=col>HM.LDLi</th><th scope=col>BMI</th><th scope=col>AI</th><th scope=col>carotid.IMT.mean</th><th scope=col>Plaque</th></tr>\n",
              "\t<tr><th scope=col>&lt;dbl&gt;</th><th scope=col>&lt;dbl&gt;</th><th scope=col>&lt;dbl&gt;</th><th scope=col>&lt;dbl&gt;</th><th scope=col>&lt;dbl&gt;</th><th scope=col>&lt;dbl&gt;</th><th scope=col>&lt;dbl&gt;</th><th scope=col>&lt;dbl&gt;</th><th scope=col>&lt;dbl&gt;</th><th scope=col>&lt;dbl&gt;</th><th scope=col>⋯</th><th scope=col>&lt;dbl&gt;</th><th scope=col>&lt;dbl&gt;</th><th scope=col>&lt;dbl&gt;</th><th scope=col>&lt;dbl&gt;</th><th scope=col>&lt;dbl&gt;</th><th scope=col>&lt;dbl&gt;</th><th scope=col>&lt;dbl&gt;</th><th scope=col>&lt;dbl&gt;</th><th scope=col>&lt;dbl&gt;</th><th scope=col>&lt;fct&gt;</th></tr>\n",
              "</thead>\n",
              "<tbody>\n",
              "\t<tr><td>0.3800000</td><td>1.780000</td><td>0.1400000</td><td>0.05000000</td><td>0.730000</td><td>2.900000</td><td>1.570000</td><td>2.570000</td><td>5.460000</td><td>18.64000</td><td>⋯</td><td>28.180</td><td>42.460</td><td>1.950</td><td>0.02</td><td>1.67</td><td>13.02</td><td>31.61579</td><td>1.6232772</td><td>0.6425000</td><td>1</td></tr>\n",
              "\t<tr><td>0.4300000</td><td>1.300000</td><td>0.2300000</td><td>0.05000000</td><td>0.590000</td><td>2.620000</td><td>1.620000</td><td>3.860000</td><td>4.200000</td><td>18.92000</td><td>⋯</td><td>30.430</td><td>39.860</td><td>1.560</td><td>0.02</td><td>1.69</td><td>14.16</td><td>29.74420</td><td>3.5751295</td><td>0.8500000</td><td>3</td></tr>\n",
              "\t<tr><td>0.4100000</td><td>3.860000</td><td>0.3100000</td><td>0.10000000</td><td>0.960000</td><td>3.190000</td><td>2.420000</td><td>3.750000</td><td>6.280000</td><td>23.81000</td><td>⋯</td><td>29.370</td><td>41.130</td><td>2.200</td><td>0.02</td><td>1.89</td><td>13.89</td><td>22.96875</td><td>3.6223507</td><td>0.8241667</td><td>2</td></tr>\n",
              "\t<tr><td>0.5000000</td><td>1.790000</td><td>0.2300000</td><td>0.06000000</td><td>0.770000</td><td>2.960000</td><td>1.760000</td><td>3.000000</td><td>5.330000</td><td>18.72000</td><td>⋯</td><td>28.540</td><td>40.640</td><td>1.950</td><td>0.02</td><td>2.03</td><td>14.25</td><td>21.91358</td><td>1.2630208</td><td>1.0983333</td><td>1</td></tr>\n",
              "\t<tr><td>0.4000000</td><td>3.690000</td><td>0.1700000</td><td>0.03000000</td><td>0.800000</td><td>3.040000</td><td>1.620000</td><td>3.230000</td><td>6.140000</td><td>21.28000</td><td>⋯</td><td>26.710</td><td>40.390</td><td>2.510</td><td>0.02</td><td>2.70</td><td>16.06</td><td>25.00000</td><td>3.2310178</td><td>0.8475000</td><td>2</td></tr>\n",
              "\t<tr><td>0.3700000</td><td>2.960000</td><td>0.2200000</td><td>0.05000000</td><td>1.000000</td><td>3.000000</td><td>2.110000</td><td>3.060000</td><td>6.910000</td><td>22.21000</td><td>⋯</td><td>28.440</td><td>39.990</td><td>2.330</td><td>0.02</td><td>1.61</td><td>13.82</td><td>24.91077</td><td>3.2078560</td><td>0.6725000</td><td>1</td></tr>\n",
              "\t<tr><td>0.5600000</td><td>2.760000</td><td>0.4600000</td><td>0.08000000</td><td>1.110000</td><td>2.960000</td><td>3.560000</td><td>4.170000</td><td>6.100000</td><td>23.37000</td><td>⋯</td><td>32.270</td><td>37.290</td><td>1.520</td><td>0.03</td><td>1.61</td><td>14.59</td><td>23.24341</td><td>3.1754386</td><td>0.7850000</td><td>1</td></tr>\n",
              "\t<tr><td>0.4100000</td><td>2.140000</td><td>0.2200000</td><td>0.12000000</td><td>0.930000</td><td>2.550000</td><td>2.060000</td><td>2.950000</td><td>6.250000</td><td>19.91000</td><td>⋯</td><td>27.990</td><td>41.190</td><td>2.180</td><td>0.05</td><td>1.55</td><td>13.26</td><td>35.11111</td><td>2.8315946</td><td>0.8491667</td><td>1</td></tr>\n",
              "\t<tr><td>0.4200000</td><td>1.710000</td><td>0.2000000</td><td>0.06000000</td><td>0.640000</td><td>2.840000</td><td>1.590000</td><td>3.480000</td><td>4.660000</td><td>18.15000</td><td>⋯</td><td>28.110</td><td>43.200</td><td>2.230</td><td>0.02</td><td>2.30</td><td>13.11</td><td>29.81341</td><td>2.7872340</td><td>0.7041667</td><td>2</td></tr>\n",
              "\t<tr><td>0.3500000</td><td>2.000000</td><td>0.2100000</td><td>0.06000000</td><td>0.670000</td><td>2.570000</td><td>1.710000</td><td>3.790000</td><td>5.010000</td><td>19.88000</td><td>⋯</td><td>28.500</td><td>40.140</td><td>1.960</td><td>0.03</td><td>1.72</td><td>14.21</td><td>20.90420</td><td>0.5657407</td><td>0.7458333</td><td>2</td></tr>\n",
              "\t<tr><td>0.3000000</td><td>1.940000</td><td>0.1500000</td><td>0.07000000</td><td>0.790000</td><td>2.330000</td><td>1.610000</td><td>2.720000</td><td>6.610000</td><td>19.08000</td><td>⋯</td><td>26.590</td><td>42.620</td><td>2.580</td><td>0.02</td><td>2.02</td><td>13.52</td><td>28.39872</td><td>2.7734977</td><td>0.7758333</td><td>2</td></tr>\n",
              "\t<tr><td>0.5500000</td><td>2.580000</td><td>0.2300000</td><td>0.08000000</td><td>0.830000</td><td>2.980000</td><td>2.050000</td><td>3.420000</td><td>5.640000</td><td>21.98000</td><td>⋯</td><td>29.470</td><td>39.760</td><td>1.910</td><td>0.06</td><td>1.93</td><td>14.28</td><td>28.16249</td><td>4.4594595</td><td>0.9241667</td><td>2</td></tr>\n",
              "\t<tr><td>0.5200000</td><td>3.030000</td><td>0.3100000</td><td>0.09000000</td><td>1.010000</td><td>3.080000</td><td>2.420000</td><td>3.510000</td><td>5.810000</td><td>21.29000</td><td>⋯</td><td>28.160</td><td>42.470</td><td>2.380</td><td>0.03</td><td>1.93</td><td>13.42</td><td>27.71769</td><td>4.0067912</td><td>0.8466667</td><td>2</td></tr>\n",
              "\t<tr><td>0.4400000</td><td>2.990000</td><td>0.3100000</td><td>0.05000000</td><td>0.860000</td><td>2.910000</td><td>2.480000</td><td>3.630000</td><td>5.590000</td><td>24.32000</td><td>⋯</td><td>33.520</td><td>35.450</td><td>1.470</td><td>0.02</td><td>1.24</td><td>14.35</td><td>22.58955</td><td>4.1525424</td><td>0.9766667</td><td>2</td></tr>\n",
              "\t<tr><td>0.4750000</td><td>2.380000</td><td>0.2300000</td><td>0.04500000</td><td>0.715000</td><td>2.865000</td><td>2.110000</td><td>3.820000</td><td>5.470000</td><td>21.36000</td><td>⋯</td><td>29.360</td><td>39.770</td><td>2.190</td><td>0.03</td><td>2.99</td><td>14.47</td><td>20.93664</td><td>1.5882353</td><td>0.8741667</td><td>3</td></tr>\n",
              "\t<tr><td>0.5333333</td><td>2.193333</td><td>0.1866667</td><td>0.08666667</td><td>0.960000</td><td>2.783333</td><td>2.370000</td><td>2.843333</td><td>5.963333</td><td>21.21667</td><td>⋯</td><td>29.100</td><td>40.840</td><td>1.950</td><td>0.03</td><td>1.99</td><td>13.02</td><td>38.86603</td><td>2.2790698</td><td>0.9991667</td><td>1</td></tr>\n",
              "\t<tr><td>0.3500000</td><td>1.350000</td><td>0.1700000</td><td>0.07000000</td><td>0.660000</td><td>2.270000</td><td>1.720000</td><td>3.080000</td><td>5.290000</td><td>19.62000</td><td>⋯</td><td>28.570</td><td>42.040</td><td>2.110</td><td>0.02</td><td>2.34</td><td>13.59</td><td>22.23099</td><td>1.9671533</td><td>0.8258333</td><td>1</td></tr>\n",
              "\t<tr><td>0.7233333</td><td>2.583333</td><td>0.3033333</td><td>0.17000000</td><td>1.183333</td><td>2.753333</td><td>2.066667</td><td>3.786667</td><td>6.123333</td><td>20.50000</td><td>⋯</td><td>29.245</td><td>38.985</td><td>2.185</td><td>0.03</td><td>2.19</td><td>15.15</td><td>26.81359</td><td>1.4141414</td><td>0.6458333</td><td>1</td></tr>\n",
              "\t<tr><td>0.5700000</td><td>2.420000</td><td>0.3000000</td><td>0.08000000</td><td>0.900000</td><td>2.940000</td><td>2.430000</td><td>3.790000</td><td>5.860000</td><td>20.96000</td><td>⋯</td><td>29.240</td><td>39.910</td><td>2.080</td><td>0.03</td><td>1.69</td><td>14.11</td><td>27.63980</td><td>1.8385093</td><td>0.8016667</td><td>1</td></tr>\n",
              "\t<tr><td>0.5100000</td><td>2.370000</td><td>0.2300000</td><td>0.09000000</td><td>0.840000</td><td>3.130000</td><td>2.480000</td><td>3.210000</td><td>5.500000</td><td>22.67000</td><td>⋯</td><td>28.810</td><td>40.410</td><td>1.770</td><td>0.04</td><td>1.38</td><td>14.83</td><td>20.75298</td><td>2.2466216</td><td>1.0008333</td><td>1</td></tr>\n",
              "\t<tr><td>0.4400000</td><td>2.230000</td><td>0.2400000</td><td>0.04000000</td><td>0.810000</td><td>3.170000</td><td>1.860000</td><td>3.820000</td><td>6.160000</td><td>20.53000</td><td>⋯</td><td>29.210</td><td>41.010</td><td>2.340</td><td>0.02</td><td>2.03</td><td>13.33</td><td>21.71925</td><td>1.1276596</td><td>0.5833333</td><td>0</td></tr>\n",
              "\t<tr><td>0.5100000</td><td>2.240000</td><td>0.3200000</td><td>0.06000000</td><td>0.840000</td><td>3.010000</td><td>2.060000</td><td>4.360000</td><td>6.220000</td><td>21.61000</td><td>⋯</td><td>29.580</td><td>40.480</td><td>2.190</td><td>0.02</td><td>2.27</td><td>13.54</td><td>23.43750</td><td>2.2173913</td><td>0.8500000</td><td>1</td></tr>\n",
              "\t<tr><td>0.4500000</td><td>3.070000</td><td>0.2600000</td><td>0.07000000</td><td>1.000000</td><td>2.750000</td><td>2.360000</td><td>4.030000</td><td>6.760000</td><td>21.46000</td><td>⋯</td><td>28.190</td><td>41.210</td><td>2.200</td><td>0.02</td><td>2.36</td><td>14.45</td><td>28.57668</td><td>2.3575949</td><td>0.7116667</td><td>2</td></tr>\n",
              "\t<tr><td>0.4500000</td><td>1.700000</td><td>0.2100000</td><td>0.06000000</td><td>0.640000</td><td>3.120000</td><td>1.590000</td><td>4.000000</td><td>4.860000</td><td>19.73000</td><td>⋯</td><td>29.690</td><td>40.060</td><td>1.640</td><td>0.02</td><td>1.55</td><td>14.70</td><td>22.21074</td><td>2.2222222</td><td>0.6408333</td><td>1</td></tr>\n",
              "\t<tr><td>0.4700000</td><td>2.530000</td><td>0.2200000</td><td>0.05000000</td><td>0.800000</td><td>2.750000</td><td>2.580000</td><td>3.490000</td><td>5.590000</td><td>21.89000</td><td>⋯</td><td>28.160</td><td>41.210</td><td>2.040</td><td>0.03</td><td>2.26</td><td>15.06</td><td>28.65014</td><td>3.5477583</td><td>0.7933333</td><td>2</td></tr>\n",
              "\t<tr><td>0.4800000</td><td>2.840000</td><td>0.1500000</td><td>0.06000000</td><td>0.980000</td><td>2.900000</td><td>2.080000</td><td>2.900000</td><td>7.230000</td><td>20.67000</td><td>⋯</td><td>24.700</td><td>43.560</td><td>2.520</td><td>0.06</td><td>2.73</td><td>13.89</td><td>34.33510</td><td>1.8832117</td><td>0.8825000</td><td>2</td></tr>\n",
              "\t<tr><td>0.4300000</td><td>3.240000</td><td>0.2900000</td><td>0.06000000</td><td>0.980000</td><td>2.840000</td><td>2.750000</td><td>3.770000</td><td>6.390000</td><td>22.75000</td><td>⋯</td><td>29.860</td><td>40.350</td><td>2.650</td><td>0.02</td><td>1.55</td><td>13.37</td><td>28.47989</td><td>3.1842576</td><td>0.7475000</td><td>2</td></tr>\n",
              "</tbody>\n",
              "</table>\n"
            ],
            "text/markdown": "\nA tibble: 27 × 74\n\n| GPHDL1 &lt;dbl&gt; | GPHDL2 &lt;dbl&gt; | GPHDL3 &lt;dbl&gt; | GPHDL4 &lt;dbl&gt; | GPHDL5 &lt;dbl&gt; | GPHDL6 &lt;dbl&gt; | GPHDL7 &lt;dbl&gt; | GPHDL8 &lt;dbl&gt; | GPHDL9 &lt;dbl&gt; | GPHDL10 &lt;dbl&gt; | ⋯ ⋯ | S1.LDLi &lt;dbl&gt; | S2.LDLi &lt;dbl&gt; | S3.LDLi &lt;dbl&gt; | B.LDLi &lt;dbl&gt; | F.LDLi &lt;dbl&gt; | HM.LDLi &lt;dbl&gt; | BMI &lt;dbl&gt; | AI &lt;dbl&gt; | carotid.IMT.mean &lt;dbl&gt; | Plaque &lt;fct&gt; |\n|---|---|---|---|---|---|---|---|---|---|---|---|---|---|---|---|---|---|---|---|---|\n| 0.3800000 | 1.780000 | 0.1400000 | 0.05000000 | 0.730000 | 2.900000 | 1.570000 | 2.570000 | 5.460000 | 18.64000 | ⋯ | 28.180 | 42.460 | 1.950 | 0.02 | 1.67 | 13.02 | 31.61579 | 1.6232772 | 0.6425000 | 1 |\n| 0.4300000 | 1.300000 | 0.2300000 | 0.05000000 | 0.590000 | 2.620000 | 1.620000 | 3.860000 | 4.200000 | 18.92000 | ⋯ | 30.430 | 39.860 | 1.560 | 0.02 | 1.69 | 14.16 | 29.74420 | 3.5751295 | 0.8500000 | 3 |\n| 0.4100000 | 3.860000 | 0.3100000 | 0.10000000 | 0.960000 | 3.190000 | 2.420000 | 3.750000 | 6.280000 | 23.81000 | ⋯ | 29.370 | 41.130 | 2.200 | 0.02 | 1.89 | 13.89 | 22.96875 | 3.6223507 | 0.8241667 | 2 |\n| 0.5000000 | 1.790000 | 0.2300000 | 0.06000000 | 0.770000 | 2.960000 | 1.760000 | 3.000000 | 5.330000 | 18.72000 | ⋯ | 28.540 | 40.640 | 1.950 | 0.02 | 2.03 | 14.25 | 21.91358 | 1.2630208 | 1.0983333 | 1 |\n| 0.4000000 | 3.690000 | 0.1700000 | 0.03000000 | 0.800000 | 3.040000 | 1.620000 | 3.230000 | 6.140000 | 21.28000 | ⋯ | 26.710 | 40.390 | 2.510 | 0.02 | 2.70 | 16.06 | 25.00000 | 3.2310178 | 0.8475000 | 2 |\n| 0.3700000 | 2.960000 | 0.2200000 | 0.05000000 | 1.000000 | 3.000000 | 2.110000 | 3.060000 | 6.910000 | 22.21000 | ⋯ | 28.440 | 39.990 | 2.330 | 0.02 | 1.61 | 13.82 | 24.91077 | 3.2078560 | 0.6725000 | 1 |\n| 0.5600000 | 2.760000 | 0.4600000 | 0.08000000 | 1.110000 | 2.960000 | 3.560000 | 4.170000 | 6.100000 | 23.37000 | ⋯ | 32.270 | 37.290 | 1.520 | 0.03 | 1.61 | 14.59 | 23.24341 | 3.1754386 | 0.7850000 | 1 |\n| 0.4100000 | 2.140000 | 0.2200000 | 0.12000000 | 0.930000 | 2.550000 | 2.060000 | 2.950000 | 6.250000 | 19.91000 | ⋯ | 27.990 | 41.190 | 2.180 | 0.05 | 1.55 | 13.26 | 35.11111 | 2.8315946 | 0.8491667 | 1 |\n| 0.4200000 | 1.710000 | 0.2000000 | 0.06000000 | 0.640000 | 2.840000 | 1.590000 | 3.480000 | 4.660000 | 18.15000 | ⋯ | 28.110 | 43.200 | 2.230 | 0.02 | 2.30 | 13.11 | 29.81341 | 2.7872340 | 0.7041667 | 2 |\n| 0.3500000 | 2.000000 | 0.2100000 | 0.06000000 | 0.670000 | 2.570000 | 1.710000 | 3.790000 | 5.010000 | 19.88000 | ⋯ | 28.500 | 40.140 | 1.960 | 0.03 | 1.72 | 14.21 | 20.90420 | 0.5657407 | 0.7458333 | 2 |\n| 0.3000000 | 1.940000 | 0.1500000 | 0.07000000 | 0.790000 | 2.330000 | 1.610000 | 2.720000 | 6.610000 | 19.08000 | ⋯ | 26.590 | 42.620 | 2.580 | 0.02 | 2.02 | 13.52 | 28.39872 | 2.7734977 | 0.7758333 | 2 |\n| 0.5500000 | 2.580000 | 0.2300000 | 0.08000000 | 0.830000 | 2.980000 | 2.050000 | 3.420000 | 5.640000 | 21.98000 | ⋯ | 29.470 | 39.760 | 1.910 | 0.06 | 1.93 | 14.28 | 28.16249 | 4.4594595 | 0.9241667 | 2 |\n| 0.5200000 | 3.030000 | 0.3100000 | 0.09000000 | 1.010000 | 3.080000 | 2.420000 | 3.510000 | 5.810000 | 21.29000 | ⋯ | 28.160 | 42.470 | 2.380 | 0.03 | 1.93 | 13.42 | 27.71769 | 4.0067912 | 0.8466667 | 2 |\n| 0.4400000 | 2.990000 | 0.3100000 | 0.05000000 | 0.860000 | 2.910000 | 2.480000 | 3.630000 | 5.590000 | 24.32000 | ⋯ | 33.520 | 35.450 | 1.470 | 0.02 | 1.24 | 14.35 | 22.58955 | 4.1525424 | 0.9766667 | 2 |\n| 0.4750000 | 2.380000 | 0.2300000 | 0.04500000 | 0.715000 | 2.865000 | 2.110000 | 3.820000 | 5.470000 | 21.36000 | ⋯ | 29.360 | 39.770 | 2.190 | 0.03 | 2.99 | 14.47 | 20.93664 | 1.5882353 | 0.8741667 | 3 |\n| 0.5333333 | 2.193333 | 0.1866667 | 0.08666667 | 0.960000 | 2.783333 | 2.370000 | 2.843333 | 5.963333 | 21.21667 | ⋯ | 29.100 | 40.840 | 1.950 | 0.03 | 1.99 | 13.02 | 38.86603 | 2.2790698 | 0.9991667 | 1 |\n| 0.3500000 | 1.350000 | 0.1700000 | 0.07000000 | 0.660000 | 2.270000 | 1.720000 | 3.080000 | 5.290000 | 19.62000 | ⋯ | 28.570 | 42.040 | 2.110 | 0.02 | 2.34 | 13.59 | 22.23099 | 1.9671533 | 0.8258333 | 1 |\n| 0.7233333 | 2.583333 | 0.3033333 | 0.17000000 | 1.183333 | 2.753333 | 2.066667 | 3.786667 | 6.123333 | 20.50000 | ⋯ | 29.245 | 38.985 | 2.185 | 0.03 | 2.19 | 15.15 | 26.81359 | 1.4141414 | 0.6458333 | 1 |\n| 0.5700000 | 2.420000 | 0.3000000 | 0.08000000 | 0.900000 | 2.940000 | 2.430000 | 3.790000 | 5.860000 | 20.96000 | ⋯ | 29.240 | 39.910 | 2.080 | 0.03 | 1.69 | 14.11 | 27.63980 | 1.8385093 | 0.8016667 | 1 |\n| 0.5100000 | 2.370000 | 0.2300000 | 0.09000000 | 0.840000 | 3.130000 | 2.480000 | 3.210000 | 5.500000 | 22.67000 | ⋯ | 28.810 | 40.410 | 1.770 | 0.04 | 1.38 | 14.83 | 20.75298 | 2.2466216 | 1.0008333 | 1 |\n| 0.4400000 | 2.230000 | 0.2400000 | 0.04000000 | 0.810000 | 3.170000 | 1.860000 | 3.820000 | 6.160000 | 20.53000 | ⋯ | 29.210 | 41.010 | 2.340 | 0.02 | 2.03 | 13.33 | 21.71925 | 1.1276596 | 0.5833333 | 0 |\n| 0.5100000 | 2.240000 | 0.3200000 | 0.06000000 | 0.840000 | 3.010000 | 2.060000 | 4.360000 | 6.220000 | 21.61000 | ⋯ | 29.580 | 40.480 | 2.190 | 0.02 | 2.27 | 13.54 | 23.43750 | 2.2173913 | 0.8500000 | 1 |\n| 0.4500000 | 3.070000 | 0.2600000 | 0.07000000 | 1.000000 | 2.750000 | 2.360000 | 4.030000 | 6.760000 | 21.46000 | ⋯ | 28.190 | 41.210 | 2.200 | 0.02 | 2.36 | 14.45 | 28.57668 | 2.3575949 | 0.7116667 | 2 |\n| 0.4500000 | 1.700000 | 0.2100000 | 0.06000000 | 0.640000 | 3.120000 | 1.590000 | 4.000000 | 4.860000 | 19.73000 | ⋯ | 29.690 | 40.060 | 1.640 | 0.02 | 1.55 | 14.70 | 22.21074 | 2.2222222 | 0.6408333 | 1 |\n| 0.4700000 | 2.530000 | 0.2200000 | 0.05000000 | 0.800000 | 2.750000 | 2.580000 | 3.490000 | 5.590000 | 21.89000 | ⋯ | 28.160 | 41.210 | 2.040 | 0.03 | 2.26 | 15.06 | 28.65014 | 3.5477583 | 0.7933333 | 2 |\n| 0.4800000 | 2.840000 | 0.1500000 | 0.06000000 | 0.980000 | 2.900000 | 2.080000 | 2.900000 | 7.230000 | 20.67000 | ⋯ | 24.700 | 43.560 | 2.520 | 0.06 | 2.73 | 13.89 | 34.33510 | 1.8832117 | 0.8825000 | 2 |\n| 0.4300000 | 3.240000 | 0.2900000 | 0.06000000 | 0.980000 | 2.840000 | 2.750000 | 3.770000 | 6.390000 | 22.75000 | ⋯ | 29.860 | 40.350 | 2.650 | 0.02 | 1.55 | 13.37 | 28.47989 | 3.1842576 | 0.7475000 | 2 |\n\n",
            "text/latex": "A tibble: 27 × 74\n\\begin{tabular}{lllllllllllllllllllll}\n GPHDL1 & GPHDL2 & GPHDL3 & GPHDL4 & GPHDL5 & GPHDL6 & GPHDL7 & GPHDL8 & GPHDL9 & GPHDL10 & ⋯ & S1.LDLi & S2.LDLi & S3.LDLi & B.LDLi & F.LDLi & HM.LDLi & BMI & AI & carotid.IMT.mean & Plaque\\\\\n <dbl> & <dbl> & <dbl> & <dbl> & <dbl> & <dbl> & <dbl> & <dbl> & <dbl> & <dbl> & ⋯ & <dbl> & <dbl> & <dbl> & <dbl> & <dbl> & <dbl> & <dbl> & <dbl> & <dbl> & <fct>\\\\\n\\hline\n\t 0.3800000 & 1.780000 & 0.1400000 & 0.05000000 & 0.730000 & 2.900000 & 1.570000 & 2.570000 & 5.460000 & 18.64000 & ⋯ & 28.180 & 42.460 & 1.950 & 0.02 & 1.67 & 13.02 & 31.61579 & 1.6232772 & 0.6425000 & 1\\\\\n\t 0.4300000 & 1.300000 & 0.2300000 & 0.05000000 & 0.590000 & 2.620000 & 1.620000 & 3.860000 & 4.200000 & 18.92000 & ⋯ & 30.430 & 39.860 & 1.560 & 0.02 & 1.69 & 14.16 & 29.74420 & 3.5751295 & 0.8500000 & 3\\\\\n\t 0.4100000 & 3.860000 & 0.3100000 & 0.10000000 & 0.960000 & 3.190000 & 2.420000 & 3.750000 & 6.280000 & 23.81000 & ⋯ & 29.370 & 41.130 & 2.200 & 0.02 & 1.89 & 13.89 & 22.96875 & 3.6223507 & 0.8241667 & 2\\\\\n\t 0.5000000 & 1.790000 & 0.2300000 & 0.06000000 & 0.770000 & 2.960000 & 1.760000 & 3.000000 & 5.330000 & 18.72000 & ⋯ & 28.540 & 40.640 & 1.950 & 0.02 & 2.03 & 14.25 & 21.91358 & 1.2630208 & 1.0983333 & 1\\\\\n\t 0.4000000 & 3.690000 & 0.1700000 & 0.03000000 & 0.800000 & 3.040000 & 1.620000 & 3.230000 & 6.140000 & 21.28000 & ⋯ & 26.710 & 40.390 & 2.510 & 0.02 & 2.70 & 16.06 & 25.00000 & 3.2310178 & 0.8475000 & 2\\\\\n\t 0.3700000 & 2.960000 & 0.2200000 & 0.05000000 & 1.000000 & 3.000000 & 2.110000 & 3.060000 & 6.910000 & 22.21000 & ⋯ & 28.440 & 39.990 & 2.330 & 0.02 & 1.61 & 13.82 & 24.91077 & 3.2078560 & 0.6725000 & 1\\\\\n\t 0.5600000 & 2.760000 & 0.4600000 & 0.08000000 & 1.110000 & 2.960000 & 3.560000 & 4.170000 & 6.100000 & 23.37000 & ⋯ & 32.270 & 37.290 & 1.520 & 0.03 & 1.61 & 14.59 & 23.24341 & 3.1754386 & 0.7850000 & 1\\\\\n\t 0.4100000 & 2.140000 & 0.2200000 & 0.12000000 & 0.930000 & 2.550000 & 2.060000 & 2.950000 & 6.250000 & 19.91000 & ⋯ & 27.990 & 41.190 & 2.180 & 0.05 & 1.55 & 13.26 & 35.11111 & 2.8315946 & 0.8491667 & 1\\\\\n\t 0.4200000 & 1.710000 & 0.2000000 & 0.06000000 & 0.640000 & 2.840000 & 1.590000 & 3.480000 & 4.660000 & 18.15000 & ⋯ & 28.110 & 43.200 & 2.230 & 0.02 & 2.30 & 13.11 & 29.81341 & 2.7872340 & 0.7041667 & 2\\\\\n\t 0.3500000 & 2.000000 & 0.2100000 & 0.06000000 & 0.670000 & 2.570000 & 1.710000 & 3.790000 & 5.010000 & 19.88000 & ⋯ & 28.500 & 40.140 & 1.960 & 0.03 & 1.72 & 14.21 & 20.90420 & 0.5657407 & 0.7458333 & 2\\\\\n\t 0.3000000 & 1.940000 & 0.1500000 & 0.07000000 & 0.790000 & 2.330000 & 1.610000 & 2.720000 & 6.610000 & 19.08000 & ⋯ & 26.590 & 42.620 & 2.580 & 0.02 & 2.02 & 13.52 & 28.39872 & 2.7734977 & 0.7758333 & 2\\\\\n\t 0.5500000 & 2.580000 & 0.2300000 & 0.08000000 & 0.830000 & 2.980000 & 2.050000 & 3.420000 & 5.640000 & 21.98000 & ⋯ & 29.470 & 39.760 & 1.910 & 0.06 & 1.93 & 14.28 & 28.16249 & 4.4594595 & 0.9241667 & 2\\\\\n\t 0.5200000 & 3.030000 & 0.3100000 & 0.09000000 & 1.010000 & 3.080000 & 2.420000 & 3.510000 & 5.810000 & 21.29000 & ⋯ & 28.160 & 42.470 & 2.380 & 0.03 & 1.93 & 13.42 & 27.71769 & 4.0067912 & 0.8466667 & 2\\\\\n\t 0.4400000 & 2.990000 & 0.3100000 & 0.05000000 & 0.860000 & 2.910000 & 2.480000 & 3.630000 & 5.590000 & 24.32000 & ⋯ & 33.520 & 35.450 & 1.470 & 0.02 & 1.24 & 14.35 & 22.58955 & 4.1525424 & 0.9766667 & 2\\\\\n\t 0.4750000 & 2.380000 & 0.2300000 & 0.04500000 & 0.715000 & 2.865000 & 2.110000 & 3.820000 & 5.470000 & 21.36000 & ⋯ & 29.360 & 39.770 & 2.190 & 0.03 & 2.99 & 14.47 & 20.93664 & 1.5882353 & 0.8741667 & 3\\\\\n\t 0.5333333 & 2.193333 & 0.1866667 & 0.08666667 & 0.960000 & 2.783333 & 2.370000 & 2.843333 & 5.963333 & 21.21667 & ⋯ & 29.100 & 40.840 & 1.950 & 0.03 & 1.99 & 13.02 & 38.86603 & 2.2790698 & 0.9991667 & 1\\\\\n\t 0.3500000 & 1.350000 & 0.1700000 & 0.07000000 & 0.660000 & 2.270000 & 1.720000 & 3.080000 & 5.290000 & 19.62000 & ⋯ & 28.570 & 42.040 & 2.110 & 0.02 & 2.34 & 13.59 & 22.23099 & 1.9671533 & 0.8258333 & 1\\\\\n\t 0.7233333 & 2.583333 & 0.3033333 & 0.17000000 & 1.183333 & 2.753333 & 2.066667 & 3.786667 & 6.123333 & 20.50000 & ⋯ & 29.245 & 38.985 & 2.185 & 0.03 & 2.19 & 15.15 & 26.81359 & 1.4141414 & 0.6458333 & 1\\\\\n\t 0.5700000 & 2.420000 & 0.3000000 & 0.08000000 & 0.900000 & 2.940000 & 2.430000 & 3.790000 & 5.860000 & 20.96000 & ⋯ & 29.240 & 39.910 & 2.080 & 0.03 & 1.69 & 14.11 & 27.63980 & 1.8385093 & 0.8016667 & 1\\\\\n\t 0.5100000 & 2.370000 & 0.2300000 & 0.09000000 & 0.840000 & 3.130000 & 2.480000 & 3.210000 & 5.500000 & 22.67000 & ⋯ & 28.810 & 40.410 & 1.770 & 0.04 & 1.38 & 14.83 & 20.75298 & 2.2466216 & 1.0008333 & 1\\\\\n\t 0.4400000 & 2.230000 & 0.2400000 & 0.04000000 & 0.810000 & 3.170000 & 1.860000 & 3.820000 & 6.160000 & 20.53000 & ⋯ & 29.210 & 41.010 & 2.340 & 0.02 & 2.03 & 13.33 & 21.71925 & 1.1276596 & 0.5833333 & 0\\\\\n\t 0.5100000 & 2.240000 & 0.3200000 & 0.06000000 & 0.840000 & 3.010000 & 2.060000 & 4.360000 & 6.220000 & 21.61000 & ⋯ & 29.580 & 40.480 & 2.190 & 0.02 & 2.27 & 13.54 & 23.43750 & 2.2173913 & 0.8500000 & 1\\\\\n\t 0.4500000 & 3.070000 & 0.2600000 & 0.07000000 & 1.000000 & 2.750000 & 2.360000 & 4.030000 & 6.760000 & 21.46000 & ⋯ & 28.190 & 41.210 & 2.200 & 0.02 & 2.36 & 14.45 & 28.57668 & 2.3575949 & 0.7116667 & 2\\\\\n\t 0.4500000 & 1.700000 & 0.2100000 & 0.06000000 & 0.640000 & 3.120000 & 1.590000 & 4.000000 & 4.860000 & 19.73000 & ⋯ & 29.690 & 40.060 & 1.640 & 0.02 & 1.55 & 14.70 & 22.21074 & 2.2222222 & 0.6408333 & 1\\\\\n\t 0.4700000 & 2.530000 & 0.2200000 & 0.05000000 & 0.800000 & 2.750000 & 2.580000 & 3.490000 & 5.590000 & 21.89000 & ⋯ & 28.160 & 41.210 & 2.040 & 0.03 & 2.26 & 15.06 & 28.65014 & 3.5477583 & 0.7933333 & 2\\\\\n\t 0.4800000 & 2.840000 & 0.1500000 & 0.06000000 & 0.980000 & 2.900000 & 2.080000 & 2.900000 & 7.230000 & 20.67000 & ⋯ & 24.700 & 43.560 & 2.520 & 0.06 & 2.73 & 13.89 & 34.33510 & 1.8832117 & 0.8825000 & 2\\\\\n\t 0.4300000 & 3.240000 & 0.2900000 & 0.06000000 & 0.980000 & 2.840000 & 2.750000 & 3.770000 & 6.390000 & 22.75000 & ⋯ & 29.860 & 40.350 & 2.650 & 0.02 & 1.55 & 13.37 & 28.47989 & 3.1842576 & 0.7475000 & 2\\\\\n\\end{tabular}\n",
            "text/plain": [
              "   GPHDL1    GPHDL2   GPHDL3    GPHDL4     GPHDL5   GPHDL6   GPHDL7   GPHDL8  \n",
              "1  0.3800000 1.780000 0.1400000 0.05000000 0.730000 2.900000 1.570000 2.570000\n",
              "2  0.4300000 1.300000 0.2300000 0.05000000 0.590000 2.620000 1.620000 3.860000\n",
              "3  0.4100000 3.860000 0.3100000 0.10000000 0.960000 3.190000 2.420000 3.750000\n",
              "4  0.5000000 1.790000 0.2300000 0.06000000 0.770000 2.960000 1.760000 3.000000\n",
              "5  0.4000000 3.690000 0.1700000 0.03000000 0.800000 3.040000 1.620000 3.230000\n",
              "6  0.3700000 2.960000 0.2200000 0.05000000 1.000000 3.000000 2.110000 3.060000\n",
              "7  0.5600000 2.760000 0.4600000 0.08000000 1.110000 2.960000 3.560000 4.170000\n",
              "8  0.4100000 2.140000 0.2200000 0.12000000 0.930000 2.550000 2.060000 2.950000\n",
              "9  0.4200000 1.710000 0.2000000 0.06000000 0.640000 2.840000 1.590000 3.480000\n",
              "10 0.3500000 2.000000 0.2100000 0.06000000 0.670000 2.570000 1.710000 3.790000\n",
              "11 0.3000000 1.940000 0.1500000 0.07000000 0.790000 2.330000 1.610000 2.720000\n",
              "12 0.5500000 2.580000 0.2300000 0.08000000 0.830000 2.980000 2.050000 3.420000\n",
              "13 0.5200000 3.030000 0.3100000 0.09000000 1.010000 3.080000 2.420000 3.510000\n",
              "14 0.4400000 2.990000 0.3100000 0.05000000 0.860000 2.910000 2.480000 3.630000\n",
              "15 0.4750000 2.380000 0.2300000 0.04500000 0.715000 2.865000 2.110000 3.820000\n",
              "16 0.5333333 2.193333 0.1866667 0.08666667 0.960000 2.783333 2.370000 2.843333\n",
              "17 0.3500000 1.350000 0.1700000 0.07000000 0.660000 2.270000 1.720000 3.080000\n",
              "18 0.7233333 2.583333 0.3033333 0.17000000 1.183333 2.753333 2.066667 3.786667\n",
              "19 0.5700000 2.420000 0.3000000 0.08000000 0.900000 2.940000 2.430000 3.790000\n",
              "20 0.5100000 2.370000 0.2300000 0.09000000 0.840000 3.130000 2.480000 3.210000\n",
              "21 0.4400000 2.230000 0.2400000 0.04000000 0.810000 3.170000 1.860000 3.820000\n",
              "22 0.5100000 2.240000 0.3200000 0.06000000 0.840000 3.010000 2.060000 4.360000\n",
              "23 0.4500000 3.070000 0.2600000 0.07000000 1.000000 2.750000 2.360000 4.030000\n",
              "24 0.4500000 1.700000 0.2100000 0.06000000 0.640000 3.120000 1.590000 4.000000\n",
              "25 0.4700000 2.530000 0.2200000 0.05000000 0.800000 2.750000 2.580000 3.490000\n",
              "26 0.4800000 2.840000 0.1500000 0.06000000 0.980000 2.900000 2.080000 2.900000\n",
              "27 0.4300000 3.240000 0.2900000 0.06000000 0.980000 2.840000 2.750000 3.770000\n",
              "   GPHDL9   GPHDL10  ⋯ S1.LDLi S2.LDLi S3.LDLi B.LDLi F.LDLi HM.LDLi BMI     \n",
              "1  5.460000 18.64000 ⋯ 28.180  42.460  1.950   0.02   1.67   13.02   31.61579\n",
              "2  4.200000 18.92000 ⋯ 30.430  39.860  1.560   0.02   1.69   14.16   29.74420\n",
              "3  6.280000 23.81000 ⋯ 29.370  41.130  2.200   0.02   1.89   13.89   22.96875\n",
              "4  5.330000 18.72000 ⋯ 28.540  40.640  1.950   0.02   2.03   14.25   21.91358\n",
              "5  6.140000 21.28000 ⋯ 26.710  40.390  2.510   0.02   2.70   16.06   25.00000\n",
              "6  6.910000 22.21000 ⋯ 28.440  39.990  2.330   0.02   1.61   13.82   24.91077\n",
              "7  6.100000 23.37000 ⋯ 32.270  37.290  1.520   0.03   1.61   14.59   23.24341\n",
              "8  6.250000 19.91000 ⋯ 27.990  41.190  2.180   0.05   1.55   13.26   35.11111\n",
              "9  4.660000 18.15000 ⋯ 28.110  43.200  2.230   0.02   2.30   13.11   29.81341\n",
              "10 5.010000 19.88000 ⋯ 28.500  40.140  1.960   0.03   1.72   14.21   20.90420\n",
              "11 6.610000 19.08000 ⋯ 26.590  42.620  2.580   0.02   2.02   13.52   28.39872\n",
              "12 5.640000 21.98000 ⋯ 29.470  39.760  1.910   0.06   1.93   14.28   28.16249\n",
              "13 5.810000 21.29000 ⋯ 28.160  42.470  2.380   0.03   1.93   13.42   27.71769\n",
              "14 5.590000 24.32000 ⋯ 33.520  35.450  1.470   0.02   1.24   14.35   22.58955\n",
              "15 5.470000 21.36000 ⋯ 29.360  39.770  2.190   0.03   2.99   14.47   20.93664\n",
              "16 5.963333 21.21667 ⋯ 29.100  40.840  1.950   0.03   1.99   13.02   38.86603\n",
              "17 5.290000 19.62000 ⋯ 28.570  42.040  2.110   0.02   2.34   13.59   22.23099\n",
              "18 6.123333 20.50000 ⋯ 29.245  38.985  2.185   0.03   2.19   15.15   26.81359\n",
              "19 5.860000 20.96000 ⋯ 29.240  39.910  2.080   0.03   1.69   14.11   27.63980\n",
              "20 5.500000 22.67000 ⋯ 28.810  40.410  1.770   0.04   1.38   14.83   20.75298\n",
              "21 6.160000 20.53000 ⋯ 29.210  41.010  2.340   0.02   2.03   13.33   21.71925\n",
              "22 6.220000 21.61000 ⋯ 29.580  40.480  2.190   0.02   2.27   13.54   23.43750\n",
              "23 6.760000 21.46000 ⋯ 28.190  41.210  2.200   0.02   2.36   14.45   28.57668\n",
              "24 4.860000 19.73000 ⋯ 29.690  40.060  1.640   0.02   1.55   14.70   22.21074\n",
              "25 5.590000 21.89000 ⋯ 28.160  41.210  2.040   0.03   2.26   15.06   28.65014\n",
              "26 7.230000 20.67000 ⋯ 24.700  43.560  2.520   0.06   2.73   13.89   34.33510\n",
              "27 6.390000 22.75000 ⋯ 29.860  40.350  2.650   0.02   1.55   13.37   28.47989\n",
              "   AI        carotid.IMT.mean Plaque\n",
              "1  1.6232772 0.6425000        1     \n",
              "2  3.5751295 0.8500000        3     \n",
              "3  3.6223507 0.8241667        2     \n",
              "4  1.2630208 1.0983333        1     \n",
              "5  3.2310178 0.8475000        2     \n",
              "6  3.2078560 0.6725000        1     \n",
              "7  3.1754386 0.7850000        1     \n",
              "8  2.8315946 0.8491667        1     \n",
              "9  2.7872340 0.7041667        2     \n",
              "10 0.5657407 0.7458333        2     \n",
              "11 2.7734977 0.7758333        2     \n",
              "12 4.4594595 0.9241667        2     \n",
              "13 4.0067912 0.8466667        2     \n",
              "14 4.1525424 0.9766667        2     \n",
              "15 1.5882353 0.8741667        3     \n",
              "16 2.2790698 0.9991667        1     \n",
              "17 1.9671533 0.8258333        1     \n",
              "18 1.4141414 0.6458333        1     \n",
              "19 1.8385093 0.8016667        1     \n",
              "20 2.2466216 1.0008333        1     \n",
              "21 1.1276596 0.5833333        0     \n",
              "22 2.2173913 0.8500000        1     \n",
              "23 2.3575949 0.7116667        2     \n",
              "24 2.2222222 0.6408333        1     \n",
              "25 3.5477583 0.7933333        2     \n",
              "26 1.8832117 0.8825000        2     \n",
              "27 3.1842576 0.7475000        2     "
            ]
          },
          "metadata": {}
        }
      ]
    },
    {
      "cell_type": "code",
      "source": [
        "manova_model <- manova(cbind(GPHDL1, GPHDL2, GPHDL3, GPHDL4, GPHDL5, GPHDL6, GPHDL7, GPHDL8, GPHDL9, GPHDL10, GPHDL11, GPHDL12,\n",
        "                            GPHDL13, GPHDL14, GPHDL15, GPHDL16, GPHDL17, GPHDL18, GPHDL19, GPHDL20, GPHDL21, GPHDL22,\n",
        "                            sum_auc.HDLi, LB.HDLi, HB.HDLi, G1.HDLi, G2.HDLi, G3.HDLi, S0.HDLi, S1.HDLi, S2.HDLi, S3.HDLi, B.HDLi, F.HDLi, HM.HDLi,\n",
        "                            GPLDL1, GPLDL2, GPLDL3, GPLDL4, GPLDL5, GPLDL6, GPLDL7, GPLDL8, GPLDL9, GPLDL10, GPLDL11, GPLDL12,\n",
        "                            GPLDL13, GPLDL14, GPLDL15, GPLDL16, GPLDL17, GPLDL18, GPLDL19, GPLDL20, GPLDL21, GPLDL22,\n",
        "                            sum_auc.LDLi, LB.LDLi, HB.LDLi, G1.LDLi, G2.LDLi, G3.LDLi, S0.LDLi, S1.LDLi, S2.LDLi, S3.LDLi, B.LDLi, F.LDLi, HM.LDLi)\n",
        "                            ~ Plaque, data)\n",
        "summary(manova_model)"
      ],
      "metadata": {
        "colab": {
          "base_uri": "https://localhost:8080/",
          "height": 159
        },
        "id": "z7NfPNtJ2yqH",
        "outputId": "b0e1ce70-02f1-4177-b05e-77c0eeb2d75f"
      },
      "execution_count": 31,
      "outputs": [
        {
          "output_type": "error",
          "ename": "ERROR",
          "evalue": "Error in summary.manova(manova_model): residuals have rank 23 < 70\n",
          "traceback": [
            "Error in summary.manova(manova_model): residuals have rank 23 < 70\nTraceback:\n",
            "1. summary(manova_model)",
            "2. summary.manova(manova_model)",
            "3. stop(gettextf(\"residuals have rank %d < %d\", rss.qr$rank, ncol(resid)), \n .     domain = NA)"
          ]
        }
      ]
    },
    {
      "cell_type": "markdown",
      "source": [
        "Анализ MANOVA завершается ошибкой, так как мы подали слишком большое количество переменных. Для уменьшения числа переменных нам необходимо произвести анализ главных компонент (PCA)."
      ],
      "metadata": {
        "id": "xg10Wrub2_gO"
      }
    },
    {
      "cell_type": "code",
      "source": [
        "pca <- prcomp(df_ch %>%\n",
        "  select(GPHDL1, GPHDL2, GPHDL3, GPHDL4, GPHDL5, GPHDL6, GPHDL7, GPHDL8, GPHDL9, GPHDL10, GPHDL11, GPHDL12,\n",
        "        GPHDL13, GPHDL14, GPHDL15, GPHDL16, GPHDL17, GPHDL18, GPHDL19, GPHDL20, GPHDL21, GPHDL22,\n",
        "        sum_auc.HDLi, LB.HDLi, HB.HDLi, G1.HDLi, G2.HDLi, G3.HDLi, S0.HDLi, S1.HDLi, S2.HDLi, S3.HDLi, B.HDLi, F.HDLi, HM.HDLi,\n",
        "        GPLDL1, GPLDL2, GPLDL3, GPLDL4, GPLDL5, GPLDL6, GPLDL7, GPLDL8, GPLDL9, GPLDL10, GPLDL11, GPLDL12,\n",
        "        GPLDL13, GPLDL14, GPLDL15, GPLDL16, GPLDL17, GPLDL18, GPLDL19, GPLDL20, GPLDL21, GPLDL22,\n",
        "        sum_auc.LDLi, LB.LDLi, HB.LDLi, G1.LDLi, G2.LDLi, G3.LDLi, S0.LDLi, S1.LDLi, S2.LDLi, S3.LDLi, B.LDLi, F.LDLi, HM.LDLi\n",
        "        ), scale. = TRUE)\n",
        "summary(pca)"
      ],
      "metadata": {
        "colab": {
          "base_uri": "https://localhost:8080/",
          "height": 312
        },
        "id": "VoPnkq3C3Avl",
        "outputId": "30871753-2bfc-457f-ffdb-998ed0108898"
      },
      "execution_count": 30,
      "outputs": [
        {
          "output_type": "display_data",
          "data": {
            "text/plain": [
              "Importance of components:\n",
              "                          PC1    PC2    PC3     PC4     PC5     PC6     PC7\n",
              "Standard deviation     4.2390 4.0261 3.0037 2.14927 1.95772 1.78742 1.60971\n",
              "Proportion of Variance 0.2567 0.2316 0.1289 0.06599 0.05475 0.04564 0.03702\n",
              "Cumulative Proportion  0.2567 0.4883 0.6171 0.68314 0.73790 0.78354 0.82055\n",
              "                           PC8     PC9    PC10    PC11    PC12   PC13    PC14\n",
              "Standard deviation     1.54737 1.32400 1.26817 1.18532 1.05789 0.9049 0.83761\n",
              "Proportion of Variance 0.03421 0.02504 0.02297 0.02007 0.01599 0.0117 0.01002\n",
              "Cumulative Proportion  0.85476 0.87980 0.90278 0.92285 0.93884 0.9505 0.96056\n",
              "                          PC15    PC16    PC17    PC18    PC19    PC20    PC21\n",
              "Standard deviation     0.82664 0.74458 0.57726 0.51808 0.47192 0.40259 0.37188\n",
              "Proportion of Variance 0.00976 0.00792 0.00476 0.00383 0.00318 0.00232 0.00198\n",
              "Cumulative Proportion  0.97032 0.97824 0.98300 0.98683 0.99002 0.99233 0.99431\n",
              "                          PC22    PC23    PC24    PC25    PC26      PC27\n",
              "Standard deviation     0.33744 0.29626 0.28336 0.26140 0.21960 2.267e-13\n",
              "Proportion of Variance 0.00163 0.00125 0.00115 0.00098 0.00069 0.000e+00\n",
              "Cumulative Proportion  0.99593 0.99719 0.99833 0.99931 1.00000 1.000e+00"
            ]
          },
          "metadata": {}
        }
      ]
    },
    {
      "cell_type": "markdown",
      "source": [
        "Из результатов РСА не понятно какая переменная вносит наибольший вклад в каждую из компонент. Визуализируем загрузки главных компонент (PCs):"
      ],
      "metadata": {
        "id": "AKvPKW8X3KBF"
      }
    },
    {
      "cell_type": "code",
      "source": [
        "loadings <- pca$rotation\n",
        "\n",
        "# Проверка загрузок главных компонент\n",
        "print(loadings)\n",
        "\n",
        "# Преобразование загрузок в удобочитаемый формат\n",
        "loadings_df <- as.data.frame(loadings)"
      ],
      "metadata": {
        "colab": {
          "base_uri": "https://localhost:8080/"
        },
        "id": "fXI7h2AX3HE2",
        "outputId": "a526a581-8f9a-4286-bd8f-5a35a351c58d"
      },
      "execution_count": 32,
      "outputs": [
        {
          "output_type": "stream",
          "name": "stdout",
          "text": [
            "                      PC1          PC2          PC3          PC4          PC5\n",
            "GPHDL1       -0.060230183  0.103879497 -0.067978920 -0.210533205 -0.269281846\n",
            "GPHDL2       -0.214226585 -0.003329646 -0.065903155  0.073218663  0.054229139\n",
            "GPHDL3       -0.114615615  0.172103410  0.017149179  0.044773647 -0.174322685\n",
            "GPHDL4       -0.065940339 -0.001567015  0.083071836 -0.140335442 -0.298554380\n",
            "GPHDL5       -0.194267502 -0.002076031  0.028326198 -0.059614152 -0.221416788\n",
            "GPHDL6       -0.090416348  0.095041843 -0.055449927  0.045469799  0.119112123\n",
            "GPHDL7       -0.163748076  0.106660208  0.038502465 -0.034209196 -0.110334072\n",
            "GPHDL8       -0.036848150  0.172258176 -0.125766399  0.089138057 -0.084008017\n",
            "GPHDL9       -0.179154688 -0.109063667 -0.023534110  0.009667063 -0.068201072\n",
            "GPHDL10      -0.199706449  0.100389693  0.004078390 -0.007813515  0.106078124\n",
            "GPHDL11      -0.022881808 -0.041796109 -0.140974856 -0.117473611 -0.076125029\n",
            "GPHDL12      -0.194352731 -0.055808198  0.081365648  0.004757411  0.014767334\n",
            "GPHDL13       0.160337974  0.067522181 -0.130232760  0.179276765 -0.055580698\n",
            "GPHDL14       0.033325731 -0.143552341  0.132133346 -0.082323862  0.252227244\n",
            "GPHDL15       0.088271307 -0.078008462 -0.156582554 -0.134245018 -0.024606477\n",
            "GPHDL16       0.097234532  0.069287973  0.098710560  0.151571095 -0.269174997\n",
            "GPHDL17       0.137437573  0.081145012 -0.132159735  0.006034967 -0.034992713\n",
            "GPHDL18       0.032344170 -0.060102611  0.260878260 -0.047603265 -0.182742480\n",
            "GPHDL19       0.187927034  0.056866031 -0.149606117 -0.034759459 -0.058841588\n",
            "GPHDL20       0.158356384 -0.042698772  0.178706842  0.149087189 -0.112034659\n",
            "GPHDL21       0.139768894 -0.127263157  0.135511819 -0.134430728 -0.046701606\n",
            "GPHDL22       0.146381245 -0.010671242 -0.161007132 -0.172446010  0.035534691\n",
            "sum_auc.HDLi -0.026486822  0.020934052  0.103737506 -0.011021447  0.061982840\n",
            "LB.HDLi      -0.210770527  0.048554818 -0.024423250 -0.003113534  0.150746803\n",
            "HB.HDLi       0.222521633 -0.024496514  0.043838910 -0.003172640 -0.113585296\n",
            "G1.HDLi      -0.194293661  0.045341316 -0.081382457  0.029506597 -0.127692850\n",
            "G2.HDLi      -0.142600351  0.032368178  0.032249949 -0.028931392  0.322920269\n",
            "G3.HDLi       0.215461424 -0.037368987  0.075295193  0.002574183 -0.116508487\n",
            "S0.HDLi      -0.173973364  0.101194626  0.028583702 -0.063623033 -0.185915223\n",
            "S1.HDLi      -0.213714671  0.083657959 -0.036124946  0.020595800  0.049420767\n",
            "S2.HDLi       0.179588795 -0.091944299  0.055147415  0.020011820  0.097496619\n",
            "S3.HDLi       0.214180081 -0.055362654  0.052139314 -0.017041064 -0.064001255\n",
            "B.HDLi       -0.065940339 -0.001567015  0.083071836 -0.140335442 -0.298554380\n",
            "F.HDLi        0.157463546 -0.016291748 -0.185117156 -0.169480410  0.017411002\n",
            "HM.HDLi      -0.221234802 -0.017092428 -0.031548360  0.059662874  0.047097377\n",
            "GPLDL1        0.081318935  0.188236932  0.002109281 -0.057900182 -0.026105542\n",
            "GPLDL2       -0.085129703  0.082189448 -0.191032124  0.031711325 -0.034944735\n",
            "GPLDL3        0.052541190  0.208492382 -0.006980019  0.038258047 -0.078328002\n",
            "GPLDL4       -0.049328470 -0.041480199  0.009108425 -0.333274269 -0.075733254\n",
            "GPLDL5        0.003860403  0.161222681  0.064963796 -0.084441992  0.002099157\n",
            "GPLDL6        0.029346465  0.141350989 -0.092501350 -0.180556904  0.108639419\n",
            "GPLDL7       -0.009279536  0.175600165  0.099663911 -0.063429720 -0.018441033\n",
            "GPLDL8        0.068903314  0.196795152 -0.105139028  0.053350794 -0.078789471\n",
            "GPLDL9       -0.033620864 -0.153326471  0.085866406 -0.114527786 -0.023956296\n",
            "GPLDL10      -0.042108044  0.198257214  0.124347526  0.010991750  0.060097187\n",
            "GPLDL11      -0.039575642 -0.151957278 -0.092226073 -0.117892494  0.012082249\n",
            "GPLDL12       0.041210536 -0.159426028  0.105829245 -0.126330997 -0.011034373\n",
            "GPLDL13       0.090169566  0.017764385 -0.136490391  0.255681498 -0.123357290\n",
            "GPLDL14       0.061484715 -0.170438892  0.053100878 -0.035448818  0.074059968\n",
            "GPLDL15       0.012151989 -0.185958639 -0.127924008  0.032915859 -0.058304164\n",
            "GPLDL16      -0.111026623 -0.150575559 -0.018233318 -0.004696763 -0.140681594\n",
            "GPLDL17       0.023672606  0.048138333 -0.246137668  0.165423698  0.103383674\n",
            "GPLDL18      -0.149177050 -0.102926936  0.119688408  0.087098580 -0.006607894\n",
            "GPLDL19       0.007823199 -0.013166599 -0.300252942  0.097065783 -0.060399846\n",
            "GPLDL20      -0.051623023 -0.098352656  0.098448437  0.336209623 -0.133135101\n",
            "GPLDL21      -0.104650088 -0.194225105  0.024328433 -0.042332632  0.004468711\n",
            "GPLDL22       0.016657030 -0.049951778 -0.278310101 -0.164184293  0.031073168\n",
            "sum_auc.LDLi -0.086921227 -0.061290918  0.065241552 -0.004926870  0.080901134\n",
            "LB.LDLi       0.094387503  0.137600532  0.122811386  0.081905584  0.060202283\n",
            "HB.LDLi      -0.099827955 -0.176753969 -0.099732490  0.130731203 -0.127197034\n",
            "G1.LDLi       0.063699772  0.212664417 -0.059060781  0.008827727 -0.066884022\n",
            "G2.LDLi       0.077029167  0.051305886  0.172487107  0.090488951  0.103864237\n",
            "G3.LDLi      -0.099827955 -0.176753969 -0.099732490  0.130731203 -0.127197034\n",
            "S0.LDLi       0.015376895  0.208494790  0.077296007 -0.073454615 -0.028394030\n",
            "S1.LDLi      -0.021602352  0.220055749  0.086121101  0.021836664  0.035270229\n",
            "S2.LDLi       0.063884682 -0.196153897 -0.029438290  0.068701136 -0.007388085\n",
            "S3.LDLi      -0.064003928 -0.180013754 -0.100456615  0.197139367 -0.105769356\n",
            "B.LDLi       -0.049328470 -0.041480199  0.009108425 -0.333274269 -0.075733254\n",
            "F.LDLi        0.016849727 -0.105761895 -0.274874933 -0.046733055 -0.014420632\n",
            "HM.LDLi      -0.043599088  0.072649313 -0.172590035 -0.122761602  0.018384509\n",
            "                       PC6          PC7           PC8           PC9\n",
            "GPHDL1       -0.0865559777  0.112942091  0.0033017300  0.1903786699\n",
            "GPHDL2        0.0587388676  0.065023513 -0.0159176802  0.1173956343\n",
            "GPHDL3       -0.1154596392 -0.108995920 -0.0607055476  0.0599147230\n",
            "GPHDL4       -0.0829768990 -0.005242848  0.2938987506  0.1397136185\n",
            "GPHDL5       -0.0461712682  0.012599760 -0.0404822583  0.0428146356\n",
            "GPHDL6       -0.0492539750  0.355368901 -0.1404394637  0.2205245147\n",
            "GPHDL7       -0.1405686568 -0.066532216 -0.0443628348 -0.0372284520\n",
            "GPHDL8       -0.0957493883 -0.114695030  0.0193395391 -0.0890849798\n",
            "GPHDL9        0.0086226744 -0.003215984 -0.1102619572 -0.1839014099\n",
            "GPHDL10       0.0002598846 -0.045588885  0.0025178243 -0.0137680465\n",
            "GPHDL11      -0.1142177982 -0.062853756  0.0038534800 -0.4418589614\n",
            "GPHDL12      -0.0062970733 -0.066520518 -0.1142510088 -0.0006889799\n",
            "GPHDL13       0.0130986343  0.063081009  0.1661635244 -0.1506250120\n",
            "GPHDL14       0.0495355675  0.090789061  0.0929362171  0.1321253998\n",
            "GPHDL15      -0.0255755210 -0.140941369  0.1574747736 -0.1986555876\n",
            "GPHDL16       0.0464471184  0.083092295  0.1080524149 -0.0558378784\n",
            "GPHDL17      -0.0069704104 -0.016612146  0.2537135069 -0.1644440471\n",
            "GPHDL18      -0.0267310694 -0.009538739 -0.0968245680  0.0790220723\n",
            "GPHDL19      -0.0786774334 -0.038244629 -0.0211547380 -0.0071493746\n",
            "GPHDL20       0.1256133123  0.047413365 -0.0070243208  0.0119138707\n",
            "GPHDL21       0.0751052085 -0.014785407 -0.0216435868  0.0616418811\n",
            "GPHDL22      -0.0949090908 -0.115701534 -0.1880016493  0.1714697108\n",
            "sum_auc.HDLi -0.1249128615  0.074075953 -0.2103889048  0.1611229025\n",
            "LB.HDLi      -0.0370240439  0.030653261  0.1126066641 -0.0764581862\n",
            "HB.HDLi       0.0247199315 -0.025316038 -0.0685817853  0.0762815981\n",
            "G1.HDLi      -0.0707878243  0.028810283 -0.0956743606 -0.0817963329\n",
            "G2.HDLi       0.0053228624  0.020280539  0.2414581664 -0.0423541486\n",
            "G3.HDLi       0.0414573798 -0.021544637 -0.0728765116  0.0864581079\n",
            "S0.HDLi      -0.1300706161 -0.038773448 -0.0322181544  0.0200847660\n",
            "S1.HDLi      -0.0221447930 -0.020650179 -0.0423266661 -0.0617673980\n",
            "S2.HDLi       0.0500188673  0.096895587  0.2483074351 -0.0303574799\n",
            "S3.HDLi       0.0439093807 -0.035753638 -0.1154637383  0.1156607177\n",
            "B.HDLi       -0.0829768990 -0.005242848  0.2938987506  0.1397136185\n",
            "F.HDLi       -0.0828793256 -0.129055626 -0.0758619766  0.0650540306\n",
            "HM.HDLi       0.0452479148  0.034686160 -0.0422549978  0.0935096668\n",
            "GPLDL1       -0.0030706653  0.244681488 -0.0545946850  0.0757031408\n",
            "GPLDL2        0.1225167117  0.003192209  0.1834929698  0.3114088372\n",
            "GPLDL3       -0.0008794200 -0.138315216 -0.0770765318 -0.0170586772\n",
            "GPLDL4       -0.0533290302  0.262565384  0.0711472183 -0.1908789507\n",
            "GPLDL5        0.1052098174  0.288704145 -0.2372267374 -0.1416769949\n",
            "GPLDL6        0.2382300253  0.073981455  0.1876263392 -0.0306831272\n",
            "GPLDL7        0.1654597845 -0.037010011  0.0170807982 -0.1471448395\n",
            "GPLDL8       -0.0160506423  0.026743226 -0.0290063900 -0.0061495821\n",
            "GPLDL9        0.2305062933 -0.109208702 -0.1712304209 -0.2084721986\n",
            "GPLDL10       0.0034775173 -0.188915523 -0.0296127659 -0.0060059752\n",
            "GPLDL11      -0.0018976644  0.289195427 -0.0643422441  0.0604714475\n",
            "GPLDL12       0.1212725061 -0.192961782 -0.1845333397 -0.1080460267\n",
            "GPLDL13       0.0313618584  0.195747372  0.0554963908 -0.0733647751\n",
            "GPLDL14      -0.3072909737  0.112646573  0.0354160228  0.0322432625\n",
            "GPLDL15      -0.0611525526 -0.081091687 -0.0175956106  0.0554845703\n",
            "GPLDL16       0.2160643040 -0.061843980 -0.0206200918  0.0777059885\n",
            "GPLDL17      -0.0442014925  0.120819660 -0.0871348811 -0.0367620316\n",
            "GPLDL18      -0.0035587151 -0.080399004  0.0587023945  0.0101380539\n",
            "GPLDL19      -0.0321511134 -0.065185715 -0.0382082507 -0.0080665168\n",
            "GPLDL20       0.0765053151  0.138876239  0.0782074086 -0.0897044647\n",
            "GPLDL21      -0.0891155607  0.050209694 -0.0238034079 -0.0526904914\n",
            "GPLDL22      -0.1031801852 -0.073605267 -0.1221449690  0.0460170206\n",
            "sum_auc.LDLi -0.1911031188 -0.221820793  0.2528414506  0.0650760312\n",
            "LB.LDLi      -0.3205454727  0.030187623  0.0002868193 -0.0378841160\n",
            "HB.LDLi       0.0830897553  0.007453747 -0.0218142338 -0.0001789630\n",
            "G1.LDLi       0.0073928971  0.098228294 -0.0793385698 -0.0261476758\n",
            "G2.LDLi      -0.3754889502 -0.014999188  0.0407228217 -0.0306214457\n",
            "G3.LDLi       0.0830897553  0.007453747 -0.0218142338 -0.0001789630\n",
            "S0.LDLi       0.1261758587  0.076089717 -0.0632751846 -0.1193459248\n",
            "S1.LDLi      -0.0005683280 -0.161036229 -0.0327806153 -0.0067090007\n",
            "S2.LDLi      -0.2380321618  0.144410286  0.0446332561  0.0223341228\n",
            "S3.LDLi      -0.0226412330  0.093988402 -0.0185938512 -0.0668353506\n",
            "B.LDLi       -0.0533290302  0.262565384  0.0711472183 -0.1908789507\n",
            "F.LDLi       -0.0898917770 -0.080320636 -0.0850072481  0.0447670311\n",
            "HM.LDLi       0.2912070639 -0.049981014  0.1773395208  0.2188070674\n",
            "                      PC10          PC11         PC12          PC13\n",
            "GPHDL1       -1.015233e-01  0.0005917949 -0.032850607  0.1409226783\n",
            "GPHDL2        2.918352e-02  0.0213268017 -0.054249727 -0.0825462883\n",
            "GPHDL3       -4.857906e-02 -0.0331094005  0.058890601 -0.1586410449\n",
            "GPHDL4       -2.685468e-01  0.0340620993 -0.059531352  0.1758853812\n",
            "GPHDL5       -9.833181e-02  0.0085308957  0.123650069  0.1662882037\n",
            "GPHDL6       -1.053451e-01 -0.1232102072  0.162824543 -0.0826339195\n",
            "GPHDL7        2.635517e-01  0.0889686589  0.095881936 -0.0852621291\n",
            "GPHDL8       -7.028377e-02 -0.2666540943 -0.109821798 -0.1210201453\n",
            "GPHDL9       -7.303987e-02 -0.0006889008  0.231764509  0.1386799001\n",
            "GPHDL10       1.423189e-01  0.0574781152 -0.065263191  0.0208801704\n",
            "GPHDL11       5.911871e-02 -0.2756118581 -0.045274105  0.0170029480\n",
            "GPHDL12      -1.419989e-01  0.0704967387  0.031276188 -0.1245647943\n",
            "GPHDL13       9.168913e-03  0.0464597464  0.100784790  0.0774349581\n",
            "GPHDL14      -2.543799e-01  0.0099731959 -0.069609510 -0.0257891159\n",
            "GPHDL15       1.731931e-02 -0.1223744674 -0.124890187  0.1703109827\n",
            "GPHDL16       3.231866e-01 -0.0303788449  0.095015801 -0.0415839527\n",
            "GPHDL17       2.604466e-05 -0.2502014651 -0.028148848 -0.0939832216\n",
            "GPHDL18       2.243520e-01 -0.0410598646  0.012392365 -0.1028760023\n",
            "GPHDL19       1.419137e-01  0.0289997378  0.078667852 -0.0600906724\n",
            "GPHDL20      -6.795708e-02  0.0260560894  0.011882836  0.0112873877\n",
            "GPHDL21      -5.463850e-02 -0.1494691709 -0.090115700  0.0360083556\n",
            "GPHDL22       1.655453e-02  0.1122275600 -0.050017068 -0.0006826446\n",
            "sum_auc.HDLi  2.430826e-01 -0.3885322370 -0.120797682  0.4613267879\n",
            "LB.HDLi      -7.111164e-02 -0.0059869996  0.026430271  0.0734094668\n",
            "HB.HDLi       4.937160e-02  0.0228856061 -0.003223054 -0.0216284306\n",
            "G1.HDLi      -1.341394e-01 -0.1455796203  0.155057970  0.0478215177\n",
            "G2.HDLi       8.714007e-03  0.1119929129 -0.090401077  0.0661119418\n",
            "G3.HDLi       3.016658e-02  0.0204571815 -0.017445582 -0.0135809547\n",
            "S0.HDLi       1.262447e-01  0.0595675952  0.090650743 -0.0116731680\n",
            "S1.HDLi       5.346167e-02 -0.0274156272  0.018318932  0.0235575540\n",
            "S2.HDLi      -1.128299e-01 -0.0382760362 -0.016411157  0.0208116945\n",
            "S3.HDLi      -4.579743e-02  0.0584901923 -0.034495268  0.0130073504\n",
            "B.HDLi       -2.685468e-01  0.0340620993 -0.059531352  0.1758853812\n",
            "F.HDLi        1.743995e-02  0.0245586162 -0.074383392  0.0280616052\n",
            "HM.HDLi      -1.343906e-02  0.0352544006 -0.035204315 -0.0980958589\n",
            "GPLDL1       -6.321542e-02 -0.0126906148  0.042266602 -0.2196498736\n",
            "GPLDL2        1.956664e-01 -0.0311797106 -0.035936955 -0.0793432017\n",
            "GPLDL3       -1.622659e-01 -0.1053160195 -0.135497439 -0.2332101233\n",
            "GPLDL4        9.686565e-02  0.1560987604 -0.077046685 -0.1957373109\n",
            "GPLDL5       -9.826762e-02  0.0603062539  0.016579383  0.1456240528\n",
            "GPLDL6        5.383299e-02 -0.1484626040  0.174206837  0.0431684252\n",
            "GPLDL7        7.415001e-02  0.2398731640 -0.269033868  0.1142339023\n",
            "GPLDL8       -2.272660e-01 -0.1324276423 -0.018752174 -0.1078412445\n",
            "GPLDL9       -1.255407e-01 -0.0107074864  0.227098264  0.1150572624\n",
            "GPLDL10      -8.218899e-03  0.0902291926 -0.140143092  0.0627943609\n",
            "GPLDL11       6.732310e-02 -0.0267311892 -0.190478020  0.0873488724\n",
            "GPLDL12      -1.631535e-01  0.0082408169  0.173508944 -0.1544506833\n",
            "GPLDL13       4.397005e-02  0.2808640944  0.127216988  0.1195762289\n",
            "GPLDL14       2.703221e-02 -0.1681459313  0.082587769 -0.0640296592\n",
            "GPLDL15      -6.531232e-02  0.1576057778 -0.010926320 -0.2014562941\n",
            "GPLDL16       1.129554e-01 -0.0899958703 -0.129710372  0.0369953210\n",
            "GPLDL17      -1.813911e-01  0.0051844539 -0.072399695  0.1089970466\n",
            "GPLDL18      -2.821289e-02 -0.1144216990 -0.359784798 -0.1804199702\n",
            "GPLDL19      -1.590181e-02  0.1820113414 -0.085400689  0.1113997879\n",
            "GPLDL20      -3.322614e-02  0.0129634385 -0.044793558 -0.0184329546\n",
            "GPLDL21      -2.753577e-02 -0.1425395705 -0.144253390 -0.2368476110\n",
            "GPLDL22      -3.700807e-03  0.1134522227 -0.037013671  0.0820942547\n",
            "sum_auc.LDLi -1.443618e-02  0.1247089304  0.321701470  0.0006157327\n",
            "LB.LDLi      -3.631375e-02  0.0680323709 -0.074327662 -0.0002548507\n",
            "HB.LDLi       1.906878e-02  0.0025781243 -0.169731095  0.0088175756\n",
            "G1.LDLi      -1.971503e-01 -0.0881892367 -0.020080419 -0.1067123770\n",
            "G2.LDLi       5.825481e-02  0.1237907146 -0.075972505  0.0540303060\n",
            "G3.LDLi       1.906878e-02  0.0025781243 -0.169731095  0.0088175756\n",
            "S0.LDLi      -7.418411e-03  0.1518453106 -0.177579426  0.0296636748\n",
            "S1.LDLi      -5.887272e-02  0.0497450425 -0.128223824  0.0310596251\n",
            "S2.LDLi       4.692906e-02 -0.0482164287  0.076067158 -0.0319982200\n",
            "S3.LDLi      -4.181354e-02  0.0597405441 -0.106163346 -0.0169207671\n",
            "B.LDLi        9.686565e-02  0.1560987604 -0.077046685 -0.1957373109\n",
            "F.LDLi       -4.220518e-02  0.1634342118 -0.044876476 -0.0140482042\n",
            "HM.LDLi       1.300851e-01 -0.1006637638  0.137831553 -0.1232576813\n",
            "                     PC14         PC15          PC16          PC17\n",
            "GPHDL1       -0.077945974  0.202552309 -0.0586211869 -0.2289145144\n",
            "GPHDL2       -0.041910849 -0.106652781  0.1030643333  0.0774100347\n",
            "GPHDL3       -0.003578914 -0.047143009  0.0432409259  0.1900851880\n",
            "GPHDL4        0.003688554 -0.102788919  0.0315360977  0.0435333840\n",
            "GPHDL5       -0.130575304  0.056237367  0.0383380977 -0.0655615827\n",
            "GPHDL6        0.030172803  0.112791268 -0.0363573906 -0.0613226614\n",
            "GPHDL7       -0.170889722 -0.035551990 -0.0775500800 -0.0957613391\n",
            "GPHDL8        0.213593990 -0.010335480  0.1435560630  0.1793453525\n",
            "GPHDL9        0.057120722  0.076024868 -0.1209392438 -0.0347399643\n",
            "GPHDL10       0.049822029 -0.011758545 -0.1592494206  0.0481064551\n",
            "GPHDL11      -0.238909687  0.043614256  0.4521747043 -0.1932565450\n",
            "GPHDL12      -0.063318701 -0.323255386  0.0907070294  0.0145733843\n",
            "GPHDL13      -0.037220583  0.013696011  0.0933272781  0.0099769904\n",
            "GPHDL14      -0.044629795  0.049306150  0.1272112698 -0.0501589614\n",
            "GPHDL15      -0.029698474 -0.351295175 -0.3293233924 -0.2319096147\n",
            "GPHDL16       0.003244762 -0.084031107 -0.2250746055  0.0685796660\n",
            "GPHDL17      -0.019475027  0.200358500 -0.2258821218  0.2041879802\n",
            "GPHDL18      -0.111278244 -0.071749618 -0.1635361109 -0.0573212836\n",
            "GPHDL19       0.020987405  0.004658121 -0.0480780796 -0.1084090554\n",
            "GPHDL20       0.064479048 -0.015188300  0.1134951930 -0.0006115086\n",
            "GPHDL21       0.067548910  0.004355277 -0.1108851543  0.0857634425\n",
            "GPHDL22       0.005570572  0.112000090  0.0102173448  0.0448599872\n",
            "sum_auc.HDLi  0.307030133 -0.318352104  0.0368486595  0.1298814273\n",
            "LB.HDLi       0.010008677  0.007952700 -0.0932803344 -0.0424336582\n",
            "HB.HDLi       0.036986484  0.040892957 -0.0177657644  0.0323180662\n",
            "G1.HDLi       0.113528913  0.088228585 -0.0188325354  0.0290442805\n",
            "G2.HDLi      -0.079645648 -0.061645002 -0.1187504150 -0.0851819468\n",
            "G3.HDLi       0.037616804  0.044853979 -0.0113809407  0.0551766555\n",
            "S0.HDLi      -0.153003669  0.004988505 -0.0452206797 -0.0863045228\n",
            "S1.HDLi       0.100362193  0.024321927 -0.1241149903  0.0545502644\n",
            "S2.HDLi      -0.085281222 -0.031181379 -0.0128007615 -0.0591737213\n",
            "S3.HDLi       0.058053452  0.054141476  0.0664040268  0.0386130548\n",
            "B.HDLi        0.003688554 -0.102788919  0.0315360977  0.0435333840\n",
            "F.HDLi       -0.005552391  0.031166500 -0.1040430934  0.0074348658\n",
            "HM.HDLi      -0.049824899 -0.168726871  0.1057127786  0.0655467815\n",
            "GPLDL1        0.135272442 -0.010217665 -0.1326266057 -0.2466633193\n",
            "GPLDL2        0.045826412 -0.096842812  0.1634223271 -0.1135662655\n",
            "GPLDL3        0.029955883 -0.063001445  0.0851368896 -0.0204240556\n",
            "GPLDL4        0.183045380 -0.046717574  0.0449966770  0.1964733498\n",
            "GPLDL5        0.017167712  0.041600571 -0.1608741268 -0.1949001497\n",
            "GPLDL6       -0.039064809  0.080471923 -0.0903548636  0.0526127013\n",
            "GPLDL7        0.225432111 -0.039101659  0.1359841853 -0.1577506949\n",
            "GPLDL8       -0.028915885 -0.113338878 -0.0791167598  0.0930051534\n",
            "GPLDL9        0.038779323 -0.058316530 -0.0231746803  0.1646105527\n",
            "GPLDL10      -0.131531462  0.169558998 -0.0772616340  0.1115926222\n",
            "GPLDL11      -0.347100059  0.064321468 -0.0857989803  0.4262926748\n",
            "GPLDL12       0.085507128 -0.144360932 -0.0597790617 -0.0582637199\n",
            "GPLDL13      -0.004005997 -0.146202727  0.1731794902  0.1292494091\n",
            "GPLDL14       0.073569366 -0.028206564  0.0439724212 -0.1553255574\n",
            "GPLDL15      -0.161368024 -0.281405806 -0.2206919579 -0.0452640529\n",
            "GPLDL16      -0.033620428  0.235432693  0.0317831799 -0.1641729577\n",
            "GPLDL17       0.009365221 -0.123428084 -0.1921113023 -0.0411117671\n",
            "GPLDL18       0.105378687 -0.014761779 -0.1417635933 -0.0268434440\n",
            "GPLDL19       0.185865053  0.005443215  0.0103459028  0.0705995173\n",
            "GPLDL20       0.026344922  0.004686215 -0.0999607943 -0.0073469826\n",
            "GPLDL21       0.094988223  0.157646132 -0.0421300241 -0.0850283680\n",
            "GPLDL22       0.081229764  0.079003812  0.0464105352  0.0121052499\n",
            "sum_auc.LDLi  0.423107419  0.203741730 -0.1054469996  0.0697883586\n",
            "LB.LDLi      -0.034139769  0.011343600  0.0006689926 -0.0434846439\n",
            "HB.LDLi       0.078646073  0.158550826 -0.0448204799 -0.0819539184\n",
            "G1.LDLi       0.010315009 -0.078174040 -0.0926180667 -0.0073770802\n",
            "G2.LDLi      -0.044841925  0.052952135  0.0479264293 -0.0466720410\n",
            "G3.LDLi       0.078646073  0.158550826 -0.0448204799 -0.0819539184\n",
            "S0.LDLi       0.178111971 -0.026375347  0.0366785334 -0.1857790984\n",
            "S1.LDLi      -0.122914009  0.124251848 -0.0863072029  0.1198287419\n",
            "S2.LDLi       0.054974057 -0.068258824  0.0728920178 -0.1256879217\n",
            "S3.LDLi       0.108152163  0.100989374 -0.0739072782 -0.0194015700\n",
            "B.LDLi        0.183045380 -0.046717574  0.0449966770  0.1964733498\n",
            "F.LDLi        0.011796651 -0.082296169 -0.0766585336 -0.0011073757\n",
            "HM.LDLi       0.062218550 -0.115456880  0.0753817481 -0.1045382946\n",
            "                      PC18         PC19         PC20         PC21         PC22\n",
            "GPHDL1       -0.1335706433 -0.158532012  0.122650097  0.203882065  0.210716679\n",
            "GPHDL2       -0.0112835779  0.047583689  0.318549491 -0.033603934  0.115784781\n",
            "GPHDL3       -0.0164791975  0.069408591 -0.030651425  0.247658372 -0.089770202\n",
            "GPHDL4        0.0191957142 -0.126875315 -0.030674253 -0.114261193 -0.144525624\n",
            "GPHDL5        0.2124843150  0.113839223  0.122141198 -0.020382751  0.174074467\n",
            "GPHDL6       -0.3616943592 -0.281734126 -0.015574120 -0.013270492 -0.074633638\n",
            "GPHDL7        0.1604248730 -0.069300454 -0.241586122 -0.002364376  0.096488633\n",
            "GPHDL8       -0.2094065557  0.008360700 -0.125988161  0.005218981  0.133942648\n",
            "GPHDL9        0.1090423921  0.119826091  0.143933162  0.156979817 -0.162856454\n",
            "GPHDL10      -0.0963491846 -0.047955503 -0.014892001 -0.115411792 -0.050268510\n",
            "GPHDL11       0.0584669829  0.056345509  0.100935946 -0.299333188 -0.009493712\n",
            "GPHDL12       0.0548860867 -0.042621117 -0.342286063 -0.074911723 -0.024733361\n",
            "GPHDL13       0.0483034408 -0.075219564 -0.002427012 -0.112438249 -0.077088082\n",
            "GPHDL14       0.0516370727  0.042165651 -0.026017690  0.152409213  0.159467237\n",
            "GPHDL15      -0.2304515857  0.285640831 -0.068213147  0.241447544 -0.096916772\n",
            "GPHDL16      -0.0629475243 -0.064603375 -0.072207650 -0.116251026  0.036710762\n",
            "GPHDL17       0.1089512320 -0.176113239  0.194024043  0.053897376  0.090655847\n",
            "GPHDL18       0.0488373547  0.015052477 -0.023574606  0.014996226  0.323115917\n",
            "GPHDL19      -0.0247847665 -0.214835876 -0.002560517  0.175493449 -0.078461531\n",
            "GPHDL20       0.0797549763  0.050849710  0.024905736 -0.039644379 -0.086958716\n",
            "GPHDL21      -0.1305766310  0.200727855 -0.075768589 -0.179024379  0.269602456\n",
            "GPHDL22       0.0400211957 -0.038168848 -0.040440527  0.033779998 -0.139256501\n",
            "sum_auc.HDLi  0.1010803787 -0.059534404  0.169114130 -0.063123779  0.011180742\n",
            "LB.HDLi      -0.0745970114  0.006470959 -0.072746364  0.081209294  0.027913408\n",
            "HB.HDLi       0.0454759974 -0.019746394 -0.010721429 -0.009776111 -0.045797595\n",
            "G1.HDLi      -0.0824541429  0.024312155  0.058877589  0.128228245 -0.031093677\n",
            "G2.HDLi      -0.0391284487 -0.010822930 -0.153559562  0.010727346  0.065966101\n",
            "G3.HDLi       0.0551548427  0.015756610 -0.011524231 -0.041806285 -0.037342463\n",
            "S0.HDLi       0.1363534733 -0.039534009 -0.123887191  0.039717623  0.114242544\n",
            "S1.HDLi      -0.1159595746 -0.024773613  0.005592262 -0.034416072 -0.065348200\n",
            "S2.HDLi       0.0281751763  0.026694098 -0.033783459  0.112494135  0.146517677\n",
            "S3.HDLi       0.0571445388  0.044614861 -0.017838603 -0.036020225 -0.096911149\n",
            "B.HDLi        0.0191957142 -0.126875315 -0.030674253 -0.114261193 -0.144525624\n",
            "F.HDLi       -0.0093524509  0.014976880 -0.021868696  0.093586608 -0.122078011\n",
            "HM.HDLi       0.0051917979  0.026950019  0.165684432 -0.046194164  0.086004868\n",
            "GPLDL1        0.1239787557  0.166862336 -0.066929920 -0.223380004 -0.125600911\n",
            "GPLDL2        0.1047918178  0.241920650 -0.008245643  0.093585588 -0.163422942\n",
            "GPLDL3       -0.0741488368 -0.019010485  0.001840031  0.070919360  0.203803759\n",
            "GPLDL4       -0.0160726193  0.006431863  0.016065454 -0.008621759 -0.107106344\n",
            "GPLDL5        0.0774300408  0.232796592  0.076042360 -0.098890593 -0.083487176\n",
            "GPLDL6        0.1237563377 -0.205109117  0.076720397 -0.115430199  0.137412628\n",
            "GPLDL7       -0.0596430242 -0.171862581  0.080414885  0.103179932  0.233109586\n",
            "GPLDL8       -0.0200691404  0.175863786 -0.089919857 -0.024055113  0.101088391\n",
            "GPLDL9       -0.0558453033 -0.171141262 -0.136918367  0.071228623 -0.073130929\n",
            "GPLDL10       0.0151907574  0.042230500  0.094558981 -0.078885124 -0.128603665\n",
            "GPLDL11       0.0148180853  0.145602995 -0.102113315  0.027841002  0.161744736\n",
            "GPLDL12      -0.0006601913 -0.191335252  0.105526590  0.019029927  0.166378393\n",
            "GPLDL13      -0.1915586719  0.044898190 -0.061508022  0.042856879  0.153839231\n",
            "GPLDL14       0.0485078574 -0.049072051 -0.059660111  0.064357001  0.011678166\n",
            "GPLDL15      -0.1937924230 -0.072621426  0.448187638 -0.269346988 -0.020322831\n",
            "GPLDL16      -0.3681620946 -0.001717099 -0.195208545 -0.275094858 -0.059869959\n",
            "GPLDL17       0.3117386772 -0.262504789 -0.207305242 -0.281538893  0.059801527\n",
            "GPLDL18       0.2023770371 -0.210679296 -0.009379866  0.023071435 -0.141744992\n",
            "GPLDL19       0.1659921282 -0.063107544 -0.140656013  0.052539469  0.159534442\n",
            "GPLDL20       0.0625498048  0.033465077  0.123104311  0.152832795 -0.050742171\n",
            "GPLDL21       0.1807121058  0.020561691 -0.013822509  0.042129139  0.016450145\n",
            "GPLDL22       0.0491532499  0.069708282 -0.035105878 -0.018428194  0.130042994\n",
            "sum_auc.LDLi -0.0017876174  0.262695328  0.002413773 -0.273607948  0.214808373\n",
            "LB.LDLi      -0.0486378240  0.042904457  0.067607453 -0.036175628  0.008731371\n",
            "HB.LDLi      -0.0423101855  0.004929406 -0.072030066 -0.053073150  0.007182615\n",
            "G1.LDLi       0.0103341056  0.184964555 -0.055435786 -0.059360497  0.054711013\n",
            "G2.LDLi      -0.0616645313 -0.044408196  0.106623608 -0.011731968 -0.017727182\n",
            "G3.LDLi      -0.0423101855  0.004929406 -0.072030066 -0.053073150  0.007182615\n",
            "S0.LDLi      -0.0077299800 -0.025792554  0.056989767  0.011218791  0.129024828\n",
            "S1.LDLi       0.0088803891  0.077286990  0.063226763 -0.075241104 -0.090805672\n",
            "S2.LDLi      -0.0845013235 -0.051378135 -0.068993726 -0.002845154  0.054252352\n",
            "S3.LDLi       0.1412754364  0.088276578  0.090770137  0.145646807  0.049216882\n",
            "B.LDLi       -0.0160726193  0.006431863  0.016065454 -0.008621759 -0.107106344\n",
            "F.LDLi       -0.0073394664 -0.019279381  0.133142319 -0.128553943  0.095335935\n",
            "HM.LDLi       0.1590342581  0.026703803  0.081341040  0.035631392 -0.001160561\n",
            "                     PC23          PC24         PC25          PC26         PC27\n",
            "GPHDL1       -0.027685600 -0.0281828575 -0.255736083  0.1471476300 -0.225486991\n",
            "GPHDL2        0.244096455  0.0208322386  0.076612886  0.1511514027  0.104542692\n",
            "GPHDL3       -0.154244770  0.3435815088 -0.060327564  0.0009043289 -0.110922994\n",
            "GPHDL4       -0.034934325 -0.0613127564  0.031734327  0.0303620514  0.103955290\n",
            "GPHDL5       -0.004821451  0.0673944009  0.160970434 -0.1458876758  0.155159695\n",
            "GPHDL6       -0.030700222 -0.2215638257 -0.143490067 -0.2442987133 -0.025113793\n",
            "GPHDL7        0.048055550  0.0605099327  0.104230479 -0.0333676837 -0.183076987\n",
            "GPHDL8        0.189251408  0.1875902623 -0.016620478 -0.0176004983  0.093930486\n",
            "GPHDL9        0.161651783 -0.0980031616  0.008439193 -0.0444506332 -0.014467094\n",
            "GPHDL10      -0.238358629 -0.0243995377 -0.071048375  0.1537336650  0.233968514\n",
            "GPHDL11      -0.174043431 -0.1041733898 -0.146628295 -0.0489625116 -0.021826960\n",
            "GPHDL12       0.218975706 -0.3455802517 -0.065856461 -0.0336268148 -0.224423674\n",
            "GPHDL13      -0.101702084 -0.0668846836  0.001435511 -0.2532839758 -0.105732644\n",
            "GPHDL14       0.005216211  0.1572130068  0.086177707  0.0058757299 -0.193092235\n",
            "GPHDL15       0.182961916 -0.1245124340 -0.015207974  0.0674241481  0.003672934\n",
            "GPHDL16       0.082965873 -0.1266192521 -0.065012458 -0.0271631564  0.065229402\n",
            "GPHDL17       0.245037954 -0.0218816932  0.056231149 -0.0004164227 -0.175709646\n",
            "GPHDL18      -0.097832743  0.0004714416 -0.078563849 -0.0171407734  0.139163086\n",
            "GPHDL19      -0.049155212  0.1416034478  0.094634734 -0.1167716611 -0.089076453\n",
            "GPHDL20       0.072098052  0.1021784887  0.019898955  0.1195922942 -0.012923943\n",
            "GPHDL21      -0.017748409  0.0941687944 -0.472843285 -0.1043743314  0.086669182\n",
            "GPHDL22      -0.073237415 -0.1714609792  0.095149109 -0.0800413559  0.049161569\n",
            "sum_auc.HDLi -0.171939264 -0.0230680606  0.146400377  0.0175795987 -0.372363251\n",
            "LB.HDLi      -0.107071118  0.0563247622  0.006610445 -0.0301967562 -0.005829970\n",
            "HB.HDLi       0.016711835 -0.0056843347 -0.001242642 -0.0078784734  0.019593744\n",
            "G1.HDLi       0.168507843 -0.0014804499 -0.034348398 -0.0982127987  0.025609758\n",
            "G2.HDLi      -0.293829444  0.0823523164  0.037979611  0.0378785784 -0.051490556\n",
            "G3.HDLi       0.027317067 -0.0312714177 -0.018043843  0.0117525108  0.034612847\n",
            "S0.HDLi       0.010711561  0.0837521674  0.068230793 -0.0345340812 -0.122539475\n",
            "S1.HDLi      -0.083989010 -0.0311219731 -0.066176863  0.0669526133  0.178548853\n",
            "S2.HDLi       0.024457403  0.0450720105  0.054845478 -0.1256218475 -0.208654781\n",
            "S3.HDLi       0.004960804 -0.0128685590 -0.006166602  0.0201237938  0.030796395\n",
            "B.HDLi       -0.034934325 -0.0613127564  0.031734327  0.0303620514  0.104119272\n",
            "F.HDLi        0.020637096 -0.1702063835  0.079953589 -0.0473345344  0.015138669\n",
            "HM.HDLi       0.251441438 -0.0727616240  0.044106851  0.1119289309  0.023329942\n",
            "GPLDL1        0.118749276 -0.0717738706  0.175701611  0.1887504432 -0.114279550\n",
            "GPLDL2        0.012231896  0.0688029507 -0.214211236 -0.2417091574 -0.019826150\n",
            "GPLDL3       -0.264935926 -0.2010596431  0.222954668 -0.0959923861  0.036808211\n",
            "GPLDL4       -0.032557612  0.0941806198 -0.040072060  0.0610748012 -0.108902028\n",
            "GPLDL5       -0.077091351  0.0952775649  0.007734756 -0.1682395650  0.106499625\n",
            "GPLDL6       -0.048635559 -0.1153942581  0.168493885  0.2265514393  0.140646411\n",
            "GPLDL7        0.207109878 -0.0149931499  0.039847454 -0.2363987940  0.055855504\n",
            "GPLDL8       -0.126545186  0.0196802508  0.121139508  0.0559570237 -0.019453573\n",
            "GPLDL9       -0.036710890  0.1558782523  0.056820013 -0.1754877841  0.009743925\n",
            "GPLDL10       0.042223254 -0.0533508158 -0.135174759  0.0523021269 -0.174383840\n",
            "GPLDL11       0.078031869 -0.1435448584  0.162390169 -0.2195953921  0.059686288\n",
            "GPLDL12      -0.078234166 -0.1301880183 -0.086539795  0.2320707472 -0.098232468\n",
            "GPLDL13      -0.117734928 -0.2448256337 -0.074576027  0.0820167120 -0.114924723\n",
            "GPLDL14       0.064973749  0.1013639646  0.091714417  0.0416841239  0.245385277\n",
            "GPLDL15      -0.097508809  0.1904554975  0.081994166 -0.2368833374 -0.120207847\n",
            "GPLDL16       0.098735367  0.1555987553  0.261914784  0.0885049984 -0.181134485\n",
            "GPLDL17       0.178790153  0.2594031557 -0.290612932 -0.0062762216 -0.045622067\n",
            "GPLDL18      -0.045648349 -0.1308498639  0.037139747 -0.2614690929  0.147563893\n",
            "GPLDL19      -0.092020541  0.0285455906  0.028312936  0.0940155025  0.112664177\n",
            "GPLDL20      -0.159971261 -0.0269137300 -0.011214564  0.0582940425 -0.040548814\n",
            "GPLDL21      -0.076896701 -0.1924879217 -0.140415069 -0.0629639242 -0.119566851\n",
            "GPLDL22       0.035860089 -0.0435717262 -0.042429637  0.0975820706  0.035206108\n",
            "sum_auc.LDLi  0.001117076 -0.1226692565  0.087678620 -0.2326806810 -0.148649562\n",
            "LB.LDLi       0.055269590 -0.0273358362 -0.001335808  0.0720274897  0.036034381\n",
            "HB.LDLi      -0.043010862  0.0171265127  0.079777753  0.0857814082 -0.075811052\n",
            "G1.LDLi      -0.113073252  0.0009461702  0.132256121  0.0237326802 -0.007461134\n",
            "G2.LDLi       0.121658286 -0.0321820916 -0.068878917  0.0714457589  0.018897310\n",
            "G3.LDLi      -0.043010862  0.0171265127  0.079777753  0.0857814082 -0.075811052\n",
            "S0.LDLi       0.095590351 -0.0246958914  0.087289576 -0.1654559537  0.036937683\n",
            "S1.LDLi       0.008616219 -0.0427238286 -0.092065481  0.0589702373 -0.155965099\n",
            "S2.LDLi       0.020151329  0.0537205029  0.108473697  0.0494484255  0.141848112\n",
            "S3.LDLi      -0.148531093 -0.1054856767 -0.076497909  0.1119894516 -0.044567339\n",
            "B.LDLi       -0.032557612  0.0941806198 -0.040072060  0.0610748012 -0.108902028\n",
            "F.LDLi       -0.030711737  0.0764149022  0.002407004 -0.0301269679 -0.013619996\n",
            "HM.LDLi      -0.050479429 -0.0572453372 -0.150756233  0.0036232871  0.011874969\n"
          ]
        }
      ]
    },
    {
      "cell_type": "code",
      "source": [
        "# сохраним полученный результат\n",
        "loadings_df <- cbind(RowNames = rownames(loadings_df), loadings_df)\n",
        "pca_results <- as.data.frame(pca$x)\n",
        "\n",
        "# Создание списка для записи в разные листы Excel файла\n",
        "results_list <- list(\n",
        "  PCA_Results = pca_results,\n",
        "  PCA_Loadings = loadings_df\n",
        ")\n",
        "\n",
        "# Запись данных в файл XLSX\n",
        "write_xlsx(results_list, \"/content/drive/MyDrive/Data_since_in_Healthcare/ASIM/HW_04/PCA_results.xlsx\")"
      ],
      "metadata": {
        "id": "IR_BXoqk3Jjl"
      },
      "execution_count": 33,
      "outputs": []
    },
    {
      "cell_type": "markdown",
      "source": [
        "Визуализация загрузок поможет быстрее выявить наиболее приоритетные переменные."
      ],
      "metadata": {
        "id": "QHmR2K3630Jw"
      }
    },
    {
      "cell_type": "code",
      "source": [
        "class(loadings_df$PrincipalComponent)"
      ],
      "metadata": {
        "colab": {
          "base_uri": "https://localhost:8080/",
          "height": 34
        },
        "id": "qPUf25653wSp",
        "outputId": "ef27148d-6289-4115-fffe-38ce731d2f51"
      },
      "execution_count": 34,
      "outputs": [
        {
          "output_type": "display_data",
          "data": {
            "text/html": [
              "'NULL'"
            ],
            "text/markdown": "'NULL'",
            "text/latex": "'NULL'",
            "text/plain": [
              "[1] \"NULL\""
            ]
          },
          "metadata": {}
        }
      ]
    },
    {
      "cell_type": "code",
      "source": [
        "# Преобразование данных загрузок в длинный формат\n",
        "loadings_long <- loadings_df %>%\n",
        "  # mutate(PrincipalComponent = as.character(PrincipalComponent)) %>%\n",
        "    pivot_longer(cols = -RowNames, names_to = \"PrincipalComponent\", values_to = \"Loading\")"
      ],
      "metadata": {
        "id": "8GJ2f0lV3371"
      },
      "execution_count": 35,
      "outputs": []
    },
    {
      "cell_type": "code",
      "source": [
        "# Построение графика загрузок\n",
        "options(repr.plot.width = 25, repr.plot.height = 25)\n",
        "ggplot(loadings_long, aes(x = PrincipalComponent, y = Loading, fill = RowNames)) +\n",
        "  geom_bar(stat = \"identity\", position = \"dodge\") +\n",
        "  theme_minimal() +\n",
        "  labs(title = \"Загрузки главных компонент\", x = \"Главная компонента\", y = \"Загрузка\")"
      ],
      "metadata": {
        "colab": {
          "base_uri": "https://localhost:8080/",
          "height": 1000
        },
        "id": "0843eAL64BQ1",
        "outputId": "e7ed7c37-47de-4350-87bc-7fe7152bb22c"
      },
      "execution_count": 36,
      "outputs": [
        {
          "output_type": "display_data",
          "data": {
            "text/plain": [
              "plot without title"
            ],
            "image/png": "[encoded data removed]"
          },
          "metadata": {
            "image/png": {
              "width": 1500,
              "height": 1500
            }
          }
        }
      ]
    },
    {
      "cell_type": "markdown",
      "source": [
        "График неинформативен. Oценить влияние каждой перемнной на каждую из компонент по-прежнему не представляется возможным. Таким образом, приходим к выводу: необходимо сократить начальное количество переменных и проводить подобный анализ по частям. В данном случае пойдем на следующее упрощение: в каждой компоненте определим переменную вносящую максимальный вклад с помощью функции поиска наибольшего значения."
      ],
      "metadata": {
        "id": "rw1ylVCR4SYa"
      }
    },
    {
      "cell_type": "code",
      "source": [
        "# Найти индекс строки с максимальным значением в каждом столбце\n",
        "max_row_indices <- apply(loadings_df[, -1], 2, which.max)\n",
        "\n",
        "# Создать новый DataFrame, содержащий максимальные значения и соответствующие имена строк\n",
        "loadings_df_max_values <- data.frame(RowNames = loadings_df$RowNames[max_row_indices],\n",
        "                                    MaxValues = apply(loadings_df[, -1], 2, max))\n",
        "\n",
        "# Вывести результат\n",
        "print(loadings_df_max_values)"
      ],
      "metadata": {
        "colab": {
          "base_uri": "https://localhost:8080/"
        },
        "id": "bYKM43DZ4mjd",
        "outputId": "22e92c60-816b-469a-94a9-e57fdac62a7d"
      },
      "execution_count": 38,
      "outputs": [
        {
          "output_type": "stream",
          "name": "stdout",
          "text": [
            "         RowNames MaxValues\n",
            "PC1       HB.HDLi 0.2225216\n",
            "PC2       S1.LDLi 0.2200557\n",
            "PC3       GPHDL18 0.2608783\n",
            "PC4       GPLDL20 0.3362096\n",
            "PC5       G2.HDLi 0.3229203\n",
            "PC6       HM.LDLi 0.2912071\n",
            "PC7        GPHDL6 0.3553689\n",
            "PC8        B.HDLi 0.2938988\n",
            "PC9        GPLDL2 0.3114088\n",
            "PC10      GPHDL16 0.3231866\n",
            "PC11      GPLDL13 0.2808641\n",
            "PC12 sum_auc.LDLi 0.3217015\n",
            "PC13 sum_auc.HDLi 0.4613268\n",
            "PC14 sum_auc.LDLi 0.4231074\n",
            "PC15      GPLDL16 0.2354327\n",
            "PC16      GPHDL11 0.4521747\n",
            "PC17      GPLDL11 0.4262927\n",
            "PC18      GPLDL17 0.3117387\n",
            "PC19      GPHDL15 0.2856408\n",
            "PC20      GPLDL15 0.4481876\n",
            "PC21       GPHDL3 0.2476584\n",
            "PC22      GPHDL18 0.3231159\n",
            "PC23      HM.HDLi 0.2514414\n",
            "PC24       GPHDL3 0.3435815\n",
            "PC25      GPLDL16 0.2619148\n",
            "PC26      GPLDL12 0.2320707\n",
            "PC27      GPLDL14 0.2453853\n"
          ]
        }
      ]
    },
    {
      "cell_type": "code",
      "source": [
        "# Создадим список уникальных имен переменных из loadings_df_max_values:\n",
        "unique(loadings_df_max_values$RowNames)"
      ],
      "metadata": {
        "colab": {
          "base_uri": "https://localhost:8080/",
          "height": 52
        },
        "id": "totU1yY74Mlh",
        "outputId": "32f40203-09fe-49e3-c5de-e26c573f9810"
      },
      "execution_count": 39,
      "outputs": [
        {
          "output_type": "display_data",
          "data": {
            "text/html": [
              "<style>\n",
              ".list-inline {list-style: none; margin:0; padding: 0}\n",
              ".list-inline>li {display: inline-block}\n",
              ".list-inline>li:not(:last-child)::after {content: \"\\00b7\"; padding: 0 .5ex}\n",
              "</style>\n",
              "<ol class=list-inline><li>'HB.HDLi'</li><li>'S1.LDLi'</li><li>'GPHDL18'</li><li>'GPLDL20'</li><li>'G2.HDLi'</li><li>'HM.LDLi'</li><li>'GPHDL6'</li><li>'B.HDLi'</li><li>'GPLDL2'</li><li>'GPHDL16'</li><li>'GPLDL13'</li><li>'sum_auc.LDLi'</li><li>'sum_auc.HDLi'</li><li>'GPLDL16'</li><li>'GPHDL11'</li><li>'GPLDL11'</li><li>'GPLDL17'</li><li>'GPHDL15'</li><li>'GPLDL15'</li><li>'GPHDL3'</li><li>'HM.HDLi'</li><li>'GPLDL12'</li><li>'GPLDL14'</li></ol>\n"
            ],
            "text/markdown": "1. 'HB.HDLi'\n2. 'S1.LDLi'\n3. 'GPHDL18'\n4. 'GPLDL20'\n5. 'G2.HDLi'\n6. 'HM.LDLi'\n7. 'GPHDL6'\n8. 'B.HDLi'\n9. 'GPLDL2'\n10. 'GPHDL16'\n11. 'GPLDL13'\n12. 'sum_auc.LDLi'\n13. 'sum_auc.HDLi'\n14. 'GPLDL16'\n15. 'GPHDL11'\n16. 'GPLDL11'\n17. 'GPLDL17'\n18. 'GPHDL15'\n19. 'GPLDL15'\n20. 'GPHDL3'\n21. 'HM.HDLi'\n22. 'GPLDL12'\n23. 'GPLDL14'\n\n\n",
            "text/latex": "\\begin{enumerate*}\n\\item 'HB.HDLi'\n\\item 'S1.LDLi'\n\\item 'GPHDL18'\n\\item 'GPLDL20'\n\\item 'G2.HDLi'\n\\item 'HM.LDLi'\n\\item 'GPHDL6'\n\\item 'B.HDLi'\n\\item 'GPLDL2'\n\\item 'GPHDL16'\n\\item 'GPLDL13'\n\\item 'sum\\_auc.LDLi'\n\\item 'sum\\_auc.HDLi'\n\\item 'GPLDL16'\n\\item 'GPHDL11'\n\\item 'GPLDL11'\n\\item 'GPLDL17'\n\\item 'GPHDL15'\n\\item 'GPLDL15'\n\\item 'GPHDL3'\n\\item 'HM.HDLi'\n\\item 'GPLDL12'\n\\item 'GPLDL14'\n\\end{enumerate*}\n",
            "text/plain": [
              " [1] \"HB.HDLi\"      \"S1.LDLi\"      \"GPHDL18\"      \"GPLDL20\"      \"G2.HDLi\"     \n",
              " [6] \"HM.LDLi\"      \"GPHDL6\"       \"B.HDLi\"       \"GPLDL2\"       \"GPHDL16\"     \n",
              "[11] \"GPLDL13\"      \"sum_auc.LDLi\" \"sum_auc.HDLi\" \"GPLDL16\"      \"GPHDL11\"     \n",
              "[16] \"GPLDL11\"      \"GPLDL17\"      \"GPHDL15\"      \"GPLDL15\"      \"GPHDL3\"      \n",
              "[21] \"HM.HDLi\"      \"GPLDL12\"      \"GPLDL14\"     "
            ]
          },
          "metadata": {}
        }
      ]
    },
    {
      "cell_type": "code",
      "source": [
        "# MANOVA\n",
        "manova_formula <- paste(\"cbind(\", paste(unique(loadings_df_max_values$RowNames), collapse = \", \"), \") ~ Plaque\")\n",
        "\n",
        "manova_model <- manova(as.formula(manova_formula), data)\n",
        "summary(manova_model)"
      ],
      "metadata": {
        "colab": {
          "base_uri": "https://localhost:8080/",
          "height": 69
        },
        "id": "RTz7Th2m42Fq",
        "outputId": "de287dd8-70e8-4a7f-cf9e-8375d9955dde"
      },
      "execution_count": 40,
      "outputs": [
        {
          "output_type": "display_data",
          "data": {
            "text/plain": [
              "          Df Pillai approx F num Df den Df Pr(>F)\n",
              "Plaque     3 2.6137  0.88258     69      9  0.648\n",
              "Residuals 23                                     "
            ]
          },
          "metadata": {}
        }
      ]
    },
    {
      "cell_type": "code",
      "source": [
        "# ANOVA\n",
        "summary.aov(manova_model)"
      ],
      "metadata": {
        "colab": {
          "base_uri": "https://localhost:8080/",
          "height": 1000
        },
        "id": "JTuHcmk146DH",
        "outputId": "7ed323a3-2310-4202-b0c8-3f561ac301e5"
      },
      "execution_count": 41,
      "outputs": [
        {
          "output_type": "display_data",
          "data": {
            "text/plain": [
              " Response HB.HDLi :\n",
              "            Df  Sum Sq Mean Sq F value Pr(>F)\n",
              "Plaque       3  31.944 10.6479  1.7129 0.1922\n",
              "Residuals   23 142.973  6.2162               \n",
              "\n",
              " Response S1.LDLi :\n",
              "            Df Sum Sq Mean Sq F value Pr(>F)\n",
              "Plaque       3  5.236  1.7454  0.6186   0.61\n",
              "Residuals   23 64.899  2.8217               \n",
              "\n",
              " Response GPHDL18 :\n",
              "            Df  Sum Sq  Mean Sq F value Pr(>F)\n",
              "Plaque       3 0.34453 0.114844   2.232 0.1116\n",
              "Residuals   23 1.18343 0.051454               \n",
              "\n",
              " Response GPLDL20 :\n",
              "            Df  Sum Sq Mean Sq F value Pr(>F)\n",
              "Plaque       3 0.35613 0.11871  1.2958 0.2997\n",
              "Residuals   23 2.10703 0.09161               \n",
              "\n",
              " Response G2.HDLi :\n",
              "            Df Sum Sq Mean Sq F value Pr(>F)\n",
              "Plaque       3  4.821  1.6072  0.9664 0.4254\n",
              "Residuals   23 38.250  1.6630               \n",
              "\n",
              " Response HM.LDLi :\n",
              "            Df  Sum Sq Mean Sq F value Pr(>F)\n",
              "Plaque       3  0.7867 0.26223  0.4559 0.7157\n",
              "Residuals   23 13.2301 0.57522               \n",
              "\n",
              " Response GPHDL6 :\n",
              "            Df  Sum Sq  Mean Sq F value Pr(>F)\n",
              "Plaque       3 0.12561 0.041870  0.7417 0.5381\n",
              "Residuals   23 1.29837 0.056451               \n",
              "\n",
              " Response B.HDLi :\n",
              "            Df    Sum Sq   Mean Sq F value Pr(>F)\n",
              "Plaque       3 0.0037689 0.0012563  1.7165 0.1915\n",
              "Residuals   23 0.0168338 0.0007319               \n",
              "\n",
              " Response GPLDL2 :\n",
              "            Df  Sum Sq Mean Sq F value Pr(>F)\n",
              "Plaque       3  1.0155 0.33852  0.7241 0.5479\n",
              "Residuals   23 10.7519 0.46747               \n",
              "\n",
              " Response GPHDL16 :\n",
              "            Df  Sum Sq Mean Sq F value Pr(>F)\n",
              "Plaque       3 0.35309 0.11769  1.0592 0.3856\n",
              "Residuals   23 2.55558 0.11111               \n",
              "\n",
              " Response GPLDL13 :\n",
              "            Df Sum Sq Mean Sq F value Pr(>F)\n",
              "Plaque       3 1.5284 0.50946  1.6478  0.206\n",
              "Residuals   23 7.1112 0.30918               \n",
              "\n",
              " Response sum_auc.LDLi :\n",
              "            Df    Sum Sq    Mean Sq F value Pr(>F)\n",
              "Plaque       3 0.0003104 0.00010347  0.6919 0.5663\n",
              "Residuals   23 0.0034396 0.00014955               \n",
              "\n",
              " Response sum_auc.HDLi :\n",
              "            Df     Sum Sq    Mean Sq F value Pr(>F)\n",
              "Plaque       3 0.00029511 9.8371e-05   0.752 0.5324\n",
              "Residuals   23 0.00300880 1.3082e-04               \n",
              "\n",
              " Response GPLDL16 :\n",
              "            Df  Sum Sq  Mean Sq F value  Pr(>F)  \n",
              "Plaque       3 0.55109 0.183697  2.7926 0.06313 .\n",
              "Residuals   23 1.51292 0.065779                  \n",
              "---\n",
              "Signif. codes:  0 ‘***’ 0.001 ‘**’ 0.01 ‘*’ 0.05 ‘.’ 0.1 ‘ ’ 1\n",
              "\n",
              " Response GPHDL11 :\n",
              "            Df  Sum Sq  Mean Sq F value Pr(>F)\n",
              "Plaque       3 0.22028 0.073426  0.8265 0.4928\n",
              "Residuals   23 2.04327 0.088838               \n",
              "\n",
              " Response GPLDL11 :\n",
              "            Df  Sum Sq  Mean Sq F value Pr(>F)\n",
              "Plaque       3 0.11802 0.039341  1.0304 0.3976\n",
              "Residuals   23 0.87812 0.038179               \n",
              "\n",
              " Response GPLDL17 :\n",
              "            Df    Sum Sq    Mean Sq F value  Pr(>F)  \n",
              "Plaque       3 0.0032956 0.00109853  2.6394 0.07364 .\n",
              "Residuals   23 0.0095729 0.00041621                  \n",
              "---\n",
              "Signif. codes:  0 ‘***’ 0.001 ‘**’ 0.01 ‘*’ 0.05 ‘.’ 0.1 ‘ ’ 1\n",
              "\n",
              " Response GPHDL15 :\n",
              "            Df  Sum Sq  Mean Sq F value Pr(>F)\n",
              "Plaque       3 0.26051 0.086838  0.6668  0.581\n",
              "Residuals   23 2.99544 0.130237               \n",
              "\n",
              " Response GPLDL15 :\n",
              "            Df  Sum Sq  Mean Sq F value Pr(>F)\n",
              "Plaque       3 0.05023 0.016742  0.4766 0.7017\n",
              "Residuals   23 0.80796 0.035129               \n",
              "\n",
              " Response GPHDL3 :\n",
              "            Df   Sum Sq   Mean Sq F value Pr(>F)\n",
              "Plaque       3 0.001602 0.0005340  0.1004  0.959\n",
              "Residuals   23 0.122339 0.0053191               \n",
              "\n",
              " Response HM.HDLi :\n",
              "            Df  Sum Sq Mean Sq F value  Pr(>F)  \n",
              "Plaque       3  4.4557 1.48523  2.6787 0.07077 .\n",
              "Residuals   23 12.7525 0.55446                  \n",
              "---\n",
              "Signif. codes:  0 ‘***’ 0.001 ‘**’ 0.01 ‘*’ 0.05 ‘.’ 0.1 ‘ ’ 1\n",
              "\n",
              " Response GPLDL12 :\n",
              "            Df Sum Sq  Mean Sq F value Pr(>F)\n",
              "Plaque       3 0.1185 0.039501  0.3046 0.8218\n",
              "Residuals   23 2.9827 0.129683               \n",
              "\n",
              " Response GPLDL14 :\n",
              "            Df Sum Sq Mean Sq F value Pr(>F)\n",
              "Plaque       3  1.712 0.57062  0.2271 0.8766\n",
              "Residuals   23 57.799 2.51300               \n",
              "\n",
              "11 observations deleted due to missingness"
            ]
          },
          "metadata": {}
        }
      ]
    },
    {
      "cell_type": "markdown",
      "source": [
        "В результате многомерного дисперсионного анализа мы не выявили никакой связи между `Plaque` и фракциями холестерина. Однако, учитывая, что мы выделяли главные компоненты, вполне вероятно, что связь может быть установлена при более детальном анализе.  \n",
        "Результаты одномерного анализа показывают статистически не значимую связь между `Plaque` и переменными `GPLDL16`, `GPLDL17` и `HM.HDLi` (во всех случаях Pr(>F) больше 0.05)."
      ],
      "metadata": {
        "id": "f5Maz6Sj4-1D"
      }
    },
    {
      "cell_type": "code",
      "source": [
        "options(repr.plot.width = 7, repr.plot.height = 7)\n",
        "plotmeans(GPLDL16 ~ Plaque, data,\n",
        "          xlab = \"Plaque\",\n",
        "          ylab = \"GPLDL16\",\n",
        "          main = \"Plot of Means with 95% CI\")"
      ],
      "metadata": {
        "colab": {
          "base_uri": "https://localhost:8080/",
          "height": 472
        },
        "id": "Ch6Ip23U5DqY",
        "outputId": "b769b2f4-0848-4031-ff1a-919ad1adfbbe"
      },
      "execution_count": 42,
      "outputs": [
        {
          "output_type": "stream",
          "name": "stderr",
          "text": [
            "Warning message in qt((1 + p)/2, ns - 1):\n",
            "“NaNs produced”\n"
          ]
        },
        {
          "output_type": "display_data",
          "data": {
            "text/plain": [
              "Plot with title “Plot of Means with 95% CI”"
            ],
            "image/png": "[encoded data removed]"
          },
          "metadata": {
            "image/png": {
              "width": 420,
              "height": 420
            }
          }
        }
      ]
    },
    {
      "cell_type": "code",
      "source": [
        "boxplot(carotid.IMT.mean ~ Plaque, data,\n",
        "        xlab = \"Plaque\",\n",
        "        ylab = \"carotid.IMT.mean\")"
      ],
      "metadata": {
        "colab": {
          "base_uri": "https://localhost:8080/",
          "height": 437
        },
        "id": "lYkRoTmQ5KIa",
        "outputId": "a96ae142-3219-4574-efb4-f9d30e643e4b"
      },
      "execution_count": 43,
      "outputs": [
        {
          "output_type": "display_data",
          "data": {
            "text/plain": [
              "plot without title"
            ],
            "image/png": "[encoded data removed]"
          },
          "metadata": {
            "image/png": {
              "width": 420,
              "height": 420
            }
          }
        }
      ]
    }
  ]
}