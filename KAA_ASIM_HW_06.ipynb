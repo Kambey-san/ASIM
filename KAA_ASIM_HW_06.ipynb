{
  "nbformat": 4,
  "nbformat_minor": 0,
  "metadata": {
    "colab": {
      "provenance": [],
      "authorship_tag": "ABX9TyM/u52CGLWZwl9uW9uycbr0",
      "include_colab_link": true
    },
    "kernelspec": {
      "name": "ir",
      "display_name": "R"
    },
    "language_info": {
      "name": "R"
    }
  },
  "cells": [
    {
      "cell_type": "markdown",
      "metadata": {
        "id": "view-in-github",
        "colab_type": "text"
      },
      "source": [
        "<a href=\"https://colab.research.google.com/github/Kambey-san/ASIM/blob/HW_lesson_06/KAA_ASIM_HW_06.ipynb\" target=\"_parent\"><img src=\"https://colab.research.google.com/assets/colab-badge.svg\" alt=\"Open In Colab\"/></a>"
      ]
    },
    {
      "cell_type": "markdown",
      "source": [
        "# Прикладная статистика в медицине\n",
        "## Урок 6. Регрессионные модели\\ДЗ\n",
        "На прошлых занятиях вы иногда формировали гипотезы, в которых ЗП была бинарной, а НП — непрерывной. Теперь вы можете проверить их корректно.\n",
        "\n",
        "-Попробуйте сгенерировать несколько выборок из имеющихся данных (вы уже знаете как), создать регрессионные модели по выбору и протестировать их предиктивную способность на сгенерированных данных. Не забывайте про оценку качества и доверительные интервалы.\n",
        "\n",
        "-Задание выполняется на языке R и предоставляется в Google Colab или PDF/html рендере Quarto."
      ],
      "metadata": {
        "id": "6IKizzm765s_"
      }
    },
    {
      "cell_type": "code",
      "execution_count": 1,
      "metadata": {
        "colab": {
          "base_uri": "https://localhost:8080/"
        },
        "id": "ODolxGFI6y7n",
        "outputId": "4078bf74-c33d-43c0-f5cf-30817a724d97"
      },
      "outputs": [
        {
          "output_type": "stream",
          "name": "stdout",
          "text": [
            "Mounted at /content/drive\n"
          ]
        }
      ],
      "source": [
        "from google.colab import drive\n",
        "drive.mount('/content/drive')"
      ]
    },
    {
      "cell_type": "code",
      "source": [
        "install.packages(\"tidyverse\")\n",
        "install.packages(\"readxl\")\n",
        "install.packages(\"writexl\")\n",
        "install.packages(\"ggplot2\")\n",
        "install.packages(\"gplots\")\n",
        "install.packages(\"skimr\")\n",
        "install.packages(\"psych\")\n",
        "install.packages(\"gridExtra\")\n",
        "install.packages(\"moments\")\n",
        "install.packages(\"fitdistrplus\")\n",
        "install.packages(\"data.table\")\n",
        "install.packages(\"car\")\n",
        "install.packages(\"rstatix\")\n",
        "install.packages(\"emmeans\")\n",
        "install.packages(\"ez\")\n",
        "install.packages(\"MASS\")\n",
        "install.packages(\"tidyr\")\n",
        "install.packages(\"simpleboot\")\n",
        "install.packages(\"coin\")\n",
        "install.packages(\"boot\")\n",
        "install.packages(\"jackknifeR\")"
      ],
      "metadata": {
        "colab": {
          "base_uri": "https://localhost:8080/"
        },
        "collapsed": true,
        "id": "7BYdUQ527VFh",
        "outputId": "dad6ee40-65af-47cf-a772-d45b17e55029"
      },
      "execution_count": 1,
      "outputs": [
        {
          "output_type": "stream",
          "name": "stderr",
          "text": [
            "Installing package into ‘/usr/local/lib/R/site-library’\n",
            "(as ‘lib’ is unspecified)\n",
            "\n",
            "Installing package into ‘/usr/local/lib/R/site-library’\n",
            "(as ‘lib’ is unspecified)\n",
            "\n",
            "Installing package into ‘/usr/local/lib/R/site-library’\n",
            "(as ‘lib’ is unspecified)\n",
            "\n",
            "Installing package into ‘/usr/local/lib/R/site-library’\n",
            "(as ‘lib’ is unspecified)\n",
            "\n",
            "Installing package into ‘/usr/local/lib/R/site-library’\n",
            "(as ‘lib’ is unspecified)\n",
            "\n",
            "also installing the dependencies ‘bitops’, ‘gtools’, ‘caTools’\n",
            "\n",
            "\n",
            "Installing package into ‘/usr/local/lib/R/site-library’\n",
            "(as ‘lib’ is unspecified)\n",
            "\n",
            "Installing package into ‘/usr/local/lib/R/site-library’\n",
            "(as ‘lib’ is unspecified)\n",
            "\n",
            "also installing the dependency ‘mnormt’\n",
            "\n",
            "\n",
            "Installing package into ‘/usr/local/lib/R/site-library’\n",
            "(as ‘lib’ is unspecified)\n",
            "\n",
            "Installing package into ‘/usr/local/lib/R/site-library’\n",
            "(as ‘lib’ is unspecified)\n",
            "\n",
            "Installing package into ‘/usr/local/lib/R/site-library’\n",
            "(as ‘lib’ is unspecified)\n",
            "\n",
            "Installing package into ‘/usr/local/lib/R/site-library’\n",
            "(as ‘lib’ is unspecified)\n",
            "\n",
            "Installing package into ‘/usr/local/lib/R/site-library’\n",
            "(as ‘lib’ is unspecified)\n",
            "\n",
            "also installing the dependencies ‘numDeriv’, ‘SparseM’, ‘MatrixModels’, ‘minqa’, ‘nloptr’, ‘Rcpp’, ‘RcppEigen’, ‘carData’, ‘abind’, ‘pbkrtest’, ‘quantreg’, ‘lme4’\n",
            "\n",
            "\n",
            "Installing package into ‘/usr/local/lib/R/site-library’\n",
            "(as ‘lib’ is unspecified)\n",
            "\n",
            "also installing the dependency ‘corrplot’\n",
            "\n",
            "\n",
            "Installing package into ‘/usr/local/lib/R/site-library’\n",
            "(as ‘lib’ is unspecified)\n",
            "\n",
            "also installing the dependencies ‘estimability’, ‘mvtnorm’\n",
            "\n",
            "\n",
            "Installing package into ‘/usr/local/lib/R/site-library’\n",
            "(as ‘lib’ is unspecified)\n",
            "\n",
            "also installing the dependencies ‘plyr’, ‘reshape2’\n",
            "\n",
            "\n",
            "Installing package into ‘/usr/local/lib/R/site-library’\n",
            "(as ‘lib’ is unspecified)\n",
            "\n",
            "Installing package into ‘/usr/local/lib/R/site-library’\n",
            "(as ‘lib’ is unspecified)\n",
            "\n",
            "Installing package into ‘/usr/local/lib/R/site-library’\n",
            "(as ‘lib’ is unspecified)\n",
            "\n",
            "Installing package into ‘/usr/local/lib/R/site-library’\n",
            "(as ‘lib’ is unspecified)\n",
            "\n",
            "also installing the dependencies ‘zoo’, ‘TH.data’, ‘sandwich’, ‘libcoin’, ‘matrixStats’, ‘modeltools’, ‘multcomp’\n",
            "\n",
            "\n",
            "Installing package into ‘/usr/local/lib/R/site-library’\n",
            "(as ‘lib’ is unspecified)\n",
            "\n",
            "Installing package into ‘/usr/local/lib/R/site-library’\n",
            "(as ‘lib’ is unspecified)\n",
            "\n",
            "also installing the dependencies ‘iterators’, ‘doParallel’, ‘foreach’\n",
            "\n",
            "\n"
          ]
        }
      ]
    },
    {
      "cell_type": "code",
      "source": [
        "library(tidyverse)\n",
        "library(dplyr)\n",
        "require(readxl)\n",
        "library(writexl)\n",
        "library(ggplot2)\n",
        "library(gplots)\n",
        "library(skimr)\n",
        "library(psych)\n",
        "library(gridExtra)\n",
        "library(moments)\n",
        "library(car)\n",
        "library(fitdistrplus)\n",
        "library(rstatix)\n",
        "library(emmeans)\n",
        "library(ez)\n",
        "library(MASS)\n",
        "library(tidyr)\n",
        "library(tibble)\n",
        "library(dplyr)\n",
        "library(simpleboot)\n",
        "library(coin)\n",
        "library(boot)\n",
        "library(jackknifeR)"
      ],
      "metadata": {
        "colab": {
          "base_uri": "https://localhost:8080/"
        },
        "collapsed": true,
        "id": "3sseC6h2-XvL",
        "outputId": "4ac7106b-6d40-4145-dd6a-3125ce09451c"
      },
      "execution_count": 2,
      "outputs": [
        {
          "output_type": "stream",
          "name": "stderr",
          "text": [
            "── \u001b[1mAttaching core tidyverse packages\u001b[22m ──────────────────────── tidyverse 2.0.0 ──\n",
            "\u001b[32m✔\u001b[39m \u001b[34mdplyr    \u001b[39m 1.1.4     \u001b[32m✔\u001b[39m \u001b[34mreadr    \u001b[39m 2.1.5\n",
            "\u001b[32m✔\u001b[39m \u001b[34mforcats  \u001b[39m 1.0.0     \u001b[32m✔\u001b[39m \u001b[34mstringr  \u001b[39m 1.5.1\n",
            "\u001b[32m✔\u001b[39m \u001b[34mggplot2  \u001b[39m 3.5.1     \u001b[32m✔\u001b[39m \u001b[34mtibble   \u001b[39m 3.2.1\n",
            "\u001b[32m✔\u001b[39m \u001b[34mlubridate\u001b[39m 1.9.3     \u001b[32m✔\u001b[39m \u001b[34mtidyr    \u001b[39m 1.3.1\n",
            "\u001b[32m✔\u001b[39m \u001b[34mpurrr    \u001b[39m 1.0.2     \n",
            "── \u001b[1mConflicts\u001b[22m ────────────────────────────────────────── tidyverse_conflicts() ──\n",
            "\u001b[31m✖\u001b[39m \u001b[34mpurrr\u001b[39m::\u001b[32m%||%()\u001b[39m   masks \u001b[34mbase\u001b[39m::%||%()\n",
            "\u001b[31m✖\u001b[39m \u001b[34mdplyr\u001b[39m::\u001b[32mfilter()\u001b[39m masks \u001b[34mstats\u001b[39m::filter()\n",
            "\u001b[31m✖\u001b[39m \u001b[34mdplyr\u001b[39m::\u001b[32mlag()\u001b[39m    masks \u001b[34mstats\u001b[39m::lag()\n",
            "\u001b[36mℹ\u001b[39m Use the conflicted package (\u001b[3m\u001b[34m<http://conflicted.r-lib.org/>\u001b[39m\u001b[23m) to force all conflicts to become errors\n",
            "Loading required package: readxl\n",
            "\n",
            "\n",
            "Attaching package: ‘gplots’\n",
            "\n",
            "\n",
            "The following object is masked from ‘package:stats’:\n",
            "\n",
            "    lowess\n",
            "\n",
            "\n",
            "\n",
            "Attaching package: ‘psych’\n",
            "\n",
            "\n",
            "The following objects are masked from ‘package:ggplot2’:\n",
            "\n",
            "    %+%, alpha\n",
            "\n",
            "\n",
            "\n",
            "Attaching package: ‘gridExtra’\n",
            "\n",
            "\n",
            "The following object is masked from ‘package:dplyr’:\n",
            "\n",
            "    combine\n",
            "\n",
            "\n",
            "Loading required package: carData\n",
            "\n",
            "\n",
            "Attaching package: ‘car’\n",
            "\n",
            "\n",
            "The following object is masked from ‘package:psych’:\n",
            "\n",
            "    logit\n",
            "\n",
            "\n",
            "The following object is masked from ‘package:dplyr’:\n",
            "\n",
            "    recode\n",
            "\n",
            "\n",
            "The following object is masked from ‘package:purrr’:\n",
            "\n",
            "    some\n",
            "\n",
            "\n",
            "Loading required package: MASS\n",
            "\n",
            "\n",
            "Attaching package: ‘MASS’\n",
            "\n",
            "\n",
            "The following object is masked from ‘package:dplyr’:\n",
            "\n",
            "    select\n",
            "\n",
            "\n",
            "Loading required package: survival\n",
            "\n",
            "\n",
            "Attaching package: ‘rstatix’\n",
            "\n",
            "\n",
            "The following object is masked from ‘package:MASS’:\n",
            "\n",
            "    select\n",
            "\n",
            "\n",
            "The following object is masked from ‘package:stats’:\n",
            "\n",
            "    filter\n",
            "\n",
            "\n",
            "Welcome to emmeans.\n",
            "Caution: You lose important information if you filter this package's results.\n",
            "See '? untidy'\n",
            "\n",
            "Simple Bootstrap Routines (1.1-7)\n",
            "\n",
            "\n",
            "Attaching package: ‘coin’\n",
            "\n",
            "\n",
            "The following objects are masked from ‘package:rstatix’:\n",
            "\n",
            "    chisq_test, friedman_test, kruskal_test, sign_test, wilcox_test\n",
            "\n",
            "\n",
            "\n",
            "Attaching package: ‘boot’\n",
            "\n",
            "\n",
            "The following object is masked from ‘package:survival’:\n",
            "\n",
            "    aml\n",
            "\n",
            "\n",
            "The following object is masked from ‘package:car’:\n",
            "\n",
            "    logit\n",
            "\n",
            "\n",
            "The following object is masked from ‘package:psych’:\n",
            "\n",
            "    logit\n",
            "\n",
            "\n"
          ]
        }
      ]
    },
    {
      "cell_type": "code",
      "source": [
        "descriptive <- read_xlsx('/content/drive/MyDrive/Data_since_in_Healthcare/ASIM/HW_01/metadata.xlsx', sheet = 2) %>%\n",
        "  rename(\"Variable\" = \"...1\", \"Description\" = \"...2\") %>%\n",
        "  drop_na\n",
        "\n",
        "descriptive"
      ],
      "metadata": {
        "colab": {
          "base_uri": "https://localhost:8080/",
          "height": 882
        },
        "id": "tyAZmNhQCtKH",
        "outputId": "cca976dd-41a2-41a7-b04a-df5bde98cb48"
      },
      "execution_count": 14,
      "outputs": [
        {
          "output_type": "display_data",
          "data": {
            "text/html": [
              "<table class=\"dataframe\">\n",
              "<caption>A tibble: 25 × 2</caption>\n",
              "<thead>\n",
              "\t<tr><th scope=col>Variable</th><th scope=col>Description</th></tr>\n",
              "\t<tr><th scope=col>&lt;chr&gt;</th><th scope=col>&lt;chr&gt;</th></tr>\n",
              "</thead>\n",
              "<tbody>\n",
              "\t<tr><td>Ht     </td><td>growth                                           </td></tr>\n",
              "\t<tr><td>Wt     </td><td>the weight                                       </td></tr>\n",
              "\t<tr><td>BMI    </td><td>body mass index                                  </td></tr>\n",
              "\t<tr><td>Sys    </td><td>Systolic blood pressure                          </td></tr>\n",
              "\t<tr><td>Dia    </td><td>Diastolic blood pressure                         </td></tr>\n",
              "\t<tr><td>PR     </td><td>pulse                                            </td></tr>\n",
              "\t<tr><td>Sm     </td><td>smoking                                          </td></tr>\n",
              "\t<tr><td>Dm     </td><td>diabetes                                         </td></tr>\n",
              "\t<tr><td>HT     </td><td>hypertension                                     </td></tr>\n",
              "\t<tr><td>LVG    </td><td>Left ventricular hypertrophy by electrocardiogram</td></tr>\n",
              "\t<tr><td>AP     </td><td>CAD                                              </td></tr>\n",
              "\t<tr><td>MI     </td><td>medical history of infarction                    </td></tr>\n",
              "\t<tr><td>Str    </td><td>medical history of stroke                        </td></tr>\n",
              "\t<tr><td>A_C    </td><td>family history of CAD                            </td></tr>\n",
              "\t<tr><td>A_H    </td><td>family history hypertension                      </td></tr>\n",
              "\t<tr><td>A_D    </td><td>family history diabetes                          </td></tr>\n",
              "\t<tr><td>Choi   </td><td>cholesterol                                      </td></tr>\n",
              "\t<tr><td>Tgi    </td><td>Triglycerides                                    </td></tr>\n",
              "\t<tr><td>HDLi   </td><td>High density lipoprotein                         </td></tr>\n",
              "\t<tr><td>LDLi   </td><td>Low density lipoprotein                          </td></tr>\n",
              "\t<tr><td>AI     </td><td>Atherogenicity index                             </td></tr>\n",
              "\t<tr><td>CICi   </td><td>Cholesterol circulating immune complexes         </td></tr>\n",
              "\t<tr><td>P-cor  </td><td>Risk of myocardial infarction                    </td></tr>\n",
              "\t<tr><td>f-P-cor</td><td>Risk of CAD                                      </td></tr>\n",
              "\t<tr><td>?      </td><td>unknown, information will be later               </td></tr>\n",
              "</tbody>\n",
              "</table>\n"
            ],
            "text/markdown": "\nA tibble: 25 × 2\n\n| Variable &lt;chr&gt; | Description &lt;chr&gt; |\n|---|---|\n| Ht      | growth                                            |\n| Wt      | the weight                                        |\n| BMI     | body mass index                                   |\n| Sys     | Systolic blood pressure                           |\n| Dia     | Diastolic blood pressure                          |\n| PR      | pulse                                             |\n| Sm      | smoking                                           |\n| Dm      | diabetes                                          |\n| HT      | hypertension                                      |\n| LVG     | Left ventricular hypertrophy by electrocardiogram |\n| AP      | CAD                                               |\n| MI      | medical history of infarction                     |\n| Str     | medical history of stroke                         |\n| A_C     | family history of CAD                             |\n| A_H     | family history hypertension                       |\n| A_D     | family history diabetes                           |\n| Choi    | cholesterol                                       |\n| Tgi     | Triglycerides                                     |\n| HDLi    | High density lipoprotein                          |\n| LDLi    | Low density lipoprotein                           |\n| AI      | Atherogenicity index                              |\n| CICi    | Cholesterol circulating immune complexes          |\n| P-cor   | Risk of myocardial infarction                     |\n| f-P-cor | Risk of CAD                                       |\n| ?       | unknown, information will be later                |\n\n",
            "text/latex": "A tibble: 25 × 2\n\\begin{tabular}{ll}\n Variable & Description\\\\\n <chr> & <chr>\\\\\n\\hline\n\t Ht      & growth                                           \\\\\n\t Wt      & the weight                                       \\\\\n\t BMI     & body mass index                                  \\\\\n\t Sys     & Systolic blood pressure                          \\\\\n\t Dia     & Diastolic blood pressure                         \\\\\n\t PR      & pulse                                            \\\\\n\t Sm      & smoking                                          \\\\\n\t Dm      & diabetes                                         \\\\\n\t HT      & hypertension                                     \\\\\n\t LVG     & Left ventricular hypertrophy by electrocardiogram\\\\\n\t AP      & CAD                                              \\\\\n\t MI      & medical history of infarction                    \\\\\n\t Str     & medical history of stroke                        \\\\\n\t A\\_C     & family history of CAD                            \\\\\n\t A\\_H     & family history hypertension                      \\\\\n\t A\\_D     & family history diabetes                          \\\\\n\t Choi    & cholesterol                                      \\\\\n\t Tgi     & Triglycerides                                    \\\\\n\t HDLi    & High density lipoprotein                         \\\\\n\t LDLi    & Low density lipoprotein                          \\\\\n\t AI      & Atherogenicity index                             \\\\\n\t CICi    & Cholesterol circulating immune complexes         \\\\\n\t P-cor   & Risk of myocardial infarction                    \\\\\n\t f-P-cor & Risk of CAD                                      \\\\\n\t ?       & unknown, information will be later               \\\\\n\\end{tabular}\n",
            "text/plain": [
              "   Variable Description                                      \n",
              "1  Ht       growth                                           \n",
              "2  Wt       the weight                                       \n",
              "3  BMI      body mass index                                  \n",
              "4  Sys      Systolic blood pressure                          \n",
              "5  Dia      Diastolic blood pressure                         \n",
              "6  PR       pulse                                            \n",
              "7  Sm       smoking                                          \n",
              "8  Dm       diabetes                                         \n",
              "9  HT       hypertension                                     \n",
              "10 LVG      Left ventricular hypertrophy by electrocardiogram\n",
              "11 AP       CAD                                              \n",
              "12 MI       medical history of infarction                    \n",
              "13 Str      medical history of stroke                        \n",
              "14 A_C      family history of CAD                            \n",
              "15 A_H      family history hypertension                      \n",
              "16 A_D      family history diabetes                          \n",
              "17 Choi     cholesterol                                      \n",
              "18 Tgi      Triglycerides                                    \n",
              "19 HDLi     High density lipoprotein                         \n",
              "20 LDLi     Low density lipoprotein                          \n",
              "21 AI       Atherogenicity index                             \n",
              "22 CICi     Cholesterol circulating immune complexes         \n",
              "23 P-cor    Risk of myocardial infarction                    \n",
              "24 f-P-cor  Risk of CAD                                      \n",
              "25 ?        unknown, information will be later               "
            ]
          },
          "metadata": {}
        }
      ]
    },
    {
      "cell_type": "code",
      "source": [
        "data <- read_xlsx(\"/content/drive/MyDrive/Data_since_in_Healthcare/ASIM/HW_02/data.xlsx\", sheet = 1) %>%\n",
        "  rename_with(make.names)\n",
        "data"
      ],
      "metadata": {
        "colab": {
          "base_uri": "https://localhost:8080/",
          "height": 1000
        },
        "id": "dAnHJCXnCcfJ",
        "outputId": "18445dc4-b023-47b1-b366-53ddaa709a29"
      },
      "execution_count": 29,
      "outputs": [
        {
          "output_type": "stream",
          "name": "stderr",
          "text": [
            "\u001b[1m\u001b[22mNew names:\n",
            "\u001b[36m•\u001b[39m `Choi...25` -> `Choi...21`\n",
            "\u001b[36m•\u001b[39m `Tgi...26` -> `Tgi...22`\n",
            "\u001b[36m•\u001b[39m `HDLi...27` -> `HDLi...23`\n",
            "\u001b[36m•\u001b[39m `LDLi...28` -> `LDLi...24`\n",
            "\u001b[36m•\u001b[39m `Choi...29` -> `Choi...25`\n",
            "\u001b[36m•\u001b[39m `Tgi...30` -> `Tgi...26`\n",
            "\u001b[36m•\u001b[39m `HDLi...31` -> `HDLi...27`\n",
            "\u001b[36m•\u001b[39m `LDLi...32` -> `LDLi...28`\n"
          ]
        },
        {
          "output_type": "display_data",
          "data": {
            "text/html": [
              "<table class=\"dataframe\">\n",
              "<caption>A tibble: 38 × 114</caption>\n",
              "<thead>\n",
              "\t<tr><th scope=col>Vial.number</th><th scope=col>Group</th><th scope=col>Age</th><th scope=col>Plasma.volume</th><th scope=col>Ht</th><th scope=col>Wt</th><th scope=col>BMI</th><th scope=col>Sys</th><th scope=col>Dia</th><th scope=col>PR</th><th scope=col>⋯</th><th scope=col>G1.LDLi</th><th scope=col>G2.LDLi</th><th scope=col>G3.LDLi</th><th scope=col>S0.LDLi</th><th scope=col>S1.LDLi</th><th scope=col>S2.LDLi</th><th scope=col>S3.LDLi</th><th scope=col>B.LDLi</th><th scope=col>F.LDLi</th><th scope=col>HM.LDLi</th></tr>\n",
              "\t<tr><th scope=col>&lt;chr&gt;</th><th scope=col>&lt;chr&gt;</th><th scope=col>&lt;dbl&gt;</th><th scope=col>&lt;dbl&gt;</th><th scope=col>&lt;dbl&gt;</th><th scope=col>&lt;dbl&gt;</th><th scope=col>&lt;dbl&gt;</th><th scope=col>&lt;dbl&gt;</th><th scope=col>&lt;dbl&gt;</th><th scope=col>&lt;dbl&gt;</th><th scope=col>⋯</th><th scope=col>&lt;dbl&gt;</th><th scope=col>&lt;dbl&gt;</th><th scope=col>&lt;dbl&gt;</th><th scope=col>&lt;dbl&gt;</th><th scope=col>&lt;dbl&gt;</th><th scope=col>&lt;dbl&gt;</th><th scope=col>&lt;dbl&gt;</th><th scope=col>&lt;dbl&gt;</th><th scope=col>&lt;dbl&gt;</th><th scope=col>&lt;dbl&gt;</th></tr>\n",
              "</thead>\n",
              "<tbody>\n",
              "\t<tr><td>1 </td><td>0</td><td>63</td><td> 6.5</td><td>163</td><td> 84.0</td><td>31.61579</td><td>125</td><td> 76</td><td>67</td><td>⋯</td><td>4.090</td><td>68.910</td><td>3.570</td><td>3.980</td><td>28.180</td><td>42.460</td><td>1.950</td><td>0.020</td><td>1.67</td><td>13.02</td></tr>\n",
              "\t<tr><td>2 </td><td>0</td><td>47</td><td> 5.5</td><td>179</td><td>111.0</td><td>34.64311</td><td>125</td><td> 82</td><td>65</td><td>⋯</td><td>   NA</td><td>    NA</td><td>   NA</td><td>   NA</td><td>    NA</td><td>    NA</td><td>   NA</td><td>   NA</td><td>  NA</td><td>   NA</td></tr>\n",
              "\t<tr><td>3 </td><td>1</td><td>57</td><td> 7.0</td><td>164</td><td> 80.0</td><td>29.74420</td><td>132</td><td> 80</td><td>92</td><td>⋯</td><td>5.160</td><td>68.220</td><td>3.110</td><td>4.640</td><td>30.430</td><td>39.860</td><td>1.560</td><td>0.020</td><td>1.69</td><td>14.16</td></tr>\n",
              "\t<tr><td>4 </td><td>1</td><td>72</td><td> 5.0</td><td>160</td><td> 58.8</td><td>22.96875</td><td>130</td><td> 90</td><td>68</td><td>⋯</td><td>3.950</td><td>68.030</td><td>4.500</td><td>3.780</td><td>29.370</td><td>41.130</td><td>2.200</td><td>0.020</td><td>1.89</td><td>13.89</td></tr>\n",
              "\t<tr><td>5 </td><td>1</td><td>57</td><td> 5.0</td><td>180</td><td> 71.0</td><td>21.91358</td><td>135</td><td> 75</td><td>70</td><td>⋯</td><td>4.630</td><td>66.910</td><td>4.030</td><td>4.440</td><td>28.540</td><td>40.640</td><td>1.950</td><td>0.020</td><td>2.03</td><td>14.25</td></tr>\n",
              "\t<tr><td>6 </td><td>1</td><td>79</td><td> 6.2</td><td>160</td><td> 64.0</td><td>25.00000</td><td>110</td><td> 75</td><td>66</td><td>⋯</td><td>4.050</td><td>64.010</td><td>5.270</td><td>3.720</td><td>26.710</td><td>40.390</td><td>2.510</td><td>0.020</td><td>2.70</td><td>16.06</td></tr>\n",
              "\t<tr><td>7 </td><td>1</td><td>61</td><td> 6.5</td><td>164</td><td> 67.0</td><td>24.91077</td><td>124</td><td> 82</td><td>84</td><td>⋯</td><td>4.100</td><td>65.990</td><td>4.700</td><td>4.030</td><td>28.440</td><td>39.990</td><td>2.330</td><td>0.020</td><td>1.61</td><td>13.82</td></tr>\n",
              "\t<tr><td>8 </td><td>1</td><td>70</td><td> 5.5</td><td>162</td><td> 61.0</td><td>23.24341</td><td>135</td><td> 78</td><td>72</td><td>⋯</td><td>5.270</td><td>67.260</td><td>3.240</td><td>4.690</td><td>32.270</td><td>37.290</td><td>1.520</td><td>0.030</td><td>1.61</td><td>14.59</td></tr>\n",
              "\t<tr><td>9 </td><td>0</td><td>50</td><td> 6.0</td><td>150</td><td> 79.0</td><td>35.11111</td><td>142</td><td> 95</td><td>88</td><td>⋯</td><td>3.970</td><td>67.590</td><td>4.220</td><td>4.420</td><td>27.990</td><td>41.190</td><td>2.180</td><td>0.050</td><td>1.55</td><td>13.26</td></tr>\n",
              "\t<tr><td>10</td><td>1</td><td>53</td><td> 5.5</td><td>172</td><td> 88.2</td><td>29.81341</td><td>120</td><td> 80</td><td>60</td><td>⋯</td><td>4.480</td><td>68.880</td><td>4.040</td><td>3.860</td><td>28.110</td><td>43.200</td><td>2.230</td><td>0.020</td><td>2.30</td><td>13.11</td></tr>\n",
              "\t<tr><td>11</td><td>1</td><td>83</td><td> 6.0</td><td>168</td><td> 59.0</td><td>20.90420</td><td>134</td><td> 60</td><td>89</td><td>⋯</td><td>4.620</td><td>66.510</td><td>4.250</td><td>4.780</td><td>28.500</td><td>40.140</td><td>1.960</td><td>0.030</td><td>1.72</td><td>14.21</td></tr>\n",
              "\t<tr><td>12</td><td>1</td><td>59</td><td> 5.5</td><td>157</td><td> 70.0</td><td>28.39872</td><td>120</td><td> 85</td><td>90</td><td>⋯</td><td>3.470</td><td>66.740</td><td>5.030</td><td>3.450</td><td>26.590</td><td>42.620</td><td>2.580</td><td>0.020</td><td>2.02</td><td>13.52</td></tr>\n",
              "\t<tr><td>13</td><td>1</td><td>79</td><td> 7.0</td><td>161</td><td> 73.0</td><td>28.16249</td><td>120</td><td> 81</td><td>73</td><td>⋯</td><td>4.780</td><td>67.400</td><td>3.720</td><td>4.760</td><td>29.470</td><td>39.760</td><td>1.910</td><td>0.060</td><td>1.93</td><td>14.28</td></tr>\n",
              "\t<tr><td>14</td><td>1</td><td>61</td><td> 7.0</td><td>172</td><td> 82.0</td><td>27.71769</td><td>137</td><td> 94</td><td>85</td><td>⋯</td><td>4.550</td><td>67.880</td><td>4.640</td><td>4.060</td><td>28.160</td><td>42.470</td><td>2.380</td><td>0.030</td><td>1.93</td><td>13.42</td></tr>\n",
              "\t<tr><td>15</td><td>1</td><td>79</td><td> 8.0</td><td>167</td><td> 63.0</td><td>22.58955</td><td>188</td><td> 84</td><td>74</td><td>⋯</td><td>4.700</td><td>67.590</td><td>3.430</td><td>5.280</td><td>33.520</td><td>35.450</td><td>1.470</td><td>0.020</td><td>1.24</td><td>14.35</td></tr>\n",
              "\t<tr><td>16</td><td>1</td><td>75</td><td>10.0</td><td>165</td><td> 57.0</td><td>20.93664</td><td>120</td><td> 72</td><td>66</td><td>⋯</td><td>5.200</td><td>66.370</td><td>4.220</td><td>4.470</td><td>29.360</td><td>39.770</td><td>2.190</td><td>0.030</td><td>2.99</td><td>14.47</td></tr>\n",
              "\t<tr><td>17</td><td>1</td><td>58</td><td>10.0</td><td>162</td><td>102.0</td><td>38.86603</td><td>132</td><td> 81</td><td>68</td><td>⋯</td><td>4.010</td><td>67.880</td><td>4.340</td><td>4.340</td><td>29.100</td><td>40.840</td><td>1.950</td><td>0.030</td><td>1.99</td><td>13.02</td></tr>\n",
              "\t<tr><td>18</td><td>1</td><td>65</td><td>11.0</td><td>171</td><td>102.6</td><td>35.08772</td><td>136</td><td> 92</td><td>80</td><td>⋯</td><td>3.935</td><td>66.575</td><td>4.445</td><td>4.435</td><td>28.225</td><td>39.670</td><td>2.625</td><td>0.035</td><td>2.11</td><td>14.64</td></tr>\n",
              "\t<tr><td>19</td><td>0</td><td>64</td><td>10.5</td><td>167</td><td> 62.0</td><td>22.23099</td><td>112</td><td> 75</td><td>66</td><td>⋯</td><td>3.860</td><td>68.260</td><td>4.280</td><td>3.680</td><td>28.570</td><td>42.040</td><td>2.110</td><td>0.020</td><td>2.34</td><td>13.59</td></tr>\n",
              "\t<tr><td>20</td><td>0</td><td>66</td><td>10.0</td><td>165</td><td> 73.0</td><td>26.81359</td><td>135</td><td> 57</td><td>72</td><td>⋯</td><td>4.710</td><td>65.305</td><td>4.735</td><td>4.335</td><td>29.245</td><td>38.985</td><td>2.185</td><td>0.030</td><td>2.19</td><td>15.15</td></tr>\n",
              "\t<tr><td>21</td><td>1</td><td>70</td><td>11.0</td><td>170</td><td>101.2</td><td>35.01730</td><td>135</td><td> 85</td><td>74</td><td>⋯</td><td>4.040</td><td>67.120</td><td>4.740</td><td>4.560</td><td>28.570</td><td>40.240</td><td>2.530</td><td>0.040</td><td>2.38</td><td>13.10</td></tr>\n",
              "\t<tr><td>22</td><td>0</td><td>65</td><td>10.0</td><td>158</td><td> 69.0</td><td>27.63980</td><td>129</td><td> 77</td><td>66</td><td>⋯</td><td>4.930</td><td>66.620</td><td>4.270</td><td>4.590</td><td>29.240</td><td>39.910</td><td>2.080</td><td>0.030</td><td>1.69</td><td>14.11</td></tr>\n",
              "\t<tr><td>23</td><td>1</td><td>62</td><td>11.5</td><td>169</td><td> 66.0</td><td>23.10843</td><td>150</td><td>105</td><td>78</td><td>⋯</td><td>   NA</td><td>    NA</td><td>   NA</td><td>   NA</td><td>    NA</td><td>    NA</td><td>   NA</td><td>   NA</td><td>  NA</td><td>   NA</td></tr>\n",
              "\t<tr><td>24</td><td>0</td><td>76</td><td>13.0</td><td>165</td><td> 56.5</td><td>20.75298</td><td>130</td><td> 70</td><td>70</td><td>⋯</td><td>4.390</td><td>67.560</td><td>3.590</td><td>4.550</td><td>28.810</td><td>40.410</td><td>1.770</td><td>0.040</td><td>1.38</td><td>14.83</td></tr>\n",
              "\t<tr><td>25</td><td>1</td><td>68</td><td>13.0</td><td>170</td><td> 88.0</td><td>30.44983</td><td>150</td><td> 90</td><td>70</td><td>⋯</td><td>   NA</td><td>    NA</td><td>   NA</td><td>   NA</td><td>    NA</td><td>    NA</td><td>   NA</td><td>   NA</td><td>  NA</td><td>   NA</td></tr>\n",
              "\t<tr><td>26</td><td>0</td><td>55</td><td>11.5</td><td>162</td><td> 57.0</td><td>21.71925</td><td>103</td><td> 66</td><td>74</td><td>⋯</td><td>5.280</td><td>67.780</td><td>4.210</td><td>4.710</td><td>29.210</td><td>41.010</td><td>2.340</td><td>0.020</td><td>2.03</td><td>13.33</td></tr>\n",
              "\t<tr><td>27</td><td>0</td><td>79</td><td>12.0</td><td>172</td><td> 60.0</td><td>20.28123</td><td>100</td><td> 60</td><td>65</td><td>⋯</td><td>   NA</td><td>    NA</td><td>   NA</td><td>   NA</td><td>    NA</td><td>    NA</td><td>   NA</td><td>   NA</td><td>  NA</td><td>   NA</td></tr>\n",
              "\t<tr><td>28</td><td>0</td><td>69</td><td>13.0</td><td>160</td><td> 60.0</td><td>23.43750</td><td>133</td><td> 76</td><td>79</td><td>⋯</td><td>4.620</td><td>67.430</td><td>4.360</td><td>4.160</td><td>29.580</td><td>40.480</td><td>2.190</td><td>0.020</td><td>2.27</td><td>13.54</td></tr>\n",
              "\t<tr><td>29</td><td>1</td><td>75</td><td>11.0</td><td>162</td><td> 75.0</td><td>28.57796</td><td>118</td><td> 75</td><td>75</td><td>⋯</td><td>   NA</td><td>    NA</td><td>   NA</td><td>   NA</td><td>    NA</td><td>    NA</td><td>   NA</td><td>   NA</td><td>  NA</td><td>   NA</td></tr>\n",
              "\t<tr><td>30</td><td>1</td><td>68</td><td>13.0</td><td>165</td><td> 77.8</td><td>28.57668</td><td>134</td><td> 76</td><td>81</td><td>⋯</td><td>4.290</td><td>66.840</td><td>4.380</td><td>3.910</td><td>28.190</td><td>41.210</td><td>2.200</td><td>0.020</td><td>2.36</td><td>14.45</td></tr>\n",
              "\t<tr><td>31</td><td>0</td><td>64</td><td>11.5</td><td>176</td><td> 68.8</td><td>22.21074</td><td>128</td><td> 78</td><td>73</td><td>⋯</td><td>5.220</td><td>66.870</td><td>3.580</td><td>4.280</td><td>29.690</td><td>40.060</td><td>1.640</td><td>0.020</td><td>1.55</td><td>14.70</td></tr>\n",
              "\t<tr><td>32</td><td>0</td><td>62</td><td>13.0</td><td>161</td><td> 90.0</td><td>34.72088</td><td>140</td><td>100</td><td>74</td><td>⋯</td><td>   NA</td><td>    NA</td><td>   NA</td><td>   NA</td><td>    NA</td><td>    NA</td><td>   NA</td><td>   NA</td><td>  NA</td><td>   NA</td></tr>\n",
              "\t<tr><td>33</td><td>1</td><td>67</td><td>13.0</td><td>165</td><td> 78.0</td><td>28.65014</td><td>165</td><td> 82</td><td>76</td><td>⋯</td><td>3.890</td><td>67.440</td><td>4.290</td><td>4.210</td><td>28.160</td><td>41.210</td><td>2.040</td><td>0.030</td><td>2.26</td><td>15.06</td></tr>\n",
              "\t<tr><td>34</td><td>1</td><td>64</td><td>12.0</td><td>161</td><td> 89.0</td><td>34.33510</td><td>140</td><td> 86</td><td>54</td><td>⋯</td><td>3.270</td><td>65.600</td><td>5.290</td><td>3.380</td><td>24.700</td><td>43.560</td><td>2.520</td><td>0.060</td><td>2.73</td><td>13.89</td></tr>\n",
              "\t<tr><td>35</td><td>0</td><td>54</td><td>11.5</td><td>167</td><td> 67.0</td><td>24.02381</td><td>146</td><td> 96</td><td>68</td><td>⋯</td><td>   NA</td><td>    NA</td><td>   NA</td><td>   NA</td><td>    NA</td><td>    NA</td><td>   NA</td><td>   NA</td><td>  NA</td><td>   NA</td></tr>\n",
              "\t<tr><td>36</td><td>1</td><td>67</td><td>12.0</td><td>159</td><td> 72.0</td><td>28.47989</td><td>126</td><td> 68</td><td>84</td><td>⋯</td><td>4.000</td><td>67.710</td><td>5.350</td><td>4.200</td><td>29.860</td><td>40.350</td><td>2.650</td><td>0.020</td><td>1.55</td><td>13.37</td></tr>\n",
              "\t<tr><td>37</td><td>1</td><td>69</td><td>11.5</td><td>154</td><td> 87.6</td><td>36.93709</td><td>147</td><td> 89</td><td>68</td><td>⋯</td><td>   NA</td><td>    NA</td><td>   NA</td><td>   NA</td><td>    NA</td><td>    NA</td><td>   NA</td><td>   NA</td><td>  NA</td><td>   NA</td></tr>\n",
              "\t<tr><td>38</td><td>0</td><td>60</td><td>12.0</td><td>165</td><td> 74.0</td><td>27.18090</td><td>120</td><td> 70</td><td>75</td><td>⋯</td><td>   NA</td><td>    NA</td><td>   NA</td><td>   NA</td><td>    NA</td><td>    NA</td><td>   NA</td><td>   NA</td><td>  NA</td><td>   NA</td></tr>\n",
              "</tbody>\n",
              "</table>\n"
            ],
            "text/markdown": "\nA tibble: 38 × 114\n\n| Vial.number &lt;chr&gt; | Group &lt;chr&gt; | Age &lt;dbl&gt; | Plasma.volume &lt;dbl&gt; | Ht &lt;dbl&gt; | Wt &lt;dbl&gt; | BMI &lt;dbl&gt; | Sys &lt;dbl&gt; | Dia &lt;dbl&gt; | PR &lt;dbl&gt; | ⋯ ⋯ | G1.LDLi &lt;dbl&gt; | G2.LDLi &lt;dbl&gt; | G3.LDLi &lt;dbl&gt; | S0.LDLi &lt;dbl&gt; | S1.LDLi &lt;dbl&gt; | S2.LDLi &lt;dbl&gt; | S3.LDLi &lt;dbl&gt; | B.LDLi &lt;dbl&gt; | F.LDLi &lt;dbl&gt; | HM.LDLi &lt;dbl&gt; |\n|---|---|---|---|---|---|---|---|---|---|---|---|---|---|---|---|---|---|---|---|---|\n| 1  | 0 | 63 |  6.5 | 163 |  84.0 | 31.61579 | 125 |  76 | 67 | ⋯ | 4.090 | 68.910 | 3.570 | 3.980 | 28.180 | 42.460 | 1.950 | 0.020 | 1.67 | 13.02 |\n| 2  | 0 | 47 |  5.5 | 179 | 111.0 | 34.64311 | 125 |  82 | 65 | ⋯ |    NA |     NA |    NA |    NA |     NA |     NA |    NA |    NA |   NA |    NA |\n| 3  | 1 | 57 |  7.0 | 164 |  80.0 | 29.74420 | 132 |  80 | 92 | ⋯ | 5.160 | 68.220 | 3.110 | 4.640 | 30.430 | 39.860 | 1.560 | 0.020 | 1.69 | 14.16 |\n| 4  | 1 | 72 |  5.0 | 160 |  58.8 | 22.96875 | 130 |  90 | 68 | ⋯ | 3.950 | 68.030 | 4.500 | 3.780 | 29.370 | 41.130 | 2.200 | 0.020 | 1.89 | 13.89 |\n| 5  | 1 | 57 |  5.0 | 180 |  71.0 | 21.91358 | 135 |  75 | 70 | ⋯ | 4.630 | 66.910 | 4.030 | 4.440 | 28.540 | 40.640 | 1.950 | 0.020 | 2.03 | 14.25 |\n| 6  | 1 | 79 |  6.2 | 160 |  64.0 | 25.00000 | 110 |  75 | 66 | ⋯ | 4.050 | 64.010 | 5.270 | 3.720 | 26.710 | 40.390 | 2.510 | 0.020 | 2.70 | 16.06 |\n| 7  | 1 | 61 |  6.5 | 164 |  67.0 | 24.91077 | 124 |  82 | 84 | ⋯ | 4.100 | 65.990 | 4.700 | 4.030 | 28.440 | 39.990 | 2.330 | 0.020 | 1.61 | 13.82 |\n| 8  | 1 | 70 |  5.5 | 162 |  61.0 | 23.24341 | 135 |  78 | 72 | ⋯ | 5.270 | 67.260 | 3.240 | 4.690 | 32.270 | 37.290 | 1.520 | 0.030 | 1.61 | 14.59 |\n| 9  | 0 | 50 |  6.0 | 150 |  79.0 | 35.11111 | 142 |  95 | 88 | ⋯ | 3.970 | 67.590 | 4.220 | 4.420 | 27.990 | 41.190 | 2.180 | 0.050 | 1.55 | 13.26 |\n| 10 | 1 | 53 |  5.5 | 172 |  88.2 | 29.81341 | 120 |  80 | 60 | ⋯ | 4.480 | 68.880 | 4.040 | 3.860 | 28.110 | 43.200 | 2.230 | 0.020 | 2.30 | 13.11 |\n| 11 | 1 | 83 |  6.0 | 168 |  59.0 | 20.90420 | 134 |  60 | 89 | ⋯ | 4.620 | 66.510 | 4.250 | 4.780 | 28.500 | 40.140 | 1.960 | 0.030 | 1.72 | 14.21 |\n| 12 | 1 | 59 |  5.5 | 157 |  70.0 | 28.39872 | 120 |  85 | 90 | ⋯ | 3.470 | 66.740 | 5.030 | 3.450 | 26.590 | 42.620 | 2.580 | 0.020 | 2.02 | 13.52 |\n| 13 | 1 | 79 |  7.0 | 161 |  73.0 | 28.16249 | 120 |  81 | 73 | ⋯ | 4.780 | 67.400 | 3.720 | 4.760 | 29.470 | 39.760 | 1.910 | 0.060 | 1.93 | 14.28 |\n| 14 | 1 | 61 |  7.0 | 172 |  82.0 | 27.71769 | 137 |  94 | 85 | ⋯ | 4.550 | 67.880 | 4.640 | 4.060 | 28.160 | 42.470 | 2.380 | 0.030 | 1.93 | 13.42 |\n| 15 | 1 | 79 |  8.0 | 167 |  63.0 | 22.58955 | 188 |  84 | 74 | ⋯ | 4.700 | 67.590 | 3.430 | 5.280 | 33.520 | 35.450 | 1.470 | 0.020 | 1.24 | 14.35 |\n| 16 | 1 | 75 | 10.0 | 165 |  57.0 | 20.93664 | 120 |  72 | 66 | ⋯ | 5.200 | 66.370 | 4.220 | 4.470 | 29.360 | 39.770 | 2.190 | 0.030 | 2.99 | 14.47 |\n| 17 | 1 | 58 | 10.0 | 162 | 102.0 | 38.86603 | 132 |  81 | 68 | ⋯ | 4.010 | 67.880 | 4.340 | 4.340 | 29.100 | 40.840 | 1.950 | 0.030 | 1.99 | 13.02 |\n| 18 | 1 | 65 | 11.0 | 171 | 102.6 | 35.08772 | 136 |  92 | 80 | ⋯ | 3.935 | 66.575 | 4.445 | 4.435 | 28.225 | 39.670 | 2.625 | 0.035 | 2.11 | 14.64 |\n| 19 | 0 | 64 | 10.5 | 167 |  62.0 | 22.23099 | 112 |  75 | 66 | ⋯ | 3.860 | 68.260 | 4.280 | 3.680 | 28.570 | 42.040 | 2.110 | 0.020 | 2.34 | 13.59 |\n| 20 | 0 | 66 | 10.0 | 165 |  73.0 | 26.81359 | 135 |  57 | 72 | ⋯ | 4.710 | 65.305 | 4.735 | 4.335 | 29.245 | 38.985 | 2.185 | 0.030 | 2.19 | 15.15 |\n| 21 | 1 | 70 | 11.0 | 170 | 101.2 | 35.01730 | 135 |  85 | 74 | ⋯ | 4.040 | 67.120 | 4.740 | 4.560 | 28.570 | 40.240 | 2.530 | 0.040 | 2.38 | 13.10 |\n| 22 | 0 | 65 | 10.0 | 158 |  69.0 | 27.63980 | 129 |  77 | 66 | ⋯ | 4.930 | 66.620 | 4.270 | 4.590 | 29.240 | 39.910 | 2.080 | 0.030 | 1.69 | 14.11 |\n| 23 | 1 | 62 | 11.5 | 169 |  66.0 | 23.10843 | 150 | 105 | 78 | ⋯ |    NA |     NA |    NA |    NA |     NA |     NA |    NA |    NA |   NA |    NA |\n| 24 | 0 | 76 | 13.0 | 165 |  56.5 | 20.75298 | 130 |  70 | 70 | ⋯ | 4.390 | 67.560 | 3.590 | 4.550 | 28.810 | 40.410 | 1.770 | 0.040 | 1.38 | 14.83 |\n| 25 | 1 | 68 | 13.0 | 170 |  88.0 | 30.44983 | 150 |  90 | 70 | ⋯ |    NA |     NA |    NA |    NA |     NA |     NA |    NA |    NA |   NA |    NA |\n| 26 | 0 | 55 | 11.5 | 162 |  57.0 | 21.71925 | 103 |  66 | 74 | ⋯ | 5.280 | 67.780 | 4.210 | 4.710 | 29.210 | 41.010 | 2.340 | 0.020 | 2.03 | 13.33 |\n| 27 | 0 | 79 | 12.0 | 172 |  60.0 | 20.28123 | 100 |  60 | 65 | ⋯ |    NA |     NA |    NA |    NA |     NA |     NA |    NA |    NA |   NA |    NA |\n| 28 | 0 | 69 | 13.0 | 160 |  60.0 | 23.43750 | 133 |  76 | 79 | ⋯ | 4.620 | 67.430 | 4.360 | 4.160 | 29.580 | 40.480 | 2.190 | 0.020 | 2.27 | 13.54 |\n| 29 | 1 | 75 | 11.0 | 162 |  75.0 | 28.57796 | 118 |  75 | 75 | ⋯ |    NA |     NA |    NA |    NA |     NA |     NA |    NA |    NA |   NA |    NA |\n| 30 | 1 | 68 | 13.0 | 165 |  77.8 | 28.57668 | 134 |  76 | 81 | ⋯ | 4.290 | 66.840 | 4.380 | 3.910 | 28.190 | 41.210 | 2.200 | 0.020 | 2.36 | 14.45 |\n| 31 | 0 | 64 | 11.5 | 176 |  68.8 | 22.21074 | 128 |  78 | 73 | ⋯ | 5.220 | 66.870 | 3.580 | 4.280 | 29.690 | 40.060 | 1.640 | 0.020 | 1.55 | 14.70 |\n| 32 | 0 | 62 | 13.0 | 161 |  90.0 | 34.72088 | 140 | 100 | 74 | ⋯ |    NA |     NA |    NA |    NA |     NA |     NA |    NA |    NA |   NA |    NA |\n| 33 | 1 | 67 | 13.0 | 165 |  78.0 | 28.65014 | 165 |  82 | 76 | ⋯ | 3.890 | 67.440 | 4.290 | 4.210 | 28.160 | 41.210 | 2.040 | 0.030 | 2.26 | 15.06 |\n| 34 | 1 | 64 | 12.0 | 161 |  89.0 | 34.33510 | 140 |  86 | 54 | ⋯ | 3.270 | 65.600 | 5.290 | 3.380 | 24.700 | 43.560 | 2.520 | 0.060 | 2.73 | 13.89 |\n| 35 | 0 | 54 | 11.5 | 167 |  67.0 | 24.02381 | 146 |  96 | 68 | ⋯ |    NA |     NA |    NA |    NA |     NA |     NA |    NA |    NA |   NA |    NA |\n| 36 | 1 | 67 | 12.0 | 159 |  72.0 | 28.47989 | 126 |  68 | 84 | ⋯ | 4.000 | 67.710 | 5.350 | 4.200 | 29.860 | 40.350 | 2.650 | 0.020 | 1.55 | 13.37 |\n| 37 | 1 | 69 | 11.5 | 154 |  87.6 | 36.93709 | 147 |  89 | 68 | ⋯ |    NA |     NA |    NA |    NA |     NA |     NA |    NA |    NA |   NA |    NA |\n| 38 | 0 | 60 | 12.0 | 165 |  74.0 | 27.18090 | 120 |  70 | 75 | ⋯ |    NA |     NA |    NA |    NA |     NA |     NA |    NA |    NA |   NA |    NA |\n\n",
            "text/latex": "A tibble: 38 × 114\n\\begin{tabular}{lllllllllllllllllllll}\n Vial.number & Group & Age & Plasma.volume & Ht & Wt & BMI & Sys & Dia & PR & ⋯ & G1.LDLi & G2.LDLi & G3.LDLi & S0.LDLi & S1.LDLi & S2.LDLi & S3.LDLi & B.LDLi & F.LDLi & HM.LDLi\\\\\n <chr> & <chr> & <dbl> & <dbl> & <dbl> & <dbl> & <dbl> & <dbl> & <dbl> & <dbl> & ⋯ & <dbl> & <dbl> & <dbl> & <dbl> & <dbl> & <dbl> & <dbl> & <dbl> & <dbl> & <dbl>\\\\\n\\hline\n\t 1  & 0 & 63 &  6.5 & 163 &  84.0 & 31.61579 & 125 &  76 & 67 & ⋯ & 4.090 & 68.910 & 3.570 & 3.980 & 28.180 & 42.460 & 1.950 & 0.020 & 1.67 & 13.02\\\\\n\t 2  & 0 & 47 &  5.5 & 179 & 111.0 & 34.64311 & 125 &  82 & 65 & ⋯ &    NA &     NA &    NA &    NA &     NA &     NA &    NA &    NA &   NA &    NA\\\\\n\t 3  & 1 & 57 &  7.0 & 164 &  80.0 & 29.74420 & 132 &  80 & 92 & ⋯ & 5.160 & 68.220 & 3.110 & 4.640 & 30.430 & 39.860 & 1.560 & 0.020 & 1.69 & 14.16\\\\\n\t 4  & 1 & 72 &  5.0 & 160 &  58.8 & 22.96875 & 130 &  90 & 68 & ⋯ & 3.950 & 68.030 & 4.500 & 3.780 & 29.370 & 41.130 & 2.200 & 0.020 & 1.89 & 13.89\\\\\n\t 5  & 1 & 57 &  5.0 & 180 &  71.0 & 21.91358 & 135 &  75 & 70 & ⋯ & 4.630 & 66.910 & 4.030 & 4.440 & 28.540 & 40.640 & 1.950 & 0.020 & 2.03 & 14.25\\\\\n\t 6  & 1 & 79 &  6.2 & 160 &  64.0 & 25.00000 & 110 &  75 & 66 & ⋯ & 4.050 & 64.010 & 5.270 & 3.720 & 26.710 & 40.390 & 2.510 & 0.020 & 2.70 & 16.06\\\\\n\t 7  & 1 & 61 &  6.5 & 164 &  67.0 & 24.91077 & 124 &  82 & 84 & ⋯ & 4.100 & 65.990 & 4.700 & 4.030 & 28.440 & 39.990 & 2.330 & 0.020 & 1.61 & 13.82\\\\\n\t 8  & 1 & 70 &  5.5 & 162 &  61.0 & 23.24341 & 135 &  78 & 72 & ⋯ & 5.270 & 67.260 & 3.240 & 4.690 & 32.270 & 37.290 & 1.520 & 0.030 & 1.61 & 14.59\\\\\n\t 9  & 0 & 50 &  6.0 & 150 &  79.0 & 35.11111 & 142 &  95 & 88 & ⋯ & 3.970 & 67.590 & 4.220 & 4.420 & 27.990 & 41.190 & 2.180 & 0.050 & 1.55 & 13.26\\\\\n\t 10 & 1 & 53 &  5.5 & 172 &  88.2 & 29.81341 & 120 &  80 & 60 & ⋯ & 4.480 & 68.880 & 4.040 & 3.860 & 28.110 & 43.200 & 2.230 & 0.020 & 2.30 & 13.11\\\\\n\t 11 & 1 & 83 &  6.0 & 168 &  59.0 & 20.90420 & 134 &  60 & 89 & ⋯ & 4.620 & 66.510 & 4.250 & 4.780 & 28.500 & 40.140 & 1.960 & 0.030 & 1.72 & 14.21\\\\\n\t 12 & 1 & 59 &  5.5 & 157 &  70.0 & 28.39872 & 120 &  85 & 90 & ⋯ & 3.470 & 66.740 & 5.030 & 3.450 & 26.590 & 42.620 & 2.580 & 0.020 & 2.02 & 13.52\\\\\n\t 13 & 1 & 79 &  7.0 & 161 &  73.0 & 28.16249 & 120 &  81 & 73 & ⋯ & 4.780 & 67.400 & 3.720 & 4.760 & 29.470 & 39.760 & 1.910 & 0.060 & 1.93 & 14.28\\\\\n\t 14 & 1 & 61 &  7.0 & 172 &  82.0 & 27.71769 & 137 &  94 & 85 & ⋯ & 4.550 & 67.880 & 4.640 & 4.060 & 28.160 & 42.470 & 2.380 & 0.030 & 1.93 & 13.42\\\\\n\t 15 & 1 & 79 &  8.0 & 167 &  63.0 & 22.58955 & 188 &  84 & 74 & ⋯ & 4.700 & 67.590 & 3.430 & 5.280 & 33.520 & 35.450 & 1.470 & 0.020 & 1.24 & 14.35\\\\\n\t 16 & 1 & 75 & 10.0 & 165 &  57.0 & 20.93664 & 120 &  72 & 66 & ⋯ & 5.200 & 66.370 & 4.220 & 4.470 & 29.360 & 39.770 & 2.190 & 0.030 & 2.99 & 14.47\\\\\n\t 17 & 1 & 58 & 10.0 & 162 & 102.0 & 38.86603 & 132 &  81 & 68 & ⋯ & 4.010 & 67.880 & 4.340 & 4.340 & 29.100 & 40.840 & 1.950 & 0.030 & 1.99 & 13.02\\\\\n\t 18 & 1 & 65 & 11.0 & 171 & 102.6 & 35.08772 & 136 &  92 & 80 & ⋯ & 3.935 & 66.575 & 4.445 & 4.435 & 28.225 & 39.670 & 2.625 & 0.035 & 2.11 & 14.64\\\\\n\t 19 & 0 & 64 & 10.5 & 167 &  62.0 & 22.23099 & 112 &  75 & 66 & ⋯ & 3.860 & 68.260 & 4.280 & 3.680 & 28.570 & 42.040 & 2.110 & 0.020 & 2.34 & 13.59\\\\\n\t 20 & 0 & 66 & 10.0 & 165 &  73.0 & 26.81359 & 135 &  57 & 72 & ⋯ & 4.710 & 65.305 & 4.735 & 4.335 & 29.245 & 38.985 & 2.185 & 0.030 & 2.19 & 15.15\\\\\n\t 21 & 1 & 70 & 11.0 & 170 & 101.2 & 35.01730 & 135 &  85 & 74 & ⋯ & 4.040 & 67.120 & 4.740 & 4.560 & 28.570 & 40.240 & 2.530 & 0.040 & 2.38 & 13.10\\\\\n\t 22 & 0 & 65 & 10.0 & 158 &  69.0 & 27.63980 & 129 &  77 & 66 & ⋯ & 4.930 & 66.620 & 4.270 & 4.590 & 29.240 & 39.910 & 2.080 & 0.030 & 1.69 & 14.11\\\\\n\t 23 & 1 & 62 & 11.5 & 169 &  66.0 & 23.10843 & 150 & 105 & 78 & ⋯ &    NA &     NA &    NA &    NA &     NA &     NA &    NA &    NA &   NA &    NA\\\\\n\t 24 & 0 & 76 & 13.0 & 165 &  56.5 & 20.75298 & 130 &  70 & 70 & ⋯ & 4.390 & 67.560 & 3.590 & 4.550 & 28.810 & 40.410 & 1.770 & 0.040 & 1.38 & 14.83\\\\\n\t 25 & 1 & 68 & 13.0 & 170 &  88.0 & 30.44983 & 150 &  90 & 70 & ⋯ &    NA &     NA &    NA &    NA &     NA &     NA &    NA &    NA &   NA &    NA\\\\\n\t 26 & 0 & 55 & 11.5 & 162 &  57.0 & 21.71925 & 103 &  66 & 74 & ⋯ & 5.280 & 67.780 & 4.210 & 4.710 & 29.210 & 41.010 & 2.340 & 0.020 & 2.03 & 13.33\\\\\n\t 27 & 0 & 79 & 12.0 & 172 &  60.0 & 20.28123 & 100 &  60 & 65 & ⋯ &    NA &     NA &    NA &    NA &     NA &     NA &    NA &    NA &   NA &    NA\\\\\n\t 28 & 0 & 69 & 13.0 & 160 &  60.0 & 23.43750 & 133 &  76 & 79 & ⋯ & 4.620 & 67.430 & 4.360 & 4.160 & 29.580 & 40.480 & 2.190 & 0.020 & 2.27 & 13.54\\\\\n\t 29 & 1 & 75 & 11.0 & 162 &  75.0 & 28.57796 & 118 &  75 & 75 & ⋯ &    NA &     NA &    NA &    NA &     NA &     NA &    NA &    NA &   NA &    NA\\\\\n\t 30 & 1 & 68 & 13.0 & 165 &  77.8 & 28.57668 & 134 &  76 & 81 & ⋯ & 4.290 & 66.840 & 4.380 & 3.910 & 28.190 & 41.210 & 2.200 & 0.020 & 2.36 & 14.45\\\\\n\t 31 & 0 & 64 & 11.5 & 176 &  68.8 & 22.21074 & 128 &  78 & 73 & ⋯ & 5.220 & 66.870 & 3.580 & 4.280 & 29.690 & 40.060 & 1.640 & 0.020 & 1.55 & 14.70\\\\\n\t 32 & 0 & 62 & 13.0 & 161 &  90.0 & 34.72088 & 140 & 100 & 74 & ⋯ &    NA &     NA &    NA &    NA &     NA &     NA &    NA &    NA &   NA &    NA\\\\\n\t 33 & 1 & 67 & 13.0 & 165 &  78.0 & 28.65014 & 165 &  82 & 76 & ⋯ & 3.890 & 67.440 & 4.290 & 4.210 & 28.160 & 41.210 & 2.040 & 0.030 & 2.26 & 15.06\\\\\n\t 34 & 1 & 64 & 12.0 & 161 &  89.0 & 34.33510 & 140 &  86 & 54 & ⋯ & 3.270 & 65.600 & 5.290 & 3.380 & 24.700 & 43.560 & 2.520 & 0.060 & 2.73 & 13.89\\\\\n\t 35 & 0 & 54 & 11.5 & 167 &  67.0 & 24.02381 & 146 &  96 & 68 & ⋯ &    NA &     NA &    NA &    NA &     NA &     NA &    NA &    NA &   NA &    NA\\\\\n\t 36 & 1 & 67 & 12.0 & 159 &  72.0 & 28.47989 & 126 &  68 & 84 & ⋯ & 4.000 & 67.710 & 5.350 & 4.200 & 29.860 & 40.350 & 2.650 & 0.020 & 1.55 & 13.37\\\\\n\t 37 & 1 & 69 & 11.5 & 154 &  87.6 & 36.93709 & 147 &  89 & 68 & ⋯ &    NA &     NA &    NA &    NA &     NA &     NA &    NA &    NA &   NA &    NA\\\\\n\t 38 & 0 & 60 & 12.0 & 165 &  74.0 & 27.18090 & 120 &  70 & 75 & ⋯ &    NA &     NA &    NA &    NA &     NA &     NA &    NA &    NA &   NA &    NA\\\\\n\\end{tabular}\n",
            "text/plain": [
              "   Vial.number Group Age Plasma.volume Ht  Wt    BMI      Sys Dia PR ⋯ G1.LDLi\n",
              "1  1           0     63   6.5          163  84.0 31.61579 125  76 67 ⋯ 4.090  \n",
              "2  2           0     47   5.5          179 111.0 34.64311 125  82 65 ⋯    NA  \n",
              "3  3           1     57   7.0          164  80.0 29.74420 132  80 92 ⋯ 5.160  \n",
              "4  4           1     72   5.0          160  58.8 22.96875 130  90 68 ⋯ 3.950  \n",
              "5  5           1     57   5.0          180  71.0 21.91358 135  75 70 ⋯ 4.630  \n",
              "6  6           1     79   6.2          160  64.0 25.00000 110  75 66 ⋯ 4.050  \n",
              "7  7           1     61   6.5          164  67.0 24.91077 124  82 84 ⋯ 4.100  \n",
              "8  8           1     70   5.5          162  61.0 23.24341 135  78 72 ⋯ 5.270  \n",
              "9  9           0     50   6.0          150  79.0 35.11111 142  95 88 ⋯ 3.970  \n",
              "10 10          1     53   5.5          172  88.2 29.81341 120  80 60 ⋯ 4.480  \n",
              "11 11          1     83   6.0          168  59.0 20.90420 134  60 89 ⋯ 4.620  \n",
              "12 12          1     59   5.5          157  70.0 28.39872 120  85 90 ⋯ 3.470  \n",
              "13 13          1     79   7.0          161  73.0 28.16249 120  81 73 ⋯ 4.780  \n",
              "14 14          1     61   7.0          172  82.0 27.71769 137  94 85 ⋯ 4.550  \n",
              "15 15          1     79   8.0          167  63.0 22.58955 188  84 74 ⋯ 4.700  \n",
              "16 16          1     75  10.0          165  57.0 20.93664 120  72 66 ⋯ 5.200  \n",
              "17 17          1     58  10.0          162 102.0 38.86603 132  81 68 ⋯ 4.010  \n",
              "18 18          1     65  11.0          171 102.6 35.08772 136  92 80 ⋯ 3.935  \n",
              "19 19          0     64  10.5          167  62.0 22.23099 112  75 66 ⋯ 3.860  \n",
              "20 20          0     66  10.0          165  73.0 26.81359 135  57 72 ⋯ 4.710  \n",
              "21 21          1     70  11.0          170 101.2 35.01730 135  85 74 ⋯ 4.040  \n",
              "22 22          0     65  10.0          158  69.0 27.63980 129  77 66 ⋯ 4.930  \n",
              "23 23          1     62  11.5          169  66.0 23.10843 150 105 78 ⋯    NA  \n",
              "24 24          0     76  13.0          165  56.5 20.75298 130  70 70 ⋯ 4.390  \n",
              "25 25          1     68  13.0          170  88.0 30.44983 150  90 70 ⋯    NA  \n",
              "26 26          0     55  11.5          162  57.0 21.71925 103  66 74 ⋯ 5.280  \n",
              "27 27          0     79  12.0          172  60.0 20.28123 100  60 65 ⋯    NA  \n",
              "28 28          0     69  13.0          160  60.0 23.43750 133  76 79 ⋯ 4.620  \n",
              "29 29          1     75  11.0          162  75.0 28.57796 118  75 75 ⋯    NA  \n",
              "30 30          1     68  13.0          165  77.8 28.57668 134  76 81 ⋯ 4.290  \n",
              "31 31          0     64  11.5          176  68.8 22.21074 128  78 73 ⋯ 5.220  \n",
              "32 32          0     62  13.0          161  90.0 34.72088 140 100 74 ⋯    NA  \n",
              "33 33          1     67  13.0          165  78.0 28.65014 165  82 76 ⋯ 3.890  \n",
              "34 34          1     64  12.0          161  89.0 34.33510 140  86 54 ⋯ 3.270  \n",
              "35 35          0     54  11.5          167  67.0 24.02381 146  96 68 ⋯    NA  \n",
              "36 36          1     67  12.0          159  72.0 28.47989 126  68 84 ⋯ 4.000  \n",
              "37 37          1     69  11.5          154  87.6 36.93709 147  89 68 ⋯    NA  \n",
              "38 38          0     60  12.0          165  74.0 27.18090 120  70 75 ⋯    NA  \n",
              "   G2.LDLi G3.LDLi S0.LDLi S1.LDLi S2.LDLi S3.LDLi B.LDLi F.LDLi HM.LDLi\n",
              "1  68.910  3.570   3.980   28.180  42.460  1.950   0.020  1.67   13.02  \n",
              "2      NA     NA      NA       NA      NA     NA      NA    NA      NA  \n",
              "3  68.220  3.110   4.640   30.430  39.860  1.560   0.020  1.69   14.16  \n",
              "4  68.030  4.500   3.780   29.370  41.130  2.200   0.020  1.89   13.89  \n",
              "5  66.910  4.030   4.440   28.540  40.640  1.950   0.020  2.03   14.25  \n",
              "6  64.010  5.270   3.720   26.710  40.390  2.510   0.020  2.70   16.06  \n",
              "7  65.990  4.700   4.030   28.440  39.990  2.330   0.020  1.61   13.82  \n",
              "8  67.260  3.240   4.690   32.270  37.290  1.520   0.030  1.61   14.59  \n",
              "9  67.590  4.220   4.420   27.990  41.190  2.180   0.050  1.55   13.26  \n",
              "10 68.880  4.040   3.860   28.110  43.200  2.230   0.020  2.30   13.11  \n",
              "11 66.510  4.250   4.780   28.500  40.140  1.960   0.030  1.72   14.21  \n",
              "12 66.740  5.030   3.450   26.590  42.620  2.580   0.020  2.02   13.52  \n",
              "13 67.400  3.720   4.760   29.470  39.760  1.910   0.060  1.93   14.28  \n",
              "14 67.880  4.640   4.060   28.160  42.470  2.380   0.030  1.93   13.42  \n",
              "15 67.590  3.430   5.280   33.520  35.450  1.470   0.020  1.24   14.35  \n",
              "16 66.370  4.220   4.470   29.360  39.770  2.190   0.030  2.99   14.47  \n",
              "17 67.880  4.340   4.340   29.100  40.840  1.950   0.030  1.99   13.02  \n",
              "18 66.575  4.445   4.435   28.225  39.670  2.625   0.035  2.11   14.64  \n",
              "19 68.260  4.280   3.680   28.570  42.040  2.110   0.020  2.34   13.59  \n",
              "20 65.305  4.735   4.335   29.245  38.985  2.185   0.030  2.19   15.15  \n",
              "21 67.120  4.740   4.560   28.570  40.240  2.530   0.040  2.38   13.10  \n",
              "22 66.620  4.270   4.590   29.240  39.910  2.080   0.030  1.69   14.11  \n",
              "23     NA     NA      NA       NA      NA     NA      NA    NA      NA  \n",
              "24 67.560  3.590   4.550   28.810  40.410  1.770   0.040  1.38   14.83  \n",
              "25     NA     NA      NA       NA      NA     NA      NA    NA      NA  \n",
              "26 67.780  4.210   4.710   29.210  41.010  2.340   0.020  2.03   13.33  \n",
              "27     NA     NA      NA       NA      NA     NA      NA    NA      NA  \n",
              "28 67.430  4.360   4.160   29.580  40.480  2.190   0.020  2.27   13.54  \n",
              "29     NA     NA      NA       NA      NA     NA      NA    NA      NA  \n",
              "30 66.840  4.380   3.910   28.190  41.210  2.200   0.020  2.36   14.45  \n",
              "31 66.870  3.580   4.280   29.690  40.060  1.640   0.020  1.55   14.70  \n",
              "32     NA     NA      NA       NA      NA     NA      NA    NA      NA  \n",
              "33 67.440  4.290   4.210   28.160  41.210  2.040   0.030  2.26   15.06  \n",
              "34 65.600  5.290   3.380   24.700  43.560  2.520   0.060  2.73   13.89  \n",
              "35     NA     NA      NA       NA      NA     NA      NA    NA      NA  \n",
              "36 67.710  5.350   4.200   29.860  40.350  2.650   0.020  1.55   13.37  \n",
              "37     NA     NA      NA       NA      NA     NA      NA    NA      NA  \n",
              "38     NA     NA      NA       NA      NA     NA      NA    NA      NA  "
            ]
          },
          "metadata": {}
        }
      ]
    },
    {
      "cell_type": "code",
      "source": [
        "summary(data)"
      ],
      "metadata": {
        "colab": {
          "base_uri": "https://localhost:8080/",
          "height": 1000
        },
        "id": "judbgODwDO3V",
        "outputId": "5001e9c6-e4c5-48dd-b1d6-ddaf29747bec"
      },
      "execution_count": 32,
      "outputs": [
        {
          "output_type": "display_data",
          "data": {
            "text/plain": [
              " Vial.number           Group                Age        Plasma.volume   \n",
              " Length:38          Length:38          Min.   :47.00   Min.   : 5.000  \n",
              " Class :character   Class :character   1st Qu.:60.25   1st Qu.: 6.500  \n",
              " Mode  :character   Mode  :character   Median :65.00   Median :10.250  \n",
              "                                       Mean   :65.58   Mean   : 9.453  \n",
              "                                       3rd Qu.:70.00   3rd Qu.:11.875  \n",
              "                                       Max.   :83.00   Max.   :13.000  \n",
              "                                                                       \n",
              "       Ht              Wt              BMI             Sys       \n",
              " Min.   :150.0   Min.   : 56.50   Min.   :20.28   Min.   :100.0  \n",
              " 1st Qu.:161.0   1st Qu.: 63.25   1st Qu.:23.00   1st Qu.:121.0  \n",
              " Median :165.0   Median : 72.50   Median :27.68   Median :132.0  \n",
              " Mean   :165.0   Mean   : 74.86   Mean   :27.55   Mean   :131.7  \n",
              " 3rd Qu.:168.8   3rd Qu.: 83.50   3rd Qu.:30.29   3rd Qu.:136.8  \n",
              " Max.   :180.0   Max.   :111.00   Max.   :38.87   Max.   :188.0  \n",
              "                                                                 \n",
              "      Dia               PR             Sm                 Dm           \n",
              " Min.   : 57.00   Min.   :54.00   Length:38          Length:38         \n",
              " 1st Qu.: 75.00   1st Qu.:68.00   Class :character   Class :character  \n",
              " Median : 80.00   Median :73.00   Mode  :character   Mode  :character  \n",
              " Mean   : 80.08   Mean   :73.66                                        \n",
              " 3rd Qu.: 85.75   3rd Qu.:78.75                                        \n",
              " Max.   :105.00   Max.   :92.00                                        \n",
              "                                                                       \n",
              "      HT                LVH                IHD                 MI           \n",
              " Length:38          Length:38          Length:38          Length:38         \n",
              " Class :character   Class :character   Class :character   Class :character  \n",
              " Mode  :character   Mode  :character   Mode  :character   Mode  :character  \n",
              "                                                                            \n",
              "                                                                            \n",
              "                                                                            \n",
              "                                                                            \n",
              "     Str                A_C                A_H                A_D           \n",
              " Length:38          Length:38          Length:38          Length:38         \n",
              " Class :character   Class :character   Class :character   Class :character  \n",
              " Mode  :character   Mode  :character   Mode  :character   Mode  :character  \n",
              "                                                                            \n",
              "                                                                            \n",
              "                                                                            \n",
              "                                                                            \n",
              "   Choi...21        Tgi...22        HDLi...23        LDLi...24    \n",
              " Min.   :164.0   Min.   : 35.00   Min.   : 38.60   Min.   : 61.1  \n",
              " 1st Qu.:208.5   1st Qu.: 82.75   1st Qu.: 51.45   1st Qu.:113.2  \n",
              " Median :240.0   Median :115.50   Median : 62.40   Median :152.0  \n",
              " Mean   :240.6   Mean   :123.39   Mean   : 63.80   Mean   :152.3  \n",
              " 3rd Qu.:270.0   3rd Qu.:145.25   3rd Qu.: 68.38   3rd Qu.:188.0  \n",
              " Max.   :322.0   Max.   :317.00   Max.   :108.00   Max.   :236.0  \n",
              "                                                                  \n",
              "   Choi...25        Tgi...26        HDLi...27       LDLi...28    \n",
              " Min.   :4.260   Min.   :0.3846   Min.   :1.003   Min.   :1.587  \n",
              " 1st Qu.:5.416   1st Qu.:0.9093   1st Qu.:1.336   1st Qu.:2.942  \n",
              " Median :6.234   Median :1.2692   Median :1.621   Median :3.948  \n",
              " Mean   :6.249   Mean   :1.3560   Mean   :1.657   Mean   :3.957  \n",
              " 3rd Qu.:7.013   3rd Qu.:1.5962   3rd Qu.:1.776   3rd Qu.:4.883  \n",
              " Max.   :8.364   Max.   :3.4835   Max.   :2.805   Max.   :6.130  \n",
              "                                                                 \n",
              "       AI           r.lat.min        r.ant.min       r.pos.min     \n",
              " Min.   :0.5657   Min.   :0.4200   Min.   :0.460   Min.   :0.4600  \n",
              " 1st Qu.:1.8497   1st Qu.:0.6050   1st Qu.:0.570   1st Qu.:0.6200  \n",
              " Median :2.3405   Median :0.7000   Median :0.690   Median :0.7200  \n",
              " Mean   :2.5670   Mean   :0.6816   Mean   :0.695   Mean   :0.7142  \n",
              " 3rd Qu.:3.2252   3rd Qu.:0.7475   3rd Qu.:0.800   3rd Qu.:0.8000  \n",
              " Max.   :4.4595   Max.   :1.0000   Max.   :1.030   Max.   :1.1000  \n",
              "                                                                   \n",
              "   l.lat.min        l.ant.min        l.pos.min        r.lat.max     \n",
              " Min.   :0.3700   Min.   :0.4400   Min.   :0.4100   Min.   :0.5600  \n",
              " 1st Qu.:0.5400   1st Qu.:0.5725   1st Qu.:0.6000   1st Qu.:0.7500  \n",
              " Median :0.7000   Median :0.6950   Median :0.7050   Median :0.9000  \n",
              " Mean   :0.6871   Mean   :0.6903   Mean   :0.7237   Mean   :0.8803  \n",
              " 3rd Qu.:0.8000   3rd Qu.:0.8000   3rd Qu.:0.8000   3rd Qu.:1.0000  \n",
              " Max.   :0.9000   Max.   :1.0000   Max.   :1.0000   Max.   :1.2500  \n",
              "                                                                    \n",
              "   r.ant.max        r.pos.max        l.lat.max        l.ant.max     \n",
              " Min.   :0.6200   Min.   :0.6500   Min.   :0.5800   Min.   :0.5600  \n",
              " 1st Qu.:0.8000   1st Qu.:0.8225   1st Qu.:0.8000   1st Qu.:0.7425  \n",
              " Median :0.9150   Median :0.9550   Median :0.8550   Median :0.8800  \n",
              " Mean   :0.9355   Mean   :0.9411   Mean   :0.8874   Mean   :0.8887  \n",
              " 3rd Qu.:1.0300   3rd Qu.:1.0300   3rd Qu.:1.0225   3rd Qu.:1.0150  \n",
              " Max.   :1.3200   Max.   :1.2500   Max.   :1.3200   Max.   :1.3000  \n",
              "                                                                    \n",
              "   l.pos.max      carotid.IMT.mean    Plaque            Statins         \n",
              " Min.   :0.6000   Min.   :0.5833   Length:38          Length:38         \n",
              " 1st Qu.:0.8125   1st Qu.:0.7202   Class :character   Class :character  \n",
              " Median :0.9600   Median :0.8250   Mode  :character   Mode  :character  \n",
              " Mean   :0.9650   Mean   :0.8075                                        \n",
              " 3rd Qu.:1.0900   3rd Qu.:0.8804                                        \n",
              " Max.   :1.6000   Max.   :1.0983                                        \n",
              "                                                                        \n",
              "     GPHDL1           GPHDL2          GPHDL3           GPHDL4       \n",
              " Min.   :0.3000   Min.   :1.300   Min.   :0.1400   Min.   :0.03000  \n",
              " 1st Qu.:0.4100   1st Qu.:1.970   1st Qu.:0.2050   1st Qu.:0.05000  \n",
              " Median :0.4500   Median :2.380   Median :0.2300   Median :0.06000  \n",
              " Mean   :0.4604   Mean   :2.432   Mean   :0.2407   Mean   :0.07006  \n",
              " 3rd Qu.:0.5100   3rd Qu.:2.900   3rd Qu.:0.2950   3rd Qu.:0.08000  \n",
              " Max.   :0.7233   Max.   :3.860   Max.   :0.4600   Max.   :0.17000  \n",
              " NA's   :11       NA's   :11      NA's   :11       NA's   :11       \n",
              "     GPHDL5           GPHDL6          GPHDL7          GPHDL8     \n",
              " Min.   :0.5900   Min.   :2.270   Min.   :1.570   Min.   :2.570  \n",
              " 1st Qu.:0.7500   1st Qu.:2.752   1st Qu.:1.715   1st Qu.:3.070  \n",
              " Median :0.8400   Median :2.900   Median :2.067   Median :3.510  \n",
              " Mean   :0.8518   Mean   :2.860   Mean   :2.112   Mean   :3.483  \n",
              " 3rd Qu.:0.9700   3rd Qu.:3.005   3rd Qu.:2.420   3rd Qu.:3.805  \n",
              " Max.   :1.1833   Max.   :3.190   Max.   :3.560   Max.   :4.360  \n",
              " NA's   :11       NA's   :11      NA's   :11      NA's   :11     \n",
              "     GPHDL9         GPHDL10         GPHDL11         GPHDL12      \n",
              " Min.   :4.200   Min.   :18.15   Min.   :3.050   Min.   :0.2300  \n",
              " 1st Qu.:5.465   1st Qu.:19.80   1st Qu.:3.435   1st Qu.:0.5300  \n",
              " Median :5.860   Median :21.22   Median :3.570   Median :0.7100  \n",
              " Mean   :5.830   Mean   :20.98   Mean   :3.593   Mean   :0.6829  \n",
              " 3rd Qu.:6.235   3rd Qu.:21.93   3rd Qu.:3.762   3rd Qu.:0.7850  \n",
              " Max.   :7.230   Max.   :24.32   Max.   :4.330   Max.   :1.2200  \n",
              " NA's   :11      NA's   :11      NA's   :11      NA's   :11      \n",
              "    GPHDL13         GPHDL14         GPHDL15         GPHDL16     \n",
              " Min.   :4.650   Min.   :23.40   Min.   :2.230   Min.   :2.560  \n",
              " 1st Qu.:6.162   1st Qu.:26.02   1st Qu.:2.595   1st Qu.:3.140  \n",
              " Median :6.650   Median :26.66   Median :2.860   Median :3.320  \n",
              " Mean   :6.563   Mean   :26.64   Mean   :2.854   Mean   :3.338  \n",
              " 3rd Qu.:6.885   3rd Qu.:27.54   3rd Qu.:3.030   3rd Qu.:3.560  \n",
              " Max.   :8.460   Max.   :29.87   Max.   :3.690   Max.   :3.860  \n",
              " NA's   :11      NA's   :11      NA's   :11      NA's   :11     \n",
              "    GPHDL17         GPHDL18         GPHDL19         GPHDL20     \n",
              " Min.   :0.930   Min.   :0.920   Min.   :1.670   Min.   :4.650  \n",
              " 1st Qu.:1.080   1st Qu.:1.130   1st Qu.:2.233   1st Qu.:5.720  \n",
              " Median :1.220   Median :1.410   Median :2.490   Median :6.800  \n",
              " Mean   :1.227   Mean   :1.329   Mean   :2.502   Mean   :6.872  \n",
              " 3rd Qu.:1.340   3rd Qu.:1.540   3rd Qu.:2.810   3rd Qu.:7.735  \n",
              " Max.   :1.720   Max.   :1.670   Max.   :3.190   Max.   :9.220  \n",
              " NA's   :11      NA's   :11      NA's   :11      NA's   :11     \n",
              "    GPHDL21         GPHDL22       sum_auc.HDLi       LB.HDLi     \n",
              " Min.   :1.450   Min.   :1.130   Min.   : 99.98   Min.   :68.87  \n",
              " 1st Qu.:1.750   1st Qu.:2.260   1st Qu.: 99.99   1st Qu.:71.81  \n",
              " Median :1.960   Median :3.030   Median : 99.99   Median :73.22  \n",
              " Mean   :2.016   Mean   :3.051   Mean   :100.00   Mean   :72.95  \n",
              " 3rd Qu.:2.262   3rd Qu.:3.780   3rd Qu.:100.01   3rd Qu.:74.09  \n",
              " Max.   :2.630   Max.   :5.280   Max.   :100.01   Max.   :77.10  \n",
              " NA's   :11      NA's   :11      NA's   :11       NA's   :11     \n",
              "    HB.HDLi         G1.HDLi         G2.HDLi         G3.HDLi     \n",
              " Min.   :14.41   Min.   :11.89   Min.   :56.02   Min.   :12.74  \n",
              " 1st Qu.:18.60   1st Qu.:13.15   1st Qu.:58.48   1st Qu.:16.21  \n",
              " Median :20.14   Median :13.73   Median :58.91   Median :17.54  \n",
              " Mean   :20.34   Mean   :13.80   Mean   :59.16   Mean   :17.83  \n",
              " 3rd Qu.:22.25   3rd Qu.:14.69   3rd Qu.:59.62   3rd Qu.:19.66  \n",
              " Max.   :25.78   Max.   :15.44   Max.   :62.10   Max.   :22.70  \n",
              " NA's   :11      NA's   :11      NA's   :11      NA's   :11     \n",
              "    S0.HDLi         S1.HDLi         S2.HDLi         S3.HDLi     \n",
              " Min.   :2.870   Min.   :29.13   Min.   :38.21   Min.   : 7.93  \n",
              " 1st Qu.:3.010   1st Qu.:31.45   1st Qu.:40.95   1st Qu.:10.63  \n",
              " Median :3.750   Median :33.68   Median :41.78   Median :11.67  \n",
              " Mean   :3.735   Mean   :33.16   Mean   :41.95   Mean   :11.94  \n",
              " 3rd Qu.:4.145   3rd Qu.:34.76   3rd Qu.:43.15   3rd Qu.:13.34  \n",
              " Max.   :5.770   Max.   :37.03   Max.   :44.60   Max.   :16.46  \n",
              " NA's   :11      NA's   :11      NA's   :11      NA's   :11     \n",
              "     B.HDLi            F.HDLi          HM.HDLi          GPLDL1      \n",
              " Min.   :0.03000   Min.   : 4.640   Min.   :1.530   Min.   :0.2400  \n",
              " 1st Qu.:0.05000   1st Qu.: 6.015   1st Qu.:2.700   1st Qu.:0.3200  \n",
              " Median :0.06000   Median : 7.250   Median :3.025   Median :0.3900  \n",
              " Mean   :0.07006   Mean   : 7.133   Mean   :3.115   Mean   :0.3819  \n",
              " 3rd Qu.:0.08000   3rd Qu.: 8.000   3rd Qu.:3.830   3rd Qu.:0.4400  \n",
              " Max.   :0.17000   Max.   :10.070   Max.   :5.080   Max.   :0.5200  \n",
              " NA's   :11        NA's   :11       NA's   :11      NA's   :9       \n",
              "     GPLDL2          GPLDL3           GPLDL4            GPLDL5     \n",
              " Min.   :6.500   Min.   :0.1400   Min.   :0.02000   Min.   :0.870  \n",
              " 1st Qu.:7.370   1st Qu.:0.2200   1st Qu.:0.02000   1st Qu.:0.970  \n",
              " Median :7.930   Median :0.2500   Median :0.02000   Median :1.070  \n",
              " Mean   :7.858   Mean   :0.2583   Mean   :0.02845   Mean   :1.055  \n",
              " 3rd Qu.:8.260   3rd Qu.:0.3100   3rd Qu.:0.03000   3rd Qu.:1.120  \n",
              " Max.   :9.680   Max.   :0.3900   Max.   :0.06000   Max.   :1.250  \n",
              " NA's   :9       NA's   :9        NA's   :9         NA's   :9      \n",
              "     GPLDL6          GPLDL7          GPLDL8          GPLDL9     \n",
              " Min.   :3.470   Min.   :1.990   Min.   :1.880   Min.   :6.930  \n",
              " 1st Qu.:3.830   1st Qu.:2.320   1st Qu.:2.380   1st Qu.:7.290  \n",
              " Median :4.100   Median :2.610   Median :2.740   Median :7.670  \n",
              " Mean   :4.117   Mean   :2.542   Mean   :2.672   Mean   :7.761  \n",
              " 3rd Qu.:4.380   3rd Qu.:2.690   3rd Qu.:2.940   3rd Qu.:7.960  \n",
              " Max.   :4.960   Max.   :3.330   Max.   :3.300   Max.   :9.070  \n",
              " NA's   :9       NA's   :9       NA's   :9       NA's   :9      \n",
              "    GPLDL10         GPLDL11         GPLDL12         GPLDL13     \n",
              " Min.   :22.82   Min.   :2.070   Min.   :1.540   Min.   :2.550  \n",
              " 1st Qu.:25.70   1st Qu.:2.260   1st Qu.:1.800   1st Qu.:3.030  \n",
              " Median :26.07   Median :2.370   Median :2.005   Median :3.390  \n",
              " Mean   :26.18   Mean   :2.387   Mean   :2.067   Mean   :3.456  \n",
              " 3rd Qu.:26.64   3rd Qu.:2.500   3rd Qu.:2.260   3rd Qu.:3.820  \n",
              " Max.   :30.77   Max.   :2.890   Max.   :2.860   Max.   :4.940  \n",
              " NA's   :9       NA's   :9       NA's   :9       NA's   :9      \n",
              "    GPLDL14         GPLDL15         GPLDL16         GPLDL17       \n",
              " Min.   :30.07   Min.   :0.590   Min.   :0.890   Min.   :0.06000  \n",
              " 1st Qu.:33.38   1st Qu.:0.900   1st Qu.:1.020   1st Qu.:0.08000  \n",
              " Median :33.92   Median :0.985   Median :1.300   Median :0.09500  \n",
              " Mean   :33.95   Mean   :1.021   Mean   :1.307   Mean   :0.09707  \n",
              " 3rd Qu.:34.80   3rd Qu.:1.110   3rd Qu.:1.430   3rd Qu.:0.11000  \n",
              " Max.   :36.97   Max.   :1.340   Max.   :1.920   Max.   :0.16000  \n",
              " NA's   :9       NA's   :9       NA's   :9       NA's   :9        \n",
              "    GPLDL18          GPLDL19          GPLDL20         GPLDL21      \n",
              " Min.   :0.2400   Min.   :0.2700   Min.   :0.890   Min.   :0.2600  \n",
              " 1st Qu.:0.2900   1st Qu.:0.3400   1st Qu.:0.980   1st Qu.:0.3100  \n",
              " Median :0.3300   Median :0.3900   Median :1.210   Median :0.3700  \n",
              " Mean   :0.3383   Mean   :0.3986   Mean   :1.278   Mean   :0.3776  \n",
              " 3rd Qu.:0.3600   3rd Qu.:0.4700   3rd Qu.:1.470   3rd Qu.:0.4100  \n",
              " Max.   :0.5000   Max.   :0.6200   Max.   :2.010   Max.   :0.6200  \n",
              " NA's   :9        NA's   :9        NA's   :9       NA's   :9       \n",
              "    GPLDL22        sum_auc.LDLi       LB.LDLi         HB.LDLi    \n",
              " Min.   :0.1000   Min.   : 99.98   Min.   :68.06   Min.   :3.11  \n",
              " 1st Qu.:0.3000   1st Qu.: 99.99   1st Qu.:71.13   1st Qu.:4.03  \n",
              " Median :0.4500   Median :100.00   Median :71.71   Median :4.28  \n",
              " Mean   :0.4736   Mean   :100.00   Mean   :71.54   Mean   :4.27  \n",
              " 3rd Qu.:0.6200   3rd Qu.:100.01   3rd Qu.:72.18   3rd Qu.:4.64  \n",
              " Max.   :0.9800   Max.   :100.02   Max.   :73.38   Max.   :5.35  \n",
              " NA's   :9        NA's   :9        NA's   :9       NA's   :9     \n",
              "    G1.LDLi         G2.LDLi         G3.LDLi        S0.LDLi         S1.LDLi     \n",
              " Min.   :3.270   Min.   :64.01   Min.   :3.11   Min.   :3.380   Min.   :24.70  \n",
              " 1st Qu.:4.000   1st Qu.:66.62   1st Qu.:4.03   1st Qu.:3.980   1st Qu.:28.18  \n",
              " Median :4.390   Median :67.40   Median :4.28   Median :4.335   Median :28.57  \n",
              " Mean   :4.395   Mean   :67.15   Mean   :4.27   Mean   :4.266   Mean   :28.85  \n",
              " 3rd Qu.:4.710   3rd Qu.:67.78   3rd Qu.:4.64   3rd Qu.:4.560   3rd Qu.:29.37  \n",
              " Max.   :5.280   Max.   :68.91   Max.   :5.35   Max.   :5.280   Max.   :33.52  \n",
              " NA's   :9       NA's   :9       NA's   :9      NA's   :9       NA's   :9      \n",
              "    S2.LDLi         S3.LDLi          B.LDLi            F.LDLi    \n",
              " Min.   :35.45   Min.   :1.470   Min.   :0.02000   Min.   :1.24  \n",
              " 1st Qu.:39.91   1st Qu.:1.950   1st Qu.:0.02000   1st Qu.:1.67  \n",
              " Median :40.41   Median :2.185   Median :0.02000   Median :1.99  \n",
              " Mean   :40.56   Mean   :2.129   Mean   :0.02845   Mean   :1.99  \n",
              " 3rd Qu.:41.21   3rd Qu.:2.340   3rd Qu.:0.03000   3rd Qu.:2.27  \n",
              " Max.   :43.56   Max.   :2.650   Max.   :0.06000   Max.   :2.99  \n",
              " NA's   :9       NA's   :9       NA's   :9         NA's   :9     \n",
              "    HM.LDLi     \n",
              " Min.   :13.02  \n",
              " 1st Qu.:13.42  \n",
              " Median :14.11  \n",
              " Mean   :14.04  \n",
              " 3rd Qu.:14.47  \n",
              " Max.   :16.06  \n",
              " NA's   :9      "
            ]
          },
          "metadata": {}
        }
      ]
    },
    {
      "cell_type": "code",
      "source": [
        "par(mfrow = c(1, 2)) # Расположение графиков\n",
        "hist(data$Wt, main = \"Вес\", xlab = \"Вес, кг\")\n",
        "hist(data$Ht, main = \"Гипертензия\", xlab = \"АГ\")"
      ],
      "metadata": {
        "colab": {
          "base_uri": "https://localhost:8080/",
          "height": 437
        },
        "id": "-tKuho-bRpyZ",
        "outputId": "088b2444-2dcd-421e-ffa5-1d456bb3abe4"
      },
      "execution_count": 61,
      "outputs": [
        {
          "output_type": "display_data",
          "data": {
            "text/plain": [
              "Plot with title “Гипертензия”"
            ],
            "image/png": "[encoded data removed]"
          },
          "metadata": {
            "image/png": {
              "width": 420,
              "height": 420
            }
          }
        }
      ]
    },
    {
      "cell_type": "code",
      "source": [
        "# Звисимость гипертензии от веса\n",
        "scatter.smooth(x=data$Wt, y=data$Ht,\n",
        "              main ='зависимость гипертензии от веса',\n",
        "              xlab = \"вес\",\n",
        "              ylab =  \"гипертензия\")"
      ],
      "metadata": {
        "colab": {
          "base_uri": "https://localhost:8080/",
          "height": 437
        },
        "id": "FVTs3ha_TCA_",
        "outputId": "04ec9737-c3fb-48c9-d514-b1bf10bf5e78"
      },
      "execution_count": 50,
      "outputs": [
        {
          "output_type": "display_data",
          "data": {
            "text/plain": [
              "Plot with title “зависимость гипертензии от веса”"
            ],
            "image/png": "[encoded data removed]"
          },
          "metadata": {
            "image/png": {
              "width": 420,
              "height": 420
            }
          }
        }
      ]
    },
    {
      "cell_type": "markdown",
      "source": [
        "**Вывод:** функция нелинейная, тем не менее отмечается зависимость гипертензии от увеличения веса"
      ],
      "metadata": {
        "id": "VkhGxgeuUFFr"
      }
    },
    {
      "cell_type": "code",
      "source": [
        "summary(data$Wt)"
      ],
      "metadata": {
        "colab": {
          "base_uri": "https://localhost:8080/",
          "height": 52
        },
        "id": "Oaz9JXkHYQMV",
        "outputId": "8721676d-db47-44a2-8b22-f7bd222d86d5"
      },
      "execution_count": 53,
      "outputs": [
        {
          "output_type": "display_data",
          "data": {
            "text/plain": [
              "   Min. 1st Qu.  Median    Mean 3rd Qu.    Max. \n",
              "  56.50   63.25   72.50   74.86   83.50  111.00 "
            ]
          },
          "metadata": {}
        }
      ]
    },
    {
      "cell_type": "code",
      "source": [
        "summary(data$Ht)"
      ],
      "metadata": {
        "colab": {
          "base_uri": "https://localhost:8080/",
          "height": 52
        },
        "id": "-WXdMGYCYaJm",
        "outputId": "16e0bba9-2a03-4f60-8edb-d21fbf236e39"
      },
      "execution_count": 54,
      "outputs": [
        {
          "output_type": "display_data",
          "data": {
            "text/plain": [
              "   Min. 1st Qu.  Median    Mean 3rd Qu.    Max. \n",
              "  150.0   161.0   165.0   165.0   168.8   180.0 "
            ]
          },
          "metadata": {}
        }
      ]
    },
    {
      "cell_type": "code",
      "source": [
        "par(mfrow = c(1, 2)) # Расположение графиков\n",
        "boxplot(data$Wt, main = \"вес\",\n",
        "        sub=paste(\"выбросы:\", boxplot.stats(data$Wt)$out))\n",
        "boxplot(data$Ht, main = \"гипертензия\",\n",
        "        sub=paste(\"выбросы:\", boxplot.stats(data$Ht)$out))"
      ],
      "metadata": {
        "colab": {
          "base_uri": "https://localhost:8080/",
          "height": 437
        },
        "id": "bFJY-3DhVlNs",
        "outputId": "3f7e404e-4800-4604-f0de-ab8557cde442"
      },
      "execution_count": 52,
      "outputs": [
        {
          "output_type": "display_data",
          "data": {
            "text/plain": [
              "Plot with title “гипертензия”"
            ],
            "image/png": "[encoded data removed]"
          },
          "metadata": {
            "image/png": {
              "width": 420,
              "height": 420
            }
          }
        }
      ]
    },
    {
      "cell_type": "markdown",
      "source": [
        "**boxplot.stats** не показал выбросов"
      ],
      "metadata": {
        "id": "MkQdBVt_Y6DG"
      }
    },
    {
      "cell_type": "code",
      "source": [
        "install.packages(\"e1071\")   # для постороения графиков плотности распределения"
      ],
      "metadata": {
        "colab": {
          "base_uri": "https://localhost:8080/"
        },
        "collapsed": true,
        "id": "COvRhVJhZhlL",
        "outputId": "1622d8d2-cb77-4586-cda8-28e6dacb4c34"
      },
      "execution_count": 56,
      "outputs": [
        {
          "output_type": "stream",
          "name": "stderr",
          "text": [
            "Installing package into ‘/usr/local/lib/R/site-library’\n",
            "(as ‘lib’ is unspecified)\n",
            "\n",
            "also installing the dependency ‘proxy’\n",
            "\n",
            "\n"
          ]
        }
      ]
    },
    {
      "cell_type": "code",
      "source": [
        "library(e1071)"
      ],
      "metadata": {
        "colab": {
          "base_uri": "https://localhost:8080/"
        },
        "collapsed": true,
        "id": "BVqxOqLXaLIy",
        "outputId": "daab226d-8c70-465d-d4f0-69f0e38f3414"
      },
      "execution_count": 57,
      "outputs": [
        {
          "output_type": "stream",
          "name": "stderr",
          "text": [
            "\n",
            "Attaching package: ‘e1071’\n",
            "\n",
            "\n",
            "The following objects are masked from ‘package:moments’:\n",
            "\n",
            "    kurtosis, moment, skewness\n",
            "\n",
            "\n"
          ]
        }
      ]
    },
    {
      "cell_type": "code",
      "source": [
        "par(mfrow = c(1, 2)) # Расположение графиков\n",
        "plot(density(data$Wt), main = \"График плотности: вес\", ylab = \"частота\", sub=paste(\"Ассиметрия:\", round(e1071::skewness(data$Wt), 2)))\n",
        "polygon(density(data$Wt), col = \"blue\")\n",
        "plot(density(data$Ht), main = \"График плотности: АГ\", ylab = \"частота\", sub=paste(\"Ассиметрия:\", round(e1071::skewness(data$Wt), 2)))\n",
        "polygon(density(data$Ht), col = \"red\")"
      ],
      "metadata": {
        "colab": {
          "base_uri": "https://localhost:8080/",
          "height": 437
        },
        "id": "XXsR0m_1aU3_",
        "outputId": "e4940c11-ad20-4c5b-df76-224c87bb3076"
      },
      "execution_count": 60,
      "outputs": [
        {
          "output_type": "display_data",
          "data": {
            "text/plain": [
              "Plot with title “График плотности: АГ”"
            ],
            "image/png": "[encoded data removed]"
          },
          "metadata": {
            "image/png": {
              "width": 420,
              "height": 420
            }
          }
        }
      ]
    },
    {
      "cell_type": "code",
      "source": [
        "cor(data$Wt, data$Ht) # значние корреляции"
      ],
      "metadata": {
        "colab": {
          "base_uri": "https://localhost:8080/",
          "height": 34
        },
        "id": "DB7FJmgie21K",
        "outputId": "102d11b3-a08b-4319-aab6-62e8de767e22"
      },
      "execution_count": 65,
      "outputs": [
        {
          "output_type": "display_data",
          "data": {
            "text/html": [
              "0.188885067310699"
            ],
            "text/markdown": "0.188885067310699",
            "text/latex": "0.188885067310699",
            "text/plain": [
              "[1] 0.1888851"
            ]
          },
          "metadata": {}
        }
      ]
    },
    {
      "cell_type": "markdown",
      "source": [
        "**Вывод:** как и пердполагалось, корреляция слабенькая"
      ],
      "metadata": {
        "id": "aEupqVvTgVJJ"
      }
    },
    {
      "cell_type": "markdown",
      "source": [
        "Посторим простенькую модель"
      ],
      "metadata": {
        "id": "n-oGGmRCgnbR"
      }
    },
    {
      "cell_type": "code",
      "source": [
        "linearMod <- lm(Ht ~ Wt, data = data)\n",
        "linearMod"
      ],
      "metadata": {
        "colab": {
          "base_uri": "https://localhost:8080/",
          "height": 139
        },
        "id": "73Fqw_g-gg_u",
        "outputId": "b2647151-1cc4-4d42-e801-5a94a30e5364"
      },
      "execution_count": 68,
      "outputs": [
        {
          "output_type": "display_data",
          "data": {
            "text/plain": [
              "\n",
              "Call:\n",
              "lm(formula = Ht ~ Wt, data = data)\n",
              "\n",
              "Coefficients:\n",
              "(Intercept)           Wt  \n",
              "   158.7421       0.0836  \n"
            ]
          },
          "metadata": {}
        }
      ]
    },
    {
      "cell_type": "code",
      "source": [
        "modelSummary = summary(linearMod)\n",
        "modelSummary"
      ],
      "metadata": {
        "colab": {
          "base_uri": "https://localhost:8080/",
          "height": 329
        },
        "id": "lhrlDID3h26d",
        "outputId": "6d5f7c4c-a3be-4db5-805b-9aaa57ce3e06"
      },
      "execution_count": 69,
      "outputs": [
        {
          "output_type": "display_data",
          "data": {
            "text/plain": [
              "\n",
              "Call:\n",
              "lm(formula = Ht ~ Wt, data = data)\n",
              "\n",
              "Residuals:\n",
              "     Min       1Q   Median       3Q      Max \n",
              "-15.3465  -3.8232  -0.2545   3.5291  15.3223 \n",
              "\n",
              "Coefficients:\n",
              "             Estimate Std. Error t value Pr(>|t|)    \n",
              "(Intercept) 158.74212    5.51723  28.772   <2e-16 ***\n",
              "Wt            0.08360    0.07244   1.154    0.256    \n",
              "---\n",
              "Signif. codes:  0 ‘***’ 0.001 ‘**’ 0.01 ‘*’ 0.05 ‘.’ 0.1 ‘ ’ 1\n",
              "\n",
              "Residual standard error: 6.279 on 36 degrees of freedom\n",
              "Multiple R-squared:  0.03568,\tAdjusted R-squared:  0.008891 \n",
              "F-statistic: 1.332 on 1 and 36 DF,  p-value: 0.2561\n"
            ]
          },
          "metadata": {}
        }
      ]
    },
    {
      "cell_type": "code",
      "source": [
        "# коэф. детерминации\n",
        "modelSummary$r.squared\n",
        "modelSummary$adj.r.squared"
      ],
      "metadata": {
        "colab": {
          "base_uri": "https://localhost:8080/",
          "height": 52
        },
        "id": "hr_zB1sDm0MY",
        "outputId": "5ff529d8-3fd4-4f7a-e739-868c33fbfe68"
      },
      "execution_count": 72,
      "outputs": [
        {
          "output_type": "display_data",
          "data": {
            "text/html": [
              "0.0356775686529672"
            ],
            "text/markdown": "0.0356775686529672",
            "text/latex": "0.0356775686529672",
            "text/plain": [
              "[1] 0.03567757"
            ]
          },
          "metadata": {}
        },
        {
          "output_type": "display_data",
          "data": {
            "text/html": [
              "0.00889083444888306"
            ],
            "text/markdown": "0.00889083444888306",
            "text/latex": "0.00889083444888306",
            "text/plain": [
              "[1] 0.008890834"
            ]
          },
          "metadata": {}
        }
      ]
    },
    {
      "cell_type": "code",
      "source": [
        "# ост. дисперсия\n",
        "modelSummary$sigma^2"
      ],
      "metadata": {
        "colab": {
          "base_uri": "https://localhost:8080/",
          "height": 34
        },
        "id": "sIiLjOeRnaZ2",
        "outputId": "23f0361c-956d-4551-c817-23fa922e8611"
      },
      "execution_count": 73,
      "outputs": [
        {
          "output_type": "display_data",
          "data": {
            "text/html": [
              "39.430072748412"
            ],
            "text/markdown": "39.430072748412",
            "text/latex": "39.430072748412",
            "text/plain": [
              "[1] 39.43007"
            ]
          },
          "metadata": {}
        }
      ]
    },
    {
      "cell_type": "code",
      "source": [
        "library(broom)\n",
        "glance(linearMod)"
      ],
      "metadata": {
        "colab": {
          "base_uri": "https://localhost:8080/",
          "height": 129
        },
        "id": "6AAoS_pfn3c9",
        "outputId": "8d3a49bb-2648-4117-c1c7-8f81bf51955d"
      },
      "execution_count": 75,
      "outputs": [
        {
          "output_type": "display_data",
          "data": {
            "text/html": [
              "<table class=\"dataframe\">\n",
              "<caption>A tibble: 1 × 12</caption>\n",
              "<thead>\n",
              "\t<tr><th scope=col>r.squared</th><th scope=col>adj.r.squared</th><th scope=col>sigma</th><th scope=col>statistic</th><th scope=col>p.value</th><th scope=col>df</th><th scope=col>logLik</th><th scope=col>AIC</th><th scope=col>BIC</th><th scope=col>deviance</th><th scope=col>df.residual</th><th scope=col>nobs</th></tr>\n",
              "\t<tr><th scope=col>&lt;dbl&gt;</th><th scope=col>&lt;dbl&gt;</th><th scope=col>&lt;dbl&gt;</th><th scope=col>&lt;dbl&gt;</th><th scope=col>&lt;dbl&gt;</th><th scope=col>&lt;dbl&gt;</th><th scope=col>&lt;dbl&gt;</th><th scope=col>&lt;dbl&gt;</th><th scope=col>&lt;dbl&gt;</th><th scope=col>&lt;dbl&gt;</th><th scope=col>&lt;int&gt;</th><th scope=col>&lt;int&gt;</th></tr>\n",
              "</thead>\n",
              "<tbody>\n",
              "\t<tr><td>0.03567757</td><td>0.008890834</td><td>6.279337</td><td>1.331912</td><td>0.2560696</td><td>1</td><td>-122.7084</td><td>251.4169</td><td>256.3296</td><td>1419.483</td><td>36</td><td>38</td></tr>\n",
              "</tbody>\n",
              "</table>\n"
            ],
            "text/markdown": "\nA tibble: 1 × 12\n\n| r.squared &lt;dbl&gt; | adj.r.squared &lt;dbl&gt; | sigma &lt;dbl&gt; | statistic &lt;dbl&gt; | p.value &lt;dbl&gt; | df &lt;dbl&gt; | logLik &lt;dbl&gt; | AIC &lt;dbl&gt; | BIC &lt;dbl&gt; | deviance &lt;dbl&gt; | df.residual &lt;int&gt; | nobs &lt;int&gt; |\n|---|---|---|---|---|---|---|---|---|---|---|---|\n| 0.03567757 | 0.008890834 | 6.279337 | 1.331912 | 0.2560696 | 1 | -122.7084 | 251.4169 | 256.3296 | 1419.483 | 36 | 38 |\n\n",
            "text/latex": "A tibble: 1 × 12\n\\begin{tabular}{llllllllllll}\n r.squared & adj.r.squared & sigma & statistic & p.value & df & logLik & AIC & BIC & deviance & df.residual & nobs\\\\\n <dbl> & <dbl> & <dbl> & <dbl> & <dbl> & <dbl> & <dbl> & <dbl> & <dbl> & <dbl> & <int> & <int>\\\\\n\\hline\n\t 0.03567757 & 0.008890834 & 6.279337 & 1.331912 & 0.2560696 & 1 & -122.7084 & 251.4169 & 256.3296 & 1419.483 & 36 & 38\\\\\n\\end{tabular}\n",
            "text/plain": [
              "      r.squared  adj.r.squared sigma    statistic p.value   df logLik   \n",
              "value 0.03567757 0.008890834   6.279337 1.331912  0.2560696 1  -122.7084\n",
              "      AIC      BIC      deviance df.residual nobs\n",
              "value 251.4169 256.3296 1419.483 36          38  "
            ]
          },
          "metadata": {}
        }
      ]
    },
    {
      "cell_type": "code",
      "source": [
        "predictor_column <- \"Wt\"\n",
        "modelCoeffs <- modelSummary$coefficients\n",
        "# beta.estimate <- modelCoeffs[predictor_column, \"Estimate\"]\n",
        "# std.error <- modelCoeffs[predictor_column, \"Std. Error\"]\n",
        "# t_value <- beta.estimate/std.error  # t-stat\n",
        "# p_value <- 2*pt(-abs(t_value), df=nrow(data$Wt)-ncol(data$Wt))\n",
        "# f_statistic <- linearMod$fstatistic[1]\n",
        "# f <-summary(linearMod)$fstatistic\n",
        "# model_p <- pf(f[1], f[2], f[3], lower=FALSE)"
      ],
      "metadata": {
        "id": "bjrR2ppuvhGZ"
      },
      "execution_count": 96,
      "outputs": []
    },
    {
      "cell_type": "code",
      "source": [
        "beta.estimate <- modelCoeffs[predictor_column, \"Estimate\"]\n",
        "beta.estimate"
      ],
      "metadata": {
        "colab": {
          "base_uri": "https://localhost:8080/",
          "height": 34
        },
        "id": "GjhuMd362KYu",
        "outputId": "2beee25b-10c0-4e94-8d91-2d3689ebba71"
      },
      "execution_count": 93,
      "outputs": [
        {
          "output_type": "display_data",
          "data": {
            "text/html": [
              "0.0835997788238902"
            ],
            "text/markdown": "0.0835997788238902",
            "text/latex": "0.0835997788238902",
            "text/plain": [
              "[1] 0.08359978"
            ]
          },
          "metadata": {}
        }
      ]
    },
    {
      "cell_type": "code",
      "source": [
        "std.error <- modelCoeffs[predictor_column, \"Std. Error\"]\n",
        "std.error"
      ],
      "metadata": {
        "colab": {
          "base_uri": "https://localhost:8080/",
          "height": 34
        },
        "id": "p2ABX-Ci2SHe",
        "outputId": "181796a9-4a11-4728-a15a-e15a23ea277f"
      },
      "execution_count": 94,
      "outputs": [
        {
          "output_type": "display_data",
          "data": {
            "text/html": [
              "0.0724381561783178"
            ],
            "text/markdown": "0.0724381561783178",
            "text/latex": "0.0724381561783178",
            "text/plain": [
              "[1] 0.07243816"
            ]
          },
          "metadata": {}
        }
      ]
    },
    {
      "cell_type": "code",
      "source": [
        "t_value <- beta.estimate/std.error  # t-stat\n",
        "t_value"
      ],
      "metadata": {
        "colab": {
          "base_uri": "https://localhost:8080/",
          "height": 34
        },
        "id": "zr4NsoAb1ton",
        "outputId": "c0191274-0375-403d-a883-7b194756d39a"
      },
      "execution_count": 90,
      "outputs": [
        {
          "output_type": "display_data",
          "data": {
            "text/html": [
              "1.15408485298958"
            ],
            "text/markdown": "1.15408485298958",
            "text/latex": "1.15408485298958",
            "text/plain": [
              "[1] 1.154085"
            ]
          },
          "metadata": {}
        }
      ]
    },
    {
      "cell_type": "code",
      "source": [
        "f_statistic <- linearMod$fstatistic[1]\n",
        "f_statistic"
      ],
      "metadata": {
        "colab": {
          "base_uri": "https://localhost:8080/",
          "height": 34
        },
        "id": "X7qrcARU1-Cy",
        "outputId": "ef5882a1-e6ab-4f06-8780-54d03b171742"
      },
      "execution_count": 91,
      "outputs": [
        {
          "output_type": "display_data",
          "data": {
            "text/plain": [
              "NULL"
            ]
          },
          "metadata": {}
        }
      ]
    },
    {
      "cell_type": "code",
      "source": [
        "f <-summary(linearMod)$fstatistic\n",
        "f"
      ],
      "metadata": {
        "colab": {
          "base_uri": "https://localhost:8080/",
          "height": 34
        },
        "id": "9sUf-nVx2D2f",
        "outputId": "eb40f0c9-8e64-4380-a719-172641fb2c3b"
      },
      "execution_count": 92,
      "outputs": [
        {
          "output_type": "display_data",
          "data": {
            "text/html": [
              "<style>\n",
              ".dl-inline {width: auto; margin:0; padding: 0}\n",
              ".dl-inline>dt, .dl-inline>dd {float: none; width: auto; display: inline-block}\n",
              ".dl-inline>dt::after {content: \":\\0020\"; padding-right: .5ex}\n",
              ".dl-inline>dt:not(:first-of-type) {padding-left: .5ex}\n",
              "</style><dl class=dl-inline><dt>value</dt><dd>1.33191184789997</dd><dt>numdf</dt><dd>1</dd><dt>dendf</dt><dd>36</dd></dl>\n"
            ],
            "text/markdown": "value\n:   1.33191184789997numdf\n:   1dendf\n:   36\n\n",
            "text/latex": "\\begin{description*}\n\\item[value] 1.33191184789997\n\\item[numdf] 1\n\\item[dendf] 36\n\\end{description*}\n",
            "text/plain": [
              "    value     numdf     dendf \n",
              " 1.331912  1.000000 36.000000 "
            ]
          },
          "metadata": {}
        }
      ]
    },
    {
      "cell_type": "code",
      "source": [
        "model_p <- pf(f[1], f[2], f[3], lower=FALSE)"
      ],
      "metadata": {
        "id": "vJzW2QDX201N"
      },
      "execution_count": 97,
      "outputs": []
    },
    {
      "cell_type": "code",
      "source": [
        "AIC(linearMod)\n",
        "BIC(linearMod)"
      ],
      "metadata": {
        "colab": {
          "base_uri": "https://localhost:8080/",
          "height": 52
        },
        "id": "74AkqZFzym1s",
        "outputId": "d866171f-a6ca-4eed-bcc2-2f931ba296a4"
      },
      "execution_count": 87,
      "outputs": [
        {
          "output_type": "display_data",
          "data": {
            "text/html": [
              "251.416868245082"
            ],
            "text/markdown": "251.416868245082",
            "text/latex": "251.416868245082",
            "text/plain": [
              "[1] 251.4169"
            ]
          },
          "metadata": {}
        },
        {
          "output_type": "display_data",
          "data": {
            "text/html": [
              "256.329626724261"
            ],
            "text/markdown": "256.329626724261",
            "text/latex": "256.329626724261",
            "text/plain": [
              "[1] 256.3296"
            ]
          },
          "metadata": {}
        }
      ]
    },
    {
      "cell_type": "code",
      "source": [
        "# проверка случайных остатков\n",
        "linearMod$residuals\n",
        "length(linearMod$residuals)"
      ],
      "metadata": {
        "colab": {
          "base_uri": "https://localhost:8080/",
          "height": 121
        },
        "id": "wnhMmUSr3TNf",
        "outputId": "cdb732d3-4a10-4147-a143-f24331778042"
      },
      "execution_count": 98,
      "outputs": [
        {
          "output_type": "display_data",
          "data": {
            "text/html": [
              "<style>\n",
              ".dl-inline {width: auto; margin:0; padding: 0}\n",
              ".dl-inline>dt, .dl-inline>dd {float: none; width: auto; display: inline-block}\n",
              ".dl-inline>dt::after {content: \":\\0020\"; padding-right: .5ex}\n",
              ".dl-inline>dt:not(:first-of-type) {padding-left: .5ex}\n",
              "</style><dl class=dl-inline><dt>1</dt><dd>-2.76449797740234</dd><dt>2</dt><dd>10.9783079943523</dd><dt>3</dt><dd>-1.43009886210713</dd><dt>4</dt><dd>-3.65778355104066</dd><dt>5</dt><dd>15.3222991473079</dd><dt>6</dt><dd>-4.09250240092488</dd><dt>7</dt><dd>-0.343301737396555</dd><dt>8</dt><dd>-1.84170306445321</dd><dt>9</dt><dd>-15.3464990832832</dd><dt>10</dt><dd>5.88438295153697</dd><dt>11</dt><dd>4.32549649319457</dd><dt>12</dt><dd>-7.59410107386823</dd><dt>13</dt><dd>-3.8449004103399</dd><dt>14</dt><dd>6.40270158024509</dd><dt>15</dt><dd>2.99109737789901</dd><dt>16</dt><dd>1.49269605084235</dd><dt>17</dt><dd>-5.26929399623271</dd><dt>18</dt><dd>3.68054613647295</dd><dt>19</dt><dd>3.0746971567229</dd><dt>20</dt><dd>0.155099589660103</dd><dt>21</dt><dd>2.7975858268264</dd><dt>22</dt><dd>-6.51050129504434</dd><dt>23</dt><dd>4.74029804142734</dd><dt>24</dt><dd>1.53449594025429</dd><dt>25</dt><dd>3.90110290730175</dd><dt>26</dt><dd>-1.50730394915765</dd><dt>27</dt><dd>8.24189671437068</dd><dt>28</dt><dd>-3.75810328562932</dd><dt>29</dt><dd>-3.01209996798768</dd><dt>30</dt><dd>-0.24617934869457</dd><dt>31</dt><dd>11.5062186607204</dd><dt>32</dt><dd>-5.26609665034603</dd><dt>33</dt><dd>-0.262899304459351</dd><dt>34</dt><dd>-5.18249687152214</dd><dt>35</dt><dd>2.65669826260344</dd><dt>36</dt><dd>-5.76130063151601</dd><dt>37</dt><dd>-12.0654571811687</dd><dt>38</dt><dd>0.0714998108362104</dd></dl>\n"
            ],
            "text/markdown": "1\n:   -2.764497977402342\n:   10.97830799435233\n:   -1.430098862107134\n:   -3.657783551040665\n:   15.32229914730796\n:   -4.092502400924887\n:   -0.3433017373965558\n:   -1.841703064453219\n:   -15.346499083283210\n:   5.8843829515369711\n:   4.3254964931945712\n:   -7.5941010738682313\n:   -3.844900410339914\n:   6.4027015802450915\n:   2.9910973778990116\n:   1.4926960508423517\n:   -5.2692939962327118\n:   3.6805461364729519\n:   3.074697156722920\n:   0.15509958966010321\n:   2.797585826826422\n:   -6.5105012950443423\n:   4.7402980414273424\n:   1.5344959402542925\n:   3.9011029073017526\n:   -1.5073039491576527\n:   8.2418967143706828\n:   -3.7581032856293229\n:   -3.0120999679876830\n:   -0.2461793486945731\n:   11.506218660720432\n:   -5.2660966503460333\n:   -0.26289930445935134\n:   -5.1824968715221435\n:   2.6566982626034436\n:   -5.7613006315160137\n:   -12.065457181168738\n:   0.0714998108362104\n\n",
            "text/latex": "\\begin{description*}\n\\item[1] -2.76449797740234\n\\item[2] 10.9783079943523\n\\item[3] -1.43009886210713\n\\item[4] -3.65778355104066\n\\item[5] 15.3222991473079\n\\item[6] -4.09250240092488\n\\item[7] -0.343301737396555\n\\item[8] -1.84170306445321\n\\item[9] -15.3464990832832\n\\item[10] 5.88438295153697\n\\item[11] 4.32549649319457\n\\item[12] -7.59410107386823\n\\item[13] -3.8449004103399\n\\item[14] 6.40270158024509\n\\item[15] 2.99109737789901\n\\item[16] 1.49269605084235\n\\item[17] -5.26929399623271\n\\item[18] 3.68054613647295\n\\item[19] 3.0746971567229\n\\item[20] 0.155099589660103\n\\item[21] 2.7975858268264\n\\item[22] -6.51050129504434\n\\item[23] 4.74029804142734\n\\item[24] 1.53449594025429\n\\item[25] 3.90110290730175\n\\item[26] -1.50730394915765\n\\item[27] 8.24189671437068\n\\item[28] -3.75810328562932\n\\item[29] -3.01209996798768\n\\item[30] -0.24617934869457\n\\item[31] 11.5062186607204\n\\item[32] -5.26609665034603\n\\item[33] -0.262899304459351\n\\item[34] -5.18249687152214\n\\item[35] 2.65669826260344\n\\item[36] -5.76130063151601\n\\item[37] -12.0654571811687\n\\item[38] 0.0714998108362104\n\\end{description*}\n",
            "text/plain": [
              "           1            2            3            4            5            6 \n",
              " -2.76449798  10.97830799  -1.43009886  -3.65778355  15.32229915  -4.09250240 \n",
              "           7            8            9           10           11           12 \n",
              " -0.34330174  -1.84170306 -15.34649908   5.88438295   4.32549649  -7.59410107 \n",
              "          13           14           15           16           17           18 \n",
              " -3.84490041   6.40270158   2.99109738   1.49269605  -5.26929400   3.68054614 \n",
              "          19           20           21           22           23           24 \n",
              "  3.07469716   0.15509959   2.79758583  -6.51050130   4.74029804   1.53449594 \n",
              "          25           26           27           28           29           30 \n",
              "  3.90110291  -1.50730395   8.24189671  -3.75810329  -3.01209997  -0.24617935 \n",
              "          31           32           33           34           35           36 \n",
              " 11.50621866  -5.26609665  -0.26289930  -5.18249687   2.65669826  -5.76130063 \n",
              "          37           38 \n",
              "-12.06545718   0.07149981 "
            ]
          },
          "metadata": {}
        },
        {
          "output_type": "display_data",
          "data": {
            "text/html": [
              "38"
            ],
            "text/markdown": "38",
            "text/latex": "38",
            "text/plain": [
              "[1] 38"
            ]
          },
          "metadata": {}
        }
      ]
    },
    {
      "cell_type": "code",
      "source": [
        "# par(mfrow = c(1, 1))\n",
        "plot(linearMod$fitted.values, linearMod$residuals,\n",
        "    xlab=\"Предсказанные значения\", ylab=\"Значения остатков\")"
      ],
      "metadata": {
        "colab": {
          "base_uri": "https://localhost:8080/",
          "height": 437
        },
        "id": "HPquSDrp3o-S",
        "outputId": "e2bcd84d-dc93-47d8-c011-a848b88c3f37"
      },
      "execution_count": 102,
      "outputs": [
        {
          "output_type": "display_data",
          "data": {
            "text/plain": [
              "plot without title"
            ],
            "image/png": "[encoded data removed]"
          },
          "metadata": {
            "image/png": {
              "width": 420,
              "height": 420
            }
          }
        }
      ]
    },
    {
      "cell_type": "code",
      "source": [
        "# проверка остатков на зависимость (нулев. мат. ожидание)\n",
        "M = mean(linearMod$residuals)\n",
        "M"
      ],
      "metadata": {
        "colab": {
          "base_uri": "https://localhost:8080/",
          "height": 34
        },
        "id": "PbgM8MGl4999",
        "outputId": "96ad6420-d158-4f67-acb8-d10faf9d97d6"
      },
      "execution_count": 104,
      "outputs": [
        {
          "output_type": "display_data",
          "data": {
            "text/html": [
              "5.94064328522732e-18"
            ],
            "text/markdown": "5.94064328522732e-18",
            "text/latex": "5.94064328522732e-18",
            "text/plain": [
              "[1] 5.940643e-18"
            ]
          },
          "metadata": {}
        }
      ]
    },
    {
      "cell_type": "code",
      "source": [
        "SD = sd(linearMod$residuals, na.rm = FALSE)\n",
        "SD"
      ],
      "metadata": {
        "colab": {
          "base_uri": "https://localhost:8080/",
          "height": 34
        },
        "id": "NXIDDju65sVm",
        "outputId": "f5730744-6026-4799-c4b3-d14d0a61b664"
      },
      "execution_count": 105,
      "outputs": [
        {
          "output_type": "display_data",
          "data": {
            "text/html": [
              "6.19389983020092"
            ],
            "text/markdown": "6.19389983020092",
            "text/latex": "6.19389983020092",
            "text/plain": [
              "[1] 6.1939"
            ]
          },
          "metadata": {}
        }
      ]
    },
    {
      "cell_type": "code",
      "source": [
        "# количество измерений\n",
        "N = length(data$Ht)\n",
        "N"
      ],
      "metadata": {
        "colab": {
          "base_uri": "https://localhost:8080/",
          "height": 34
        },
        "id": "H-LDPHOT6F7u",
        "outputId": "9d5dfd72-aa8e-482c-a606-cd675278c9e1"
      },
      "execution_count": 107,
      "outputs": [
        {
          "output_type": "display_data",
          "data": {
            "text/html": [
              "38"
            ],
            "text/markdown": "38",
            "text/latex": "38",
            "text/plain": [
              "[1] 38"
            ]
          },
          "metadata": {}
        }
      ]
    },
    {
      "cell_type": "code",
      "source": [
        "# t_расчетн.\n",
        "t_m <- -M/SD*sqrt(N)\n",
        "t_m"
      ],
      "metadata": {
        "colab": {
          "base_uri": "https://localhost:8080/",
          "height": 34
        },
        "id": "EmZQH5yv6jYm",
        "outputId": "0cd6eecb-14c6-4b4d-99b8-bc6c59be13ce"
      },
      "execution_count": 108,
      "outputs": [
        {
          "output_type": "display_data",
          "data": {
            "text/html": [
              "-5.91236307625449e-18"
            ],
            "text/markdown": "-5.91236307625449e-18",
            "text/latex": "-5.91236307625449e-18",
            "text/plain": [
              "[1] -5.912363e-18"
            ]
          },
          "metadata": {}
        }
      ]
    },
    {
      "cell_type": "code",
      "source": [
        "# t_табличн (табличное значение распределения Стьюдента)\n",
        "pval = 0.95\n",
        "t_tab <- qt(pval, N-1)  # степ.свободы N-1\n",
        "if (abs(t_m) < t_tab) {\n",
        "  print(\"Принимаем гипотезу Н0 - мат.ожидание остатков равно нулю\")\n",
        "} else {\n",
        "  print(\"Принимаем гипотезу Н1 с вероятностью\", pval, \"мат ожидание остатков отлично от нуля\")\n",
        "}"
      ],
      "metadata": {
        "colab": {
          "base_uri": "https://localhost:8080/"
        },
        "id": "lNMlzIx07RYs",
        "outputId": "66570fa7-6dcc-47f0-995a-a235334ff7f2"
      },
      "execution_count": 109,
      "outputs": [
        {
          "output_type": "stream",
          "name": "stdout",
          "text": [
            "[1] \"Принимаем гипотезу Н0 - мат.ожидание остатков равно нулю\"\n"
          ]
        }
      ]
    },
    {
      "cell_type": "code",
      "source": [
        "# проверка остатков на постоянство дисперсии (гомоскедастичность)\n",
        "install.packages(\"lmtest\")"
      ],
      "metadata": {
        "colab": {
          "base_uri": "https://localhost:8080/"
        },
        "id": "kAHl-D619dSp",
        "outputId": "87fc6f34-845e-46a3-8e20-fcb0cf1faad6"
      },
      "execution_count": 113,
      "outputs": [
        {
          "output_type": "stream",
          "name": "stderr",
          "text": [
            "Installing package into ‘/usr/local/lib/R/site-library’\n",
            "(as ‘lib’ is unspecified)\n",
            "\n"
          ]
        }
      ]
    },
    {
      "cell_type": "code",
      "source": [
        "library(lmtest)\n",
        "bptest(linearMod)"
      ],
      "metadata": {
        "colab": {
          "base_uri": "https://localhost:8080/",
          "height": 104
        },
        "id": "oOzVK8p3-nIl",
        "outputId": "cdd60f43-dc13-4425-b462-b1efc0962dd7"
      },
      "execution_count": 115,
      "outputs": [
        {
          "output_type": "display_data",
          "data": {
            "text/plain": [
              "\n",
              "\tstudentized Breusch-Pagan test\n",
              "\n",
              "data:  linearMod\n",
              "BP = 1.1556, df = 1, p-value = 0.2824\n"
            ]
          },
          "metadata": {}
        }
      ]
    },
    {
      "cell_type": "markdown",
      "source": [
        "При таком p-value высокая гетероскедастичность"
      ],
      "metadata": {
        "id": "pZioOhpY_Dz6"
      }
    },
    {
      "cell_type": "code",
      "source": [
        "# тест Спирмана\n",
        "cor.test(data$Wt, linearMod$residuals, method = \"spearman\")"
      ],
      "metadata": {
        "colab": {
          "base_uri": "https://localhost:8080/",
          "height": 208
        },
        "id": "IpTFYvk8-59b",
        "outputId": "07ca8cc7-25e8-4a0b-ced4-f7d25aef0b10"
      },
      "execution_count": 116,
      "outputs": [
        {
          "output_type": "stream",
          "name": "stderr",
          "text": [
            "Warning message in cor.test.default(data$Wt, linearMod$residuals, method = \"spearman\"):\n",
            "“Cannot compute exact p-value with ties”\n"
          ]
        },
        {
          "output_type": "display_data",
          "data": {
            "text/plain": [
              "\n",
              "\tSpearman's rank correlation rho\n",
              "\n",
              "data:  data$Wt and linearMod$residuals\n",
              "S = 9822.1, p-value = 0.6556\n",
              "alternative hypothesis: true rho is not equal to 0\n",
              "sample estimates:\n",
              "        rho \n",
              "-0.07475101 \n"
            ]
          },
          "metadata": {}
        }
      ]
    },
    {
      "cell_type": "markdown",
      "source": [
        "значение p-value > 0,05 => гетероскедастичность есть"
      ],
      "metadata": {
        "id": "U1h6mJ0U_-jm"
      }
    },
    {
      "cell_type": "code",
      "source": [
        "# автокорреляция остатков\n",
        "bgtest(linearMod)\n",
        "dwtest(linearMod)"
      ],
      "metadata": {
        "colab": {
          "base_uri": "https://localhost:8080/",
          "height": 208
        },
        "id": "z5aXUJvZAZhF",
        "outputId": "0e32b17e-d4c9-4a5d-bdce-58b96915ed8e"
      },
      "execution_count": 117,
      "outputs": [
        {
          "output_type": "display_data",
          "data": {
            "text/plain": [
              "\n",
              "\tBreusch-Godfrey test for serial correlation of order up to 1\n",
              "\n",
              "data:  linearMod\n",
              "LM test = 1.9147, df = 1, p-value = 0.1664\n"
            ]
          },
          "metadata": {}
        },
        {
          "output_type": "display_data",
          "data": {
            "text/plain": [
              "\n",
              "\tDurbin-Watson test\n",
              "\n",
              "data:  linearMod\n",
              "DW = 2.4285, p-value = 0.9075\n",
              "alternative hypothesis: true autocorrelation is greater than 0\n"
            ]
          },
          "metadata": {}
        }
      ]
    },
    {
      "cell_type": "code",
      "source": [
        "# проверка нормальности распределения остатков\n",
        "qqnorm(linearMod$residuals)"
      ],
      "metadata": {
        "colab": {
          "base_uri": "https://localhost:8080/",
          "height": 437
        },
        "id": "9fMGeMrvBTsg",
        "outputId": "207e3f12-e003-45b1-abb4-a103d3539715"
      },
      "execution_count": 119,
      "outputs": [
        {
          "output_type": "display_data",
          "data": {
            "text/plain": [
              "Plot with title “Normal Q-Q Plot”"
            ],
            "image/png": "[encoded data removed]"
          },
          "metadata": {
            "image/png": {
              "width": 420,
              "height": 420
            }
          }
        }
      ]
    },
    {
      "cell_type": "code",
      "source": [
        "install.packages(\"sm\")"
      ],
      "metadata": {
        "colab": {
          "base_uri": "https://localhost:8080/"
        },
        "id": "SgQlAtSyDGOb",
        "outputId": "284355aa-8678-4bba-f990-8d04a2121b41"
      },
      "execution_count": 121,
      "outputs": [
        {
          "output_type": "stream",
          "name": "stderr",
          "text": [
            "Installing package into ‘/usr/local/lib/R/site-library’\n",
            "(as ‘lib’ is unspecified)\n",
            "\n"
          ]
        }
      ]
    },
    {
      "cell_type": "code",
      "source": [
        "library(sm)"
      ],
      "metadata": {
        "id": "CZGeVm9mDede"
      },
      "execution_count": 124,
      "outputs": []
    },
    {
      "cell_type": "code",
      "source": [
        "hist(linearMod$residuals)\n",
        "sm.density(linearMod$residuals, model = \"Normal\",\n",
        "           xlab = \"Residuals\", ylab = \"Функция плотности распределения\")"
      ],
      "metadata": {
        "colab": {
          "base_uri": "https://localhost:8080/",
          "height": 857
        },
        "id": "LDmp_W4uCGFi",
        "outputId": "85d86b9f-43b3-4099-9d0c-5b5a36cbec2c"
      },
      "execution_count": 125,
      "outputs": [
        {
          "output_type": "display_data",
          "data": {
            "text/plain": [
              "Plot with title “Histogram of linearMod$residuals”"
            ],
            "image/png": "[encoded data removed]"
          },
          "metadata": {
            "image/png": {
              "width": 420,
              "height": 420
            }
          }
        },
        {
          "output_type": "display_data",
          "data": {
            "text/plain": [
              "plot without title"
            ],
            "image/png": "[encoded data removed]"
          },
          "metadata": {
            "image/png": {
              "width": 420,
              "height": 420
            }
          }
        }
      ]
    },
    {
      "cell_type": "markdown",
      "source": [
        "Остатки имеют нормальное распределение"
      ],
      "metadata": {
        "id": "Efr3woBHB1I0"
      }
    },
    {
      "cell_type": "code",
      "source": [
        "# параметрические тесты\n",
        "install.packages(\"nortest\")\n",
        "library(nortest)"
      ],
      "metadata": {
        "colab": {
          "base_uri": "https://localhost:8080/"
        },
        "id": "wzQ3gtvoD3UE",
        "outputId": "2f0675d2-7b77-4679-9ed5-a4c17267dab7"
      },
      "execution_count": 127,
      "outputs": [
        {
          "output_type": "stream",
          "name": "stderr",
          "text": [
            "Installing package into ‘/usr/local/lib/R/site-library’\n",
            "(as ‘lib’ is unspecified)\n",
            "\n"
          ]
        }
      ]
    },
    {
      "cell_type": "code",
      "source": [
        "lillie.test(linearMod$residuals)\n",
        "shapiro.test(linearMod$residuals[1:4990])"
      ],
      "metadata": {
        "colab": {
          "base_uri": "https://localhost:8080/",
          "height": 191
        },
        "id": "DDCuNg0YESTt",
        "outputId": "38ca9275-e9a0-40aa-b4b0-2f6f8937b6a7"
      },
      "execution_count": 128,
      "outputs": [
        {
          "output_type": "display_data",
          "data": {
            "text/plain": [
              "\n",
              "\tLilliefors (Kolmogorov-Smirnov) normality test\n",
              "\n",
              "data:  linearMod$residuals\n",
              "D = 0.070882, p-value = 0.9005\n"
            ]
          },
          "metadata": {}
        },
        {
          "output_type": "display_data",
          "data": {
            "text/plain": [
              "\n",
              "\tShapiro-Wilk normality test\n",
              "\n",
              "data:  linearMod$residuals[1:4990]\n",
              "W = 0.98437, p-value = 0.8627\n"
            ]
          },
          "metadata": {}
        }
      ]
    },
    {
      "cell_type": "code",
      "source": [
        "# разбиение данных на обучающую и тестовую выборки\n",
        "set.seed(100)\n",
        "trainingRowIndex <- sample(1:nrow(data), 0.8*nrow(data))\n",
        "# trainingData <- data[trainingRowIndex, ]\n",
        "# testData <- data[-trainingRowIndex, ]"
      ],
      "metadata": {
        "id": "zwqC3Pv5FI2l"
      },
      "execution_count": 129,
      "outputs": []
    },
    {
      "cell_type": "code",
      "source": [
        "trainingData <- data[trainingRowIndex, ]\n",
        "trainingData"
      ],
      "metadata": {
        "colab": {
          "base_uri": "https://localhost:8080/",
          "height": 1000
        },
        "id": "SSpblLFrG_bD",
        "outputId": "218fe919-9995-4354-ef82-9563342390ef"
      },
      "execution_count": 130,
      "outputs": [
        {
          "output_type": "display_data",
          "data": {
            "text/html": [
              "<table class=\"dataframe\">\n",
              "<caption>A tibble: 30 × 114</caption>\n",
              "<thead>\n",
              "\t<tr><th scope=col>Vial.number</th><th scope=col>Group</th><th scope=col>Age</th><th scope=col>Plasma.volume</th><th scope=col>Ht</th><th scope=col>Wt</th><th scope=col>BMI</th><th scope=col>Sys</th><th scope=col>Dia</th><th scope=col>PR</th><th scope=col>⋯</th><th scope=col>G1.LDLi</th><th scope=col>G2.LDLi</th><th scope=col>G3.LDLi</th><th scope=col>S0.LDLi</th><th scope=col>S1.LDLi</th><th scope=col>S2.LDLi</th><th scope=col>S3.LDLi</th><th scope=col>B.LDLi</th><th scope=col>F.LDLi</th><th scope=col>HM.LDLi</th></tr>\n",
              "\t<tr><th scope=col>&lt;chr&gt;</th><th scope=col>&lt;chr&gt;</th><th scope=col>&lt;dbl&gt;</th><th scope=col>&lt;dbl&gt;</th><th scope=col>&lt;dbl&gt;</th><th scope=col>&lt;dbl&gt;</th><th scope=col>&lt;dbl&gt;</th><th scope=col>&lt;dbl&gt;</th><th scope=col>&lt;dbl&gt;</th><th scope=col>&lt;dbl&gt;</th><th scope=col>⋯</th><th scope=col>&lt;dbl&gt;</th><th scope=col>&lt;dbl&gt;</th><th scope=col>&lt;dbl&gt;</th><th scope=col>&lt;dbl&gt;</th><th scope=col>&lt;dbl&gt;</th><th scope=col>&lt;dbl&gt;</th><th scope=col>&lt;dbl&gt;</th><th scope=col>&lt;dbl&gt;</th><th scope=col>&lt;dbl&gt;</th><th scope=col>&lt;dbl&gt;</th></tr>\n",
              "</thead>\n",
              "<tbody>\n",
              "\t<tr><td>10</td><td>1</td><td>53</td><td> 5.5</td><td>172</td><td> 88.2</td><td>29.81341</td><td>120</td><td> 80</td><td>60</td><td>⋯</td><td>4.480</td><td>68.880</td><td>4.040</td><td>3.860</td><td>28.110</td><td>43.20</td><td>2.230</td><td>0.020</td><td>2.30</td><td>13.11</td></tr>\n",
              "\t<tr><td>25</td><td>1</td><td>68</td><td>13.0</td><td>170</td><td> 88.0</td><td>30.44983</td><td>150</td><td> 90</td><td>70</td><td>⋯</td><td>   NA</td><td>    NA</td><td>   NA</td><td>   NA</td><td>    NA</td><td>   NA</td><td>   NA</td><td>   NA</td><td>  NA</td><td>   NA</td></tr>\n",
              "\t<tr><td>14</td><td>1</td><td>61</td><td> 7.0</td><td>172</td><td> 82.0</td><td>27.71769</td><td>137</td><td> 94</td><td>85</td><td>⋯</td><td>4.550</td><td>67.880</td><td>4.640</td><td>4.060</td><td>28.160</td><td>42.47</td><td>2.380</td><td>0.030</td><td>1.93</td><td>13.42</td></tr>\n",
              "\t<tr><td>23</td><td>1</td><td>62</td><td>11.5</td><td>169</td><td> 66.0</td><td>23.10843</td><td>150</td><td>105</td><td>78</td><td>⋯</td><td>   NA</td><td>    NA</td><td>   NA</td><td>   NA</td><td>    NA</td><td>   NA</td><td>   NA</td><td>   NA</td><td>  NA</td><td>   NA</td></tr>\n",
              "\t<tr><td>22</td><td>0</td><td>65</td><td>10.0</td><td>158</td><td> 69.0</td><td>27.63980</td><td>129</td><td> 77</td><td>66</td><td>⋯</td><td>4.930</td><td>66.620</td><td>4.270</td><td>4.590</td><td>29.240</td><td>39.91</td><td>2.080</td><td>0.030</td><td>1.69</td><td>14.11</td></tr>\n",
              "\t<tr><td>6 </td><td>1</td><td>79</td><td> 6.2</td><td>160</td><td> 64.0</td><td>25.00000</td><td>110</td><td> 75</td><td>66</td><td>⋯</td><td>4.050</td><td>64.010</td><td>5.270</td><td>3.720</td><td>26.710</td><td>40.39</td><td>2.510</td><td>0.020</td><td>2.70</td><td>16.06</td></tr>\n",
              "\t<tr><td>4 </td><td>1</td><td>72</td><td> 5.0</td><td>160</td><td> 58.8</td><td>22.96875</td><td>130</td><td> 90</td><td>68</td><td>⋯</td><td>3.950</td><td>68.030</td><td>4.500</td><td>3.780</td><td>29.370</td><td>41.13</td><td>2.200</td><td>0.020</td><td>1.89</td><td>13.89</td></tr>\n",
              "\t<tr><td>35</td><td>0</td><td>54</td><td>11.5</td><td>167</td><td> 67.0</td><td>24.02381</td><td>146</td><td> 96</td><td>68</td><td>⋯</td><td>   NA</td><td>    NA</td><td>   NA</td><td>   NA</td><td>    NA</td><td>   NA</td><td>   NA</td><td>   NA</td><td>  NA</td><td>   NA</td></tr>\n",
              "\t<tr><td>33</td><td>1</td><td>67</td><td>13.0</td><td>165</td><td> 78.0</td><td>28.65014</td><td>165</td><td> 82</td><td>76</td><td>⋯</td><td>3.890</td><td>67.440</td><td>4.290</td><td>4.210</td><td>28.160</td><td>41.21</td><td>2.040</td><td>0.030</td><td>2.26</td><td>15.06</td></tr>\n",
              "\t<tr><td>2 </td><td>0</td><td>47</td><td> 5.5</td><td>179</td><td>111.0</td><td>34.64311</td><td>125</td><td> 82</td><td>65</td><td>⋯</td><td>   NA</td><td>    NA</td><td>   NA</td><td>   NA</td><td>    NA</td><td>   NA</td><td>   NA</td><td>   NA</td><td>  NA</td><td>   NA</td></tr>\n",
              "\t<tr><td>7 </td><td>1</td><td>61</td><td> 6.5</td><td>164</td><td> 67.0</td><td>24.91077</td><td>124</td><td> 82</td><td>84</td><td>⋯</td><td>4.100</td><td>65.990</td><td>4.700</td><td>4.030</td><td>28.440</td><td>39.99</td><td>2.330</td><td>0.020</td><td>1.61</td><td>13.82</td></tr>\n",
              "\t<tr><td>28</td><td>0</td><td>69</td><td>13.0</td><td>160</td><td> 60.0</td><td>23.43750</td><td>133</td><td> 76</td><td>79</td><td>⋯</td><td>4.620</td><td>67.430</td><td>4.360</td><td>4.160</td><td>29.580</td><td>40.48</td><td>2.190</td><td>0.020</td><td>2.27</td><td>13.54</td></tr>\n",
              "\t<tr><td>31</td><td>0</td><td>64</td><td>11.5</td><td>176</td><td> 68.8</td><td>22.21074</td><td>128</td><td> 78</td><td>73</td><td>⋯</td><td>5.220</td><td>66.870</td><td>3.580</td><td>4.280</td><td>29.690</td><td>40.06</td><td>1.640</td><td>0.020</td><td>1.55</td><td>14.70</td></tr>\n",
              "\t<tr><td>11</td><td>1</td><td>83</td><td> 6.0</td><td>168</td><td> 59.0</td><td>20.90420</td><td>134</td><td> 60</td><td>89</td><td>⋯</td><td>4.620</td><td>66.510</td><td>4.250</td><td>4.780</td><td>28.500</td><td>40.14</td><td>1.960</td><td>0.030</td><td>1.72</td><td>14.21</td></tr>\n",
              "\t<tr><td>24</td><td>0</td><td>76</td><td>13.0</td><td>165</td><td> 56.5</td><td>20.75298</td><td>130</td><td> 70</td><td>70</td><td>⋯</td><td>4.390</td><td>67.560</td><td>3.590</td><td>4.550</td><td>28.810</td><td>40.41</td><td>1.770</td><td>0.040</td><td>1.38</td><td>14.83</td></tr>\n",
              "\t<tr><td>18</td><td>1</td><td>65</td><td>11.0</td><td>171</td><td>102.6</td><td>35.08772</td><td>136</td><td> 92</td><td>80</td><td>⋯</td><td>3.935</td><td>66.575</td><td>4.445</td><td>4.435</td><td>28.225</td><td>39.67</td><td>2.625</td><td>0.035</td><td>2.11</td><td>14.64</td></tr>\n",
              "\t<tr><td>12</td><td>1</td><td>59</td><td> 5.5</td><td>157</td><td> 70.0</td><td>28.39872</td><td>120</td><td> 85</td><td>90</td><td>⋯</td><td>3.470</td><td>66.740</td><td>5.030</td><td>3.450</td><td>26.590</td><td>42.62</td><td>2.580</td><td>0.020</td><td>2.02</td><td>13.52</td></tr>\n",
              "\t<tr><td>3 </td><td>1</td><td>57</td><td> 7.0</td><td>164</td><td> 80.0</td><td>29.74420</td><td>132</td><td> 80</td><td>92</td><td>⋯</td><td>5.160</td><td>68.220</td><td>3.110</td><td>4.640</td><td>30.430</td><td>39.86</td><td>1.560</td><td>0.020</td><td>1.69</td><td>14.16</td></tr>\n",
              "\t<tr><td>19</td><td>0</td><td>64</td><td>10.5</td><td>167</td><td> 62.0</td><td>22.23099</td><td>112</td><td> 75</td><td>66</td><td>⋯</td><td>3.860</td><td>68.260</td><td>4.280</td><td>3.680</td><td>28.570</td><td>42.04</td><td>2.110</td><td>0.020</td><td>2.34</td><td>13.59</td></tr>\n",
              "\t<tr><td>8 </td><td>1</td><td>70</td><td> 5.5</td><td>162</td><td> 61.0</td><td>23.24341</td><td>135</td><td> 78</td><td>72</td><td>⋯</td><td>5.270</td><td>67.260</td><td>3.240</td><td>4.690</td><td>32.270</td><td>37.29</td><td>1.520</td><td>0.030</td><td>1.61</td><td>14.59</td></tr>\n",
              "\t<tr><td>26</td><td>0</td><td>55</td><td>11.5</td><td>162</td><td> 57.0</td><td>21.71925</td><td>103</td><td> 66</td><td>74</td><td>⋯</td><td>5.280</td><td>67.780</td><td>4.210</td><td>4.710</td><td>29.210</td><td>41.01</td><td>2.340</td><td>0.020</td><td>2.03</td><td>13.33</td></tr>\n",
              "\t<tr><td>29</td><td>1</td><td>75</td><td>11.0</td><td>162</td><td> 75.0</td><td>28.57796</td><td>118</td><td> 75</td><td>75</td><td>⋯</td><td>   NA</td><td>    NA</td><td>   NA</td><td>   NA</td><td>    NA</td><td>   NA</td><td>   NA</td><td>   NA</td><td>  NA</td><td>   NA</td></tr>\n",
              "\t<tr><td>21</td><td>1</td><td>70</td><td>11.0</td><td>170</td><td>101.2</td><td>35.01730</td><td>135</td><td> 85</td><td>74</td><td>⋯</td><td>4.040</td><td>67.120</td><td>4.740</td><td>4.560</td><td>28.570</td><td>40.24</td><td>2.530</td><td>0.040</td><td>2.38</td><td>13.10</td></tr>\n",
              "\t<tr><td>32</td><td>0</td><td>62</td><td>13.0</td><td>161</td><td> 90.0</td><td>34.72088</td><td>140</td><td>100</td><td>74</td><td>⋯</td><td>   NA</td><td>    NA</td><td>   NA</td><td>   NA</td><td>    NA</td><td>   NA</td><td>   NA</td><td>   NA</td><td>  NA</td><td>   NA</td></tr>\n",
              "\t<tr><td>15</td><td>1</td><td>79</td><td> 8.0</td><td>167</td><td> 63.0</td><td>22.58955</td><td>188</td><td> 84</td><td>74</td><td>⋯</td><td>4.700</td><td>67.590</td><td>3.430</td><td>5.280</td><td>33.520</td><td>35.45</td><td>1.470</td><td>0.020</td><td>1.24</td><td>14.35</td></tr>\n",
              "\t<tr><td>36</td><td>1</td><td>67</td><td>12.0</td><td>159</td><td> 72.0</td><td>28.47989</td><td>126</td><td> 68</td><td>84</td><td>⋯</td><td>4.000</td><td>67.710</td><td>5.350</td><td>4.200</td><td>29.860</td><td>40.35</td><td>2.650</td><td>0.020</td><td>1.55</td><td>13.37</td></tr>\n",
              "\t<tr><td>5 </td><td>1</td><td>57</td><td> 5.0</td><td>180</td><td> 71.0</td><td>21.91358</td><td>135</td><td> 75</td><td>70</td><td>⋯</td><td>4.630</td><td>66.910</td><td>4.030</td><td>4.440</td><td>28.540</td><td>40.64</td><td>1.950</td><td>0.020</td><td>2.03</td><td>14.25</td></tr>\n",
              "\t<tr><td>37</td><td>1</td><td>69</td><td>11.5</td><td>154</td><td> 87.6</td><td>36.93709</td><td>147</td><td> 89</td><td>68</td><td>⋯</td><td>   NA</td><td>    NA</td><td>   NA</td><td>   NA</td><td>    NA</td><td>   NA</td><td>   NA</td><td>   NA</td><td>  NA</td><td>   NA</td></tr>\n",
              "\t<tr><td>27</td><td>0</td><td>79</td><td>12.0</td><td>172</td><td> 60.0</td><td>20.28123</td><td>100</td><td> 60</td><td>65</td><td>⋯</td><td>   NA</td><td>    NA</td><td>   NA</td><td>   NA</td><td>    NA</td><td>   NA</td><td>   NA</td><td>   NA</td><td>  NA</td><td>   NA</td></tr>\n",
              "\t<tr><td>9 </td><td>0</td><td>50</td><td> 6.0</td><td>150</td><td> 79.0</td><td>35.11111</td><td>142</td><td> 95</td><td>88</td><td>⋯</td><td>3.970</td><td>67.590</td><td>4.220</td><td>4.420</td><td>27.990</td><td>41.19</td><td>2.180</td><td>0.050</td><td>1.55</td><td>13.26</td></tr>\n",
              "</tbody>\n",
              "</table>\n"
            ],
            "text/markdown": "\nA tibble: 30 × 114\n\n| Vial.number &lt;chr&gt; | Group &lt;chr&gt; | Age &lt;dbl&gt; | Plasma.volume &lt;dbl&gt; | Ht &lt;dbl&gt; | Wt &lt;dbl&gt; | BMI &lt;dbl&gt; | Sys &lt;dbl&gt; | Dia &lt;dbl&gt; | PR &lt;dbl&gt; | ⋯ ⋯ | G1.LDLi &lt;dbl&gt; | G2.LDLi &lt;dbl&gt; | G3.LDLi &lt;dbl&gt; | S0.LDLi &lt;dbl&gt; | S1.LDLi &lt;dbl&gt; | S2.LDLi &lt;dbl&gt; | S3.LDLi &lt;dbl&gt; | B.LDLi &lt;dbl&gt; | F.LDLi &lt;dbl&gt; | HM.LDLi &lt;dbl&gt; |\n|---|---|---|---|---|---|---|---|---|---|---|---|---|---|---|---|---|---|---|---|---|\n| 10 | 1 | 53 |  5.5 | 172 |  88.2 | 29.81341 | 120 |  80 | 60 | ⋯ | 4.480 | 68.880 | 4.040 | 3.860 | 28.110 | 43.20 | 2.230 | 0.020 | 2.30 | 13.11 |\n| 25 | 1 | 68 | 13.0 | 170 |  88.0 | 30.44983 | 150 |  90 | 70 | ⋯ |    NA |     NA |    NA |    NA |     NA |    NA |    NA |    NA |   NA |    NA |\n| 14 | 1 | 61 |  7.0 | 172 |  82.0 | 27.71769 | 137 |  94 | 85 | ⋯ | 4.550 | 67.880 | 4.640 | 4.060 | 28.160 | 42.47 | 2.380 | 0.030 | 1.93 | 13.42 |\n| 23 | 1 | 62 | 11.5 | 169 |  66.0 | 23.10843 | 150 | 105 | 78 | ⋯ |    NA |     NA |    NA |    NA |     NA |    NA |    NA |    NA |   NA |    NA |\n| 22 | 0 | 65 | 10.0 | 158 |  69.0 | 27.63980 | 129 |  77 | 66 | ⋯ | 4.930 | 66.620 | 4.270 | 4.590 | 29.240 | 39.91 | 2.080 | 0.030 | 1.69 | 14.11 |\n| 6  | 1 | 79 |  6.2 | 160 |  64.0 | 25.00000 | 110 |  75 | 66 | ⋯ | 4.050 | 64.010 | 5.270 | 3.720 | 26.710 | 40.39 | 2.510 | 0.020 | 2.70 | 16.06 |\n| 4  | 1 | 72 |  5.0 | 160 |  58.8 | 22.96875 | 130 |  90 | 68 | ⋯ | 3.950 | 68.030 | 4.500 | 3.780 | 29.370 | 41.13 | 2.200 | 0.020 | 1.89 | 13.89 |\n| 35 | 0 | 54 | 11.5 | 167 |  67.0 | 24.02381 | 146 |  96 | 68 | ⋯ |    NA |     NA |    NA |    NA |     NA |    NA |    NA |    NA |   NA |    NA |\n| 33 | 1 | 67 | 13.0 | 165 |  78.0 | 28.65014 | 165 |  82 | 76 | ⋯ | 3.890 | 67.440 | 4.290 | 4.210 | 28.160 | 41.21 | 2.040 | 0.030 | 2.26 | 15.06 |\n| 2  | 0 | 47 |  5.5 | 179 | 111.0 | 34.64311 | 125 |  82 | 65 | ⋯ |    NA |     NA |    NA |    NA |     NA |    NA |    NA |    NA |   NA |    NA |\n| 7  | 1 | 61 |  6.5 | 164 |  67.0 | 24.91077 | 124 |  82 | 84 | ⋯ | 4.100 | 65.990 | 4.700 | 4.030 | 28.440 | 39.99 | 2.330 | 0.020 | 1.61 | 13.82 |\n| 28 | 0 | 69 | 13.0 | 160 |  60.0 | 23.43750 | 133 |  76 | 79 | ⋯ | 4.620 | 67.430 | 4.360 | 4.160 | 29.580 | 40.48 | 2.190 | 0.020 | 2.27 | 13.54 |\n| 31 | 0 | 64 | 11.5 | 176 |  68.8 | 22.21074 | 128 |  78 | 73 | ⋯ | 5.220 | 66.870 | 3.580 | 4.280 | 29.690 | 40.06 | 1.640 | 0.020 | 1.55 | 14.70 |\n| 11 | 1 | 83 |  6.0 | 168 |  59.0 | 20.90420 | 134 |  60 | 89 | ⋯ | 4.620 | 66.510 | 4.250 | 4.780 | 28.500 | 40.14 | 1.960 | 0.030 | 1.72 | 14.21 |\n| 24 | 0 | 76 | 13.0 | 165 |  56.5 | 20.75298 | 130 |  70 | 70 | ⋯ | 4.390 | 67.560 | 3.590 | 4.550 | 28.810 | 40.41 | 1.770 | 0.040 | 1.38 | 14.83 |\n| 18 | 1 | 65 | 11.0 | 171 | 102.6 | 35.08772 | 136 |  92 | 80 | ⋯ | 3.935 | 66.575 | 4.445 | 4.435 | 28.225 | 39.67 | 2.625 | 0.035 | 2.11 | 14.64 |\n| 12 | 1 | 59 |  5.5 | 157 |  70.0 | 28.39872 | 120 |  85 | 90 | ⋯ | 3.470 | 66.740 | 5.030 | 3.450 | 26.590 | 42.62 | 2.580 | 0.020 | 2.02 | 13.52 |\n| 3  | 1 | 57 |  7.0 | 164 |  80.0 | 29.74420 | 132 |  80 | 92 | ⋯ | 5.160 | 68.220 | 3.110 | 4.640 | 30.430 | 39.86 | 1.560 | 0.020 | 1.69 | 14.16 |\n| 19 | 0 | 64 | 10.5 | 167 |  62.0 | 22.23099 | 112 |  75 | 66 | ⋯ | 3.860 | 68.260 | 4.280 | 3.680 | 28.570 | 42.04 | 2.110 | 0.020 | 2.34 | 13.59 |\n| 8  | 1 | 70 |  5.5 | 162 |  61.0 | 23.24341 | 135 |  78 | 72 | ⋯ | 5.270 | 67.260 | 3.240 | 4.690 | 32.270 | 37.29 | 1.520 | 0.030 | 1.61 | 14.59 |\n| 26 | 0 | 55 | 11.5 | 162 |  57.0 | 21.71925 | 103 |  66 | 74 | ⋯ | 5.280 | 67.780 | 4.210 | 4.710 | 29.210 | 41.01 | 2.340 | 0.020 | 2.03 | 13.33 |\n| 29 | 1 | 75 | 11.0 | 162 |  75.0 | 28.57796 | 118 |  75 | 75 | ⋯ |    NA |     NA |    NA |    NA |     NA |    NA |    NA |    NA |   NA |    NA |\n| 21 | 1 | 70 | 11.0 | 170 | 101.2 | 35.01730 | 135 |  85 | 74 | ⋯ | 4.040 | 67.120 | 4.740 | 4.560 | 28.570 | 40.24 | 2.530 | 0.040 | 2.38 | 13.10 |\n| 32 | 0 | 62 | 13.0 | 161 |  90.0 | 34.72088 | 140 | 100 | 74 | ⋯ |    NA |     NA |    NA |    NA |     NA |    NA |    NA |    NA |   NA |    NA |\n| 15 | 1 | 79 |  8.0 | 167 |  63.0 | 22.58955 | 188 |  84 | 74 | ⋯ | 4.700 | 67.590 | 3.430 | 5.280 | 33.520 | 35.45 | 1.470 | 0.020 | 1.24 | 14.35 |\n| 36 | 1 | 67 | 12.0 | 159 |  72.0 | 28.47989 | 126 |  68 | 84 | ⋯ | 4.000 | 67.710 | 5.350 | 4.200 | 29.860 | 40.35 | 2.650 | 0.020 | 1.55 | 13.37 |\n| 5  | 1 | 57 |  5.0 | 180 |  71.0 | 21.91358 | 135 |  75 | 70 | ⋯ | 4.630 | 66.910 | 4.030 | 4.440 | 28.540 | 40.64 | 1.950 | 0.020 | 2.03 | 14.25 |\n| 37 | 1 | 69 | 11.5 | 154 |  87.6 | 36.93709 | 147 |  89 | 68 | ⋯ |    NA |     NA |    NA |    NA |     NA |    NA |    NA |    NA |   NA |    NA |\n| 27 | 0 | 79 | 12.0 | 172 |  60.0 | 20.28123 | 100 |  60 | 65 | ⋯ |    NA |     NA |    NA |    NA |     NA |    NA |    NA |    NA |   NA |    NA |\n| 9  | 0 | 50 |  6.0 | 150 |  79.0 | 35.11111 | 142 |  95 | 88 | ⋯ | 3.970 | 67.590 | 4.220 | 4.420 | 27.990 | 41.19 | 2.180 | 0.050 | 1.55 | 13.26 |\n\n",
            "text/latex": "A tibble: 30 × 114\n\\begin{tabular}{lllllllllllllllllllll}\n Vial.number & Group & Age & Plasma.volume & Ht & Wt & BMI & Sys & Dia & PR & ⋯ & G1.LDLi & G2.LDLi & G3.LDLi & S0.LDLi & S1.LDLi & S2.LDLi & S3.LDLi & B.LDLi & F.LDLi & HM.LDLi\\\\\n <chr> & <chr> & <dbl> & <dbl> & <dbl> & <dbl> & <dbl> & <dbl> & <dbl> & <dbl> & ⋯ & <dbl> & <dbl> & <dbl> & <dbl> & <dbl> & <dbl> & <dbl> & <dbl> & <dbl> & <dbl>\\\\\n\\hline\n\t 10 & 1 & 53 &  5.5 & 172 &  88.2 & 29.81341 & 120 &  80 & 60 & ⋯ & 4.480 & 68.880 & 4.040 & 3.860 & 28.110 & 43.20 & 2.230 & 0.020 & 2.30 & 13.11\\\\\n\t 25 & 1 & 68 & 13.0 & 170 &  88.0 & 30.44983 & 150 &  90 & 70 & ⋯ &    NA &     NA &    NA &    NA &     NA &    NA &    NA &    NA &   NA &    NA\\\\\n\t 14 & 1 & 61 &  7.0 & 172 &  82.0 & 27.71769 & 137 &  94 & 85 & ⋯ & 4.550 & 67.880 & 4.640 & 4.060 & 28.160 & 42.47 & 2.380 & 0.030 & 1.93 & 13.42\\\\\n\t 23 & 1 & 62 & 11.5 & 169 &  66.0 & 23.10843 & 150 & 105 & 78 & ⋯ &    NA &     NA &    NA &    NA &     NA &    NA &    NA &    NA &   NA &    NA\\\\\n\t 22 & 0 & 65 & 10.0 & 158 &  69.0 & 27.63980 & 129 &  77 & 66 & ⋯ & 4.930 & 66.620 & 4.270 & 4.590 & 29.240 & 39.91 & 2.080 & 0.030 & 1.69 & 14.11\\\\\n\t 6  & 1 & 79 &  6.2 & 160 &  64.0 & 25.00000 & 110 &  75 & 66 & ⋯ & 4.050 & 64.010 & 5.270 & 3.720 & 26.710 & 40.39 & 2.510 & 0.020 & 2.70 & 16.06\\\\\n\t 4  & 1 & 72 &  5.0 & 160 &  58.8 & 22.96875 & 130 &  90 & 68 & ⋯ & 3.950 & 68.030 & 4.500 & 3.780 & 29.370 & 41.13 & 2.200 & 0.020 & 1.89 & 13.89\\\\\n\t 35 & 0 & 54 & 11.5 & 167 &  67.0 & 24.02381 & 146 &  96 & 68 & ⋯ &    NA &     NA &    NA &    NA &     NA &    NA &    NA &    NA &   NA &    NA\\\\\n\t 33 & 1 & 67 & 13.0 & 165 &  78.0 & 28.65014 & 165 &  82 & 76 & ⋯ & 3.890 & 67.440 & 4.290 & 4.210 & 28.160 & 41.21 & 2.040 & 0.030 & 2.26 & 15.06\\\\\n\t 2  & 0 & 47 &  5.5 & 179 & 111.0 & 34.64311 & 125 &  82 & 65 & ⋯ &    NA &     NA &    NA &    NA &     NA &    NA &    NA &    NA &   NA &    NA\\\\\n\t 7  & 1 & 61 &  6.5 & 164 &  67.0 & 24.91077 & 124 &  82 & 84 & ⋯ & 4.100 & 65.990 & 4.700 & 4.030 & 28.440 & 39.99 & 2.330 & 0.020 & 1.61 & 13.82\\\\\n\t 28 & 0 & 69 & 13.0 & 160 &  60.0 & 23.43750 & 133 &  76 & 79 & ⋯ & 4.620 & 67.430 & 4.360 & 4.160 & 29.580 & 40.48 & 2.190 & 0.020 & 2.27 & 13.54\\\\\n\t 31 & 0 & 64 & 11.5 & 176 &  68.8 & 22.21074 & 128 &  78 & 73 & ⋯ & 5.220 & 66.870 & 3.580 & 4.280 & 29.690 & 40.06 & 1.640 & 0.020 & 1.55 & 14.70\\\\\n\t 11 & 1 & 83 &  6.0 & 168 &  59.0 & 20.90420 & 134 &  60 & 89 & ⋯ & 4.620 & 66.510 & 4.250 & 4.780 & 28.500 & 40.14 & 1.960 & 0.030 & 1.72 & 14.21\\\\\n\t 24 & 0 & 76 & 13.0 & 165 &  56.5 & 20.75298 & 130 &  70 & 70 & ⋯ & 4.390 & 67.560 & 3.590 & 4.550 & 28.810 & 40.41 & 1.770 & 0.040 & 1.38 & 14.83\\\\\n\t 18 & 1 & 65 & 11.0 & 171 & 102.6 & 35.08772 & 136 &  92 & 80 & ⋯ & 3.935 & 66.575 & 4.445 & 4.435 & 28.225 & 39.67 & 2.625 & 0.035 & 2.11 & 14.64\\\\\n\t 12 & 1 & 59 &  5.5 & 157 &  70.0 & 28.39872 & 120 &  85 & 90 & ⋯ & 3.470 & 66.740 & 5.030 & 3.450 & 26.590 & 42.62 & 2.580 & 0.020 & 2.02 & 13.52\\\\\n\t 3  & 1 & 57 &  7.0 & 164 &  80.0 & 29.74420 & 132 &  80 & 92 & ⋯ & 5.160 & 68.220 & 3.110 & 4.640 & 30.430 & 39.86 & 1.560 & 0.020 & 1.69 & 14.16\\\\\n\t 19 & 0 & 64 & 10.5 & 167 &  62.0 & 22.23099 & 112 &  75 & 66 & ⋯ & 3.860 & 68.260 & 4.280 & 3.680 & 28.570 & 42.04 & 2.110 & 0.020 & 2.34 & 13.59\\\\\n\t 8  & 1 & 70 &  5.5 & 162 &  61.0 & 23.24341 & 135 &  78 & 72 & ⋯ & 5.270 & 67.260 & 3.240 & 4.690 & 32.270 & 37.29 & 1.520 & 0.030 & 1.61 & 14.59\\\\\n\t 26 & 0 & 55 & 11.5 & 162 &  57.0 & 21.71925 & 103 &  66 & 74 & ⋯ & 5.280 & 67.780 & 4.210 & 4.710 & 29.210 & 41.01 & 2.340 & 0.020 & 2.03 & 13.33\\\\\n\t 29 & 1 & 75 & 11.0 & 162 &  75.0 & 28.57796 & 118 &  75 & 75 & ⋯ &    NA &     NA &    NA &    NA &     NA &    NA &    NA &    NA &   NA &    NA\\\\\n\t 21 & 1 & 70 & 11.0 & 170 & 101.2 & 35.01730 & 135 &  85 & 74 & ⋯ & 4.040 & 67.120 & 4.740 & 4.560 & 28.570 & 40.24 & 2.530 & 0.040 & 2.38 & 13.10\\\\\n\t 32 & 0 & 62 & 13.0 & 161 &  90.0 & 34.72088 & 140 & 100 & 74 & ⋯ &    NA &     NA &    NA &    NA &     NA &    NA &    NA &    NA &   NA &    NA\\\\\n\t 15 & 1 & 79 &  8.0 & 167 &  63.0 & 22.58955 & 188 &  84 & 74 & ⋯ & 4.700 & 67.590 & 3.430 & 5.280 & 33.520 & 35.45 & 1.470 & 0.020 & 1.24 & 14.35\\\\\n\t 36 & 1 & 67 & 12.0 & 159 &  72.0 & 28.47989 & 126 &  68 & 84 & ⋯ & 4.000 & 67.710 & 5.350 & 4.200 & 29.860 & 40.35 & 2.650 & 0.020 & 1.55 & 13.37\\\\\n\t 5  & 1 & 57 &  5.0 & 180 &  71.0 & 21.91358 & 135 &  75 & 70 & ⋯ & 4.630 & 66.910 & 4.030 & 4.440 & 28.540 & 40.64 & 1.950 & 0.020 & 2.03 & 14.25\\\\\n\t 37 & 1 & 69 & 11.5 & 154 &  87.6 & 36.93709 & 147 &  89 & 68 & ⋯ &    NA &     NA &    NA &    NA &     NA &    NA &    NA &    NA &   NA &    NA\\\\\n\t 27 & 0 & 79 & 12.0 & 172 &  60.0 & 20.28123 & 100 &  60 & 65 & ⋯ &    NA &     NA &    NA &    NA &     NA &    NA &    NA &    NA &   NA &    NA\\\\\n\t 9  & 0 & 50 &  6.0 & 150 &  79.0 & 35.11111 & 142 &  95 & 88 & ⋯ & 3.970 & 67.590 & 4.220 & 4.420 & 27.990 & 41.19 & 2.180 & 0.050 & 1.55 & 13.26\\\\\n\\end{tabular}\n",
            "text/plain": [
              "   Vial.number Group Age Plasma.volume Ht  Wt    BMI      Sys Dia PR ⋯ G1.LDLi\n",
              "1  10          1     53   5.5          172  88.2 29.81341 120  80 60 ⋯ 4.480  \n",
              "2  25          1     68  13.0          170  88.0 30.44983 150  90 70 ⋯    NA  \n",
              "3  14          1     61   7.0          172  82.0 27.71769 137  94 85 ⋯ 4.550  \n",
              "4  23          1     62  11.5          169  66.0 23.10843 150 105 78 ⋯    NA  \n",
              "5  22          0     65  10.0          158  69.0 27.63980 129  77 66 ⋯ 4.930  \n",
              "6  6           1     79   6.2          160  64.0 25.00000 110  75 66 ⋯ 4.050  \n",
              "7  4           1     72   5.0          160  58.8 22.96875 130  90 68 ⋯ 3.950  \n",
              "8  35          0     54  11.5          167  67.0 24.02381 146  96 68 ⋯    NA  \n",
              "9  33          1     67  13.0          165  78.0 28.65014 165  82 76 ⋯ 3.890  \n",
              "10 2           0     47   5.5          179 111.0 34.64311 125  82 65 ⋯    NA  \n",
              "11 7           1     61   6.5          164  67.0 24.91077 124  82 84 ⋯ 4.100  \n",
              "12 28          0     69  13.0          160  60.0 23.43750 133  76 79 ⋯ 4.620  \n",
              "13 31          0     64  11.5          176  68.8 22.21074 128  78 73 ⋯ 5.220  \n",
              "14 11          1     83   6.0          168  59.0 20.90420 134  60 89 ⋯ 4.620  \n",
              "15 24          0     76  13.0          165  56.5 20.75298 130  70 70 ⋯ 4.390  \n",
              "16 18          1     65  11.0          171 102.6 35.08772 136  92 80 ⋯ 3.935  \n",
              "17 12          1     59   5.5          157  70.0 28.39872 120  85 90 ⋯ 3.470  \n",
              "18 3           1     57   7.0          164  80.0 29.74420 132  80 92 ⋯ 5.160  \n",
              "19 19          0     64  10.5          167  62.0 22.23099 112  75 66 ⋯ 3.860  \n",
              "20 8           1     70   5.5          162  61.0 23.24341 135  78 72 ⋯ 5.270  \n",
              "21 26          0     55  11.5          162  57.0 21.71925 103  66 74 ⋯ 5.280  \n",
              "22 29          1     75  11.0          162  75.0 28.57796 118  75 75 ⋯    NA  \n",
              "23 21          1     70  11.0          170 101.2 35.01730 135  85 74 ⋯ 4.040  \n",
              "24 32          0     62  13.0          161  90.0 34.72088 140 100 74 ⋯    NA  \n",
              "25 15          1     79   8.0          167  63.0 22.58955 188  84 74 ⋯ 4.700  \n",
              "26 36          1     67  12.0          159  72.0 28.47989 126  68 84 ⋯ 4.000  \n",
              "27 5           1     57   5.0          180  71.0 21.91358 135  75 70 ⋯ 4.630  \n",
              "28 37          1     69  11.5          154  87.6 36.93709 147  89 68 ⋯    NA  \n",
              "29 27          0     79  12.0          172  60.0 20.28123 100  60 65 ⋯    NA  \n",
              "30 9           0     50   6.0          150  79.0 35.11111 142  95 88 ⋯ 3.970  \n",
              "   G2.LDLi G3.LDLi S0.LDLi S1.LDLi S2.LDLi S3.LDLi B.LDLi F.LDLi HM.LDLi\n",
              "1  68.880  4.040   3.860   28.110  43.20   2.230   0.020  2.30   13.11  \n",
              "2      NA     NA      NA       NA     NA      NA      NA    NA      NA  \n",
              "3  67.880  4.640   4.060   28.160  42.47   2.380   0.030  1.93   13.42  \n",
              "4      NA     NA      NA       NA     NA      NA      NA    NA      NA  \n",
              "5  66.620  4.270   4.590   29.240  39.91   2.080   0.030  1.69   14.11  \n",
              "6  64.010  5.270   3.720   26.710  40.39   2.510   0.020  2.70   16.06  \n",
              "7  68.030  4.500   3.780   29.370  41.13   2.200   0.020  1.89   13.89  \n",
              "8      NA     NA      NA       NA     NA      NA      NA    NA      NA  \n",
              "9  67.440  4.290   4.210   28.160  41.21   2.040   0.030  2.26   15.06  \n",
              "10     NA     NA      NA       NA     NA      NA      NA    NA      NA  \n",
              "11 65.990  4.700   4.030   28.440  39.99   2.330   0.020  1.61   13.82  \n",
              "12 67.430  4.360   4.160   29.580  40.48   2.190   0.020  2.27   13.54  \n",
              "13 66.870  3.580   4.280   29.690  40.06   1.640   0.020  1.55   14.70  \n",
              "14 66.510  4.250   4.780   28.500  40.14   1.960   0.030  1.72   14.21  \n",
              "15 67.560  3.590   4.550   28.810  40.41   1.770   0.040  1.38   14.83  \n",
              "16 66.575  4.445   4.435   28.225  39.67   2.625   0.035  2.11   14.64  \n",
              "17 66.740  5.030   3.450   26.590  42.62   2.580   0.020  2.02   13.52  \n",
              "18 68.220  3.110   4.640   30.430  39.86   1.560   0.020  1.69   14.16  \n",
              "19 68.260  4.280   3.680   28.570  42.04   2.110   0.020  2.34   13.59  \n",
              "20 67.260  3.240   4.690   32.270  37.29   1.520   0.030  1.61   14.59  \n",
              "21 67.780  4.210   4.710   29.210  41.01   2.340   0.020  2.03   13.33  \n",
              "22     NA     NA      NA       NA     NA      NA      NA    NA      NA  \n",
              "23 67.120  4.740   4.560   28.570  40.24   2.530   0.040  2.38   13.10  \n",
              "24     NA     NA      NA       NA     NA      NA      NA    NA      NA  \n",
              "25 67.590  3.430   5.280   33.520  35.45   1.470   0.020  1.24   14.35  \n",
              "26 67.710  5.350   4.200   29.860  40.35   2.650   0.020  1.55   13.37  \n",
              "27 66.910  4.030   4.440   28.540  40.64   1.950   0.020  2.03   14.25  \n",
              "28     NA     NA      NA       NA     NA      NA      NA    NA      NA  \n",
              "29     NA     NA      NA       NA     NA      NA      NA    NA      NA  \n",
              "30 67.590  4.220   4.420   27.990  41.19   2.180   0.050  1.55   13.26  "
            ]
          },
          "metadata": {}
        }
      ]
    },
    {
      "cell_type": "code",
      "source": [
        "testData <- data[-trainingRowIndex, ]\n",
        "testData"
      ],
      "metadata": {
        "colab": {
          "base_uri": "https://localhost:8080/",
          "height": 349
        },
        "id": "XIVGd9QKHH-g",
        "outputId": "0f1457a7-facf-4632-fc99-5a7a1bd3b46b"
      },
      "execution_count": 131,
      "outputs": [
        {
          "output_type": "display_data",
          "data": {
            "text/html": [
              "<table class=\"dataframe\">\n",
              "<caption>A tibble: 8 × 114</caption>\n",
              "<thead>\n",
              "\t<tr><th scope=col>Vial.number</th><th scope=col>Group</th><th scope=col>Age</th><th scope=col>Plasma.volume</th><th scope=col>Ht</th><th scope=col>Wt</th><th scope=col>BMI</th><th scope=col>Sys</th><th scope=col>Dia</th><th scope=col>PR</th><th scope=col>⋯</th><th scope=col>G1.LDLi</th><th scope=col>G2.LDLi</th><th scope=col>G3.LDLi</th><th scope=col>S0.LDLi</th><th scope=col>S1.LDLi</th><th scope=col>S2.LDLi</th><th scope=col>S3.LDLi</th><th scope=col>B.LDLi</th><th scope=col>F.LDLi</th><th scope=col>HM.LDLi</th></tr>\n",
              "\t<tr><th scope=col>&lt;chr&gt;</th><th scope=col>&lt;chr&gt;</th><th scope=col>&lt;dbl&gt;</th><th scope=col>&lt;dbl&gt;</th><th scope=col>&lt;dbl&gt;</th><th scope=col>&lt;dbl&gt;</th><th scope=col>&lt;dbl&gt;</th><th scope=col>&lt;dbl&gt;</th><th scope=col>&lt;dbl&gt;</th><th scope=col>&lt;dbl&gt;</th><th scope=col>⋯</th><th scope=col>&lt;dbl&gt;</th><th scope=col>&lt;dbl&gt;</th><th scope=col>&lt;dbl&gt;</th><th scope=col>&lt;dbl&gt;</th><th scope=col>&lt;dbl&gt;</th><th scope=col>&lt;dbl&gt;</th><th scope=col>&lt;dbl&gt;</th><th scope=col>&lt;dbl&gt;</th><th scope=col>&lt;dbl&gt;</th><th scope=col>&lt;dbl&gt;</th></tr>\n",
              "</thead>\n",
              "<tbody>\n",
              "\t<tr><td>1 </td><td>0</td><td>63</td><td> 6.5</td><td>163</td><td> 84.0</td><td>31.61579</td><td>125</td><td>76</td><td>67</td><td>⋯</td><td>4.09</td><td>68.910</td><td>3.570</td><td>3.980</td><td>28.180</td><td>42.460</td><td>1.950</td><td>0.02</td><td>1.67</td><td>13.02</td></tr>\n",
              "\t<tr><td>13</td><td>1</td><td>79</td><td> 7.0</td><td>161</td><td> 73.0</td><td>28.16249</td><td>120</td><td>81</td><td>73</td><td>⋯</td><td>4.78</td><td>67.400</td><td>3.720</td><td>4.760</td><td>29.470</td><td>39.760</td><td>1.910</td><td>0.06</td><td>1.93</td><td>14.28</td></tr>\n",
              "\t<tr><td>16</td><td>1</td><td>75</td><td>10.0</td><td>165</td><td> 57.0</td><td>20.93664</td><td>120</td><td>72</td><td>66</td><td>⋯</td><td>5.20</td><td>66.370</td><td>4.220</td><td>4.470</td><td>29.360</td><td>39.770</td><td>2.190</td><td>0.03</td><td>2.99</td><td>14.47</td></tr>\n",
              "\t<tr><td>17</td><td>1</td><td>58</td><td>10.0</td><td>162</td><td>102.0</td><td>38.86603</td><td>132</td><td>81</td><td>68</td><td>⋯</td><td>4.01</td><td>67.880</td><td>4.340</td><td>4.340</td><td>29.100</td><td>40.840</td><td>1.950</td><td>0.03</td><td>1.99</td><td>13.02</td></tr>\n",
              "\t<tr><td>20</td><td>0</td><td>66</td><td>10.0</td><td>165</td><td> 73.0</td><td>26.81359</td><td>135</td><td>57</td><td>72</td><td>⋯</td><td>4.71</td><td>65.305</td><td>4.735</td><td>4.335</td><td>29.245</td><td>38.985</td><td>2.185</td><td>0.03</td><td>2.19</td><td>15.15</td></tr>\n",
              "\t<tr><td>30</td><td>1</td><td>68</td><td>13.0</td><td>165</td><td> 77.8</td><td>28.57668</td><td>134</td><td>76</td><td>81</td><td>⋯</td><td>4.29</td><td>66.840</td><td>4.380</td><td>3.910</td><td>28.190</td><td>41.210</td><td>2.200</td><td>0.02</td><td>2.36</td><td>14.45</td></tr>\n",
              "\t<tr><td>34</td><td>1</td><td>64</td><td>12.0</td><td>161</td><td> 89.0</td><td>34.33510</td><td>140</td><td>86</td><td>54</td><td>⋯</td><td>3.27</td><td>65.600</td><td>5.290</td><td>3.380</td><td>24.700</td><td>43.560</td><td>2.520</td><td>0.06</td><td>2.73</td><td>13.89</td></tr>\n",
              "\t<tr><td>38</td><td>0</td><td>60</td><td>12.0</td><td>165</td><td> 74.0</td><td>27.18090</td><td>120</td><td>70</td><td>75</td><td>⋯</td><td>  NA</td><td>    NA</td><td>   NA</td><td>   NA</td><td>    NA</td><td>    NA</td><td>   NA</td><td>  NA</td><td>  NA</td><td>   NA</td></tr>\n",
              "</tbody>\n",
              "</table>\n"
            ],
            "text/markdown": "\nA tibble: 8 × 114\n\n| Vial.number &lt;chr&gt; | Group &lt;chr&gt; | Age &lt;dbl&gt; | Plasma.volume &lt;dbl&gt; | Ht &lt;dbl&gt; | Wt &lt;dbl&gt; | BMI &lt;dbl&gt; | Sys &lt;dbl&gt; | Dia &lt;dbl&gt; | PR &lt;dbl&gt; | ⋯ ⋯ | G1.LDLi &lt;dbl&gt; | G2.LDLi &lt;dbl&gt; | G3.LDLi &lt;dbl&gt; | S0.LDLi &lt;dbl&gt; | S1.LDLi &lt;dbl&gt; | S2.LDLi &lt;dbl&gt; | S3.LDLi &lt;dbl&gt; | B.LDLi &lt;dbl&gt; | F.LDLi &lt;dbl&gt; | HM.LDLi &lt;dbl&gt; |\n|---|---|---|---|---|---|---|---|---|---|---|---|---|---|---|---|---|---|---|---|---|\n| 1  | 0 | 63 |  6.5 | 163 |  84.0 | 31.61579 | 125 | 76 | 67 | ⋯ | 4.09 | 68.910 | 3.570 | 3.980 | 28.180 | 42.460 | 1.950 | 0.02 | 1.67 | 13.02 |\n| 13 | 1 | 79 |  7.0 | 161 |  73.0 | 28.16249 | 120 | 81 | 73 | ⋯ | 4.78 | 67.400 | 3.720 | 4.760 | 29.470 | 39.760 | 1.910 | 0.06 | 1.93 | 14.28 |\n| 16 | 1 | 75 | 10.0 | 165 |  57.0 | 20.93664 | 120 | 72 | 66 | ⋯ | 5.20 | 66.370 | 4.220 | 4.470 | 29.360 | 39.770 | 2.190 | 0.03 | 2.99 | 14.47 |\n| 17 | 1 | 58 | 10.0 | 162 | 102.0 | 38.86603 | 132 | 81 | 68 | ⋯ | 4.01 | 67.880 | 4.340 | 4.340 | 29.100 | 40.840 | 1.950 | 0.03 | 1.99 | 13.02 |\n| 20 | 0 | 66 | 10.0 | 165 |  73.0 | 26.81359 | 135 | 57 | 72 | ⋯ | 4.71 | 65.305 | 4.735 | 4.335 | 29.245 | 38.985 | 2.185 | 0.03 | 2.19 | 15.15 |\n| 30 | 1 | 68 | 13.0 | 165 |  77.8 | 28.57668 | 134 | 76 | 81 | ⋯ | 4.29 | 66.840 | 4.380 | 3.910 | 28.190 | 41.210 | 2.200 | 0.02 | 2.36 | 14.45 |\n| 34 | 1 | 64 | 12.0 | 161 |  89.0 | 34.33510 | 140 | 86 | 54 | ⋯ | 3.27 | 65.600 | 5.290 | 3.380 | 24.700 | 43.560 | 2.520 | 0.06 | 2.73 | 13.89 |\n| 38 | 0 | 60 | 12.0 | 165 |  74.0 | 27.18090 | 120 | 70 | 75 | ⋯ |   NA |     NA |    NA |    NA |     NA |     NA |    NA |   NA |   NA |    NA |\n\n",
            "text/latex": "A tibble: 8 × 114\n\\begin{tabular}{lllllllllllllllllllll}\n Vial.number & Group & Age & Plasma.volume & Ht & Wt & BMI & Sys & Dia & PR & ⋯ & G1.LDLi & G2.LDLi & G3.LDLi & S0.LDLi & S1.LDLi & S2.LDLi & S3.LDLi & B.LDLi & F.LDLi & HM.LDLi\\\\\n <chr> & <chr> & <dbl> & <dbl> & <dbl> & <dbl> & <dbl> & <dbl> & <dbl> & <dbl> & ⋯ & <dbl> & <dbl> & <dbl> & <dbl> & <dbl> & <dbl> & <dbl> & <dbl> & <dbl> & <dbl>\\\\\n\\hline\n\t 1  & 0 & 63 &  6.5 & 163 &  84.0 & 31.61579 & 125 & 76 & 67 & ⋯ & 4.09 & 68.910 & 3.570 & 3.980 & 28.180 & 42.460 & 1.950 & 0.02 & 1.67 & 13.02\\\\\n\t 13 & 1 & 79 &  7.0 & 161 &  73.0 & 28.16249 & 120 & 81 & 73 & ⋯ & 4.78 & 67.400 & 3.720 & 4.760 & 29.470 & 39.760 & 1.910 & 0.06 & 1.93 & 14.28\\\\\n\t 16 & 1 & 75 & 10.0 & 165 &  57.0 & 20.93664 & 120 & 72 & 66 & ⋯ & 5.20 & 66.370 & 4.220 & 4.470 & 29.360 & 39.770 & 2.190 & 0.03 & 2.99 & 14.47\\\\\n\t 17 & 1 & 58 & 10.0 & 162 & 102.0 & 38.86603 & 132 & 81 & 68 & ⋯ & 4.01 & 67.880 & 4.340 & 4.340 & 29.100 & 40.840 & 1.950 & 0.03 & 1.99 & 13.02\\\\\n\t 20 & 0 & 66 & 10.0 & 165 &  73.0 & 26.81359 & 135 & 57 & 72 & ⋯ & 4.71 & 65.305 & 4.735 & 4.335 & 29.245 & 38.985 & 2.185 & 0.03 & 2.19 & 15.15\\\\\n\t 30 & 1 & 68 & 13.0 & 165 &  77.8 & 28.57668 & 134 & 76 & 81 & ⋯ & 4.29 & 66.840 & 4.380 & 3.910 & 28.190 & 41.210 & 2.200 & 0.02 & 2.36 & 14.45\\\\\n\t 34 & 1 & 64 & 12.0 & 161 &  89.0 & 34.33510 & 140 & 86 & 54 & ⋯ & 3.27 & 65.600 & 5.290 & 3.380 & 24.700 & 43.560 & 2.520 & 0.06 & 2.73 & 13.89\\\\\n\t 38 & 0 & 60 & 12.0 & 165 &  74.0 & 27.18090 & 120 & 70 & 75 & ⋯ &   NA &     NA &    NA &    NA &     NA &     NA &    NA &   NA &   NA &    NA\\\\\n\\end{tabular}\n",
            "text/plain": [
              "  Vial.number Group Age Plasma.volume Ht  Wt    BMI      Sys Dia PR ⋯ G1.LDLi\n",
              "1 1           0     63   6.5          163  84.0 31.61579 125 76  67 ⋯ 4.09   \n",
              "2 13          1     79   7.0          161  73.0 28.16249 120 81  73 ⋯ 4.78   \n",
              "3 16          1     75  10.0          165  57.0 20.93664 120 72  66 ⋯ 5.20   \n",
              "4 17          1     58  10.0          162 102.0 38.86603 132 81  68 ⋯ 4.01   \n",
              "5 20          0     66  10.0          165  73.0 26.81359 135 57  72 ⋯ 4.71   \n",
              "6 30          1     68  13.0          165  77.8 28.57668 134 76  81 ⋯ 4.29   \n",
              "7 34          1     64  12.0          161  89.0 34.33510 140 86  54 ⋯ 3.27   \n",
              "8 38          0     60  12.0          165  74.0 27.18090 120 70  75 ⋯   NA   \n",
              "  G2.LDLi G3.LDLi S0.LDLi S1.LDLi S2.LDLi S3.LDLi B.LDLi F.LDLi HM.LDLi\n",
              "1 68.910  3.570   3.980   28.180  42.460  1.950   0.02   1.67   13.02  \n",
              "2 67.400  3.720   4.760   29.470  39.760  1.910   0.06   1.93   14.28  \n",
              "3 66.370  4.220   4.470   29.360  39.770  2.190   0.03   2.99   14.47  \n",
              "4 67.880  4.340   4.340   29.100  40.840  1.950   0.03   1.99   13.02  \n",
              "5 65.305  4.735   4.335   29.245  38.985  2.185   0.03   2.19   15.15  \n",
              "6 66.840  4.380   3.910   28.190  41.210  2.200   0.02   2.36   14.45  \n",
              "7 65.600  5.290   3.380   24.700  43.560  2.520   0.06   2.73   13.89  \n",
              "8     NA     NA      NA       NA      NA     NA     NA     NA      NA  "
            ]
          },
          "metadata": {}
        }
      ]
    },
    {
      "cell_type": "code",
      "source": [
        "# создаём модель\n",
        "lmMod <- lm(data$Ht ~ data$Wt, data=trainingData)\n",
        "HtPred <- predict(lmMod, testData)\n",
        "summary (lmMod)"
      ],
      "metadata": {
        "colab": {
          "base_uri": "https://localhost:8080/",
          "height": 364
        },
        "id": "bMRC9p9eH9bP",
        "outputId": "d5fa3e76-dcb6-4c7c-a6cb-bc8a4aa95e97"
      },
      "execution_count": 136,
      "outputs": [
        {
          "output_type": "stream",
          "name": "stderr",
          "text": [
            "Warning message:\n",
            "“'newdata' had 8 rows but variables found have 38 rows”\n"
          ]
        },
        {
          "output_type": "display_data",
          "data": {
            "text/plain": [
              "\n",
              "Call:\n",
              "lm(formula = data$Ht ~ data$Wt, data = trainingData)\n",
              "\n",
              "Residuals:\n",
              "     Min       1Q   Median       3Q      Max \n",
              "-15.3465  -3.8232  -0.2545   3.5291  15.3223 \n",
              "\n",
              "Coefficients:\n",
              "             Estimate Std. Error t value Pr(>|t|)    \n",
              "(Intercept) 158.74212    5.51723  28.772   <2e-16 ***\n",
              "data$Wt       0.08360    0.07244   1.154    0.256    \n",
              "---\n",
              "Signif. codes:  0 ‘***’ 0.001 ‘**’ 0.01 ‘*’ 0.05 ‘.’ 0.1 ‘ ’ 1\n",
              "\n",
              "Residual standard error: 6.279 on 36 degrees of freedom\n",
              "Multiple R-squared:  0.03568,\tAdjusted R-squared:  0.008891 \n",
              "F-statistic: 1.332 on 1 and 36 DF,  p-value: 0.2561\n"
            ]
          },
          "metadata": {}
        }
      ]
    },
    {
      "cell_type": "code",
      "source": [
        "# вычисление точности прогнозирования\n",
        "actuals_preds <- data.frame(cbind(actuals=testData$Ht, predicteds=HtPred))\n",
        "correlation_accuracy <- cor(actuals_preds)\n",
        "head(actuals_preds)"
      ],
      "metadata": {
        "colab": {
          "base_uri": "https://localhost:8080/",
          "height": 321
        },
        "id": "OntVXAdCJnri",
        "outputId": "ef4682df-d37c-4a00-b212-7efb1680fa6f"
      },
      "execution_count": 138,
      "outputs": [
        {
          "output_type": "stream",
          "name": "stderr",
          "text": [
            "Warning message in cbind(actuals = testData$Ht, predicteds = HtPred):\n",
            "“number of rows of result is not a multiple of vector length (arg 1)”\n"
          ]
        },
        {
          "output_type": "display_data",
          "data": {
            "text/html": [
              "<table class=\"dataframe\">\n",
              "<caption>A data.frame: 6 × 2</caption>\n",
              "<thead>\n",
              "\t<tr><th></th><th scope=col>actuals</th><th scope=col>predicteds</th></tr>\n",
              "\t<tr><th></th><th scope=col>&lt;dbl&gt;</th><th scope=col>&lt;dbl&gt;</th></tr>\n",
              "</thead>\n",
              "<tbody>\n",
              "\t<tr><th scope=row>1</th><td>163</td><td>165.7645</td></tr>\n",
              "\t<tr><th scope=row>2</th><td>161</td><td>168.0217</td></tr>\n",
              "\t<tr><th scope=row>3</th><td>165</td><td>165.4301</td></tr>\n",
              "\t<tr><th scope=row>4</th><td>162</td><td>163.6578</td></tr>\n",
              "\t<tr><th scope=row>5</th><td>165</td><td>164.6777</td></tr>\n",
              "\t<tr><th scope=row>6</th><td>165</td><td>164.0925</td></tr>\n",
              "</tbody>\n",
              "</table>\n"
            ],
            "text/markdown": "\nA data.frame: 6 × 2\n\n| <!--/--> | actuals &lt;dbl&gt; | predicteds &lt;dbl&gt; |\n|---|---|---|\n| 1 | 163 | 165.7645 |\n| 2 | 161 | 168.0217 |\n| 3 | 165 | 165.4301 |\n| 4 | 162 | 163.6578 |\n| 5 | 165 | 164.6777 |\n| 6 | 165 | 164.0925 |\n\n",
            "text/latex": "A data.frame: 6 × 2\n\\begin{tabular}{r|ll}\n  & actuals & predicteds\\\\\n  & <dbl> & <dbl>\\\\\n\\hline\n\t1 & 163 & 165.7645\\\\\n\t2 & 161 & 168.0217\\\\\n\t3 & 165 & 165.4301\\\\\n\t4 & 162 & 163.6578\\\\\n\t5 & 165 & 164.6777\\\\\n\t6 & 165 & 164.0925\\\\\n\\end{tabular}\n",
            "text/plain": [
              "  actuals predicteds\n",
              "1 163     165.7645  \n",
              "2 161     168.0217  \n",
              "3 165     165.4301  \n",
              "4 162     163.6578  \n",
              "5 165     164.6777  \n",
              "6 165     164.0925  "
            ]
          },
          "metadata": {}
        }
      ]
    },
    {
      "cell_type": "code",
      "source": [
        "min_max_accuracy <- mean(apply(actuals_preds, 1, min) / apply(actuals_preds, 1, max))\n",
        "min_max_accuracy"
      ],
      "metadata": {
        "colab": {
          "base_uri": "https://localhost:8080/",
          "height": 34
        },
        "id": "uGnYbdttK72m",
        "outputId": "f67f9f73-9d91-4c8a-88e8-6017099083da"
      },
      "execution_count": 139,
      "outputs": [
        {
          "output_type": "display_data",
          "data": {
            "text/html": [
              "0.98699421170998"
            ],
            "text/markdown": "0.98699421170998",
            "text/latex": "0.98699421170998",
            "text/plain": [
              "[1] 0.9869942"
            ]
          },
          "metadata": {}
        }
      ]
    },
    {
      "cell_type": "code",
      "source": [
        "mape <- mean(abs((actuals_preds$predicteds - actuals_preds$actuals)) / actuals_preds$actuals)\n",
        "mape"
      ],
      "metadata": {
        "colab": {
          "base_uri": "https://localhost:8080/",
          "height": 34
        },
        "id": "qK8aMe1BLlc3",
        "outputId": "888cff5e-067e-433f-a005-780eea1cd658"
      },
      "execution_count": 140,
      "outputs": [
        {
          "output_type": "display_data",
          "data": {
            "text/html": [
              "0.0132745701984703"
            ],
            "text/markdown": "0.0132745701984703",
            "text/latex": "0.0132745701984703",
            "text/plain": [
              "[1] 0.01327457"
            ]
          },
          "metadata": {}
        }
      ]
    }
  ]
}